{
 "cells": [
  {
   "cell_type": "code",
   "execution_count": 1,
   "id": "b62ac3d5",
   "metadata": {},
   "outputs": [],
   "source": [
    "import numpy as np\n",
    "import struct\n",
    "import torch\n",
    "import torch.nn as nn\n",
    "import matplotlib.pyplot as plt\n",
    "import time\n",
    "import pandas as pd\n",
    "import seaborn as sns\n",
    "import random\n",
    "import os\n",
    "from torch.autograd import Variable\n",
    "from torch.utils.data import DataLoader, Dataset\n",
    "from os import listdir\n",
    "from os.path import isfile, join\n",
    "from sklearn.preprocessing import StandardScaler, MinMaxScaler\n",
    "from sklearn.metrics import confusion_matrix, accuracy_score\n",
    "from transformer.model import TransformerTimeSeries"
   ]
  },
  {
   "cell_type": "markdown",
   "id": "5f8bb6f9",
   "metadata": {},
   "source": [
    "### Automatic speach recognition with neural networks\n",
    "This notebook uses MFCC pre-prossesing to generate acoustic features to the neural network, and then the neural network can be trained and tested. The baseline consists into HNNs. \n",
    "\n",
    "The dataset utilized in this notebook is the speach commands datasets from tensorflow. As this dataset comes with a lot of words and a lots of examples, we choose to simplify this notebook example by focusing in the following words: cat, dog, happy, house and zero. The training set consists into 25 examples of each word, and the testing set consists into 5 new examples of each word.\n",
    "\n",
    "All the pre-prossecing is made by the spock: . Using this software the user can process WAV files and output the processed acoustic features in `.FEA` files. Then the neural network can receive this accoustic features and output the class that corresponds to the right word. "
   ]
  },
  {
   "cell_type": "markdown",
   "id": "f895ab5d",
   "metadata": {},
   "source": [
    "### The first step consists into reading the FEA files"
   ]
  },
  {
   "cell_type": "code",
   "execution_count": 2,
   "id": "87a64780",
   "metadata": {},
   "outputs": [],
   "source": [
    "feat_dir = './output_100_25/mfcceda39w240s80/features'\n",
    "val_dir = './output_25_5/mfcceda39w240s80/features'"
   ]
  },
  {
   "cell_type": "code",
   "execution_count": 3,
   "id": "c935d015",
   "metadata": {},
   "outputs": [],
   "source": [
    "def seed_torch(seed=1029):\n",
    "    random.seed(seed)\n",
    "    os.environ['PYTHONHASHSEED'] = str(seed)\n",
    "    np.random.seed(seed)\n",
    "    torch.manual_seed(seed)\n",
    "    torch.cuda.manual_seed(seed)\n",
    "    torch.backends.cudnn.deterministic = True"
   ]
  },
  {
   "cell_type": "code",
   "execution_count": 4,
   "id": "dd1a3361",
   "metadata": {},
   "outputs": [],
   "source": [
    "def fea_to_samples(filename):\n",
    "    # Discard the header with 2048 bytes that yield 512 floats\n",
    "    feat_array = np.fromfile(filename, dtype='>f') [512:]\n",
    "    num_of_paterns = feat_array[0]\n",
    "    space_dimension = feat_array[1]\n",
    "    \n",
    "    res = []\n",
    "    # Jump the first 2 floats\n",
    "    i_s = 2\n",
    "    total_frames = []\n",
    "    for pat in range(int(num_of_paterns)):\n",
    "        # Feature Extraction\n",
    "        n_frames = feat_array[i_s]\n",
    "        total_frames.append(n_frames) \n",
    "        i_e = space_dimension*n_frames + i_s + 1  \n",
    "        feat = feat_array[i_s+1: int(i_e)].tolist()\n",
    "        i_s = int(i_e)\n",
    "        res.append(feat)\n",
    "    \n",
    "    assert(i_e == len(feat_array))\n",
    "    \n",
    "    # Convert the feature patterns to a np matrix, padding according \n",
    "    # to the biggest entry\n",
    "    max_dim = max([len(row) for row in res])\n",
    "    res_np = np.zeros((int(num_of_paterns), max_dim))\n",
    "    \n",
    "    for pat in range(int(num_of_paterns)):\n",
    "        vec_len = len(res[pat])\n",
    "        res_np[pat][:vec_len] = res[pat] \n",
    "    \n",
    "    return res_np,(max(total_frames), space_dimension)"
   ]
  },
  {
   "cell_type": "markdown",
   "id": "52e332db",
   "metadata": {},
   "source": [
    "### After reading the FEA files we can organize the network input and desireble output\n",
    "In this supervised learning probblem we must organize matrices that will serve as input or features, and other that will be the desired output or label."
   ]
  },
  {
   "cell_type": "code",
   "execution_count": 5,
   "id": "4a122ccc",
   "metadata": {},
   "outputs": [],
   "source": [
    "def generate_xy_matrices(feat_dir):\n",
    "    files = listdir(feat_dir)\n",
    "    labels = [name[2:-4] for name in listdir(feat_dir)]\n",
    "    x_matrix, shape = fea_to_samples(feat_dir+ '/' +files[0])\n",
    "\n",
    "    y_matrix = np.zeros((x_matrix.shape[0], 1))\n",
    "    y_matrix[:,0] = 0\n",
    "    for file_i in range(1,len(files)):\n",
    "        x_i, _ = fea_to_samples(feat_dir + '/' + files[file_i])\n",
    "        y_i = np.zeros((x_i.shape[0], 1))\n",
    "        y_i[:,0] = file_i\n",
    "        x_matrix = np.concatenate((x_matrix, x_i))\n",
    "        y_matrix = np.concatenate((y_matrix, y_i))\n",
    "\n",
    "    return x_matrix, y_matrix, shape"
   ]
  },
  {
   "cell_type": "markdown",
   "id": "601faacd",
   "metadata": {},
   "source": [
    "### After that we must organize our dataset object\n",
    "As we are using the Pytorch stack, it is recommended to use the Dataset class to organize the entry and output samples of training and test sets. "
   ]
  },
  {
   "cell_type": "code",
   "execution_count": 6,
   "id": "6329e0a6",
   "metadata": {},
   "outputs": [],
   "source": [
    "class MfcSet(Dataset):\n",
    "    def __init__(self,\n",
    "                 x_matrix,\n",
    "                 y_matrix,\n",
    "                 shape,\n",
    "                std_scaler=None,\n",
    "                min_max_scaler=None):\n",
    "        \n",
    "#         if std_scaler==None:\n",
    "#             # Standard scaling\n",
    "#             std_scaler = StandardScaler()\n",
    "#             std_scaler.fit(x_matrix)\n",
    "#         x_matrix = std_scaler.transform(x_matrix)\n",
    "#         print(x_matrix.shape)\n",
    "       \n",
    "        if min_max_scaler == None:\n",
    "            # Min max scaling\n",
    "            min_max_scaler = MinMaxScaler(feature_range=(-1, 1))\n",
    "            min_max_scaler.fit(x_matrix)\n",
    "        x_matrix = min_max_scaler.transform(x_matrix)\n",
    "        \n",
    "        shape = (int(shape[0]), int(shape[1]))\n",
    "        self.X = x_matrix.reshape((x_matrix.shape[0], shape[0], shape[1]))\n",
    "        self.y = y_matrix\n",
    "        self.std_scaler = std_scaler\n",
    "        self.min_max_scaler = min_max_scaler\n",
    "        self.x_shape = self.X.shape\n",
    "        self.y_shape = self.y.shape\n",
    "        \n",
    "    def __len__(self):\n",
    "        return len(self.X)\n",
    "\n",
    "    def __getitem__(self, idx):\n",
    "        return self.X[idx], self.y[idx]"
   ]
  },
  {
   "cell_type": "code",
   "execution_count": 7,
   "id": "12b5a66c",
   "metadata": {},
   "outputs": [],
   "source": [
    "def build_dataset(root_dir):\n",
    "    x_train, y_train, shape = generate_xy_matrices(root_dir + '/train')\n",
    "    x_test, y_test, _ = generate_xy_matrices(root_dir + '/test')\n",
    "    feat_scaler = MinMaxScaler()\n",
    "    feat_scaler.fit(x_train)\n",
    "    \n",
    "    train_set = MfcSet(x_train, y_train, shape)\n",
    "    test_set = MfcSet(x_test, y_test, shape, train_set.std_scaler, train_set.min_max_scaler)\n",
    "    \n",
    "    return train_set, test_set"
   ]
  },
  {
   "cell_type": "markdown",
   "id": "9af1f530",
   "metadata": {},
   "source": [
    "### The multi layer perceptron network\n",
    "In this classification task, is desireble that we use a softmax activation function in the output layer, but as we are using the Pytorch stack, the loss function `CrossEntropyLoss` already apply the softmax for us. Then this is not necessary, as shown in the example bellow."
   ]
  },
  {
   "cell_type": "code",
   "execution_count": 8,
   "id": "7683b0ca",
   "metadata": {},
   "outputs": [
    {
     "name": "stdout",
     "output_type": "stream",
     "text": [
      "torch.Size([3, 5])\n",
      "torch.Size([3])\n"
     ]
    }
   ],
   "source": [
    "seed_torch()\n",
    "loss = nn.CrossEntropyLoss()\n",
    "input = torch.randn(3, 5, requires_grad=True)\n",
    "target = torch.empty(3, dtype=torch.long).random_(5)\n",
    "\n",
    "print(input.shape)\n",
    "print(target.shape)\n",
    "output = loss(input, target)\n",
    "output.backward()"
   ]
  },
  {
   "cell_type": "code",
   "execution_count": 9,
   "id": "7c78c870",
   "metadata": {
    "scrolled": true
   },
   "outputs": [
    {
     "data": {
      "text/plain": [
       "tensor([[ 0.6502,  0.2096, -0.1404, -0.3335,  1.2450],\n",
       "        [ 0.3478, -0.6194,  0.1419, -1.3145,  0.2411],\n",
       "        [-0.1828,  0.0452, -1.7188,  0.1175, -0.5912]], requires_grad=True)"
      ]
     },
     "execution_count": 9,
     "metadata": {},
     "output_type": "execute_result"
    }
   ],
   "source": [
    "input"
   ]
  },
  {
   "cell_type": "code",
   "execution_count": 10,
   "id": "f9ecc0a6",
   "metadata": {
    "scrolled": true
   },
   "outputs": [
    {
     "data": {
      "text/plain": [
       "tensor([3, 3, 4])"
      ]
     },
     "execution_count": 10,
     "metadata": {},
     "output_type": "execute_result"
    }
   ],
   "source": [
    "target"
   ]
  },
  {
   "cell_type": "code",
   "execution_count": 11,
   "id": "31eff65e",
   "metadata": {},
   "outputs": [],
   "source": [
    "def train(model, epochs, batch_size, train_loader, criterion, optimizer,\n",
    "          scheduler, set_size, val_loader):\n",
    "    model.train()\n",
    "    acc = []\n",
    "    loss = []\n",
    "    val_loss = []\n",
    "    val_acc = []\n",
    "    for epoch in range(1, epochs + 1):\n",
    "        epoch_start_time = time.time()\n",
    "        train_loss, train_acc = batch_train(model, epoch, batch_size,\n",
    "                                                train_loader, criterion,\n",
    "                                                optimizer, scheduler, set_size)\n",
    "\n",
    "        epoch_val_loss, epoch_val_acc = batch_val(model, epoch, batch_size, val_loader)\n",
    "        print('-' * 89)\n",
    "        print('| end of epoch {:3d} | time: {:5.2f}s |'.format(\n",
    "            epoch, (time.time() - epoch_start_time)))\n",
    "        print('-' * 89)\n",
    "\n",
    "        scheduler.step()\n",
    "        acc.append(train_acc)\n",
    "        loss.append(train_loss)\n",
    "        val_acc.append(epoch_val_acc)\n",
    "        val_loss.append(epoch_val_loss)\n",
    "    return loss, val_loss, acc, val_acc"
   ]
  },
  {
   "cell_type": "code",
   "execution_count": 12,
   "id": "36497111",
   "metadata": {},
   "outputs": [],
   "source": [
    "def batch_train(model, epoch, batch_size, val_loader, criterion, optimizer,\n",
    "                scheduler, set_size):\n",
    "    model.train()  # Turn on the train mode\n",
    "    batch_loss = 0.\n",
    "    total_loss = 0.\n",
    "    start_time = time.time()\n",
    "    predictions = torch.tensor([]).to(device)\n",
    "    ground_truth = torch.tensor([]).to(device)\n",
    "\n",
    "    for i, batch in enumerate(val_loader):\n",
    "        data, targets = batch[0], batch[1]\n",
    "        data = Variable(torch.Tensor(data.float())).to(device)\n",
    "        targets = Variable(torch.Tensor(targets.float())).to(device)\n",
    "\n",
    "        optimizer.zero_grad()\n",
    "        output = model(data)\n",
    "        loss = criterion(output, torch.flatten(targets.long()))\n",
    "        loss.backward()\n",
    "        optimizer.step()\n",
    "\n",
    "        batch_loss += loss.item()\n",
    "        total_loss += batch_loss\n",
    "        log_interval = int(set_size / batch_size / 5)\n",
    "        if i % log_interval == 0 and i > 0:\n",
    "            cur_loss = batch_loss / log_interval\n",
    "            elapsed = time.time() - start_time\n",
    "            print('| epoch {:3d} | {:5d}/{:5d} batches | '\n",
    "                  'lr {:02.6f} | {:5.2f} ms | '\n",
    "                  'loss {:5.5f}'.format(epoch, i, set_size // batch_size,\n",
    "                                        scheduler.get_lr()[0],\n",
    "                                        elapsed * 1000 / log_interval,\n",
    "                                        cur_loss))\n",
    "            batch_loss = 0\n",
    "            start_time = time.time()\n",
    "        pred = output\n",
    "        predictions = torch.cat((predictions, pred), 0)\n",
    "        ground_truth = torch.cat((ground_truth, targets), 0)\n",
    "        \n",
    "\n",
    "    predictions = predictions.cpu().detach().numpy()\n",
    "    predictions = np.argmax(predictions, axis=1).reshape(predictions.shape[0], 1)\n",
    "    ground_truth = ground_truth.cpu().cpu().detach().numpy()\n",
    "    acc = accuracy_score(ground_truth, predictions)\n",
    "    return total_loss, acc"
   ]
  },
  {
   "cell_type": "code",
   "execution_count": 13,
   "id": "7c51ef0f",
   "metadata": {},
   "outputs": [],
   "source": [
    "def batch_val(model, epoch, batch_size, train_loader):\n",
    "    model.eval()  # Turn on the train mode\n",
    "    batch_loss = 0.\n",
    "    total_loss = 0.\n",
    "    start_time = time.time()\n",
    "    predictions = torch.tensor([]).to(device)\n",
    "    ground_truth = torch.tensor([]).to(device)\n",
    "\n",
    "    for i, batch in enumerate(train_loader):\n",
    "        data, targets = batch[0], batch[1]\n",
    "        data = Variable(torch.Tensor(data.float())).to(device)\n",
    "        targets = Variable(torch.Tensor(targets.float())).to(device)\n",
    "        output = model(data)\n",
    "        loss = criterion(output, torch.flatten(targets.long()))\n",
    "        batch_loss += loss.item()\n",
    "        total_loss += batch_loss\n",
    "        pred = output\n",
    "        predictions = torch.cat((predictions, pred), 0)\n",
    "        ground_truth = torch.cat((ground_truth, targets), 0)\n",
    "        \n",
    "\n",
    "    predictions = predictions.cpu().detach().numpy()\n",
    "    predictions = np.argmax(predictions, axis=1).reshape(predictions.shape[0], 1)\n",
    "    ground_truth = ground_truth.cpu().cpu().detach().numpy()\n",
    "    acc = accuracy_score(ground_truth, predictions)\n",
    "    return total_loss, acc"
   ]
  },
  {
   "cell_type": "code",
   "execution_count": 14,
   "id": "a925ebc6",
   "metadata": {},
   "outputs": [],
   "source": [
    "batch_size = 40\n",
    "\n",
    "train_set, test_set = build_dataset(feat_dir)\n",
    "_, val_set = build_dataset(val_dir)\n",
    "\n",
    "train_loader = DataLoader(train_set,\n",
    "                          batch_size=batch_size,\n",
    "                          shuffle=True)\n",
    "\n",
    "val_loader = DataLoader(val_set,\n",
    "                          batch_size=batch_size,\n",
    "                          shuffle=True)\n",
    "\n",
    "test_loader = DataLoader(test_set,\n",
    "                          batch_size=test_set.y_shape[0],\n",
    "                          shuffle=False)\n",
    "set_size = train_set.y_shape[0]"
   ]
  },
  {
   "cell_type": "code",
   "execution_count": 15,
   "id": "c84b6f5b",
   "metadata": {},
   "outputs": [
    {
     "data": {
      "text/plain": [
       "(500, 197, 39)"
      ]
     },
     "execution_count": 15,
     "metadata": {},
     "output_type": "execute_result"
    }
   ],
   "source": [
    "train_set.x_shape"
   ]
  },
  {
   "cell_type": "markdown",
   "id": "513801dc",
   "metadata": {},
   "source": [
    "### One example of feature and label"
   ]
  },
  {
   "cell_type": "code",
   "execution_count": 16,
   "id": "d6ed9c64",
   "metadata": {},
   "outputs": [],
   "source": [
    "feat, label = next(iter(train_set))"
   ]
  },
  {
   "cell_type": "code",
   "execution_count": 17,
   "id": "5f43d8c9",
   "metadata": {},
   "outputs": [],
   "source": [
    "x = [max(row) for row in feat]"
   ]
  },
  {
   "cell_type": "code",
   "execution_count": 18,
   "id": "dc199d20",
   "metadata": {},
   "outputs": [
    {
     "data": {
      "text/plain": [
       "[0.5917579142574786,\n",
       " 0.5560038487216199,\n",
       " 0.5511293476023874,\n",
       " 0.49870560577016654,\n",
       " 0.39811523374353885,\n",
       " 0.4712425714621693,\n",
       " 0.4892133434535489,\n",
       " 0.4821444060280947,\n",
       " 0.5907853579249047,\n",
       " 0.4994273167736055,\n",
       " 0.6154428299435482,\n",
       " 0.5554048354093615,\n",
       " 0.4096236194799816,\n",
       " 0.572527940808141,\n",
       " 0.41651383718388113,\n",
       " 0.4497101183865286,\n",
       " 0.41346418648444283,\n",
       " 0.3413565208009973,\n",
       " 0.3840450555129067,\n",
       " 0.36070213203960116,\n",
       " 0.3060755880974882,\n",
       " 0.3887421753882147,\n",
       " 0.3497475126002845,\n",
       " 0.3887372697738767,\n",
       " 0.5551703968792738,\n",
       " 0.8383767912994942,\n",
       " 1.0000000000000002,\n",
       " 0.9161812057900246,\n",
       " 0.9999999999999999,\n",
       " 0.7509248855004169,\n",
       " 0.7213933258153677,\n",
       " 0.8110500375248144,\n",
       " 0.6062274821629451,\n",
       " 0.8995768715260435,\n",
       " 1.0000000000000002,\n",
       " 0.7119945402655663,\n",
       " 0.8311148054548088,\n",
       " 0.8322261862315716,\n",
       " 0.7330115436119035,\n",
       " 0.8706316189584585,\n",
       " 0.823803130283401,\n",
       " 0.8500979536782285,\n",
       " 0.7525938661199923,\n",
       " 0.885953278641489,\n",
       " 0.9212822296770223,\n",
       " 0.8150729463260945,\n",
       " 0.8116606353614231,\n",
       " 0.594798216119505,\n",
       " 0.9044703673900452,\n",
       " 0.6581498079707736,\n",
       " 0.800541992624389,\n",
       " 0.873153270801378,\n",
       " 0.912313044908517,\n",
       " 0.8972314659934039,\n",
       " 0.8779007572642142,\n",
       " 0.869215290318181,\n",
       " 0.8686715814541385,\n",
       " 0.8846610349922297,\n",
       " 0.9315583299445368,\n",
       " 0.9780699259455533,\n",
       " 1.0,\n",
       " 0.9879017270819913,\n",
       " 0.948551432253116,\n",
       " 0.9328754079774108,\n",
       " 0.9228603341901719,\n",
       " 0.9206326913600419,\n",
       " 0.9020676895532661,\n",
       " 0.8850391752409729,\n",
       " 0.8767457253886867,\n",
       " 0.8769935058708146,\n",
       " 0.8880149225355302,\n",
       " 0.8964024937661089,\n",
       " 0.8765439183850646,\n",
       " 0.88532340316552,\n",
       " 0.9117922192398568,\n",
       " 0.9434855483884647,\n",
       " 0.9426654809340337,\n",
       " 0.9234448393391951,\n",
       " 0.8840825334213406,\n",
       " 0.8213936572674848,\n",
       " 0.7571510017927715,\n",
       " 0.7410644260704985,\n",
       " 0.7466087861607716,\n",
       " 0.7706136722924771,\n",
       " 0.7413430626260381,\n",
       " 0.7037585014209521,\n",
       " 0.5713959902403173,\n",
       " 0.6282810141277158,\n",
       " 0.5799627333546504,\n",
       " 0.4439740654227096,\n",
       " 0.5799626903526012,\n",
       " 0.7625487967103047,\n",
       " 0.7199064640003732,\n",
       " 0.6062952163395187,\n",
       " 0.7271213485563852,\n",
       " 0.6421982527517116,\n",
       " 0.7074305761599797,\n",
       " 0.8705814406521446,\n",
       " 0.7623576595583166,\n",
       " 0.6200169769280439,\n",
       " 0.8270131583382517,\n",
       " 0.764154799317324,\n",
       " 0.8744641220126007,\n",
       " 0.8448988353056479,\n",
       " 1.0,\n",
       " 0.9217592387517265,\n",
       " 0.9637966930385458,\n",
       " 0.8351415360819654,\n",
       " 0.9827333610996158,\n",
       " 1.0,\n",
       " 1.0,\n",
       " 0.9562405246715393,\n",
       " 0.872474956368408,\n",
       " 1.0,\n",
       " 0.7171888852722029,\n",
       " 0.65310330282717,\n",
       " 0.5636439754858134,\n",
       " 0.6634591820444184,\n",
       " 0.6817824899874425,\n",
       " 0.5654492896497596,\n",
       " 0.41937004438027664,\n",
       " 0.5736248161713446,\n",
       " 0.3818802533884316,\n",
       " 0.5722364470861925,\n",
       " 0.45610540202614896,\n",
       " 0.41672887132777325,\n",
       " 0.5456680632498063,\n",
       " 0.4931168611423034,\n",
       " 0.5822875076846354,\n",
       " 0.6155219658119357,\n",
       " 0.6529609058488235,\n",
       " 0.6481072374217876,\n",
       " 0.6846736797934255,\n",
       " 0.6746752824102868,\n",
       " 0.6077800546271914,\n",
       " 0.5431652657598368,\n",
       " 0.5745158681268157,\n",
       " 0.6671915611673958,\n",
       " 0.6104340216123435,\n",
       " 0.6046606817474025,\n",
       " 0.6694432702975978,\n",
       " 0.5782771870411115,\n",
       " 0.5953679120088361,\n",
       " 0.5386396969040004,\n",
       " 0.46165881487834964,\n",
       " 0.6802226668124532,\n",
       " 0.4976761442751514,\n",
       " 0.5868079873900576,\n",
       " 0.7736176944398626,\n",
       " 0.5002767742275813,\n",
       " 0.5330297096117692,\n",
       " 0.4868882607716612,\n",
       " 0.36281348303635136,\n",
       " 0.44651471604076615,\n",
       " 0.3983415898566752,\n",
       " 0.48312650367942955,\n",
       " 0.3340255635916566,\n",
       " 0.6831227587295804,\n",
       " 0.5897458978760075,\n",
       " 0.6888653198846728,\n",
       " 0.6545598615461354,\n",
       " 0.6576437779479046,\n",
       " 0.5193383477276776,\n",
       " 0.7566674618349359,\n",
       " 0.5149168191358997,\n",
       " 0.6648792197746731,\n",
       " 0.5115719950401403,\n",
       " 0.4366203189024409,\n",
       " 0.6089140976772834,\n",
       " 0.9119442457232765,\n",
       " 0.9999999999999999,\n",
       " 1.0,\n",
       " 1.0000000000000002,\n",
       " 1.0,\n",
       " 1.0000000000000002,\n",
       " 1.0,\n",
       " 0.9999999999999999,\n",
       " 1.0,\n",
       " 0.9999999999999999,\n",
       " 1.0,\n",
       " 1.0,\n",
       " 1.0,\n",
       " 0.9999999999999999,\n",
       " 0.9999999999999998,\n",
       " 1.0,\n",
       " 0.8764551726433342,\n",
       " 0.9139517019120116,\n",
       " 0.8808122160927355,\n",
       " 0.9489472494546809,\n",
       " 0.9909043646682332,\n",
       " 0.7065044466735577,\n",
       " 0.7875536011026107,\n",
       " 0.925152580394608,\n",
       " 0.9734900240104581,\n",
       " 1.0,\n",
       " 0.9705949081623791,\n",
       " 0.8857333529465037]"
      ]
     },
     "execution_count": 18,
     "metadata": {},
     "output_type": "execute_result"
    }
   ],
   "source": [
    "x"
   ]
  },
  {
   "cell_type": "code",
   "execution_count": 19,
   "id": "3d38eff3",
   "metadata": {},
   "outputs": [
    {
     "data": {
      "text/plain": [
       "array([0.])"
      ]
     },
     "execution_count": 19,
     "metadata": {},
     "output_type": "execute_result"
    }
   ],
   "source": [
    "label"
   ]
  },
  {
   "cell_type": "code",
   "execution_count": 20,
   "id": "c92119d5",
   "metadata": {},
   "outputs": [],
   "source": [
    "device = torch.device('cuda' if torch.cuda.is_available() else 'cpu')\n",
    "model = TransformerTimeSeries(device,\n",
    "                              n_encoder_time_steps=197,\n",
    "                              encoder_vector_sz=39,\n",
    "                              output_vector_sz=5,\n",
    "                              d_model=220,\n",
    "                              dropout=0.3,\n",
    "                              nhead=4).to(device)"
   ]
  },
  {
   "cell_type": "markdown",
   "id": "4091de7e",
   "metadata": {},
   "source": [
    "### Training the network"
   ]
  },
  {
   "cell_type": "code",
   "execution_count": 21,
   "id": "04cd47d2",
   "metadata": {},
   "outputs": [
    {
     "name": "stderr",
     "output_type": "stream",
     "text": [
      "/home/rodrigo/home-hd/Anaconda/envs/pytorch/lib/python3.8/site-packages/torch/optim/lr_scheduler.py:369: UserWarning: To get the last learning rate computed by the scheduler, please use `get_last_lr()`.\n",
      "  warnings.warn(\"To get the last learning rate computed by the scheduler, \"\n"
     ]
    },
    {
     "name": "stdout",
     "output_type": "stream",
     "text": [
      "| epoch   1 |     2/   12 batches | lr 0.001000 | 210.09 ms | loss 2.68826\n",
      "| epoch   1 |     4/   12 batches | lr 0.001000 | 134.68 ms | loss 1.65782\n",
      "| epoch   1 |     6/   12 batches | lr 0.001000 | 137.86 ms | loss 1.66070\n",
      "| epoch   1 |     8/   12 batches | lr 0.001000 | 152.07 ms | loss 1.67806\n",
      "| epoch   1 |    10/   12 batches | lr 0.001000 | 137.07 ms | loss 1.67575\n",
      "| epoch   1 |    12/   12 batches | lr 0.001000 | 95.20 ms | loss 1.62405\n",
      "-----------------------------------------------------------------------------------------\n",
      "| end of epoch   1 | time:  1.89s |\n",
      "-----------------------------------------------------------------------------------------\n"
     ]
    },
    {
     "name": "stderr",
     "output_type": "stream",
     "text": [
      "/home/rodrigo/home-hd/Anaconda/envs/pytorch/lib/python3.8/site-packages/torch/optim/lr_scheduler.py:369: UserWarning: To get the last learning rate computed by the scheduler, please use `get_last_lr()`.\n",
      "  warnings.warn(\"To get the last learning rate computed by the scheduler, \"\n"
     ]
    },
    {
     "name": "stdout",
     "output_type": "stream",
     "text": [
      "| epoch   2 |     2/   12 batches | lr 0.000960 | 198.14 ms | loss 2.46503\n",
      "| epoch   2 |     4/   12 batches | lr 0.000960 | 137.65 ms | loss 1.63826\n",
      "| epoch   2 |     6/   12 batches | lr 0.000960 | 136.04 ms | loss 1.59200\n",
      "| epoch   2 |     8/   12 batches | lr 0.000960 | 135.68 ms | loss 1.62890\n",
      "| epoch   2 |    10/   12 batches | lr 0.000960 | 134.93 ms | loss 1.65006\n",
      "| epoch   2 |    12/   12 batches | lr 0.000960 | 95.47 ms | loss 1.64931\n",
      "-----------------------------------------------------------------------------------------\n",
      "| end of epoch   2 | time:  1.83s |\n",
      "-----------------------------------------------------------------------------------------\n"
     ]
    },
    {
     "name": "stderr",
     "output_type": "stream",
     "text": [
      "/home/rodrigo/home-hd/Anaconda/envs/pytorch/lib/python3.8/site-packages/torch/optim/lr_scheduler.py:369: UserWarning: To get the last learning rate computed by the scheduler, please use `get_last_lr()`.\n",
      "  warnings.warn(\"To get the last learning rate computed by the scheduler, \"\n"
     ]
    },
    {
     "name": "stdout",
     "output_type": "stream",
     "text": [
      "| epoch   3 |     2/   12 batches | lr 0.000941 | 201.92 ms | loss 2.43945\n",
      "| epoch   3 |     4/   12 batches | lr 0.000941 | 144.46 ms | loss 1.65367\n",
      "| epoch   3 |     6/   12 batches | lr 0.000941 | 135.66 ms | loss 1.64024\n",
      "| epoch   3 |     8/   12 batches | lr 0.000941 | 139.85 ms | loss 1.60803\n",
      "| epoch   3 |    10/   12 batches | lr 0.000941 | 137.32 ms | loss 1.58367\n",
      "| epoch   3 |    12/   12 batches | lr 0.000941 | 97.71 ms | loss 1.62075\n",
      "-----------------------------------------------------------------------------------------\n",
      "| end of epoch   3 | time:  1.87s |\n",
      "-----------------------------------------------------------------------------------------\n"
     ]
    },
    {
     "name": "stderr",
     "output_type": "stream",
     "text": [
      "/home/rodrigo/home-hd/Anaconda/envs/pytorch/lib/python3.8/site-packages/torch/optim/lr_scheduler.py:369: UserWarning: To get the last learning rate computed by the scheduler, please use `get_last_lr()`.\n",
      "  warnings.warn(\"To get the last learning rate computed by the scheduler, \"\n"
     ]
    },
    {
     "name": "stdout",
     "output_type": "stream",
     "text": [
      "| epoch   4 |     2/   12 batches | lr 0.000922 | 198.91 ms | loss 2.38473\n",
      "| epoch   4 |     4/   12 batches | lr 0.000922 | 135.25 ms | loss 1.57661\n",
      "| epoch   4 |     6/   12 batches | lr 0.000922 | 137.75 ms | loss 1.60838\n",
      "| epoch   4 |     8/   12 batches | lr 0.000922 | 135.18 ms | loss 1.60911\n",
      "| epoch   4 |    10/   12 batches | lr 0.000922 | 139.23 ms | loss 1.60912\n",
      "| epoch   4 |    12/   12 batches | lr 0.000922 | 95.53 ms | loss 1.56377\n",
      "-----------------------------------------------------------------------------------------\n",
      "| end of epoch   4 | time:  1.84s |\n",
      "-----------------------------------------------------------------------------------------\n"
     ]
    },
    {
     "name": "stderr",
     "output_type": "stream",
     "text": [
      "/home/rodrigo/home-hd/Anaconda/envs/pytorch/lib/python3.8/site-packages/torch/optim/lr_scheduler.py:369: UserWarning: To get the last learning rate computed by the scheduler, please use `get_last_lr()`.\n",
      "  warnings.warn(\"To get the last learning rate computed by the scheduler, \"\n"
     ]
    },
    {
     "name": "stdout",
     "output_type": "stream",
     "text": [
      "| epoch   5 |     2/   12 batches | lr 0.000904 | 198.72 ms | loss 2.41185\n",
      "| epoch   5 |     4/   12 batches | lr 0.000904 | 143.76 ms | loss 1.60184\n",
      "| epoch   5 |     6/   12 batches | lr 0.000904 | 137.38 ms | loss 1.62422\n",
      "| epoch   5 |     8/   12 batches | lr 0.000904 | 138.58 ms | loss 1.60393\n",
      "| epoch   5 |    10/   12 batches | lr 0.000904 | 135.82 ms | loss 1.57420\n",
      "| epoch   5 |    12/   12 batches | lr 0.000904 | 98.82 ms | loss 1.56189\n",
      "-----------------------------------------------------------------------------------------\n",
      "| end of epoch   5 | time:  1.86s |\n",
      "-----------------------------------------------------------------------------------------\n"
     ]
    },
    {
     "name": "stderr",
     "output_type": "stream",
     "text": [
      "/home/rodrigo/home-hd/Anaconda/envs/pytorch/lib/python3.8/site-packages/torch/optim/lr_scheduler.py:369: UserWarning: To get the last learning rate computed by the scheduler, please use `get_last_lr()`.\n",
      "  warnings.warn(\"To get the last learning rate computed by the scheduler, \"\n"
     ]
    },
    {
     "name": "stdout",
     "output_type": "stream",
     "text": [
      "| epoch   6 |     2/   12 batches | lr 0.000886 | 201.76 ms | loss 2.38570\n",
      "| epoch   6 |     4/   12 batches | lr 0.000886 | 135.86 ms | loss 1.57382\n",
      "| epoch   6 |     6/   12 batches | lr 0.000886 | 140.37 ms | loss 1.57152\n",
      "| epoch   6 |     8/   12 batches | lr 0.000886 | 137.96 ms | loss 1.54335\n",
      "| epoch   6 |    10/   12 batches | lr 0.000886 | 135.60 ms | loss 1.52715\n",
      "| epoch   6 |    12/   12 batches | lr 0.000886 | 96.03 ms | loss 1.45928\n",
      "-----------------------------------------------------------------------------------------\n",
      "| end of epoch   6 | time:  1.85s |\n",
      "-----------------------------------------------------------------------------------------\n"
     ]
    },
    {
     "name": "stderr",
     "output_type": "stream",
     "text": [
      "/home/rodrigo/home-hd/Anaconda/envs/pytorch/lib/python3.8/site-packages/torch/optim/lr_scheduler.py:369: UserWarning: To get the last learning rate computed by the scheduler, please use `get_last_lr()`.\n",
      "  warnings.warn(\"To get the last learning rate computed by the scheduler, \"\n"
     ]
    },
    {
     "name": "stdout",
     "output_type": "stream",
     "text": [
      "| epoch   7 |     2/   12 batches | lr 0.000868 | 203.93 ms | loss 2.26986\n",
      "| epoch   7 |     4/   12 batches | lr 0.000868 | 135.71 ms | loss 1.38851\n",
      "| epoch   7 |     6/   12 batches | lr 0.000868 | 135.96 ms | loss 1.73895\n",
      "| epoch   7 |     8/   12 batches | lr 0.000868 | 139.07 ms | loss 1.40204\n",
      "| epoch   7 |    10/   12 batches | lr 0.000868 | 135.56 ms | loss 1.40975\n",
      "| epoch   7 |    12/   12 batches | lr 0.000868 | 95.91 ms | loss 1.52515\n",
      "-----------------------------------------------------------------------------------------\n",
      "| end of epoch   7 | time:  1.84s |\n",
      "-----------------------------------------------------------------------------------------\n"
     ]
    },
    {
     "name": "stderr",
     "output_type": "stream",
     "text": [
      "/home/rodrigo/home-hd/Anaconda/envs/pytorch/lib/python3.8/site-packages/torch/optim/lr_scheduler.py:369: UserWarning: To get the last learning rate computed by the scheduler, please use `get_last_lr()`.\n",
      "  warnings.warn(\"To get the last learning rate computed by the scheduler, \"\n"
     ]
    },
    {
     "name": "stdout",
     "output_type": "stream",
     "text": [
      "| epoch   8 |     2/   12 batches | lr 0.000851 | 206.74 ms | loss 2.28389\n",
      "| epoch   8 |     4/   12 batches | lr 0.000851 | 144.40 ms | loss 1.49147\n",
      "| epoch   8 |     6/   12 batches | lr 0.000851 | 135.90 ms | loss 1.49515\n",
      "| epoch   8 |     8/   12 batches | lr 0.000851 | 135.61 ms | loss 1.40519\n",
      "| epoch   8 |    10/   12 batches | lr 0.000851 | 138.11 ms | loss 1.39832\n",
      "| epoch   8 |    12/   12 batches | lr 0.000851 | 98.59 ms | loss 1.35698\n",
      "-----------------------------------------------------------------------------------------\n",
      "| end of epoch   8 | time:  1.87s |\n",
      "-----------------------------------------------------------------------------------------\n"
     ]
    },
    {
     "name": "stderr",
     "output_type": "stream",
     "text": [
      "/home/rodrigo/home-hd/Anaconda/envs/pytorch/lib/python3.8/site-packages/torch/optim/lr_scheduler.py:369: UserWarning: To get the last learning rate computed by the scheduler, please use `get_last_lr()`.\n",
      "  warnings.warn(\"To get the last learning rate computed by the scheduler, \"\n"
     ]
    },
    {
     "name": "stdout",
     "output_type": "stream",
     "text": [
      "| epoch   9 |     2/   12 batches | lr 0.000834 | 211.82 ms | loss 1.95087\n",
      "| epoch   9 |     4/   12 batches | lr 0.000834 | 135.61 ms | loss 1.26418\n",
      "| epoch   9 |     6/   12 batches | lr 0.000834 | 134.44 ms | loss 1.19547\n",
      "| epoch   9 |     8/   12 batches | lr 0.000834 | 137.23 ms | loss 1.08753\n",
      "| epoch   9 |    10/   12 batches | lr 0.000834 | 134.62 ms | loss 1.16549\n",
      "| epoch   9 |    12/   12 batches | lr 0.000834 | 97.65 ms | loss 1.16315\n",
      "-----------------------------------------------------------------------------------------\n",
      "| end of epoch   9 | time:  1.85s |\n",
      "-----------------------------------------------------------------------------------------\n"
     ]
    },
    {
     "name": "stderr",
     "output_type": "stream",
     "text": [
      "/home/rodrigo/home-hd/Anaconda/envs/pytorch/lib/python3.8/site-packages/torch/optim/lr_scheduler.py:369: UserWarning: To get the last learning rate computed by the scheduler, please use `get_last_lr()`.\n",
      "  warnings.warn(\"To get the last learning rate computed by the scheduler, \"\n"
     ]
    },
    {
     "name": "stdout",
     "output_type": "stream",
     "text": [
      "| epoch  10 |     2/   12 batches | lr 0.000817 | 198.25 ms | loss 1.70149\n",
      "| epoch  10 |     4/   12 batches | lr 0.000817 | 146.07 ms | loss 1.09693\n",
      "| epoch  10 |     6/   12 batches | lr 0.000817 | 135.62 ms | loss 1.10585\n",
      "| epoch  10 |     8/   12 batches | lr 0.000817 | 133.88 ms | loss 1.20445\n",
      "| epoch  10 |    10/   12 batches | lr 0.000817 | 134.07 ms | loss 1.19494\n",
      "| epoch  10 |    12/   12 batches | lr 0.000817 | 98.92 ms | loss 1.16197\n",
      "-----------------------------------------------------------------------------------------\n",
      "| end of epoch  10 | time:  1.84s |\n",
      "-----------------------------------------------------------------------------------------\n"
     ]
    },
    {
     "name": "stderr",
     "output_type": "stream",
     "text": [
      "/home/rodrigo/home-hd/Anaconda/envs/pytorch/lib/python3.8/site-packages/torch/optim/lr_scheduler.py:369: UserWarning: To get the last learning rate computed by the scheduler, please use `get_last_lr()`.\n",
      "  warnings.warn(\"To get the last learning rate computed by the scheduler, \"\n"
     ]
    },
    {
     "name": "stdout",
     "output_type": "stream",
     "text": [
      "| epoch  11 |     2/   12 batches | lr 0.000801 | 197.82 ms | loss 1.71351\n",
      "| epoch  11 |     4/   12 batches | lr 0.000801 | 150.88 ms | loss 1.14104\n",
      "| epoch  11 |     6/   12 batches | lr 0.000801 | 138.66 ms | loss 1.20136\n",
      "| epoch  11 |     8/   12 batches | lr 0.000801 | 134.05 ms | loss 0.96213\n",
      "| epoch  11 |    10/   12 batches | lr 0.000801 | 134.55 ms | loss 1.03716\n",
      "| epoch  11 |    12/   12 batches | lr 0.000801 | 99.16 ms | loss 0.89342\n",
      "-----------------------------------------------------------------------------------------\n",
      "| end of epoch  11 | time:  1.86s |\n",
      "-----------------------------------------------------------------------------------------\n"
     ]
    },
    {
     "name": "stderr",
     "output_type": "stream",
     "text": [
      "/home/rodrigo/home-hd/Anaconda/envs/pytorch/lib/python3.8/site-packages/torch/optim/lr_scheduler.py:369: UserWarning: To get the last learning rate computed by the scheduler, please use `get_last_lr()`.\n",
      "  warnings.warn(\"To get the last learning rate computed by the scheduler, \"\n"
     ]
    },
    {
     "name": "stdout",
     "output_type": "stream",
     "text": [
      "| epoch  12 |     2/   12 batches | lr 0.000785 | 200.18 ms | loss 1.37765\n",
      "| epoch  12 |     4/   12 batches | lr 0.000785 | 133.91 ms | loss 0.85145\n",
      "| epoch  12 |     6/   12 batches | lr 0.000785 | 134.14 ms | loss 0.94429\n",
      "| epoch  12 |     8/   12 batches | lr 0.000785 | 137.48 ms | loss 0.87577\n",
      "| epoch  12 |    10/   12 batches | lr 0.000785 | 134.18 ms | loss 0.90715\n",
      "| epoch  12 |    12/   12 batches | lr 0.000785 | 98.94 ms | loss 0.94689\n",
      "-----------------------------------------------------------------------------------------\n",
      "| end of epoch  12 | time:  1.83s |\n",
      "-----------------------------------------------------------------------------------------\n"
     ]
    },
    {
     "name": "stderr",
     "output_type": "stream",
     "text": [
      "/home/rodrigo/home-hd/Anaconda/envs/pytorch/lib/python3.8/site-packages/torch/optim/lr_scheduler.py:369: UserWarning: To get the last learning rate computed by the scheduler, please use `get_last_lr()`.\n",
      "  warnings.warn(\"To get the last learning rate computed by the scheduler, \"\n"
     ]
    },
    {
     "name": "stdout",
     "output_type": "stream",
     "text": [
      "| epoch  13 |     2/   12 batches | lr 0.000769 | 201.14 ms | loss 1.33932\n",
      "| epoch  13 |     4/   12 batches | lr 0.000769 | 134.04 ms | loss 0.94253\n",
      "| epoch  13 |     6/   12 batches | lr 0.000769 | 134.19 ms | loss 0.85981\n",
      "| epoch  13 |     8/   12 batches | lr 0.000769 | 140.22 ms | loss 0.90176\n",
      "| epoch  13 |    10/   12 batches | lr 0.000769 | 134.91 ms | loss 0.95457\n",
      "| epoch  13 |    12/   12 batches | lr 0.000769 | 95.79 ms | loss 0.85345\n",
      "-----------------------------------------------------------------------------------------\n",
      "| end of epoch  13 | time:  1.83s |\n",
      "-----------------------------------------------------------------------------------------\n"
     ]
    },
    {
     "name": "stderr",
     "output_type": "stream",
     "text": [
      "/home/rodrigo/home-hd/Anaconda/envs/pytorch/lib/python3.8/site-packages/torch/optim/lr_scheduler.py:369: UserWarning: To get the last learning rate computed by the scheduler, please use `get_last_lr()`.\n",
      "  warnings.warn(\"To get the last learning rate computed by the scheduler, \"\n"
     ]
    },
    {
     "name": "stdout",
     "output_type": "stream",
     "text": [
      "| epoch  14 |     2/   12 batches | lr 0.000754 | 200.09 ms | loss 1.45228\n",
      "| epoch  14 |     4/   12 batches | lr 0.000754 | 134.06 ms | loss 0.80983\n",
      "| epoch  14 |     6/   12 batches | lr 0.000754 | 133.85 ms | loss 0.84961\n",
      "| epoch  14 |     8/   12 batches | lr 0.000754 | 136.68 ms | loss 0.78867\n",
      "| epoch  14 |    10/   12 batches | lr 0.000754 | 138.15 ms | loss 0.82316\n",
      "| epoch  14 |    12/   12 batches | lr 0.000754 | 96.13 ms | loss 0.93873\n",
      "-----------------------------------------------------------------------------------------\n",
      "| end of epoch  14 | time:  1.83s |\n",
      "-----------------------------------------------------------------------------------------\n"
     ]
    },
    {
     "name": "stderr",
     "output_type": "stream",
     "text": [
      "/home/rodrigo/home-hd/Anaconda/envs/pytorch/lib/python3.8/site-packages/torch/optim/lr_scheduler.py:369: UserWarning: To get the last learning rate computed by the scheduler, please use `get_last_lr()`.\n",
      "  warnings.warn(\"To get the last learning rate computed by the scheduler, \"\n"
     ]
    },
    {
     "name": "stdout",
     "output_type": "stream",
     "text": [
      "| epoch  15 |     2/   12 batches | lr 0.000739 | 198.02 ms | loss 1.44200\n",
      "| epoch  15 |     4/   12 batches | lr 0.000739 | 146.48 ms | loss 0.88626\n",
      "| epoch  15 |     6/   12 batches | lr 0.000739 | 134.35 ms | loss 0.94582\n",
      "| epoch  15 |     8/   12 batches | lr 0.000739 | 134.44 ms | loss 0.73137\n",
      "| epoch  15 |    10/   12 batches | lr 0.000739 | 137.18 ms | loss 0.90351\n",
      "| epoch  15 |    12/   12 batches | lr 0.000739 | 97.41 ms | loss 0.73617\n",
      "-----------------------------------------------------------------------------------------\n",
      "| end of epoch  15 | time:  1.85s |\n",
      "-----------------------------------------------------------------------------------------\n"
     ]
    },
    {
     "name": "stderr",
     "output_type": "stream",
     "text": [
      "/home/rodrigo/home-hd/Anaconda/envs/pytorch/lib/python3.8/site-packages/torch/optim/lr_scheduler.py:369: UserWarning: To get the last learning rate computed by the scheduler, please use `get_last_lr()`.\n",
      "  warnings.warn(\"To get the last learning rate computed by the scheduler, \"\n"
     ]
    },
    {
     "name": "stdout",
     "output_type": "stream",
     "text": [
      "| epoch  16 |     2/   12 batches | lr 0.000724 | 201.19 ms | loss 1.04642\n",
      "| epoch  16 |     4/   12 batches | lr 0.000724 | 142.52 ms | loss 0.75094\n",
      "| epoch  16 |     6/   12 batches | lr 0.000724 | 134.51 ms | loss 0.73780\n",
      "| epoch  16 |     8/   12 batches | lr 0.000724 | 134.97 ms | loss 0.77312\n",
      "| epoch  16 |    10/   12 batches | lr 0.000724 | 134.57 ms | loss 0.66719\n",
      "| epoch  16 |    12/   12 batches | lr 0.000724 | 99.50 ms | loss 0.73211\n",
      "-----------------------------------------------------------------------------------------\n",
      "| end of epoch  16 | time:  1.86s |\n",
      "-----------------------------------------------------------------------------------------\n"
     ]
    },
    {
     "name": "stderr",
     "output_type": "stream",
     "text": [
      "/home/rodrigo/home-hd/Anaconda/envs/pytorch/lib/python3.8/site-packages/torch/optim/lr_scheduler.py:369: UserWarning: To get the last learning rate computed by the scheduler, please use `get_last_lr()`.\n",
      "  warnings.warn(\"To get the last learning rate computed by the scheduler, \"\n"
     ]
    },
    {
     "name": "stdout",
     "output_type": "stream",
     "text": [
      "| epoch  17 |     2/   12 batches | lr 0.000709 | 200.01 ms | loss 1.04496\n",
      "| epoch  17 |     4/   12 batches | lr 0.000709 | 140.90 ms | loss 0.73362\n",
      "| epoch  17 |     6/   12 batches | lr 0.000709 | 138.00 ms | loss 0.75232\n",
      "| epoch  17 |     8/   12 batches | lr 0.000709 | 134.57 ms | loss 0.65515\n",
      "| epoch  17 |    10/   12 batches | lr 0.000709 | 136.95 ms | loss 0.78168\n",
      "| epoch  17 |    12/   12 batches | lr 0.000709 | 96.24 ms | loss 0.61987\n",
      "-----------------------------------------------------------------------------------------\n",
      "| end of epoch  17 | time:  1.85s |\n",
      "-----------------------------------------------------------------------------------------\n"
     ]
    },
    {
     "name": "stderr",
     "output_type": "stream",
     "text": [
      "/home/rodrigo/home-hd/Anaconda/envs/pytorch/lib/python3.8/site-packages/torch/optim/lr_scheduler.py:369: UserWarning: To get the last learning rate computed by the scheduler, please use `get_last_lr()`.\n",
      "  warnings.warn(\"To get the last learning rate computed by the scheduler, \"\n"
     ]
    },
    {
     "name": "stdout",
     "output_type": "stream",
     "text": [
      "| epoch  18 |     2/   12 batches | lr 0.000695 | 202.10 ms | loss 1.03148\n",
      "| epoch  18 |     4/   12 batches | lr 0.000695 | 141.45 ms | loss 0.53977\n",
      "| epoch  18 |     6/   12 batches | lr 0.000695 | 134.99 ms | loss 0.69718\n",
      "| epoch  18 |     8/   12 batches | lr 0.000695 | 137.95 ms | loss 0.74700\n",
      "| epoch  18 |    10/   12 batches | lr 0.000695 | 137.02 ms | loss 0.63354\n",
      "| epoch  18 |    12/   12 batches | lr 0.000695 | 96.24 ms | loss 0.64957\n",
      "-----------------------------------------------------------------------------------------\n",
      "| end of epoch  18 | time:  1.85s |\n",
      "-----------------------------------------------------------------------------------------\n"
     ]
    },
    {
     "name": "stderr",
     "output_type": "stream",
     "text": [
      "/home/rodrigo/home-hd/Anaconda/envs/pytorch/lib/python3.8/site-packages/torch/optim/lr_scheduler.py:369: UserWarning: To get the last learning rate computed by the scheduler, please use `get_last_lr()`.\n",
      "  warnings.warn(\"To get the last learning rate computed by the scheduler, \"\n"
     ]
    },
    {
     "name": "stdout",
     "output_type": "stream",
     "text": [
      "| epoch  19 |     2/   12 batches | lr 0.000681 | 200.80 ms | loss 0.83498\n",
      "| epoch  19 |     4/   12 batches | lr 0.000681 | 146.28 ms | loss 0.72325\n",
      "| epoch  19 |     6/   12 batches | lr 0.000681 | 136.94 ms | loss 0.62750\n",
      "| epoch  19 |     8/   12 batches | lr 0.000681 | 137.76 ms | loss 0.45680\n",
      "| epoch  19 |    10/   12 batches | lr 0.000681 | 134.40 ms | loss 0.53511\n",
      "| epoch  19 |    12/   12 batches | lr 0.000681 | 96.12 ms | loss 0.64978\n",
      "-----------------------------------------------------------------------------------------\n",
      "| end of epoch  19 | time:  1.85s |\n",
      "-----------------------------------------------------------------------------------------\n"
     ]
    },
    {
     "name": "stderr",
     "output_type": "stream",
     "text": [
      "/home/rodrigo/home-hd/Anaconda/envs/pytorch/lib/python3.8/site-packages/torch/optim/lr_scheduler.py:369: UserWarning: To get the last learning rate computed by the scheduler, please use `get_last_lr()`.\n",
      "  warnings.warn(\"To get the last learning rate computed by the scheduler, \"\n"
     ]
    },
    {
     "name": "stdout",
     "output_type": "stream",
     "text": [
      "| epoch  20 |     2/   12 batches | lr 0.000668 | 205.93 ms | loss 0.93637\n",
      "| epoch  20 |     4/   12 batches | lr 0.000668 | 141.59 ms | loss 0.48840\n",
      "| epoch  20 |     6/   12 batches | lr 0.000668 | 135.15 ms | loss 0.42610\n",
      "| epoch  20 |     8/   12 batches | lr 0.000668 | 137.41 ms | loss 0.51449\n",
      "| epoch  20 |    10/   12 batches | lr 0.000668 | 135.15 ms | loss 0.59389\n",
      "| epoch  20 |    12/   12 batches | lr 0.000668 | 96.18 ms | loss 0.58621\n",
      "-----------------------------------------------------------------------------------------\n",
      "| end of epoch  20 | time:  1.85s |\n",
      "-----------------------------------------------------------------------------------------\n"
     ]
    },
    {
     "name": "stderr",
     "output_type": "stream",
     "text": [
      "/home/rodrigo/home-hd/Anaconda/envs/pytorch/lib/python3.8/site-packages/torch/optim/lr_scheduler.py:369: UserWarning: To get the last learning rate computed by the scheduler, please use `get_last_lr()`.\n",
      "  warnings.warn(\"To get the last learning rate computed by the scheduler, \"\n"
     ]
    },
    {
     "name": "stdout",
     "output_type": "stream",
     "text": [
      "| epoch  21 |     2/   12 batches | lr 0.000654 | 203.48 ms | loss 0.96847\n",
      "| epoch  21 |     4/   12 batches | lr 0.000654 | 141.79 ms | loss 0.56874\n",
      "| epoch  21 |     6/   12 batches | lr 0.000654 | 141.70 ms | loss 0.46004\n",
      "| epoch  21 |     8/   12 batches | lr 0.000654 | 134.83 ms | loss 0.53638\n",
      "| epoch  21 |    10/   12 batches | lr 0.000654 | 137.08 ms | loss 0.50028\n",
      "| epoch  21 |    12/   12 batches | lr 0.000654 | 98.95 ms | loss 0.71893\n",
      "-----------------------------------------------------------------------------------------\n",
      "| end of epoch  21 | time:  1.87s |\n",
      "-----------------------------------------------------------------------------------------\n"
     ]
    },
    {
     "name": "stderr",
     "output_type": "stream",
     "text": [
      "/home/rodrigo/home-hd/Anaconda/envs/pytorch/lib/python3.8/site-packages/torch/optim/lr_scheduler.py:369: UserWarning: To get the last learning rate computed by the scheduler, please use `get_last_lr()`.\n",
      "  warnings.warn(\"To get the last learning rate computed by the scheduler, \"\n"
     ]
    },
    {
     "name": "stdout",
     "output_type": "stream",
     "text": [
      "| epoch  22 |     2/   12 batches | lr 0.000641 | 197.95 ms | loss 0.78541\n",
      "| epoch  22 |     4/   12 batches | lr 0.000641 | 137.39 ms | loss 0.49970\n",
      "| epoch  22 |     6/   12 batches | lr 0.000641 | 135.26 ms | loss 0.42530\n",
      "| epoch  22 |     8/   12 batches | lr 0.000641 | 137.66 ms | loss 0.63524\n",
      "| epoch  22 |    10/   12 batches | lr 0.000641 | 138.54 ms | loss 0.63437\n",
      "| epoch  22 |    12/   12 batches | lr 0.000641 | 98.90 ms | loss 0.39809\n",
      "-----------------------------------------------------------------------------------------\n",
      "| end of epoch  22 | time:  1.85s |\n",
      "-----------------------------------------------------------------------------------------\n"
     ]
    },
    {
     "name": "stderr",
     "output_type": "stream",
     "text": [
      "/home/rodrigo/home-hd/Anaconda/envs/pytorch/lib/python3.8/site-packages/torch/optim/lr_scheduler.py:369: UserWarning: To get the last learning rate computed by the scheduler, please use `get_last_lr()`.\n",
      "  warnings.warn(\"To get the last learning rate computed by the scheduler, \"\n"
     ]
    },
    {
     "name": "stdout",
     "output_type": "stream",
     "text": [
      "| epoch  23 |     2/   12 batches | lr 0.000628 | 198.96 ms | loss 0.78808\n",
      "| epoch  23 |     4/   12 batches | lr 0.000628 | 137.07 ms | loss 0.52408\n",
      "| epoch  23 |     6/   12 batches | lr 0.000628 | 136.80 ms | loss 0.54190\n",
      "| epoch  23 |     8/   12 batches | lr 0.000628 | 134.58 ms | loss 0.42276\n",
      "| epoch  23 |    10/   12 batches | lr 0.000628 | 138.87 ms | loss 0.52216\n",
      "| epoch  23 |    12/   12 batches | lr 0.000628 | 98.68 ms | loss 0.53196\n",
      "-----------------------------------------------------------------------------------------\n",
      "| end of epoch  23 | time:  1.84s |\n",
      "-----------------------------------------------------------------------------------------\n"
     ]
    },
    {
     "name": "stderr",
     "output_type": "stream",
     "text": [
      "/home/rodrigo/home-hd/Anaconda/envs/pytorch/lib/python3.8/site-packages/torch/optim/lr_scheduler.py:369: UserWarning: To get the last learning rate computed by the scheduler, please use `get_last_lr()`.\n",
      "  warnings.warn(\"To get the last learning rate computed by the scheduler, \"\n"
     ]
    },
    {
     "name": "stdout",
     "output_type": "stream",
     "text": [
      "| epoch  24 |     2/   12 batches | lr 0.000616 | 198.24 ms | loss 0.96959\n",
      "| epoch  24 |     4/   12 batches | lr 0.000616 | 156.44 ms | loss 0.40451\n",
      "| epoch  24 |     6/   12 batches | lr 0.000616 | 261.74 ms | loss 0.54615\n",
      "| epoch  24 |     8/   12 batches | lr 0.000616 | 138.85 ms | loss 0.48391\n",
      "| epoch  24 |    10/   12 batches | lr 0.000616 | 210.76 ms | loss 0.44088\n",
      "| epoch  24 |    12/   12 batches | lr 0.000616 | 207.29 ms | loss 0.33228\n",
      "-----------------------------------------------------------------------------------------\n",
      "| end of epoch  24 | time:  2.58s |\n",
      "-----------------------------------------------------------------------------------------\n"
     ]
    },
    {
     "name": "stderr",
     "output_type": "stream",
     "text": [
      "/home/rodrigo/home-hd/Anaconda/envs/pytorch/lib/python3.8/site-packages/torch/optim/lr_scheduler.py:369: UserWarning: To get the last learning rate computed by the scheduler, please use `get_last_lr()`.\n",
      "  warnings.warn(\"To get the last learning rate computed by the scheduler, \"\n"
     ]
    },
    {
     "name": "stdout",
     "output_type": "stream",
     "text": [
      "| epoch  25 |     2/   12 batches | lr 0.000603 | 222.45 ms | loss 0.53611\n",
      "| epoch  25 |     4/   12 batches | lr 0.000603 | 146.61 ms | loss 0.67542\n",
      "| epoch  25 |     6/   12 batches | lr 0.000603 | 405.21 ms | loss 0.55163\n",
      "| epoch  25 |     8/   12 batches | lr 0.000603 | 151.70 ms | loss 0.28050\n",
      "| epoch  25 |    10/   12 batches | lr 0.000603 | 138.31 ms | loss 0.35922\n",
      "| epoch  25 |    12/   12 batches | lr 0.000603 | 99.69 ms | loss 0.43303\n",
      "-----------------------------------------------------------------------------------------\n",
      "| end of epoch  25 | time:  2.49s |\n",
      "-----------------------------------------------------------------------------------------\n"
     ]
    },
    {
     "name": "stderr",
     "output_type": "stream",
     "text": [
      "/home/rodrigo/home-hd/Anaconda/envs/pytorch/lib/python3.8/site-packages/torch/optim/lr_scheduler.py:369: UserWarning: To get the last learning rate computed by the scheduler, please use `get_last_lr()`.\n",
      "  warnings.warn(\"To get the last learning rate computed by the scheduler, \"\n"
     ]
    },
    {
     "name": "stdout",
     "output_type": "stream",
     "text": [
      "| epoch  26 |     2/   12 batches | lr 0.000591 | 198.95 ms | loss 0.63527\n",
      "| epoch  26 |     4/   12 batches | lr 0.000591 | 137.29 ms | loss 0.44424\n",
      "| epoch  26 |     6/   12 batches | lr 0.000591 | 137.11 ms | loss 0.46866\n",
      "| epoch  26 |     8/   12 batches | lr 0.000591 | 137.33 ms | loss 0.44663\n",
      "| epoch  26 |    10/   12 batches | lr 0.000591 | 136.95 ms | loss 0.47317\n",
      "| epoch  26 |    12/   12 batches | lr 0.000591 | 96.21 ms | loss 0.39968\n",
      "-----------------------------------------------------------------------------------------\n",
      "| end of epoch  26 | time:  1.84s |\n",
      "-----------------------------------------------------------------------------------------\n"
     ]
    },
    {
     "name": "stderr",
     "output_type": "stream",
     "text": [
      "/home/rodrigo/home-hd/Anaconda/envs/pytorch/lib/python3.8/site-packages/torch/optim/lr_scheduler.py:369: UserWarning: To get the last learning rate computed by the scheduler, please use `get_last_lr()`.\n",
      "  warnings.warn(\"To get the last learning rate computed by the scheduler, \"\n"
     ]
    },
    {
     "name": "stdout",
     "output_type": "stream",
     "text": [
      "| epoch  27 |     2/   12 batches | lr 0.000580 | 198.93 ms | loss 0.68790\n",
      "| epoch  27 |     4/   12 batches | lr 0.000580 | 140.81 ms | loss 0.42412\n",
      "| epoch  27 |     6/   12 batches | lr 0.000580 | 138.71 ms | loss 0.19589\n",
      "| epoch  27 |     8/   12 batches | lr 0.000580 | 138.76 ms | loss 0.52724\n",
      "| epoch  27 |    10/   12 batches | lr 0.000580 | 134.73 ms | loss 0.46643\n",
      "| epoch  27 |    12/   12 batches | lr 0.000580 | 96.26 ms | loss 0.27829\n",
      "-----------------------------------------------------------------------------------------\n",
      "| end of epoch  27 | time:  1.85s |\n",
      "-----------------------------------------------------------------------------------------\n"
     ]
    },
    {
     "name": "stderr",
     "output_type": "stream",
     "text": [
      "/home/rodrigo/home-hd/Anaconda/envs/pytorch/lib/python3.8/site-packages/torch/optim/lr_scheduler.py:369: UserWarning: To get the last learning rate computed by the scheduler, please use `get_last_lr()`.\n",
      "  warnings.warn(\"To get the last learning rate computed by the scheduler, \"\n"
     ]
    },
    {
     "name": "stdout",
     "output_type": "stream",
     "text": [
      "| epoch  28 |     2/   12 batches | lr 0.000568 | 201.33 ms | loss 0.61730\n",
      "| epoch  28 |     4/   12 batches | lr 0.000568 | 135.12 ms | loss 0.37505\n",
      "| epoch  28 |     6/   12 batches | lr 0.000568 | 138.18 ms | loss 0.30923\n",
      "| epoch  28 |     8/   12 batches | lr 0.000568 | 139.29 ms | loss 0.41213\n",
      "| epoch  28 |    10/   12 batches | lr 0.000568 | 134.50 ms | loss 0.28077\n",
      "| epoch  28 |    12/   12 batches | lr 0.000568 | 96.34 ms | loss 0.17571\n",
      "-----------------------------------------------------------------------------------------\n",
      "| end of epoch  28 | time:  1.84s |\n",
      "-----------------------------------------------------------------------------------------\n"
     ]
    },
    {
     "name": "stderr",
     "output_type": "stream",
     "text": [
      "/home/rodrigo/home-hd/Anaconda/envs/pytorch/lib/python3.8/site-packages/torch/optim/lr_scheduler.py:369: UserWarning: To get the last learning rate computed by the scheduler, please use `get_last_lr()`.\n",
      "  warnings.warn(\"To get the last learning rate computed by the scheduler, \"\n"
     ]
    },
    {
     "name": "stdout",
     "output_type": "stream",
     "text": [
      "| epoch  29 |     2/   12 batches | lr 0.000557 | 200.24 ms | loss 0.51225\n",
      "| epoch  29 |     4/   12 batches | lr 0.000557 | 135.06 ms | loss 0.33799\n",
      "| epoch  29 |     6/   12 batches | lr 0.000557 | 134.93 ms | loss 0.39976\n",
      "| epoch  29 |     8/   12 batches | lr 0.000557 | 134.66 ms | loss 0.29514\n",
      "| epoch  29 |    10/   12 batches | lr 0.000557 | 138.33 ms | loss 0.30390\n",
      "| epoch  29 |    12/   12 batches | lr 0.000557 | 96.16 ms | loss 0.27079\n",
      "-----------------------------------------------------------------------------------------\n",
      "| end of epoch  29 | time:  1.83s |\n",
      "-----------------------------------------------------------------------------------------\n"
     ]
    },
    {
     "name": "stderr",
     "output_type": "stream",
     "text": [
      "/home/rodrigo/home-hd/Anaconda/envs/pytorch/lib/python3.8/site-packages/torch/optim/lr_scheduler.py:369: UserWarning: To get the last learning rate computed by the scheduler, please use `get_last_lr()`.\n",
      "  warnings.warn(\"To get the last learning rate computed by the scheduler, \"\n"
     ]
    },
    {
     "name": "stdout",
     "output_type": "stream",
     "text": [
      "| epoch  30 |     2/   12 batches | lr 0.000545 | 205.18 ms | loss 0.39502\n",
      "| epoch  30 |     4/   12 batches | lr 0.000545 | 134.68 ms | loss 0.34042\n",
      "| epoch  30 |     6/   12 batches | lr 0.000545 | 134.30 ms | loss 0.32784\n",
      "| epoch  30 |     8/   12 batches | lr 0.000545 | 135.14 ms | loss 0.21855\n",
      "| epoch  30 |    10/   12 batches | lr 0.000545 | 140.35 ms | loss 0.24904\n",
      "| epoch  30 |    12/   12 batches | lr 0.000545 | 97.42 ms | loss 0.49358\n",
      "-----------------------------------------------------------------------------------------\n",
      "| end of epoch  30 | time:  1.84s |\n",
      "-----------------------------------------------------------------------------------------\n"
     ]
    },
    {
     "name": "stderr",
     "output_type": "stream",
     "text": [
      "/home/rodrigo/home-hd/Anaconda/envs/pytorch/lib/python3.8/site-packages/torch/optim/lr_scheduler.py:369: UserWarning: To get the last learning rate computed by the scheduler, please use `get_last_lr()`.\n",
      "  warnings.warn(\"To get the last learning rate computed by the scheduler, \"\n"
     ]
    },
    {
     "name": "stdout",
     "output_type": "stream",
     "text": [
      "| epoch  31 |     2/   12 batches | lr 0.000535 | 197.96 ms | loss 0.23571\n",
      "| epoch  31 |     4/   12 batches | lr 0.000535 | 136.97 ms | loss 0.32321\n",
      "| epoch  31 |     6/   12 batches | lr 0.000535 | 134.51 ms | loss 0.38631\n",
      "| epoch  31 |     8/   12 batches | lr 0.000535 | 134.47 ms | loss 0.30949\n",
      "| epoch  31 |    10/   12 batches | lr 0.000535 | 137.08 ms | loss 0.47195\n",
      "| epoch  31 |    12/   12 batches | lr 0.000535 | 98.76 ms | loss 0.30010\n",
      "-----------------------------------------------------------------------------------------\n",
      "| end of epoch  31 | time:  1.83s |\n",
      "-----------------------------------------------------------------------------------------\n"
     ]
    },
    {
     "name": "stderr",
     "output_type": "stream",
     "text": [
      "/home/rodrigo/home-hd/Anaconda/envs/pytorch/lib/python3.8/site-packages/torch/optim/lr_scheduler.py:369: UserWarning: To get the last learning rate computed by the scheduler, please use `get_last_lr()`.\n",
      "  warnings.warn(\"To get the last learning rate computed by the scheduler, \"\n"
     ]
    },
    {
     "name": "stdout",
     "output_type": "stream",
     "text": [
      "| epoch  32 |     2/   12 batches | lr 0.000524 | 198.22 ms | loss 0.36689\n",
      "| epoch  32 |     4/   12 batches | lr 0.000524 | 134.46 ms | loss 0.28666\n",
      "| epoch  32 |     6/   12 batches | lr 0.000524 | 137.19 ms | loss 0.23572\n",
      "| epoch  32 |     8/   12 batches | lr 0.000524 | 134.58 ms | loss 0.40311\n",
      "| epoch  32 |    10/   12 batches | lr 0.000524 | 134.44 ms | loss 0.20509\n",
      "| epoch  32 |    12/   12 batches | lr 0.000524 | 99.59 ms | loss 0.20334\n",
      "-----------------------------------------------------------------------------------------\n",
      "| end of epoch  32 | time:  1.84s |\n",
      "-----------------------------------------------------------------------------------------\n"
     ]
    },
    {
     "name": "stderr",
     "output_type": "stream",
     "text": [
      "/home/rodrigo/home-hd/Anaconda/envs/pytorch/lib/python3.8/site-packages/torch/optim/lr_scheduler.py:369: UserWarning: To get the last learning rate computed by the scheduler, please use `get_last_lr()`.\n",
      "  warnings.warn(\"To get the last learning rate computed by the scheduler, \"\n"
     ]
    },
    {
     "name": "stdout",
     "output_type": "stream",
     "text": [
      "| epoch  33 |     2/   12 batches | lr 0.000513 | 199.64 ms | loss 0.29932\n",
      "| epoch  33 |     4/   12 batches | lr 0.000513 | 136.87 ms | loss 0.22481\n",
      "| epoch  33 |     6/   12 batches | lr 0.000513 | 137.01 ms | loss 0.14640\n",
      "| epoch  33 |     8/   12 batches | lr 0.000513 | 134.41 ms | loss 0.19282\n",
      "| epoch  33 |    10/   12 batches | lr 0.000513 | 135.07 ms | loss 0.37547\n",
      "| epoch  33 |    12/   12 batches | lr 0.000513 | 96.24 ms | loss 0.17132\n",
      "-----------------------------------------------------------------------------------------\n",
      "| end of epoch  33 | time:  1.83s |\n",
      "-----------------------------------------------------------------------------------------\n"
     ]
    },
    {
     "name": "stderr",
     "output_type": "stream",
     "text": [
      "/home/rodrigo/home-hd/Anaconda/envs/pytorch/lib/python3.8/site-packages/torch/optim/lr_scheduler.py:369: UserWarning: To get the last learning rate computed by the scheduler, please use `get_last_lr()`.\n",
      "  warnings.warn(\"To get the last learning rate computed by the scheduler, \"\n"
     ]
    },
    {
     "name": "stdout",
     "output_type": "stream",
     "text": [
      "| epoch  34 |     2/   12 batches | lr 0.000503 | 204.92 ms | loss 0.25839\n",
      "| epoch  34 |     4/   12 batches | lr 0.000503 | 141.42 ms | loss 0.17463\n",
      "| epoch  34 |     6/   12 batches | lr 0.000503 | 134.42 ms | loss 0.26955\n",
      "| epoch  34 |     8/   12 batches | lr 0.000503 | 137.54 ms | loss 0.18077\n",
      "| epoch  34 |    10/   12 batches | lr 0.000503 | 134.63 ms | loss 0.27106\n",
      "| epoch  34 |    12/   12 batches | lr 0.000503 | 96.41 ms | loss 0.15914\n",
      "-----------------------------------------------------------------------------------------\n",
      "| end of epoch  34 | time:  1.85s |\n",
      "-----------------------------------------------------------------------------------------\n"
     ]
    },
    {
     "name": "stderr",
     "output_type": "stream",
     "text": [
      "/home/rodrigo/home-hd/Anaconda/envs/pytorch/lib/python3.8/site-packages/torch/optim/lr_scheduler.py:369: UserWarning: To get the last learning rate computed by the scheduler, please use `get_last_lr()`.\n",
      "  warnings.warn(\"To get the last learning rate computed by the scheduler, \"\n"
     ]
    },
    {
     "name": "stdout",
     "output_type": "stream",
     "text": [
      "| epoch  35 |     2/   12 batches | lr 0.000493 | 199.88 ms | loss 0.22459\n",
      "| epoch  35 |     4/   12 batches | lr 0.000493 | 144.12 ms | loss 0.23231\n",
      "| epoch  35 |     6/   12 batches | lr 0.000493 | 134.94 ms | loss 0.15442\n",
      "| epoch  35 |     8/   12 batches | lr 0.000493 | 140.00 ms | loss 0.22701\n",
      "| epoch  35 |    10/   12 batches | lr 0.000493 | 135.57 ms | loss 0.17033\n",
      "| epoch  35 |    12/   12 batches | lr 0.000493 | 96.19 ms | loss 0.11985\n",
      "-----------------------------------------------------------------------------------------\n",
      "| end of epoch  35 | time:  1.85s |\n",
      "-----------------------------------------------------------------------------------------\n"
     ]
    },
    {
     "name": "stderr",
     "output_type": "stream",
     "text": [
      "/home/rodrigo/home-hd/Anaconda/envs/pytorch/lib/python3.8/site-packages/torch/optim/lr_scheduler.py:369: UserWarning: To get the last learning rate computed by the scheduler, please use `get_last_lr()`.\n",
      "  warnings.warn(\"To get the last learning rate computed by the scheduler, \"\n"
     ]
    },
    {
     "name": "stdout",
     "output_type": "stream",
     "text": [
      "| epoch  36 |     2/   12 batches | lr 0.000483 | 200.57 ms | loss 0.26753\n",
      "| epoch  36 |     4/   12 batches | lr 0.000483 | 141.96 ms | loss 0.15572\n",
      "| epoch  36 |     6/   12 batches | lr 0.000483 | 142.36 ms | loss 0.24555\n",
      "| epoch  36 |     8/   12 batches | lr 0.000483 | 137.44 ms | loss 0.16330\n",
      "| epoch  36 |    10/   12 batches | lr 0.000483 | 137.74 ms | loss 0.21124\n",
      "| epoch  36 |    12/   12 batches | lr 0.000483 | 96.17 ms | loss 0.17561\n",
      "-----------------------------------------------------------------------------------------\n",
      "| end of epoch  36 | time:  1.86s |\n",
      "-----------------------------------------------------------------------------------------\n"
     ]
    },
    {
     "name": "stderr",
     "output_type": "stream",
     "text": [
      "/home/rodrigo/home-hd/Anaconda/envs/pytorch/lib/python3.8/site-packages/torch/optim/lr_scheduler.py:369: UserWarning: To get the last learning rate computed by the scheduler, please use `get_last_lr()`.\n",
      "  warnings.warn(\"To get the last learning rate computed by the scheduler, \"\n"
     ]
    },
    {
     "name": "stdout",
     "output_type": "stream",
     "text": [
      "| epoch  37 |     2/   12 batches | lr 0.000474 | 198.21 ms | loss 0.26076\n",
      "| epoch  37 |     4/   12 batches | lr 0.000474 | 146.87 ms | loss 0.10029\n",
      "| epoch  37 |     6/   12 batches | lr 0.000474 | 136.85 ms | loss 0.26127\n",
      "| epoch  37 |     8/   12 batches | lr 0.000474 | 135.23 ms | loss 0.15618\n",
      "| epoch  37 |    10/   12 batches | lr 0.000474 | 136.36 ms | loss 0.17132\n",
      "| epoch  37 |    12/   12 batches | lr 0.000474 | 96.79 ms | loss 0.09865\n",
      "-----------------------------------------------------------------------------------------\n",
      "| end of epoch  37 | time:  1.85s |\n",
      "-----------------------------------------------------------------------------------------\n"
     ]
    },
    {
     "name": "stderr",
     "output_type": "stream",
     "text": [
      "/home/rodrigo/home-hd/Anaconda/envs/pytorch/lib/python3.8/site-packages/torch/optim/lr_scheduler.py:369: UserWarning: To get the last learning rate computed by the scheduler, please use `get_last_lr()`.\n",
      "  warnings.warn(\"To get the last learning rate computed by the scheduler, \"\n"
     ]
    },
    {
     "name": "stdout",
     "output_type": "stream",
     "text": [
      "| epoch  38 |     2/   12 batches | lr 0.000464 | 200.87 ms | loss 0.29739\n",
      "| epoch  38 |     4/   12 batches | lr 0.000464 | 138.53 ms | loss 0.16208\n",
      "| epoch  38 |     6/   12 batches | lr 0.000464 | 135.54 ms | loss 0.28763\n",
      "| epoch  38 |     8/   12 batches | lr 0.000464 | 137.78 ms | loss 0.21526\n",
      "| epoch  38 |    10/   12 batches | lr 0.000464 | 135.37 ms | loss 0.15667\n",
      "| epoch  38 |    12/   12 batches | lr 0.000464 | 99.04 ms | loss 0.19286\n",
      "-----------------------------------------------------------------------------------------\n",
      "| end of epoch  38 | time:  1.85s |\n",
      "-----------------------------------------------------------------------------------------\n"
     ]
    },
    {
     "name": "stderr",
     "output_type": "stream",
     "text": [
      "/home/rodrigo/home-hd/Anaconda/envs/pytorch/lib/python3.8/site-packages/torch/optim/lr_scheduler.py:369: UserWarning: To get the last learning rate computed by the scheduler, please use `get_last_lr()`.\n",
      "  warnings.warn(\"To get the last learning rate computed by the scheduler, \"\n"
     ]
    },
    {
     "name": "stdout",
     "output_type": "stream",
     "text": [
      "| epoch  39 |     2/   12 batches | lr 0.000455 | 198.40 ms | loss 0.30351\n",
      "| epoch  39 |     4/   12 batches | lr 0.000455 | 134.39 ms | loss 0.18845\n",
      "| epoch  39 |     6/   12 batches | lr 0.000455 | 136.86 ms | loss 0.14604\n",
      "| epoch  39 |     8/   12 batches | lr 0.000455 | 134.62 ms | loss 0.13653\n",
      "| epoch  39 |    10/   12 batches | lr 0.000455 | 140.24 ms | loss 0.16192\n",
      "| epoch  39 |    12/   12 batches | lr 0.000455 | 96.35 ms | loss 0.28874\n",
      "-----------------------------------------------------------------------------------------\n",
      "| end of epoch  39 | time:  1.84s |\n",
      "-----------------------------------------------------------------------------------------\n"
     ]
    },
    {
     "name": "stderr",
     "output_type": "stream",
     "text": [
      "/home/rodrigo/home-hd/Anaconda/envs/pytorch/lib/python3.8/site-packages/torch/optim/lr_scheduler.py:369: UserWarning: To get the last learning rate computed by the scheduler, please use `get_last_lr()`.\n",
      "  warnings.warn(\"To get the last learning rate computed by the scheduler, \"\n"
     ]
    },
    {
     "name": "stdout",
     "output_type": "stream",
     "text": [
      "| epoch  40 |     2/   12 batches | lr 0.000446 | 198.20 ms | loss 0.27654\n",
      "| epoch  40 |     4/   12 batches | lr 0.000446 | 134.19 ms | loss 0.13986\n",
      "| epoch  40 |     6/   12 batches | lr 0.000446 | 134.49 ms | loss 0.15769\n",
      "| epoch  40 |     8/   12 batches | lr 0.000446 | 138.20 ms | loss 0.10544\n",
      "| epoch  40 |    10/   12 batches | lr 0.000446 | 134.46 ms | loss 0.15064\n",
      "| epoch  40 |    12/   12 batches | lr 0.000446 | 98.98 ms | loss 0.13037\n",
      "-----------------------------------------------------------------------------------------\n",
      "| end of epoch  40 | time:  1.84s |\n",
      "-----------------------------------------------------------------------------------------\n"
     ]
    },
    {
     "name": "stderr",
     "output_type": "stream",
     "text": [
      "/home/rodrigo/home-hd/Anaconda/envs/pytorch/lib/python3.8/site-packages/torch/optim/lr_scheduler.py:369: UserWarning: To get the last learning rate computed by the scheduler, please use `get_last_lr()`.\n",
      "  warnings.warn(\"To get the last learning rate computed by the scheduler, \"\n"
     ]
    },
    {
     "name": "stdout",
     "output_type": "stream",
     "text": [
      "| epoch  41 |     2/   12 batches | lr 0.000437 | 199.34 ms | loss 0.21942\n",
      "| epoch  41 |     4/   12 batches | lr 0.000437 | 134.36 ms | loss 0.18847\n",
      "| epoch  41 |     6/   12 batches | lr 0.000437 | 136.82 ms | loss 0.10011\n",
      "| epoch  41 |     8/   12 batches | lr 0.000437 | 138.04 ms | loss 0.11991\n",
      "| epoch  41 |    10/   12 batches | lr 0.000437 | 134.58 ms | loss 0.11372\n",
      "| epoch  41 |    12/   12 batches | lr 0.000437 | 96.40 ms | loss 0.16636\n",
      "-----------------------------------------------------------------------------------------\n",
      "| end of epoch  41 | time:  1.83s |\n",
      "-----------------------------------------------------------------------------------------\n"
     ]
    },
    {
     "name": "stderr",
     "output_type": "stream",
     "text": [
      "/home/rodrigo/home-hd/Anaconda/envs/pytorch/lib/python3.8/site-packages/torch/optim/lr_scheduler.py:369: UserWarning: To get the last learning rate computed by the scheduler, please use `get_last_lr()`.\n",
      "  warnings.warn(\"To get the last learning rate computed by the scheduler, \"\n"
     ]
    },
    {
     "name": "stdout",
     "output_type": "stream",
     "text": [
      "| epoch  42 |     2/   12 batches | lr 0.000428 | 201.37 ms | loss 0.23496\n",
      "| epoch  42 |     4/   12 batches | lr 0.000428 | 143.06 ms | loss 0.20733\n",
      "| epoch  42 |     6/   12 batches | lr 0.000428 | 134.35 ms | loss 0.22886\n",
      "| epoch  42 |     8/   12 batches | lr 0.000428 | 134.99 ms | loss 0.14445\n",
      "| epoch  42 |    10/   12 batches | lr 0.000428 | 137.39 ms | loss 0.19380\n",
      "| epoch  42 |    12/   12 batches | lr 0.000428 | 96.18 ms | loss 0.13777\n",
      "-----------------------------------------------------------------------------------------\n",
      "| end of epoch  42 | time:  1.84s |\n",
      "-----------------------------------------------------------------------------------------\n"
     ]
    },
    {
     "name": "stderr",
     "output_type": "stream",
     "text": [
      "/home/rodrigo/home-hd/Anaconda/envs/pytorch/lib/python3.8/site-packages/torch/optim/lr_scheduler.py:369: UserWarning: To get the last learning rate computed by the scheduler, please use `get_last_lr()`.\n",
      "  warnings.warn(\"To get the last learning rate computed by the scheduler, \"\n"
     ]
    },
    {
     "name": "stdout",
     "output_type": "stream",
     "text": [
      "| epoch  43 |     2/   12 batches | lr 0.000419 | 201.99 ms | loss 0.33565\n",
      "| epoch  43 |     4/   12 batches | lr 0.000419 | 137.17 ms | loss 0.08998\n",
      "| epoch  43 |     6/   12 batches | lr 0.000419 | 134.54 ms | loss 0.27475\n",
      "| epoch  43 |     8/   12 batches | lr 0.000419 | 134.49 ms | loss 0.29319\n",
      "| epoch  43 |    10/   12 batches | lr 0.000419 | 139.59 ms | loss 0.10155\n",
      "| epoch  43 |    12/   12 batches | lr 0.000419 | 97.22 ms | loss 0.30119\n",
      "-----------------------------------------------------------------------------------------\n",
      "| end of epoch  43 | time:  1.84s |\n",
      "-----------------------------------------------------------------------------------------\n"
     ]
    },
    {
     "name": "stderr",
     "output_type": "stream",
     "text": [
      "/home/rodrigo/home-hd/Anaconda/envs/pytorch/lib/python3.8/site-packages/torch/optim/lr_scheduler.py:369: UserWarning: To get the last learning rate computed by the scheduler, please use `get_last_lr()`.\n",
      "  warnings.warn(\"To get the last learning rate computed by the scheduler, \"\n"
     ]
    },
    {
     "name": "stdout",
     "output_type": "stream",
     "text": [
      "| epoch  44 |     2/   12 batches | lr 0.000411 | 197.93 ms | loss 0.19806\n",
      "| epoch  44 |     4/   12 batches | lr 0.000411 | 138.94 ms | loss 0.21966\n",
      "| epoch  44 |     6/   12 batches | lr 0.000411 | 134.55 ms | loss 0.16838\n",
      "| epoch  44 |     8/   12 batches | lr 0.000411 | 134.51 ms | loss 0.12011\n",
      "| epoch  44 |    10/   12 batches | lr 0.000411 | 136.83 ms | loss 0.16113\n",
      "| epoch  44 |    12/   12 batches | lr 0.000411 | 98.77 ms | loss 0.12526\n",
      "-----------------------------------------------------------------------------------------\n",
      "| end of epoch  44 | time:  1.83s |\n",
      "-----------------------------------------------------------------------------------------\n"
     ]
    },
    {
     "name": "stderr",
     "output_type": "stream",
     "text": [
      "/home/rodrigo/home-hd/Anaconda/envs/pytorch/lib/python3.8/site-packages/torch/optim/lr_scheduler.py:369: UserWarning: To get the last learning rate computed by the scheduler, please use `get_last_lr()`.\n",
      "  warnings.warn(\"To get the last learning rate computed by the scheduler, \"\n"
     ]
    },
    {
     "name": "stdout",
     "output_type": "stream",
     "text": [
      "| epoch  45 |     2/   12 batches | lr 0.000403 | 198.72 ms | loss 0.19602\n",
      "| epoch  45 |     4/   12 batches | lr 0.000403 | 137.21 ms | loss 0.11594\n",
      "| epoch  45 |     6/   12 batches | lr 0.000403 | 138.68 ms | loss 0.11985\n",
      "| epoch  45 |     8/   12 batches | lr 0.000403 | 135.32 ms | loss 0.12788\n",
      "| epoch  45 |    10/   12 batches | lr 0.000403 | 135.04 ms | loss 0.06248\n",
      "| epoch  45 |    12/   12 batches | lr 0.000403 | 96.15 ms | loss 0.18026\n",
      "-----------------------------------------------------------------------------------------\n",
      "| end of epoch  45 | time:  1.84s |\n",
      "-----------------------------------------------------------------------------------------\n"
     ]
    },
    {
     "name": "stderr",
     "output_type": "stream",
     "text": [
      "/home/rodrigo/home-hd/Anaconda/envs/pytorch/lib/python3.8/site-packages/torch/optim/lr_scheduler.py:369: UserWarning: To get the last learning rate computed by the scheduler, please use `get_last_lr()`.\n",
      "  warnings.warn(\"To get the last learning rate computed by the scheduler, \"\n"
     ]
    },
    {
     "name": "stdout",
     "output_type": "stream",
     "text": [
      "| epoch  46 |     2/   12 batches | lr 0.000395 | 198.09 ms | loss 0.14121\n",
      "| epoch  46 |     4/   12 batches | lr 0.000395 | 136.90 ms | loss 0.14202\n",
      "| epoch  46 |     6/   12 batches | lr 0.000395 | 146.96 ms | loss 0.19561\n",
      "| epoch  46 |     8/   12 batches | lr 0.000395 | 134.65 ms | loss 0.14948\n",
      "| epoch  46 |    10/   12 batches | lr 0.000395 | 134.40 ms | loss 0.14054\n",
      "| epoch  46 |    12/   12 batches | lr 0.000395 | 96.28 ms | loss 0.09801\n",
      "-----------------------------------------------------------------------------------------\n",
      "| end of epoch  46 | time:  1.84s |\n",
      "-----------------------------------------------------------------------------------------\n"
     ]
    },
    {
     "name": "stderr",
     "output_type": "stream",
     "text": [
      "/home/rodrigo/home-hd/Anaconda/envs/pytorch/lib/python3.8/site-packages/torch/optim/lr_scheduler.py:369: UserWarning: To get the last learning rate computed by the scheduler, please use `get_last_lr()`.\n",
      "  warnings.warn(\"To get the last learning rate computed by the scheduler, \"\n"
     ]
    },
    {
     "name": "stdout",
     "output_type": "stream",
     "text": [
      "| epoch  47 |     2/   12 batches | lr 0.000387 | 203.73 ms | loss 0.15000\n",
      "| epoch  47 |     4/   12 batches | lr 0.000387 | 141.83 ms | loss 0.08802\n",
      "| epoch  47 |     6/   12 batches | lr 0.000387 | 134.36 ms | loss 0.10693\n",
      "| epoch  47 |     8/   12 batches | lr 0.000387 | 137.91 ms | loss 0.18664\n",
      "| epoch  47 |    10/   12 batches | lr 0.000387 | 134.78 ms | loss 0.07112\n",
      "| epoch  47 |    12/   12 batches | lr 0.000387 | 96.25 ms | loss 0.11109\n",
      "-----------------------------------------------------------------------------------------\n",
      "| end of epoch  47 | time:  1.85s |\n",
      "-----------------------------------------------------------------------------------------\n"
     ]
    },
    {
     "name": "stderr",
     "output_type": "stream",
     "text": [
      "/home/rodrigo/home-hd/Anaconda/envs/pytorch/lib/python3.8/site-packages/torch/optim/lr_scheduler.py:369: UserWarning: To get the last learning rate computed by the scheduler, please use `get_last_lr()`.\n",
      "  warnings.warn(\"To get the last learning rate computed by the scheduler, \"\n"
     ]
    },
    {
     "name": "stdout",
     "output_type": "stream",
     "text": [
      "| epoch  48 |     2/   12 batches | lr 0.000379 | 201.34 ms | loss 0.28373\n",
      "| epoch  48 |     4/   12 batches | lr 0.000379 | 141.93 ms | loss 0.09798\n",
      "| epoch  48 |     6/   12 batches | lr 0.000379 | 134.38 ms | loss 0.10169\n",
      "| epoch  48 |     8/   12 batches | lr 0.000379 | 142.21 ms | loss 0.23068\n",
      "| epoch  48 |    10/   12 batches | lr 0.000379 | 143.76 ms | loss 0.13082\n",
      "| epoch  48 |    12/   12 batches | lr 0.000379 | 120.12 ms | loss 0.26650\n",
      "-----------------------------------------------------------------------------------------\n",
      "| end of epoch  48 | time:  1.90s |\n",
      "-----------------------------------------------------------------------------------------\n"
     ]
    },
    {
     "name": "stderr",
     "output_type": "stream",
     "text": [
      "/home/rodrigo/home-hd/Anaconda/envs/pytorch/lib/python3.8/site-packages/torch/optim/lr_scheduler.py:369: UserWarning: To get the last learning rate computed by the scheduler, please use `get_last_lr()`.\n",
      "  warnings.warn(\"To get the last learning rate computed by the scheduler, \"\n"
     ]
    },
    {
     "name": "stdout",
     "output_type": "stream",
     "text": [
      "| epoch  49 |     2/   12 batches | lr 0.000372 | 373.98 ms | loss 0.22383\n",
      "| epoch  49 |     4/   12 batches | lr 0.000372 | 147.58 ms | loss 0.13616\n",
      "| epoch  49 |     6/   12 batches | lr 0.000372 | 142.56 ms | loss 0.11996\n",
      "| epoch  49 |     8/   12 batches | lr 0.000372 | 141.66 ms | loss 0.11477\n",
      "| epoch  49 |    10/   12 batches | lr 0.000372 | 184.63 ms | loss 0.16394\n",
      "| epoch  49 |    12/   12 batches | lr 0.000372 | 188.79 ms | loss 0.02638\n",
      "-----------------------------------------------------------------------------------------\n",
      "| end of epoch  49 | time:  2.49s |\n",
      "-----------------------------------------------------------------------------------------\n"
     ]
    },
    {
     "name": "stderr",
     "output_type": "stream",
     "text": [
      "/home/rodrigo/home-hd/Anaconda/envs/pytorch/lib/python3.8/site-packages/torch/optim/lr_scheduler.py:369: UserWarning: To get the last learning rate computed by the scheduler, please use `get_last_lr()`.\n",
      "  warnings.warn(\"To get the last learning rate computed by the scheduler, \"\n"
     ]
    },
    {
     "name": "stdout",
     "output_type": "stream",
     "text": [
      "| epoch  50 |     2/   12 batches | lr 0.000364 | 249.02 ms | loss 0.16696\n",
      "| epoch  50 |     4/   12 batches | lr 0.000364 | 134.46 ms | loss 0.07682\n",
      "| epoch  50 |     6/   12 batches | lr 0.000364 | 139.66 ms | loss 0.11333\n",
      "| epoch  50 |     8/   12 batches | lr 0.000364 | 135.94 ms | loss 0.09415\n",
      "| epoch  50 |    10/   12 batches | lr 0.000364 | 138.31 ms | loss 0.07554\n",
      "| epoch  50 |    12/   12 batches | lr 0.000364 | 96.25 ms | loss 0.05442\n",
      "-----------------------------------------------------------------------------------------\n",
      "| end of epoch  50 | time:  1.94s |\n",
      "-----------------------------------------------------------------------------------------\n"
     ]
    },
    {
     "name": "stderr",
     "output_type": "stream",
     "text": [
      "/home/rodrigo/home-hd/Anaconda/envs/pytorch/lib/python3.8/site-packages/torch/optim/lr_scheduler.py:369: UserWarning: To get the last learning rate computed by the scheduler, please use `get_last_lr()`.\n",
      "  warnings.warn(\"To get the last learning rate computed by the scheduler, \"\n"
     ]
    },
    {
     "name": "stdout",
     "output_type": "stream",
     "text": [
      "| epoch  51 |     2/   12 batches | lr 0.000357 | 256.75 ms | loss 0.25559\n",
      "| epoch  51 |     4/   12 batches | lr 0.000357 | 134.88 ms | loss 0.03903\n",
      "| epoch  51 |     6/   12 batches | lr 0.000357 | 137.09 ms | loss 0.08248\n",
      "| epoch  51 |     8/   12 batches | lr 0.000357 | 139.41 ms | loss 0.10142\n",
      "| epoch  51 |    10/   12 batches | lr 0.000357 | 134.99 ms | loss 0.05601\n",
      "| epoch  51 |    12/   12 batches | lr 0.000357 | 96.19 ms | loss 0.10504\n",
      "-----------------------------------------------------------------------------------------\n",
      "| end of epoch  51 | time:  1.95s |\n",
      "-----------------------------------------------------------------------------------------\n"
     ]
    },
    {
     "name": "stderr",
     "output_type": "stream",
     "text": [
      "/home/rodrigo/home-hd/Anaconda/envs/pytorch/lib/python3.8/site-packages/torch/optim/lr_scheduler.py:369: UserWarning: To get the last learning rate computed by the scheduler, please use `get_last_lr()`.\n",
      "  warnings.warn(\"To get the last learning rate computed by the scheduler, \"\n"
     ]
    },
    {
     "name": "stdout",
     "output_type": "stream",
     "text": [
      "| epoch  52 |     2/   12 batches | lr 0.000350 | 198.35 ms | loss 0.10520\n",
      "| epoch  52 |     4/   12 batches | lr 0.000350 | 143.84 ms | loss 0.04286\n",
      "| epoch  52 |     6/   12 batches | lr 0.000350 | 136.91 ms | loss 0.10320\n",
      "| epoch  52 |     8/   12 batches | lr 0.000350 | 135.08 ms | loss 0.05404\n",
      "| epoch  52 |    10/   12 batches | lr 0.000350 | 137.32 ms | loss 0.12288\n",
      "| epoch  52 |    12/   12 batches | lr 0.000350 | 96.21 ms | loss 0.03098\n",
      "-----------------------------------------------------------------------------------------\n",
      "| end of epoch  52 | time:  1.85s |\n",
      "-----------------------------------------------------------------------------------------\n"
     ]
    },
    {
     "name": "stderr",
     "output_type": "stream",
     "text": [
      "/home/rodrigo/home-hd/Anaconda/envs/pytorch/lib/python3.8/site-packages/torch/optim/lr_scheduler.py:369: UserWarning: To get the last learning rate computed by the scheduler, please use `get_last_lr()`.\n",
      "  warnings.warn(\"To get the last learning rate computed by the scheduler, \"\n"
     ]
    },
    {
     "name": "stdout",
     "output_type": "stream",
     "text": [
      "| epoch  53 |     2/   12 batches | lr 0.000343 | 204.59 ms | loss 0.12552\n",
      "| epoch  53 |     4/   12 batches | lr 0.000343 | 135.05 ms | loss 0.07701\n",
      "| epoch  53 |     6/   12 batches | lr 0.000343 | 134.35 ms | loss 0.02800\n",
      "| epoch  53 |     8/   12 batches | lr 0.000343 | 137.07 ms | loss 0.08035\n",
      "| epoch  53 |    10/   12 batches | lr 0.000343 | 134.74 ms | loss 0.13041\n",
      "| epoch  53 |    12/   12 batches | lr 0.000343 | 99.09 ms | loss 0.04965\n",
      "-----------------------------------------------------------------------------------------\n",
      "| end of epoch  53 | time:  1.85s |\n",
      "-----------------------------------------------------------------------------------------\n"
     ]
    },
    {
     "name": "stderr",
     "output_type": "stream",
     "text": [
      "/home/rodrigo/home-hd/Anaconda/envs/pytorch/lib/python3.8/site-packages/torch/optim/lr_scheduler.py:369: UserWarning: To get the last learning rate computed by the scheduler, please use `get_last_lr()`.\n",
      "  warnings.warn(\"To get the last learning rate computed by the scheduler, \"\n"
     ]
    },
    {
     "name": "stdout",
     "output_type": "stream",
     "text": [
      "| epoch  54 |     2/   12 batches | lr 0.000336 | 201.53 ms | loss 0.12733\n",
      "| epoch  54 |     4/   12 batches | lr 0.000336 | 134.34 ms | loss 0.03559\n",
      "| epoch  54 |     6/   12 batches | lr 0.000336 | 134.54 ms | loss 0.06801\n",
      "| epoch  54 |     8/   12 batches | lr 0.000336 | 134.88 ms | loss 0.02731\n",
      "| epoch  54 |    10/   12 batches | lr 0.000336 | 137.89 ms | loss 0.09650\n",
      "| epoch  54 |    12/   12 batches | lr 0.000336 | 96.29 ms | loss 0.14870\n",
      "-----------------------------------------------------------------------------------------\n",
      "| end of epoch  54 | time:  1.83s |\n",
      "-----------------------------------------------------------------------------------------\n"
     ]
    },
    {
     "name": "stderr",
     "output_type": "stream",
     "text": [
      "/home/rodrigo/home-hd/Anaconda/envs/pytorch/lib/python3.8/site-packages/torch/optim/lr_scheduler.py:369: UserWarning: To get the last learning rate computed by the scheduler, please use `get_last_lr()`.\n",
      "  warnings.warn(\"To get the last learning rate computed by the scheduler, \"\n"
     ]
    },
    {
     "name": "stdout",
     "output_type": "stream",
     "text": [
      "| epoch  55 |     2/   12 batches | lr 0.000329 | 198.31 ms | loss 0.08558\n",
      "| epoch  55 |     4/   12 batches | lr 0.000329 | 137.14 ms | loss 0.07897\n",
      "| epoch  55 |     6/   12 batches | lr 0.000329 | 134.61 ms | loss 0.04297\n",
      "| epoch  55 |     8/   12 batches | lr 0.000329 | 137.06 ms | loss 0.06977\n",
      "| epoch  55 |    10/   12 batches | lr 0.000329 | 137.02 ms | loss 0.05063\n",
      "| epoch  55 |    12/   12 batches | lr 0.000329 | 96.20 ms | loss 0.08287\n",
      "-----------------------------------------------------------------------------------------\n",
      "| end of epoch  55 | time:  1.83s |\n",
      "-----------------------------------------------------------------------------------------\n"
     ]
    },
    {
     "name": "stderr",
     "output_type": "stream",
     "text": [
      "/home/rodrigo/home-hd/Anaconda/envs/pytorch/lib/python3.8/site-packages/torch/optim/lr_scheduler.py:369: UserWarning: To get the last learning rate computed by the scheduler, please use `get_last_lr()`.\n",
      "  warnings.warn(\"To get the last learning rate computed by the scheduler, \"\n"
     ]
    },
    {
     "name": "stdout",
     "output_type": "stream",
     "text": [
      "| epoch  56 |     2/   12 batches | lr 0.000323 | 202.44 ms | loss 0.09135\n",
      "| epoch  56 |     4/   12 batches | lr 0.000323 | 137.93 ms | loss 0.05487\n",
      "| epoch  56 |     6/   12 batches | lr 0.000323 | 137.18 ms | loss 0.06445\n",
      "| epoch  56 |     8/   12 batches | lr 0.000323 | 134.99 ms | loss 0.08956\n",
      "| epoch  56 |    10/   12 batches | lr 0.000323 | 137.26 ms | loss 0.05857\n",
      "| epoch  56 |    12/   12 batches | lr 0.000323 | 99.38 ms | loss 0.06066\n",
      "-----------------------------------------------------------------------------------------\n",
      "| end of epoch  56 | time:  1.85s |\n",
      "-----------------------------------------------------------------------------------------\n"
     ]
    },
    {
     "name": "stderr",
     "output_type": "stream",
     "text": [
      "/home/rodrigo/home-hd/Anaconda/envs/pytorch/lib/python3.8/site-packages/torch/optim/lr_scheduler.py:369: UserWarning: To get the last learning rate computed by the scheduler, please use `get_last_lr()`.\n",
      "  warnings.warn(\"To get the last learning rate computed by the scheduler, \"\n"
     ]
    },
    {
     "name": "stdout",
     "output_type": "stream",
     "text": [
      "| epoch  57 |     2/   12 batches | lr 0.000316 | 200.71 ms | loss 0.09969\n",
      "| epoch  57 |     4/   12 batches | lr 0.000316 | 142.99 ms | loss 0.07622\n",
      "| epoch  57 |     6/   12 batches | lr 0.000316 | 137.73 ms | loss 0.03532\n",
      "| epoch  57 |     8/   12 batches | lr 0.000316 | 134.54 ms | loss 0.07098\n",
      "| epoch  57 |    10/   12 batches | lr 0.000316 | 134.36 ms | loss 0.07794\n",
      "| epoch  57 |    12/   12 batches | lr 0.000316 | 96.15 ms | loss 0.02955\n",
      "-----------------------------------------------------------------------------------------\n",
      "| end of epoch  57 | time:  1.85s |\n",
      "-----------------------------------------------------------------------------------------\n"
     ]
    },
    {
     "name": "stderr",
     "output_type": "stream",
     "text": [
      "/home/rodrigo/home-hd/Anaconda/envs/pytorch/lib/python3.8/site-packages/torch/optim/lr_scheduler.py:369: UserWarning: To get the last learning rate computed by the scheduler, please use `get_last_lr()`.\n",
      "  warnings.warn(\"To get the last learning rate computed by the scheduler, \"\n"
     ]
    },
    {
     "name": "stdout",
     "output_type": "stream",
     "text": [
      "| epoch  58 |     2/   12 batches | lr 0.000310 | 199.73 ms | loss 0.05741\n",
      "| epoch  58 |     4/   12 batches | lr 0.000310 | 137.72 ms | loss 0.02949\n",
      "| epoch  58 |     6/   12 batches | lr 0.000310 | 135.35 ms | loss 0.05125\n",
      "| epoch  58 |     8/   12 batches | lr 0.000310 | 134.84 ms | loss 0.03423\n",
      "| epoch  58 |    10/   12 batches | lr 0.000310 | 134.34 ms | loss 0.07361\n",
      "| epoch  58 |    12/   12 batches | lr 0.000310 | 98.75 ms | loss 0.01823\n",
      "-----------------------------------------------------------------------------------------\n",
      "| end of epoch  58 | time:  1.83s |\n",
      "-----------------------------------------------------------------------------------------\n"
     ]
    },
    {
     "name": "stderr",
     "output_type": "stream",
     "text": [
      "/home/rodrigo/home-hd/Anaconda/envs/pytorch/lib/python3.8/site-packages/torch/optim/lr_scheduler.py:369: UserWarning: To get the last learning rate computed by the scheduler, please use `get_last_lr()`.\n",
      "  warnings.warn(\"To get the last learning rate computed by the scheduler, \"\n"
     ]
    },
    {
     "name": "stdout",
     "output_type": "stream",
     "text": [
      "| epoch  59 |     2/   12 batches | lr 0.000304 | 200.50 ms | loss 0.07391\n",
      "| epoch  59 |     4/   12 batches | lr 0.000304 | 141.23 ms | loss 0.08254\n",
      "| epoch  59 |     6/   12 batches | lr 0.000304 | 138.65 ms | loss 0.05724\n",
      "| epoch  59 |     8/   12 batches | lr 0.000304 | 138.95 ms | loss 0.02364\n",
      "| epoch  59 |    10/   12 batches | lr 0.000304 | 135.06 ms | loss 0.02811\n",
      "| epoch  59 |    12/   12 batches | lr 0.000304 | 96.19 ms | loss 0.05090\n",
      "-----------------------------------------------------------------------------------------\n",
      "| end of epoch  59 | time:  1.85s |\n",
      "-----------------------------------------------------------------------------------------\n"
     ]
    },
    {
     "name": "stderr",
     "output_type": "stream",
     "text": [
      "/home/rodrigo/home-hd/Anaconda/envs/pytorch/lib/python3.8/site-packages/torch/optim/lr_scheduler.py:369: UserWarning: To get the last learning rate computed by the scheduler, please use `get_last_lr()`.\n",
      "  warnings.warn(\"To get the last learning rate computed by the scheduler, \"\n"
     ]
    },
    {
     "name": "stdout",
     "output_type": "stream",
     "text": [
      "| epoch  60 |     2/   12 batches | lr 0.000298 | 200.53 ms | loss 0.05212\n",
      "| epoch  60 |     4/   12 batches | lr 0.000298 | 141.55 ms | loss 0.04429\n",
      "| epoch  60 |     6/   12 batches | lr 0.000298 | 137.96 ms | loss 0.05135\n",
      "| epoch  60 |     8/   12 batches | lr 0.000298 | 139.38 ms | loss 0.01689\n",
      "| epoch  60 |    10/   12 batches | lr 0.000298 | 135.10 ms | loss 0.02902\n",
      "| epoch  60 |    12/   12 batches | lr 0.000298 | 96.23 ms | loss 0.02750\n",
      "-----------------------------------------------------------------------------------------\n",
      "| end of epoch  60 | time:  1.85s |\n",
      "-----------------------------------------------------------------------------------------\n"
     ]
    },
    {
     "name": "stderr",
     "output_type": "stream",
     "text": [
      "/home/rodrigo/home-hd/Anaconda/envs/pytorch/lib/python3.8/site-packages/torch/optim/lr_scheduler.py:369: UserWarning: To get the last learning rate computed by the scheduler, please use `get_last_lr()`.\n",
      "  warnings.warn(\"To get the last learning rate computed by the scheduler, \"\n"
     ]
    },
    {
     "name": "stdout",
     "output_type": "stream",
     "text": [
      "| epoch  61 |     2/   12 batches | lr 0.000292 | 201.14 ms | loss 0.05792\n",
      "| epoch  61 |     4/   12 batches | lr 0.000292 | 137.05 ms | loss 0.01912\n",
      "| epoch  61 |     6/   12 batches | lr 0.000292 | 134.33 ms | loss 0.02308\n",
      "| epoch  61 |     8/   12 batches | lr 0.000292 | 137.90 ms | loss 0.01963\n",
      "| epoch  61 |    10/   12 batches | lr 0.000292 | 136.12 ms | loss 0.02709\n",
      "| epoch  61 |    12/   12 batches | lr 0.000292 | 96.40 ms | loss 0.04822\n",
      "-----------------------------------------------------------------------------------------\n",
      "| end of epoch  61 | time:  1.84s |\n",
      "-----------------------------------------------------------------------------------------\n"
     ]
    },
    {
     "name": "stderr",
     "output_type": "stream",
     "text": [
      "/home/rodrigo/home-hd/Anaconda/envs/pytorch/lib/python3.8/site-packages/torch/optim/lr_scheduler.py:369: UserWarning: To get the last learning rate computed by the scheduler, please use `get_last_lr()`.\n",
      "  warnings.warn(\"To get the last learning rate computed by the scheduler, \"\n"
     ]
    },
    {
     "name": "stdout",
     "output_type": "stream",
     "text": [
      "| epoch  62 |     2/   12 batches | lr 0.000286 | 203.14 ms | loss 0.11035\n",
      "| epoch  62 |     4/   12 batches | lr 0.000286 | 135.49 ms | loss 0.03559\n",
      "| epoch  62 |     6/   12 batches | lr 0.000286 | 134.87 ms | loss 0.01554\n",
      "| epoch  62 |     8/   12 batches | lr 0.000286 | 134.45 ms | loss 0.03044\n",
      "| epoch  62 |    10/   12 batches | lr 0.000286 | 142.18 ms | loss 0.05692\n",
      "| epoch  62 |    12/   12 batches | lr 0.000286 | 99.04 ms | loss 0.07123\n",
      "-----------------------------------------------------------------------------------------\n",
      "| end of epoch  62 | time:  1.85s |\n",
      "-----------------------------------------------------------------------------------------\n"
     ]
    },
    {
     "name": "stderr",
     "output_type": "stream",
     "text": [
      "/home/rodrigo/home-hd/Anaconda/envs/pytorch/lib/python3.8/site-packages/torch/optim/lr_scheduler.py:369: UserWarning: To get the last learning rate computed by the scheduler, please use `get_last_lr()`.\n",
      "  warnings.warn(\"To get the last learning rate computed by the scheduler, \"\n"
     ]
    },
    {
     "name": "stdout",
     "output_type": "stream",
     "text": [
      "| epoch  63 |     2/   12 batches | lr 0.000280 | 198.13 ms | loss 0.06876\n",
      "| epoch  63 |     4/   12 batches | lr 0.000280 | 134.71 ms | loss 0.03399\n",
      "| epoch  63 |     6/   12 batches | lr 0.000280 | 137.62 ms | loss 0.04380\n",
      "| epoch  63 |     8/   12 batches | lr 0.000280 | 134.65 ms | loss 0.02288\n",
      "| epoch  63 |    10/   12 batches | lr 0.000280 | 137.84 ms | loss 0.01590\n",
      "| epoch  63 |    12/   12 batches | lr 0.000280 | 99.96 ms | loss 0.04433\n",
      "-----------------------------------------------------------------------------------------\n",
      "| end of epoch  63 | time:  1.84s |\n",
      "-----------------------------------------------------------------------------------------\n"
     ]
    },
    {
     "name": "stderr",
     "output_type": "stream",
     "text": [
      "/home/rodrigo/home-hd/Anaconda/envs/pytorch/lib/python3.8/site-packages/torch/optim/lr_scheduler.py:369: UserWarning: To get the last learning rate computed by the scheduler, please use `get_last_lr()`.\n",
      "  warnings.warn(\"To get the last learning rate computed by the scheduler, \"\n"
     ]
    },
    {
     "name": "stdout",
     "output_type": "stream",
     "text": [
      "| epoch  64 |     2/   12 batches | lr 0.000274 | 198.00 ms | loss 0.06571\n",
      "| epoch  64 |     4/   12 batches | lr 0.000274 | 141.16 ms | loss 0.18245\n",
      "| epoch  64 |     6/   12 batches | lr 0.000274 | 136.94 ms | loss 0.06340\n",
      "| epoch  64 |     8/   12 batches | lr 0.000274 | 137.14 ms | loss 0.10822\n",
      "| epoch  64 |    10/   12 batches | lr 0.000274 | 134.20 ms | loss 0.18259\n",
      "| epoch  64 |    12/   12 batches | lr 0.000274 | 99.65 ms | loss 0.04228\n",
      "-----------------------------------------------------------------------------------------\n",
      "| end of epoch  64 | time:  1.85s |\n",
      "-----------------------------------------------------------------------------------------\n"
     ]
    },
    {
     "name": "stderr",
     "output_type": "stream",
     "text": [
      "/home/rodrigo/home-hd/Anaconda/envs/pytorch/lib/python3.8/site-packages/torch/optim/lr_scheduler.py:369: UserWarning: To get the last learning rate computed by the scheduler, please use `get_last_lr()`.\n",
      "  warnings.warn(\"To get the last learning rate computed by the scheduler, \"\n"
     ]
    },
    {
     "name": "stdout",
     "output_type": "stream",
     "text": [
      "| epoch  65 |     2/   12 batches | lr 0.000269 | 199.26 ms | loss 0.33732\n",
      "| epoch  65 |     4/   12 batches | lr 0.000269 | 144.22 ms | loss 0.03181\n",
      "| epoch  65 |     6/   12 batches | lr 0.000269 | 134.70 ms | loss 0.05746\n",
      "| epoch  65 |     8/   12 batches | lr 0.000269 | 138.11 ms | loss 0.09898\n",
      "| epoch  65 |    10/   12 batches | lr 0.000269 | 134.46 ms | loss 0.20276\n",
      "| epoch  65 |    12/   12 batches | lr 0.000269 | 96.29 ms | loss 0.02235\n",
      "-----------------------------------------------------------------------------------------\n",
      "| end of epoch  65 | time:  1.84s |\n",
      "-----------------------------------------------------------------------------------------\n"
     ]
    },
    {
     "name": "stderr",
     "output_type": "stream",
     "text": [
      "/home/rodrigo/home-hd/Anaconda/envs/pytorch/lib/python3.8/site-packages/torch/optim/lr_scheduler.py:369: UserWarning: To get the last learning rate computed by the scheduler, please use `get_last_lr()`.\n",
      "  warnings.warn(\"To get the last learning rate computed by the scheduler, \"\n"
     ]
    },
    {
     "name": "stdout",
     "output_type": "stream",
     "text": [
      "| epoch  66 |     2/   12 batches | lr 0.000264 | 205.16 ms | loss 0.24099\n",
      "| epoch  66 |     4/   12 batches | lr 0.000264 | 142.15 ms | loss 0.14714\n",
      "| epoch  66 |     6/   12 batches | lr 0.000264 | 134.45 ms | loss 0.05257\n",
      "| epoch  66 |     8/   12 batches | lr 0.000264 | 137.88 ms | loss 0.06951\n",
      "| epoch  66 |    10/   12 batches | lr 0.000264 | 134.37 ms | loss 0.10763\n",
      "| epoch  66 |    12/   12 batches | lr 0.000264 | 96.44 ms | loss 0.04910\n",
      "-----------------------------------------------------------------------------------------\n",
      "| end of epoch  66 | time:  1.86s |\n",
      "-----------------------------------------------------------------------------------------\n"
     ]
    },
    {
     "name": "stderr",
     "output_type": "stream",
     "text": [
      "/home/rodrigo/home-hd/Anaconda/envs/pytorch/lib/python3.8/site-packages/torch/optim/lr_scheduler.py:369: UserWarning: To get the last learning rate computed by the scheduler, please use `get_last_lr()`.\n",
      "  warnings.warn(\"To get the last learning rate computed by the scheduler, \"\n"
     ]
    },
    {
     "name": "stdout",
     "output_type": "stream",
     "text": [
      "| epoch  67 |     2/   12 batches | lr 0.000258 | 201.05 ms | loss 0.08539\n",
      "| epoch  67 |     4/   12 batches | lr 0.000258 | 142.99 ms | loss 0.04779\n",
      "| epoch  67 |     6/   12 batches | lr 0.000258 | 134.36 ms | loss 0.07082\n",
      "| epoch  67 |     8/   12 batches | lr 0.000258 | 137.06 ms | loss 0.03396\n",
      "| epoch  67 |    10/   12 batches | lr 0.000258 | 137.21 ms | loss 0.04568\n",
      "| epoch  67 |    12/   12 batches | lr 0.000258 | 96.23 ms | loss 0.03920\n",
      "-----------------------------------------------------------------------------------------\n",
      "| end of epoch  67 | time:  1.85s |\n",
      "-----------------------------------------------------------------------------------------\n"
     ]
    },
    {
     "name": "stderr",
     "output_type": "stream",
     "text": [
      "/home/rodrigo/home-hd/Anaconda/envs/pytorch/lib/python3.8/site-packages/torch/optim/lr_scheduler.py:369: UserWarning: To get the last learning rate computed by the scheduler, please use `get_last_lr()`.\n",
      "  warnings.warn(\"To get the last learning rate computed by the scheduler, \"\n"
     ]
    },
    {
     "name": "stdout",
     "output_type": "stream",
     "text": [
      "| epoch  68 |     2/   12 batches | lr 0.000253 | 198.09 ms | loss 0.05280\n",
      "| epoch  68 |     4/   12 batches | lr 0.000253 | 139.58 ms | loss 0.04623\n",
      "| epoch  68 |     6/   12 batches | lr 0.000253 | 135.04 ms | loss 0.01541\n",
      "| epoch  68 |     8/   12 batches | lr 0.000253 | 136.95 ms | loss 0.03358\n",
      "| epoch  68 |    10/   12 batches | lr 0.000253 | 136.84 ms | loss 0.03000\n",
      "| epoch  68 |    12/   12 batches | lr 0.000253 | 96.14 ms | loss 0.04937\n",
      "-----------------------------------------------------------------------------------------\n",
      "| end of epoch  68 | time:  1.84s |\n",
      "-----------------------------------------------------------------------------------------\n"
     ]
    },
    {
     "name": "stderr",
     "output_type": "stream",
     "text": [
      "/home/rodrigo/home-hd/Anaconda/envs/pytorch/lib/python3.8/site-packages/torch/optim/lr_scheduler.py:369: UserWarning: To get the last learning rate computed by the scheduler, please use `get_last_lr()`.\n",
      "  warnings.warn(\"To get the last learning rate computed by the scheduler, \"\n"
     ]
    },
    {
     "name": "stdout",
     "output_type": "stream",
     "text": [
      "| epoch  69 |     2/   12 batches | lr 0.000248 | 198.52 ms | loss 0.10909\n",
      "| epoch  69 |     4/   12 batches | lr 0.000248 | 134.92 ms | loss 0.01448\n",
      "| epoch  69 |     6/   12 batches | lr 0.000248 | 143.81 ms | loss 0.02871\n",
      "| epoch  69 |     8/   12 batches | lr 0.000248 | 134.30 ms | loss 0.01470\n",
      "| epoch  69 |    10/   12 batches | lr 0.000248 | 134.32 ms | loss 0.02468\n",
      "| epoch  69 |    12/   12 batches | lr 0.000248 | 98.84 ms | loss 0.04107\n",
      "-----------------------------------------------------------------------------------------\n",
      "| end of epoch  69 | time:  1.84s |\n",
      "-----------------------------------------------------------------------------------------\n"
     ]
    },
    {
     "name": "stderr",
     "output_type": "stream",
     "text": [
      "/home/rodrigo/home-hd/Anaconda/envs/pytorch/lib/python3.8/site-packages/torch/optim/lr_scheduler.py:369: UserWarning: To get the last learning rate computed by the scheduler, please use `get_last_lr()`.\n",
      "  warnings.warn(\"To get the last learning rate computed by the scheduler, \"\n"
     ]
    },
    {
     "name": "stdout",
     "output_type": "stream",
     "text": [
      "| epoch  70 |     2/   12 batches | lr 0.000243 | 198.12 ms | loss 0.02100\n",
      "| epoch  70 |     4/   12 batches | lr 0.000243 | 138.01 ms | loss 0.05368\n",
      "| epoch  70 |     6/   12 batches | lr 0.000243 | 138.64 ms | loss 0.02159\n",
      "| epoch  70 |     8/   12 batches | lr 0.000243 | 137.27 ms | loss 0.02296\n",
      "| epoch  70 |    10/   12 batches | lr 0.000243 | 134.85 ms | loss 0.02148\n",
      "| epoch  70 |    12/   12 batches | lr 0.000243 | 96.35 ms | loss 0.04914\n",
      "-----------------------------------------------------------------------------------------\n",
      "| end of epoch  70 | time:  1.84s |\n",
      "-----------------------------------------------------------------------------------------\n"
     ]
    },
    {
     "name": "stderr",
     "output_type": "stream",
     "text": [
      "/home/rodrigo/home-hd/Anaconda/envs/pytorch/lib/python3.8/site-packages/torch/optim/lr_scheduler.py:369: UserWarning: To get the last learning rate computed by the scheduler, please use `get_last_lr()`.\n",
      "  warnings.warn(\"To get the last learning rate computed by the scheduler, \"\n"
     ]
    },
    {
     "name": "stdout",
     "output_type": "stream",
     "text": [
      "| epoch  71 |     2/   12 batches | lr 0.000238 | 199.07 ms | loss 0.01543\n",
      "| epoch  71 |     4/   12 batches | lr 0.000238 | 145.35 ms | loss 0.05168\n",
      "| epoch  71 |     6/   12 batches | lr 0.000238 | 140.27 ms | loss 0.04961\n",
      "| epoch  71 |     8/   12 batches | lr 0.000238 | 134.42 ms | loss 0.03845\n",
      "| epoch  71 |    10/   12 batches | lr 0.000238 | 138.52 ms | loss 0.02318\n",
      "| epoch  71 |    12/   12 batches | lr 0.000238 | 98.92 ms | loss 0.03341\n",
      "-----------------------------------------------------------------------------------------\n",
      "| end of epoch  71 | time:  1.87s |\n",
      "-----------------------------------------------------------------------------------------\n"
     ]
    },
    {
     "name": "stderr",
     "output_type": "stream",
     "text": [
      "/home/rodrigo/home-hd/Anaconda/envs/pytorch/lib/python3.8/site-packages/torch/optim/lr_scheduler.py:369: UserWarning: To get the last learning rate computed by the scheduler, please use `get_last_lr()`.\n",
      "  warnings.warn(\"To get the last learning rate computed by the scheduler, \"\n"
     ]
    },
    {
     "name": "stdout",
     "output_type": "stream",
     "text": [
      "| epoch  72 |     2/   12 batches | lr 0.000233 | 201.40 ms | loss 0.01591\n",
      "| epoch  72 |     4/   12 batches | lr 0.000233 | 134.37 ms | loss 0.02777\n",
      "| epoch  72 |     6/   12 batches | lr 0.000233 | 134.41 ms | loss 0.04412\n",
      "| epoch  72 |     8/   12 batches | lr 0.000233 | 138.18 ms | loss 0.03249\n",
      "| epoch  72 |    10/   12 batches | lr 0.000233 | 136.94 ms | loss 0.03176\n",
      "| epoch  72 |    12/   12 batches | lr 0.000233 | 99.54 ms | loss 0.01760\n",
      "-----------------------------------------------------------------------------------------\n",
      "| end of epoch  72 | time:  1.84s |\n",
      "-----------------------------------------------------------------------------------------\n"
     ]
    },
    {
     "name": "stderr",
     "output_type": "stream",
     "text": [
      "/home/rodrigo/home-hd/Anaconda/envs/pytorch/lib/python3.8/site-packages/torch/optim/lr_scheduler.py:369: UserWarning: To get the last learning rate computed by the scheduler, please use `get_last_lr()`.\n",
      "  warnings.warn(\"To get the last learning rate computed by the scheduler, \"\n"
     ]
    },
    {
     "name": "stdout",
     "output_type": "stream",
     "text": [
      "| epoch  73 |     2/   12 batches | lr 0.000229 | 200.85 ms | loss 0.02326\n",
      "| epoch  73 |     4/   12 batches | lr 0.000229 | 134.48 ms | loss 0.08293\n",
      "| epoch  73 |     6/   12 batches | lr 0.000229 | 136.75 ms | loss 0.03938\n",
      "| epoch  73 |     8/   12 batches | lr 0.000229 | 134.46 ms | loss 0.03927\n",
      "| epoch  73 |    10/   12 batches | lr 0.000229 | 136.75 ms | loss 0.01548\n",
      "| epoch  73 |    12/   12 batches | lr 0.000229 | 96.14 ms | loss 0.01980\n",
      "-----------------------------------------------------------------------------------------\n",
      "| end of epoch  73 | time:  1.84s |\n",
      "-----------------------------------------------------------------------------------------\n"
     ]
    },
    {
     "name": "stderr",
     "output_type": "stream",
     "text": [
      "/home/rodrigo/home-hd/Anaconda/envs/pytorch/lib/python3.8/site-packages/torch/optim/lr_scheduler.py:369: UserWarning: To get the last learning rate computed by the scheduler, please use `get_last_lr()`.\n",
      "  warnings.warn(\"To get the last learning rate computed by the scheduler, \"\n"
     ]
    },
    {
     "name": "stdout",
     "output_type": "stream",
     "text": [
      "| epoch  74 |     2/   12 batches | lr 0.000224 | 200.39 ms | loss 0.02124\n",
      "| epoch  74 |     4/   12 batches | lr 0.000224 | 136.88 ms | loss 0.03672\n",
      "| epoch  74 |     6/   12 batches | lr 0.000224 | 134.42 ms | loss 0.01511\n",
      "| epoch  74 |     8/   12 batches | lr 0.000224 | 134.30 ms | loss 0.02965\n",
      "| epoch  74 |    10/   12 batches | lr 0.000224 | 137.03 ms | loss 0.01415\n",
      "| epoch  74 |    12/   12 batches | lr 0.000224 | 96.30 ms | loss 0.02011\n",
      "-----------------------------------------------------------------------------------------\n",
      "| end of epoch  74 | time:  1.83s |\n",
      "-----------------------------------------------------------------------------------------\n"
     ]
    },
    {
     "name": "stderr",
     "output_type": "stream",
     "text": [
      "/home/rodrigo/home-hd/Anaconda/envs/pytorch/lib/python3.8/site-packages/torch/optim/lr_scheduler.py:369: UserWarning: To get the last learning rate computed by the scheduler, please use `get_last_lr()`.\n",
      "  warnings.warn(\"To get the last learning rate computed by the scheduler, \"\n"
     ]
    },
    {
     "name": "stdout",
     "output_type": "stream",
     "text": [
      "| epoch  75 |     2/   12 batches | lr 0.000220 | 202.11 ms | loss 0.05818\n",
      "| epoch  75 |     4/   12 batches | lr 0.000220 | 137.39 ms | loss 0.01803\n",
      "| epoch  75 |     6/   12 batches | lr 0.000220 | 134.93 ms | loss 0.01477\n",
      "| epoch  75 |     8/   12 batches | lr 0.000220 | 134.41 ms | loss 0.06043\n",
      "| epoch  75 |    10/   12 batches | lr 0.000220 | 137.94 ms | loss 0.01579\n",
      "| epoch  75 |    12/   12 batches | lr 0.000220 | 98.80 ms | loss 0.01219\n",
      "-----------------------------------------------------------------------------------------\n",
      "| end of epoch  75 | time:  1.84s |\n",
      "-----------------------------------------------------------------------------------------\n"
     ]
    },
    {
     "name": "stderr",
     "output_type": "stream",
     "text": [
      "/home/rodrigo/home-hd/Anaconda/envs/pytorch/lib/python3.8/site-packages/torch/optim/lr_scheduler.py:369: UserWarning: To get the last learning rate computed by the scheduler, please use `get_last_lr()`.\n",
      "  warnings.warn(\"To get the last learning rate computed by the scheduler, \"\n"
     ]
    },
    {
     "name": "stdout",
     "output_type": "stream",
     "text": [
      "| epoch  76 |     2/   12 batches | lr 0.000215 | 201.37 ms | loss 0.01712\n",
      "| epoch  76 |     4/   12 batches | lr 0.000215 | 134.95 ms | loss 0.02813\n",
      "| epoch  76 |     6/   12 batches | lr 0.000215 | 136.89 ms | loss 0.01264\n",
      "| epoch  76 |     8/   12 batches | lr 0.000215 | 134.73 ms | loss 0.05654\n",
      "| epoch  76 |    10/   12 batches | lr 0.000215 | 136.91 ms | loss 0.01365\n",
      "| epoch  76 |    12/   12 batches | lr 0.000215 | 96.31 ms | loss 0.04277\n",
      "-----------------------------------------------------------------------------------------\n",
      "| end of epoch  76 | time:  1.83s |\n",
      "-----------------------------------------------------------------------------------------\n"
     ]
    },
    {
     "name": "stderr",
     "output_type": "stream",
     "text": [
      "/home/rodrigo/home-hd/Anaconda/envs/pytorch/lib/python3.8/site-packages/torch/optim/lr_scheduler.py:369: UserWarning: To get the last learning rate computed by the scheduler, please use `get_last_lr()`.\n",
      "  warnings.warn(\"To get the last learning rate computed by the scheduler, \"\n"
     ]
    },
    {
     "name": "stdout",
     "output_type": "stream",
     "text": [
      "| epoch  77 |     2/   12 batches | lr 0.000211 | 198.41 ms | loss 0.01319\n",
      "| epoch  77 |     4/   12 batches | lr 0.000211 | 144.72 ms | loss 0.01835\n",
      "| epoch  77 |     6/   12 batches | lr 0.000211 | 138.13 ms | loss 0.02554\n",
      "| epoch  77 |     8/   12 batches | lr 0.000211 | 137.64 ms | loss 0.02010\n",
      "| epoch  77 |    10/   12 batches | lr 0.000211 | 134.38 ms | loss 0.02649\n",
      "| epoch  77 |    12/   12 batches | lr 0.000211 | 96.06 ms | loss 0.01175\n",
      "-----------------------------------------------------------------------------------------\n",
      "| end of epoch  77 | time:  1.85s |\n",
      "-----------------------------------------------------------------------------------------\n"
     ]
    },
    {
     "name": "stderr",
     "output_type": "stream",
     "text": [
      "/home/rodrigo/home-hd/Anaconda/envs/pytorch/lib/python3.8/site-packages/torch/optim/lr_scheduler.py:369: UserWarning: To get the last learning rate computed by the scheduler, please use `get_last_lr()`.\n",
      "  warnings.warn(\"To get the last learning rate computed by the scheduler, \"\n"
     ]
    },
    {
     "name": "stdout",
     "output_type": "stream",
     "text": [
      "| epoch  78 |     2/   12 batches | lr 0.000207 | 201.14 ms | loss 0.02818\n",
      "| epoch  78 |     4/   12 batches | lr 0.000207 | 134.58 ms | loss 0.02743\n",
      "| epoch  78 |     6/   12 batches | lr 0.000207 | 139.46 ms | loss 0.01333\n",
      "| epoch  78 |     8/   12 batches | lr 0.000207 | 137.10 ms | loss 0.02471\n",
      "| epoch  78 |    10/   12 batches | lr 0.000207 | 134.97 ms | loss 0.02462\n",
      "| epoch  78 |    12/   12 batches | lr 0.000207 | 96.25 ms | loss 0.00698\n",
      "-----------------------------------------------------------------------------------------\n",
      "| end of epoch  78 | time:  1.84s |\n",
      "-----------------------------------------------------------------------------------------\n"
     ]
    },
    {
     "name": "stderr",
     "output_type": "stream",
     "text": [
      "/home/rodrigo/home-hd/Anaconda/envs/pytorch/lib/python3.8/site-packages/torch/optim/lr_scheduler.py:369: UserWarning: To get the last learning rate computed by the scheduler, please use `get_last_lr()`.\n",
      "  warnings.warn(\"To get the last learning rate computed by the scheduler, \"\n"
     ]
    },
    {
     "name": "stdout",
     "output_type": "stream",
     "text": [
      "| epoch  79 |     2/   12 batches | lr 0.000203 | 203.23 ms | loss 0.01991\n",
      "| epoch  79 |     4/   12 batches | lr 0.000203 | 134.51 ms | loss 0.01761\n",
      "| epoch  79 |     6/   12 batches | lr 0.000203 | 134.61 ms | loss 0.01596\n",
      "| epoch  79 |     8/   12 batches | lr 0.000203 | 140.26 ms | loss 0.01803\n",
      "| epoch  79 |    10/   12 batches | lr 0.000203 | 134.69 ms | loss 0.01273\n",
      "| epoch  79 |    12/   12 batches | lr 0.000203 | 96.26 ms | loss 0.00801\n",
      "-----------------------------------------------------------------------------------------\n",
      "| end of epoch  79 | time:  1.84s |\n",
      "-----------------------------------------------------------------------------------------\n"
     ]
    },
    {
     "name": "stderr",
     "output_type": "stream",
     "text": [
      "/home/rodrigo/home-hd/Anaconda/envs/pytorch/lib/python3.8/site-packages/torch/optim/lr_scheduler.py:369: UserWarning: To get the last learning rate computed by the scheduler, please use `get_last_lr()`.\n",
      "  warnings.warn(\"To get the last learning rate computed by the scheduler, \"\n"
     ]
    },
    {
     "name": "stdout",
     "output_type": "stream",
     "text": [
      "| epoch  80 |     2/   12 batches | lr 0.000199 | 203.74 ms | loss 0.06287\n",
      "| epoch  80 |     4/   12 batches | lr 0.000199 | 142.56 ms | loss 0.02376\n",
      "| epoch  80 |     6/   12 batches | lr 0.000199 | 134.57 ms | loss 0.00826\n",
      "| epoch  80 |     8/   12 batches | lr 0.000199 | 136.06 ms | loss 0.01247\n",
      "| epoch  80 |    10/   12 batches | lr 0.000199 | 140.64 ms | loss 0.01754\n",
      "| epoch  80 |    12/   12 batches | lr 0.000199 | 97.91 ms | loss 0.02861\n",
      "-----------------------------------------------------------------------------------------\n",
      "| end of epoch  80 | time:  1.86s |\n",
      "-----------------------------------------------------------------------------------------\n"
     ]
    },
    {
     "name": "stderr",
     "output_type": "stream",
     "text": [
      "/home/rodrigo/home-hd/Anaconda/envs/pytorch/lib/python3.8/site-packages/torch/optim/lr_scheduler.py:369: UserWarning: To get the last learning rate computed by the scheduler, please use `get_last_lr()`.\n",
      "  warnings.warn(\"To get the last learning rate computed by the scheduler, \"\n"
     ]
    },
    {
     "name": "stdout",
     "output_type": "stream",
     "text": [
      "| epoch  81 |     2/   12 batches | lr 0.000195 | 201.05 ms | loss 0.02518\n",
      "| epoch  81 |     4/   12 batches | lr 0.000195 | 136.05 ms | loss 0.00909\n",
      "| epoch  81 |     6/   12 batches | lr 0.000195 | 134.39 ms | loss 0.03330\n",
      "| epoch  81 |     8/   12 batches | lr 0.000195 | 136.92 ms | loss 0.03790\n",
      "| epoch  81 |    10/   12 batches | lr 0.000195 | 137.67 ms | loss 0.01799\n",
      "| epoch  81 |    12/   12 batches | lr 0.000195 | 97.47 ms | loss 0.02508\n",
      "-----------------------------------------------------------------------------------------\n",
      "| end of epoch  81 | time:  1.84s |\n",
      "-----------------------------------------------------------------------------------------\n"
     ]
    },
    {
     "name": "stderr",
     "output_type": "stream",
     "text": [
      "/home/rodrigo/home-hd/Anaconda/envs/pytorch/lib/python3.8/site-packages/torch/optim/lr_scheduler.py:369: UserWarning: To get the last learning rate computed by the scheduler, please use `get_last_lr()`.\n",
      "  warnings.warn(\"To get the last learning rate computed by the scheduler, \"\n"
     ]
    },
    {
     "name": "stdout",
     "output_type": "stream",
     "text": [
      "| epoch  82 |     2/   12 batches | lr 0.000191 | 198.54 ms | loss 0.07496\n",
      "| epoch  82 |     4/   12 batches | lr 0.000191 | 134.37 ms | loss 0.00705\n",
      "| epoch  82 |     6/   12 batches | lr 0.000191 | 138.70 ms | loss 0.01607\n",
      "| epoch  82 |     8/   12 batches | lr 0.000191 | 134.50 ms | loss 0.00658\n",
      "| epoch  82 |    10/   12 batches | lr 0.000191 | 134.30 ms | loss 0.03160\n",
      "| epoch  82 |    12/   12 batches | lr 0.000191 | 96.73 ms | loss 0.01016\n",
      "-----------------------------------------------------------------------------------------\n",
      "| end of epoch  82 | time:  1.83s |\n",
      "-----------------------------------------------------------------------------------------\n"
     ]
    },
    {
     "name": "stderr",
     "output_type": "stream",
     "text": [
      "/home/rodrigo/home-hd/Anaconda/envs/pytorch/lib/python3.8/site-packages/torch/optim/lr_scheduler.py:369: UserWarning: To get the last learning rate computed by the scheduler, please use `get_last_lr()`.\n",
      "  warnings.warn(\"To get the last learning rate computed by the scheduler, \"\n"
     ]
    },
    {
     "name": "stdout",
     "output_type": "stream",
     "text": [
      "| epoch  83 |     2/   12 batches | lr 0.000187 | 198.58 ms | loss 0.02144\n",
      "| epoch  83 |     4/   12 batches | lr 0.000187 | 144.29 ms | loss 0.02421\n",
      "| epoch  83 |     6/   12 batches | lr 0.000187 | 138.15 ms | loss 0.02507\n",
      "| epoch  83 |     8/   12 batches | lr 0.000187 | 134.45 ms | loss 0.01906\n",
      "| epoch  83 |    10/   12 batches | lr 0.000187 | 134.41 ms | loss 0.04113\n",
      "| epoch  83 |    12/   12 batches | lr 0.000187 | 99.24 ms | loss 0.00661\n",
      "-----------------------------------------------------------------------------------------\n",
      "| end of epoch  83 | time:  1.86s |\n",
      "-----------------------------------------------------------------------------------------\n"
     ]
    },
    {
     "name": "stderr",
     "output_type": "stream",
     "text": [
      "/home/rodrigo/home-hd/Anaconda/envs/pytorch/lib/python3.8/site-packages/torch/optim/lr_scheduler.py:369: UserWarning: To get the last learning rate computed by the scheduler, please use `get_last_lr()`.\n",
      "  warnings.warn(\"To get the last learning rate computed by the scheduler, \"\n"
     ]
    },
    {
     "name": "stdout",
     "output_type": "stream",
     "text": [
      "| epoch  84 |     2/   12 batches | lr 0.000183 | 201.42 ms | loss 0.01414\n",
      "| epoch  84 |     4/   12 batches | lr 0.000183 | 134.21 ms | loss 0.01650\n",
      "| epoch  84 |     6/   12 batches | lr 0.000183 | 134.80 ms | loss 0.01738\n",
      "| epoch  84 |     8/   12 batches | lr 0.000183 | 137.08 ms | loss 0.02534\n",
      "| epoch  84 |    10/   12 batches | lr 0.000183 | 135.00 ms | loss 0.01232\n",
      "| epoch  84 |    12/   12 batches | lr 0.000183 | 98.90 ms | loss 0.02095\n",
      "-----------------------------------------------------------------------------------------\n",
      "| end of epoch  84 | time:  1.84s |\n",
      "-----------------------------------------------------------------------------------------\n"
     ]
    },
    {
     "name": "stderr",
     "output_type": "stream",
     "text": [
      "/home/rodrigo/home-hd/Anaconda/envs/pytorch/lib/python3.8/site-packages/torch/optim/lr_scheduler.py:369: UserWarning: To get the last learning rate computed by the scheduler, please use `get_last_lr()`.\n",
      "  warnings.warn(\"To get the last learning rate computed by the scheduler, \"\n"
     ]
    },
    {
     "name": "stdout",
     "output_type": "stream",
     "text": [
      "| epoch  85 |     2/   12 batches | lr 0.000180 | 204.28 ms | loss 0.02218\n",
      "| epoch  85 |     4/   12 batches | lr 0.000180 | 135.12 ms | loss 0.02875\n",
      "| epoch  85 |     6/   12 batches | lr 0.000180 | 135.01 ms | loss 0.03318\n",
      "| epoch  85 |     8/   12 batches | lr 0.000180 | 137.58 ms | loss 0.02029\n",
      "| epoch  85 |    10/   12 batches | lr 0.000180 | 137.52 ms | loss 0.00454\n",
      "| epoch  85 |    12/   12 batches | lr 0.000180 | 96.16 ms | loss 0.00404\n",
      "-----------------------------------------------------------------------------------------\n",
      "| end of epoch  85 | time:  1.84s |\n",
      "-----------------------------------------------------------------------------------------\n"
     ]
    },
    {
     "name": "stderr",
     "output_type": "stream",
     "text": [
      "/home/rodrigo/home-hd/Anaconda/envs/pytorch/lib/python3.8/site-packages/torch/optim/lr_scheduler.py:369: UserWarning: To get the last learning rate computed by the scheduler, please use `get_last_lr()`.\n",
      "  warnings.warn(\"To get the last learning rate computed by the scheduler, \"\n"
     ]
    },
    {
     "name": "stdout",
     "output_type": "stream",
     "text": [
      "| epoch  86 |     2/   12 batches | lr 0.000176 | 200.98 ms | loss 0.03390\n",
      "| epoch  86 |     4/   12 batches | lr 0.000176 | 135.63 ms | loss 0.01747\n",
      "| epoch  86 |     6/   12 batches | lr 0.000176 | 135.06 ms | loss 0.01009\n",
      "| epoch  86 |     8/   12 batches | lr 0.000176 | 138.06 ms | loss 0.01861\n",
      "| epoch  86 |    10/   12 batches | lr 0.000176 | 137.05 ms | loss 0.00473\n",
      "| epoch  86 |    12/   12 batches | lr 0.000176 | 96.23 ms | loss 0.01561\n",
      "-----------------------------------------------------------------------------------------\n",
      "| end of epoch  86 | time:  1.84s |\n",
      "-----------------------------------------------------------------------------------------\n"
     ]
    },
    {
     "name": "stderr",
     "output_type": "stream",
     "text": [
      "/home/rodrigo/home-hd/Anaconda/envs/pytorch/lib/python3.8/site-packages/torch/optim/lr_scheduler.py:369: UserWarning: To get the last learning rate computed by the scheduler, please use `get_last_lr()`.\n",
      "  warnings.warn(\"To get the last learning rate computed by the scheduler, \"\n"
     ]
    },
    {
     "name": "stdout",
     "output_type": "stream",
     "text": [
      "| epoch  87 |     2/   12 batches | lr 0.000172 | 198.06 ms | loss 0.01723\n",
      "| epoch  87 |     4/   12 batches | lr 0.000172 | 139.63 ms | loss 0.00951\n",
      "| epoch  87 |     6/   12 batches | lr 0.000172 | 135.93 ms | loss 0.01036\n",
      "| epoch  87 |     8/   12 batches | lr 0.000172 | 134.42 ms | loss 0.02295\n",
      "| epoch  87 |    10/   12 batches | lr 0.000172 | 136.17 ms | loss 0.01953\n",
      "| epoch  87 |    12/   12 batches | lr 0.000172 | 96.84 ms | loss 0.01484\n",
      "-----------------------------------------------------------------------------------------\n",
      "| end of epoch  87 | time:  1.83s |\n",
      "-----------------------------------------------------------------------------------------\n"
     ]
    },
    {
     "name": "stderr",
     "output_type": "stream",
     "text": [
      "/home/rodrigo/home-hd/Anaconda/envs/pytorch/lib/python3.8/site-packages/torch/optim/lr_scheduler.py:369: UserWarning: To get the last learning rate computed by the scheduler, please use `get_last_lr()`.\n",
      "  warnings.warn(\"To get the last learning rate computed by the scheduler, \"\n"
     ]
    },
    {
     "name": "stdout",
     "output_type": "stream",
     "text": [
      "| epoch  88 |     2/   12 batches | lr 0.000169 | 201.03 ms | loss 0.02967\n",
      "| epoch  88 |     4/   12 batches | lr 0.000169 | 137.40 ms | loss 0.00892\n",
      "| epoch  88 |     6/   12 batches | lr 0.000169 | 134.48 ms | loss 0.01031\n",
      "| epoch  88 |     8/   12 batches | lr 0.000169 | 137.32 ms | loss 0.03433\n",
      "| epoch  88 |    10/   12 batches | lr 0.000169 | 134.52 ms | loss 0.00834\n",
      "| epoch  88 |    12/   12 batches | lr 0.000169 | 98.95 ms | loss 0.00677\n",
      "-----------------------------------------------------------------------------------------\n",
      "| end of epoch  88 | time:  1.85s |\n",
      "-----------------------------------------------------------------------------------------\n"
     ]
    },
    {
     "name": "stderr",
     "output_type": "stream",
     "text": [
      "/home/rodrigo/home-hd/Anaconda/envs/pytorch/lib/python3.8/site-packages/torch/optim/lr_scheduler.py:369: UserWarning: To get the last learning rate computed by the scheduler, please use `get_last_lr()`.\n",
      "  warnings.warn(\"To get the last learning rate computed by the scheduler, \"\n"
     ]
    },
    {
     "name": "stdout",
     "output_type": "stream",
     "text": [
      "| epoch  89 |     2/   12 batches | lr 0.000166 | 197.89 ms | loss 0.00983\n",
      "| epoch  89 |     4/   12 batches | lr 0.000166 | 136.14 ms | loss 0.01364\n",
      "| epoch  89 |     6/   12 batches | lr 0.000166 | 137.02 ms | loss 0.01394\n",
      "| epoch  89 |     8/   12 batches | lr 0.000166 | 134.82 ms | loss 0.04773\n",
      "| epoch  89 |    10/   12 batches | lr 0.000166 | 139.76 ms | loss 0.01464\n",
      "| epoch  89 |    12/   12 batches | lr 0.000166 | 96.45 ms | loss 0.00434\n",
      "-----------------------------------------------------------------------------------------\n",
      "| end of epoch  89 | time:  1.84s |\n",
      "-----------------------------------------------------------------------------------------\n"
     ]
    },
    {
     "name": "stderr",
     "output_type": "stream",
     "text": [
      "/home/rodrigo/home-hd/Anaconda/envs/pytorch/lib/python3.8/site-packages/torch/optim/lr_scheduler.py:369: UserWarning: To get the last learning rate computed by the scheduler, please use `get_last_lr()`.\n",
      "  warnings.warn(\"To get the last learning rate computed by the scheduler, \"\n"
     ]
    },
    {
     "name": "stdout",
     "output_type": "stream",
     "text": [
      "| epoch  90 |     2/   12 batches | lr 0.000162 | 198.73 ms | loss 0.01131\n",
      "| epoch  90 |     4/   12 batches | lr 0.000162 | 134.21 ms | loss 0.01174\n",
      "| epoch  90 |     6/   12 batches | lr 0.000162 | 134.73 ms | loss 0.01006\n",
      "| epoch  90 |     8/   12 batches | lr 0.000162 | 138.38 ms | loss 0.01709\n",
      "| epoch  90 |    10/   12 batches | lr 0.000162 | 136.38 ms | loss 0.01378\n",
      "| epoch  90 |    12/   12 batches | lr 0.000162 | 96.41 ms | loss 0.01903\n",
      "-----------------------------------------------------------------------------------------\n",
      "| end of epoch  90 | time:  1.83s |\n",
      "-----------------------------------------------------------------------------------------\n"
     ]
    },
    {
     "name": "stderr",
     "output_type": "stream",
     "text": [
      "/home/rodrigo/home-hd/Anaconda/envs/pytorch/lib/python3.8/site-packages/torch/optim/lr_scheduler.py:369: UserWarning: To get the last learning rate computed by the scheduler, please use `get_last_lr()`.\n",
      "  warnings.warn(\"To get the last learning rate computed by the scheduler, \"\n"
     ]
    },
    {
     "name": "stdout",
     "output_type": "stream",
     "text": [
      "| epoch  91 |     2/   12 batches | lr 0.000159 | 200.65 ms | loss 0.02305\n",
      "| epoch  91 |     4/   12 batches | lr 0.000159 | 134.35 ms | loss 0.00429\n",
      "| epoch  91 |     6/   12 batches | lr 0.000159 | 138.71 ms | loss 0.00395\n",
      "| epoch  91 |     8/   12 batches | lr 0.000159 | 138.11 ms | loss 0.02755\n",
      "| epoch  91 |    10/   12 batches | lr 0.000159 | 135.07 ms | loss 0.01223\n",
      "| epoch  91 |    12/   12 batches | lr 0.000159 | 99.68 ms | loss 0.00470\n",
      "-----------------------------------------------------------------------------------------\n",
      "| end of epoch  91 | time:  1.85s |\n",
      "-----------------------------------------------------------------------------------------\n"
     ]
    },
    {
     "name": "stderr",
     "output_type": "stream",
     "text": [
      "/home/rodrigo/home-hd/Anaconda/envs/pytorch/lib/python3.8/site-packages/torch/optim/lr_scheduler.py:369: UserWarning: To get the last learning rate computed by the scheduler, please use `get_last_lr()`.\n",
      "  warnings.warn(\"To get the last learning rate computed by the scheduler, \"\n"
     ]
    },
    {
     "name": "stdout",
     "output_type": "stream",
     "text": [
      "| epoch  92 |     2/   12 batches | lr 0.000156 | 204.02 ms | loss 0.01644\n",
      "| epoch  92 |     4/   12 batches | lr 0.000156 | 135.59 ms | loss 0.00622\n",
      "| epoch  92 |     6/   12 batches | lr 0.000156 | 134.93 ms | loss 0.01154\n",
      "| epoch  92 |     8/   12 batches | lr 0.000156 | 134.38 ms | loss 0.01052\n",
      "| epoch  92 |    10/   12 batches | lr 0.000156 | 137.65 ms | loss 0.02338\n",
      "| epoch  92 |    12/   12 batches | lr 0.000156 | 96.25 ms | loss 0.04735\n",
      "-----------------------------------------------------------------------------------------\n",
      "| end of epoch  92 | time:  1.84s |\n",
      "-----------------------------------------------------------------------------------------\n"
     ]
    },
    {
     "name": "stderr",
     "output_type": "stream",
     "text": [
      "/home/rodrigo/home-hd/Anaconda/envs/pytorch/lib/python3.8/site-packages/torch/optim/lr_scheduler.py:369: UserWarning: To get the last learning rate computed by the scheduler, please use `get_last_lr()`.\n",
      "  warnings.warn(\"To get the last learning rate computed by the scheduler, \"\n"
     ]
    },
    {
     "name": "stdout",
     "output_type": "stream",
     "text": [
      "| epoch  93 |     2/   12 batches | lr 0.000153 | 204.62 ms | loss 0.03536\n",
      "| epoch  93 |     4/   12 batches | lr 0.000153 | 137.04 ms | loss 0.00519\n",
      "| epoch  93 |     6/   12 batches | lr 0.000153 | 134.42 ms | loss 0.00402\n",
      "| epoch  93 |     8/   12 batches | lr 0.000153 | 134.60 ms | loss 0.00434\n",
      "| epoch  93 |    10/   12 batches | lr 0.000153 | 137.45 ms | loss 0.01773\n",
      "| epoch  93 |    12/   12 batches | lr 0.000153 | 97.32 ms | loss 0.01481\n",
      "-----------------------------------------------------------------------------------------\n",
      "| end of epoch  93 | time:  1.84s |\n",
      "-----------------------------------------------------------------------------------------\n"
     ]
    },
    {
     "name": "stderr",
     "output_type": "stream",
     "text": [
      "/home/rodrigo/home-hd/Anaconda/envs/pytorch/lib/python3.8/site-packages/torch/optim/lr_scheduler.py:369: UserWarning: To get the last learning rate computed by the scheduler, please use `get_last_lr()`.\n",
      "  warnings.warn(\"To get the last learning rate computed by the scheduler, \"\n"
     ]
    },
    {
     "name": "stdout",
     "output_type": "stream",
     "text": [
      "| epoch  94 |     2/   12 batches | lr 0.000150 | 201.19 ms | loss 0.03345\n",
      "| epoch  94 |     4/   12 batches | lr 0.000150 | 135.56 ms | loss 0.01050\n",
      "| epoch  94 |     6/   12 batches | lr 0.000150 | 134.37 ms | loss 0.01080\n",
      "| epoch  94 |     8/   12 batches | lr 0.000150 | 134.97 ms | loss 0.00399\n",
      "| epoch  94 |    10/   12 batches | lr 0.000150 | 138.11 ms | loss 0.01116\n",
      "| epoch  94 |    12/   12 batches | lr 0.000150 | 98.76 ms | loss 0.00890\n",
      "-----------------------------------------------------------------------------------------\n",
      "| end of epoch  94 | time:  1.84s |\n",
      "-----------------------------------------------------------------------------------------\n"
     ]
    },
    {
     "name": "stderr",
     "output_type": "stream",
     "text": [
      "/home/rodrigo/home-hd/Anaconda/envs/pytorch/lib/python3.8/site-packages/torch/optim/lr_scheduler.py:369: UserWarning: To get the last learning rate computed by the scheduler, please use `get_last_lr()`.\n",
      "  warnings.warn(\"To get the last learning rate computed by the scheduler, \"\n"
     ]
    },
    {
     "name": "stdout",
     "output_type": "stream",
     "text": [
      "| epoch  95 |     2/   12 batches | lr 0.000147 | 198.09 ms | loss 0.02093\n",
      "| epoch  95 |     4/   12 batches | lr 0.000147 | 143.62 ms | loss 0.01250\n",
      "| epoch  95 |     6/   12 batches | lr 0.000147 | 139.59 ms | loss 0.02350\n",
      "| epoch  95 |     8/   12 batches | lr 0.000147 | 134.64 ms | loss 0.00451\n",
      "| epoch  95 |    10/   12 batches | lr 0.000147 | 134.29 ms | loss 0.01866\n",
      "| epoch  95 |    12/   12 batches | lr 0.000147 | 96.40 ms | loss 0.02626\n",
      "-----------------------------------------------------------------------------------------\n",
      "| end of epoch  95 | time:  1.85s |\n",
      "-----------------------------------------------------------------------------------------\n"
     ]
    },
    {
     "name": "stderr",
     "output_type": "stream",
     "text": [
      "/home/rodrigo/home-hd/Anaconda/envs/pytorch/lib/python3.8/site-packages/torch/optim/lr_scheduler.py:369: UserWarning: To get the last learning rate computed by the scheduler, please use `get_last_lr()`.\n",
      "  warnings.warn(\"To get the last learning rate computed by the scheduler, \"\n"
     ]
    },
    {
     "name": "stdout",
     "output_type": "stream",
     "text": [
      "| epoch  96 |     2/   12 batches | lr 0.000144 | 201.27 ms | loss 0.02456\n",
      "| epoch  96 |     4/   12 batches | lr 0.000144 | 137.08 ms | loss 0.01006\n",
      "| epoch  96 |     6/   12 batches | lr 0.000144 | 140.44 ms | loss 0.00753\n",
      "| epoch  96 |     8/   12 batches | lr 0.000144 | 134.95 ms | loss 0.00248\n",
      "| epoch  96 |    10/   12 batches | lr 0.000144 | 134.51 ms | loss 0.02076\n",
      "| epoch  96 |    12/   12 batches | lr 0.000144 | 96.38 ms | loss 0.01787\n",
      "-----------------------------------------------------------------------------------------\n",
      "| end of epoch  96 | time:  1.84s |\n",
      "-----------------------------------------------------------------------------------------\n"
     ]
    },
    {
     "name": "stderr",
     "output_type": "stream",
     "text": [
      "/home/rodrigo/home-hd/Anaconda/envs/pytorch/lib/python3.8/site-packages/torch/optim/lr_scheduler.py:369: UserWarning: To get the last learning rate computed by the scheduler, please use `get_last_lr()`.\n",
      "  warnings.warn(\"To get the last learning rate computed by the scheduler, \"\n"
     ]
    },
    {
     "name": "stdout",
     "output_type": "stream",
     "text": [
      "| epoch  97 |     2/   12 batches | lr 0.000141 | 202.72 ms | loss 0.01517\n",
      "| epoch  97 |     4/   12 batches | lr 0.000141 | 141.44 ms | loss 0.00652\n",
      "| epoch  97 |     6/   12 batches | lr 0.000141 | 139.74 ms | loss 0.00997\n",
      "| epoch  97 |     8/   12 batches | lr 0.000141 | 135.75 ms | loss 0.01388\n",
      "| epoch  97 |    10/   12 batches | lr 0.000141 | 135.10 ms | loss 0.00151\n",
      "| epoch  97 |    12/   12 batches | lr 0.000141 | 96.23 ms | loss 0.00433\n",
      "-----------------------------------------------------------------------------------------\n",
      "| end of epoch  97 | time:  1.86s |\n",
      "-----------------------------------------------------------------------------------------\n"
     ]
    },
    {
     "name": "stderr",
     "output_type": "stream",
     "text": [
      "/home/rodrigo/home-hd/Anaconda/envs/pytorch/lib/python3.8/site-packages/torch/optim/lr_scheduler.py:369: UserWarning: To get the last learning rate computed by the scheduler, please use `get_last_lr()`.\n",
      "  warnings.warn(\"To get the last learning rate computed by the scheduler, \"\n"
     ]
    },
    {
     "name": "stdout",
     "output_type": "stream",
     "text": [
      "| epoch  98 |     2/   12 batches | lr 0.000138 | 201.16 ms | loss 0.00685\n",
      "| epoch  98 |     4/   12 batches | lr 0.000138 | 134.83 ms | loss 0.00584\n",
      "| epoch  98 |     6/   12 batches | lr 0.000138 | 134.48 ms | loss 0.00415\n",
      "| epoch  98 |     8/   12 batches | lr 0.000138 | 137.53 ms | loss 0.00463\n",
      "| epoch  98 |    10/   12 batches | lr 0.000138 | 137.98 ms | loss 0.00350\n",
      "| epoch  98 |    12/   12 batches | lr 0.000138 | 96.21 ms | loss 0.00951\n",
      "-----------------------------------------------------------------------------------------\n",
      "| end of epoch  98 | time:  1.83s |\n",
      "-----------------------------------------------------------------------------------------\n"
     ]
    },
    {
     "name": "stderr",
     "output_type": "stream",
     "text": [
      "/home/rodrigo/home-hd/Anaconda/envs/pytorch/lib/python3.8/site-packages/torch/optim/lr_scheduler.py:369: UserWarning: To get the last learning rate computed by the scheduler, please use `get_last_lr()`.\n",
      "  warnings.warn(\"To get the last learning rate computed by the scheduler, \"\n"
     ]
    },
    {
     "name": "stdout",
     "output_type": "stream",
     "text": [
      "| epoch  99 |     2/   12 batches | lr 0.000135 | 197.96 ms | loss 0.00734\n",
      "| epoch  99 |     4/   12 batches | lr 0.000135 | 137.24 ms | loss 0.01308\n",
      "| epoch  99 |     6/   12 batches | lr 0.000135 | 134.52 ms | loss 0.00553\n",
      "| epoch  99 |     8/   12 batches | lr 0.000135 | 137.06 ms | loss 0.01336\n",
      "| epoch  99 |    10/   12 batches | lr 0.000135 | 141.11 ms | loss 0.00671\n",
      "| epoch  99 |    12/   12 batches | lr 0.000135 | 96.26 ms | loss 0.01275\n",
      "-----------------------------------------------------------------------------------------\n",
      "| end of epoch  99 | time:  1.84s |\n",
      "-----------------------------------------------------------------------------------------\n"
     ]
    },
    {
     "name": "stderr",
     "output_type": "stream",
     "text": [
      "/home/rodrigo/home-hd/Anaconda/envs/pytorch/lib/python3.8/site-packages/torch/optim/lr_scheduler.py:369: UserWarning: To get the last learning rate computed by the scheduler, please use `get_last_lr()`.\n",
      "  warnings.warn(\"To get the last learning rate computed by the scheduler, \"\n"
     ]
    },
    {
     "name": "stdout",
     "output_type": "stream",
     "text": [
      "| epoch 100 |     2/   12 batches | lr 0.000133 | 201.05 ms | loss 0.01198\n",
      "| epoch 100 |     4/   12 batches | lr 0.000133 | 135.22 ms | loss 0.02621\n",
      "| epoch 100 |     6/   12 batches | lr 0.000133 | 137.15 ms | loss 0.00638\n",
      "| epoch 100 |     8/   12 batches | lr 0.000133 | 134.89 ms | loss 0.01928\n",
      "| epoch 100 |    10/   12 batches | lr 0.000133 | 134.90 ms | loss 0.00580\n",
      "| epoch 100 |    12/   12 batches | lr 0.000133 | 100.74 ms | loss 0.00784\n",
      "-----------------------------------------------------------------------------------------\n",
      "| end of epoch 100 | time:  1.84s |\n",
      "-----------------------------------------------------------------------------------------\n"
     ]
    }
   ],
   "source": [
    "seed_torch()\n",
    "criterion = torch.nn.CrossEntropyLoss()\n",
    "optimizer = torch.optim.Adam(model.parameters(), lr=1e-03)\n",
    "scheduler = torch.optim.lr_scheduler.StepLR(optimizer, 1.0, gamma=0.98)\n",
    "loss, val_loss, acc, val_acc =  train(model, 100, batch_size, train_loader, criterion,\n",
    "      optimizer, scheduler, set_size, test_loader)"
   ]
  },
  {
   "cell_type": "code",
   "execution_count": 22,
   "id": "ee9f5e52",
   "metadata": {},
   "outputs": [
    {
     "data": {
      "text/plain": [
       "Text(0, 0.5, 'Erro')"
      ]
     },
     "execution_count": 22,
     "metadata": {},
     "output_type": "execute_result"
    },
    {
     "data": {
      "image/png": "[encoded data removed]",
      "text/plain": [
       "<Figure size 432x288 with 1 Axes>"
      ]
     },
     "metadata": {
      "needs_background": "light"
     },
     "output_type": "display_data"
    }
   ],
   "source": [
    "plt.figure(figsize=(6, 4))\n",
    "plt.plot(loss, label='treino', linestyle='dashed', marker='^')\n",
    "plt.plot(val_loss, label='validação', linestyle='dashed', marker='v')\n",
    "plt.legend()\n",
    "plt.title(\"Erro por epoca de treinamento\")\n",
    "plt.xlabel(\"Épocas\")\n",
    "plt.ylabel(\"Erro\")"
   ]
  },
  {
   "cell_type": "code",
   "execution_count": 23,
   "id": "d0973b86",
   "metadata": {},
   "outputs": [
    {
     "data": {
      "text/plain": [
       "Text(0, 0.5, 'Acurácia (%)')"
      ]
     },
     "execution_count": 23,
     "metadata": {},
     "output_type": "execute_result"
    },
    {
     "data": {
      "image/png": "[encoded data removed]",
      "text/plain": [
       "<Figure size 432x288 with 1 Axes>"
      ]
     },
     "metadata": {
      "needs_background": "light"
     },
     "output_type": "display_data"
    }
   ],
   "source": [
    "plt.figure(figsize=(6, 4))\n",
    "plt.plot(acc, label='treino', linestyle='dashed', marker='^')\n",
    "plt.plot(val_acc, label='validação', linestyle='dashed', marker='v')\n",
    "plt.legend()\n",
    "plt.title(\"Acurácia vs epoca de treinamento\")\n",
    "plt.xlabel(\"Épocas\")\n",
    "plt.ylabel(\"Acurácia (%)\")"
   ]
  },
  {
   "cell_type": "code",
   "execution_count": 24,
   "id": "e098fc88",
   "metadata": {},
   "outputs": [],
   "source": [
    "\n",
    "predictions = torch.tensor([]).to(device)\n",
    "ground_truth = torch.tensor([]).to(device)\n",
    "for batch in test_loader:\n",
    "    data, targets = batch[0], batch[1] # next(iter(test_loader))\n",
    "    data = Variable(torch.Tensor(data.float())).to(device)\n",
    "    targets = Variable(torch.Tensor(targets.float())).to(device)\n",
    "    output = model(data)\n",
    "    loss = criterion(output, torch.flatten(targets.long()))\n",
    "\n",
    "predictions = torch.cat((predictions, output), 0)\n",
    "ground_truth = torch.cat((ground_truth, targets), 0)"
   ]
  },
  {
   "cell_type": "code",
   "execution_count": 25,
   "id": "0e489c8f",
   "metadata": {},
   "outputs": [],
   "source": [
    "predictions = predictions.cpu().detach().numpy()\n",
    "predictions = np.argmax(predictions, axis=1).reshape(predictions.shape[0], 1)\n",
    "ground_truth = ground_truth.cpu().cpu().detach().numpy()"
   ]
  },
  {
   "cell_type": "code",
   "execution_count": 26,
   "id": "31efff9d",
   "metadata": {},
   "outputs": [
    {
     "data": {
      "image/png": "[encoded data removed]",
      "text/plain": [
       "<Figure size 720x504 with 2 Axes>"
      ]
     },
     "metadata": {
      "needs_background": "light"
     },
     "output_type": "display_data"
    }
   ],
   "source": [
    "conf_mtx = confusion_matrix(ground_truth, predictions)\n",
    "\n",
    "conf_df = pd.DataFrame(conf_mtx, index = [i for i in range(5)],\n",
    "                  columns = [i for i in range(5)])\n",
    "plt.figure(figsize = (10,7))\n",
    "\n",
    "labels = [name[2:-4] for name in listdir(feat_dir+'/train')]\n",
    "sns.heatmap(conf_df, cmap=sns.cm.rocket_r, square=True, \n",
    "            linewidths=0.1, annot=True, fmt='d', annot_kws={\"fontsize\": 8},\n",
    "           xticklabels=labels, yticklabels=labels)  \n",
    "plt.show()"
   ]
  },
  {
   "cell_type": "code",
   "execution_count": 27,
   "id": "e05bbb87",
   "metadata": {},
   "outputs": [
    {
     "name": "stdout",
     "output_type": "stream",
     "text": [
      " Acc:\t 0.720\n"
     ]
    }
   ],
   "source": [
    "acc = accuracy_score(ground_truth, predictions)\n",
    "print(f' Acc:\\t {acc:.3f}')"
   ]
  },
  {
   "cell_type": "code",
   "execution_count": null,
   "id": "a180426e",
   "metadata": {},
   "outputs": [],
   "source": []
  }
 ],
 "metadata": {
  "kernelspec": {
   "display_name": "Python 3",
   "language": "python",
   "name": "python3"
  },
  "language_info": {
   "codemirror_mode": {
    "name": "ipython",
    "version": 3
   },
   "file_extension": ".py",
   "mimetype": "text/x-python",
   "name": "python",
   "nbconvert_exporter": "python",
   "pygments_lexer": "ipython3",
   "version": "3.8.8"
  }
 },
 "nbformat": 4,
 "nbformat_minor": 5
}
