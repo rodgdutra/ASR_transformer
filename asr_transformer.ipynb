{
 "cells": [
  {
   "cell_type": "code",
   "execution_count": 1,
   "id": "b62ac3d5",
   "metadata": {},
   "outputs": [],
   "source": [
    "import numpy as np\n",
    "import struct\n",
    "import torch\n",
    "import torch.nn as nn\n",
    "import matplotlib.pyplot as plt\n",
    "import time\n",
    "import pandas as pd\n",
    "import seaborn as sns\n",
    "from torch.autograd import Variable\n",
    "from torch.utils.data import DataLoader, Dataset\n",
    "from os import listdir\n",
    "from os.path import isfile, join\n",
    "from sklearn.preprocessing import StandardScaler, MinMaxScaler\n",
    "from sklearn.metrics import confusion_matrix, accuracy_score\n",
    "from transformer.model import TransformerTimeSeries"
   ]
  },
  {
   "cell_type": "markdown",
   "id": "5f8bb6f9",
   "metadata": {},
   "source": [
    "### Automatic speach recognition with neural networks\n",
    "This notebook uses MFCC pre-prossesing to generate acoustic features to the neural network, and then the neural network can be trained and tested. The baseline consists into HNNs. \n",
    "\n",
    "The dataset utilized in this notebook is the speach commands datasets from tensorflow. As this dataset comes with a lot of words and a lots of examples, we choose to simplify this notebook example by focusing in the following words: cat, dog, happy, house and zero. The training set consists into 25 examples of each word, and the testing set consists into 5 new examples of each word.\n",
    "\n",
    "All the pre-prossecing is made by the spock: . Using this software the user can process WAV files and output the processed acoustic features in `.FEA` files. Then the neural network can receive this accoustic features and output the class that corresponds to the right word. "
   ]
  },
  {
   "cell_type": "markdown",
   "id": "f895ab5d",
   "metadata": {},
   "source": [
    "### The first step consists into reading the FEA files"
   ]
  },
  {
   "cell_type": "code",
   "execution_count": 2,
   "id": "87a64780",
   "metadata": {},
   "outputs": [],
   "source": [
    "feat_dir = './output_test/mfcceda39w240s80/features'"
   ]
  },
  {
   "cell_type": "code",
   "execution_count": 3,
   "id": "dd1a3361",
   "metadata": {},
   "outputs": [],
   "source": [
    "def fea_to_samples(filename):\n",
    "    # Discard the header with 2048 bytes that yield 512 floats\n",
    "    feat_array = np.fromfile(filename, dtype='>f') [512:]\n",
    "    num_of_paterns = feat_array[0]\n",
    "    space_dimension = feat_array[1]\n",
    "    \n",
    "    res = []\n",
    "    # Jump the first 2 floats\n",
    "    i_s = 2\n",
    "    total_frames = []\n",
    "    for pat in range(int(num_of_paterns)):\n",
    "        # Feature Extraction\n",
    "        n_frames = feat_array[i_s]\n",
    "        total_frames.append(n_frames) \n",
    "        i_e = space_dimension*n_frames + i_s + 1  \n",
    "        feat = feat_array[i_s+1: int(i_e)].tolist()\n",
    "        i_s = int(i_e)\n",
    "        res.append(feat)\n",
    "    \n",
    "    assert(i_e == len(feat_array))\n",
    "    \n",
    "    # Convert the feature patterns to a np matrix, padding according \n",
    "    # to the biggest entry\n",
    "    max_dim = max([len(row) for row in res])\n",
    "    res_np = np.zeros((int(num_of_paterns), max_dim))\n",
    "    \n",
    "    for pat in range(int(num_of_paterns)):\n",
    "        vec_len = len(res[pat])\n",
    "        res_np[pat][:vec_len] = res[pat] \n",
    "    \n",
    "    return res_np,(max(total_frames), space_dimension)"
   ]
  },
  {
   "cell_type": "markdown",
   "id": "52e332db",
   "metadata": {},
   "source": [
    "### After reading the FEA files we can organize the network input and desireble output\n",
    "In this supervised learning probblem we must organize matrices that will serve as input or features, and other that will be the desired output or label."
   ]
  },
  {
   "cell_type": "code",
   "execution_count": 4,
   "id": "4a122ccc",
   "metadata": {},
   "outputs": [],
   "source": [
    "def generate_xy_matrices(feat_dir):\n",
    "    files = listdir(feat_dir)\n",
    "    labels = [name[2:-4] for name in listdir(feat_dir)]\n",
    "    x_matrix, shape = fea_to_samples(feat_dir+ '/' +files[0])\n",
    "\n",
    "    y_matrix = np.zeros((x_matrix.shape[0], 1))\n",
    "    y_matrix[:,0] = 0\n",
    "    for file_i in range(1,len(files)):\n",
    "        x_i, _ = fea_to_samples(feat_dir + '/' + files[file_i])\n",
    "        y_i = np.zeros((x_i.shape[0], 1))\n",
    "        y_i[:,0] = file_i\n",
    "        x_matrix = np.concatenate((x_matrix, x_i))\n",
    "        y_matrix = np.concatenate((y_matrix, y_i))\n",
    "\n",
    "    return x_matrix, y_matrix, shape"
   ]
  },
  {
   "cell_type": "markdown",
   "id": "601faacd",
   "metadata": {},
   "source": [
    "### After that we must organize our dataset object\n",
    "As we are using the Pytorch stack, it is recommended to use the Dataset class to organize the entry and output samples of training and test sets. "
   ]
  },
  {
   "cell_type": "code",
   "execution_count": 5,
   "id": "6329e0a6",
   "metadata": {},
   "outputs": [],
   "source": [
    "class MfcSet(Dataset):\n",
    "    def __init__(self,\n",
    "                 x_matrix,\n",
    "                 y_matrix,\n",
    "                 shape,\n",
    "                std_scaler=None,\n",
    "                min_max_scaler=None):\n",
    "        \n",
    "        if std_scaler==None:\n",
    "            # Standard scaling\n",
    "            std_scaler = StandardScaler()\n",
    "            std_scaler.fit(x_matrix)\n",
    "        x_matrix = std_scaler.transform(x_matrix)\n",
    "        print(x_matrix.shape)\n",
    "       \n",
    "#         if min_max_scaler == None:\n",
    "#             # Min max scaling\n",
    "#             min_max_scaler = MinMaxScaler(feature_range=(-1, 1))\n",
    "#             min_max_scaler.fit(x_matrix)\n",
    "#         x_matrix = min_max_scaler.transform(x_matrix)\n",
    "        \n",
    "        shape = (int(shape[0]), int(shape[1]))\n",
    "        self.X = x_matrix.reshape((x_matrix.shape[0], shape[0], shape[1]))\n",
    "        self.y = y_matrix\n",
    "        self.std_scaler = std_scaler\n",
    "#         self.min_max_scaler = min_max_scaler\n",
    "        self.x_shape = self.X.shape\n",
    "        self.y_shape = self.y.shape\n",
    "        \n",
    "    def __len__(self):\n",
    "        return len(self.X)\n",
    "\n",
    "    def __getitem__(self, idx):\n",
    "        return self.X[idx], self.y[idx]"
   ]
  },
  {
   "cell_type": "code",
   "execution_count": 6,
   "id": "12b5a66c",
   "metadata": {},
   "outputs": [],
   "source": [
    "def build_dataset(root_dir):\n",
    "    x_train, y_train, shape = generate_xy_matrices(root_dir + '/train')\n",
    "    x_test, y_test, _ = generate_xy_matrices(root_dir + '/test')\n",
    "    feat_scaler = MinMaxScaler()\n",
    "    feat_scaler.fit(x_train)\n",
    "    \n",
    "    train_set = MfcSet(x_train, y_train, shape)\n",
    "    test_set = MfcSet(x_test, y_test, shape, train_set.std_scaler) #train_set.min_max_scaler)\n",
    "    \n",
    "    return train_set, test_set"
   ]
  },
  {
   "cell_type": "markdown",
   "id": "9af1f530",
   "metadata": {},
   "source": [
    "### The multi layer perceptron network\n",
    "In this classification task, is desireble that we use a softmax activation function in the output layer, but as we are using the Pytorch stack, the loss function `CrossEntropyLoss` already apply the softmax for us. Then this is not necessary, as shown in the example bellow."
   ]
  },
  {
   "cell_type": "code",
   "execution_count": 7,
   "id": "7683b0ca",
   "metadata": {},
   "outputs": [
    {
     "name": "stdout",
     "output_type": "stream",
     "text": [
      "torch.Size([3, 5])\n",
      "torch.Size([3])\n"
     ]
    }
   ],
   "source": [
    "loss = nn.CrossEntropyLoss()\n",
    "input = torch.randn(3, 5, requires_grad=True)\n",
    "target = torch.empty(3, dtype=torch.long).random_(5)\n",
    "\n",
    "print(input.shape)\n",
    "print(target.shape)\n",
    "output = loss(input, target)\n",
    "output.backward()"
   ]
  },
  {
   "cell_type": "code",
   "execution_count": 8,
   "id": "7c78c870",
   "metadata": {
    "scrolled": true
   },
   "outputs": [
    {
     "data": {
      "text/plain": [
       "tensor([[ 0.1839, -0.9449, -0.2581,  0.0082, -1.0579],\n",
       "        [-1.9218, -0.0865,  0.1425, -1.9018,  0.8447],\n",
       "        [-1.2490, -0.9397,  2.0815, -1.3135, -0.3973]], requires_grad=True)"
      ]
     },
     "execution_count": 8,
     "metadata": {},
     "output_type": "execute_result"
    }
   ],
   "source": [
    "input"
   ]
  },
  {
   "cell_type": "code",
   "execution_count": 9,
   "id": "f9ecc0a6",
   "metadata": {
    "scrolled": true
   },
   "outputs": [
    {
     "data": {
      "text/plain": [
       "tensor([0, 2, 3])"
      ]
     },
     "execution_count": 9,
     "metadata": {},
     "output_type": "execute_result"
    }
   ],
   "source": [
    "target"
   ]
  },
  {
   "cell_type": "code",
   "execution_count": 10,
   "id": "31eff65e",
   "metadata": {},
   "outputs": [],
   "source": [
    "def train(model, epochs, batch_size, train_loader, criterion, optimizer,\n",
    "          scheduler, set_size):\n",
    "    model.train()\n",
    "    acc = []\n",
    "    loss = []\n",
    "    for epoch in range(1, epochs + 1):\n",
    "        epoch_start_time = time.time()\n",
    "        train_loss, train_acc = batch_train(model, epoch, batch_size,\n",
    "                                                train_loader, criterion,\n",
    "                                                optimizer, scheduler, set_size)\n",
    "        print('-' * 89)\n",
    "        print('| end of epoch {:3d} | time: {:5.2f}s |'.format(\n",
    "            epoch, (time.time() - epoch_start_time)))\n",
    "        print('-' * 89)\n",
    "\n",
    "        scheduler.step()\n",
    "        acc.append(train_acc)\n",
    "        loss.append(train_loss)\n",
    "\n",
    "    return loss, acc"
   ]
  },
  {
   "cell_type": "code",
   "execution_count": 11,
   "id": "36497111",
   "metadata": {},
   "outputs": [],
   "source": [
    "def batch_train(model, epoch, batch_size, train_loader, criterion, optimizer,\n",
    "                scheduler, set_size):\n",
    "    model.train()  # Turn on the train mode\n",
    "    batch_loss = 0.\n",
    "    total_loss = 0.\n",
    "    start_time = time.time()\n",
    "    predictions = torch.tensor([]).to(device)\n",
    "    ground_truth = torch.tensor([]).to(device)\n",
    "\n",
    "    for i, batch in enumerate(train_loader):\n",
    "        data, targets = batch[0], batch[1]\n",
    "        data = Variable(torch.Tensor(data.float())).to(device)\n",
    "        targets = Variable(torch.Tensor(targets.float())).to(device)\n",
    "\n",
    "        optimizer.zero_grad()\n",
    "        output = model(data)\n",
    "        loss = criterion(output, torch.flatten(targets.long()))\n",
    "        loss.backward()\n",
    "        optimizer.step()\n",
    "\n",
    "        batch_loss += loss.item()\n",
    "        total_loss += batch_loss\n",
    "        log_interval = int(set_size / batch_size / 5)\n",
    "        if i % log_interval == 0 and i > 0:\n",
    "            cur_loss = batch_loss / log_interval\n",
    "            elapsed = time.time() - start_time\n",
    "            print('| epoch {:3d} | {:5d}/{:5d} batches | '\n",
    "                  'lr {:02.6f} | {:5.2f} ms | '\n",
    "                  'loss {:5.5f}'.format(epoch, i, set_size // batch_size,\n",
    "                                        scheduler.get_lr()[0],\n",
    "                                        elapsed * 1000 / log_interval,\n",
    "                                        cur_loss))\n",
    "            batch_loss = 0\n",
    "            start_time = time.time()\n",
    "        pred = output\n",
    "        predictions = torch.cat((predictions, pred), 0)\n",
    "        ground_truth = torch.cat((ground_truth, targets), 0)\n",
    "        \n",
    "\n",
    "    predictions = predictions.cpu().detach().numpy()\n",
    "    predictions = np.argmax(predictions, axis=1).reshape(predictions.shape[0], 1)\n",
    "    ground_truth = ground_truth.cpu().cpu().detach().numpy()\n",
    "    acc = accuracy_score(ground_truth, predictions)\n",
    "    return total_loss, acc"
   ]
  },
  {
   "cell_type": "code",
   "execution_count": 12,
   "id": "a925ebc6",
   "metadata": {},
   "outputs": [
    {
     "name": "stdout",
     "output_type": "stream",
     "text": [
      "(125, 7683)\n",
      "(25, 7683)\n"
     ]
    }
   ],
   "source": [
    "batch_size = 20\n",
    "\n",
    "train_set, test_set = build_dataset(feat_dir)\n",
    "train_loader = DataLoader(train_set,\n",
    "                          batch_size=batch_size,\n",
    "                          shuffle=True)\n",
    "test_loader = DataLoader(test_set,\n",
    "                          batch_size=test_set.y_shape[0],\n",
    "                          shuffle=True)\n",
    "set_size = train_set.y_shape[0]"
   ]
  },
  {
   "cell_type": "code",
   "execution_count": 13,
   "id": "c84b6f5b",
   "metadata": {},
   "outputs": [
    {
     "data": {
      "text/plain": [
       "(125, 197, 39)"
      ]
     },
     "execution_count": 13,
     "metadata": {},
     "output_type": "execute_result"
    }
   ],
   "source": [
    "train_set.x_shape"
   ]
  },
  {
   "cell_type": "markdown",
   "id": "513801dc",
   "metadata": {},
   "source": [
    "### One example of feature and label"
   ]
  },
  {
   "cell_type": "code",
   "execution_count": 14,
   "id": "d6ed9c64",
   "metadata": {},
   "outputs": [],
   "source": [
    "feat, label = next(iter(train_set))"
   ]
  },
  {
   "cell_type": "code",
   "execution_count": 15,
   "id": "5f43d8c9",
   "metadata": {},
   "outputs": [
    {
     "data": {
      "text/plain": [
       "(197, 39)"
      ]
     },
     "execution_count": 15,
     "metadata": {},
     "output_type": "execute_result"
    }
   ],
   "source": [
    "feat.shape"
   ]
  },
  {
   "cell_type": "code",
   "execution_count": 16,
   "id": "3d38eff3",
   "metadata": {},
   "outputs": [
    {
     "data": {
      "text/plain": [
       "array([0.])"
      ]
     },
     "execution_count": 16,
     "metadata": {},
     "output_type": "execute_result"
    }
   ],
   "source": [
    "label"
   ]
  },
  {
   "cell_type": "code",
   "execution_count": 17,
   "id": "c92119d5",
   "metadata": {},
   "outputs": [],
   "source": [
    "device = torch.device('cuda' if torch.cuda.is_available() else 'cpu')\n",
    "model = TransformerTimeSeries(device,\n",
    "                              n_encoder_time_steps=197,\n",
    "                              encoder_vector_sz=39,\n",
    "                              output_vector_sz=5,\n",
    "                              d_model=100,\n",
    "                              dropout=0,).to(device)"
   ]
  },
  {
   "cell_type": "markdown",
   "id": "4091de7e",
   "metadata": {},
   "source": [
    "### Training the network"
   ]
  },
  {
   "cell_type": "code",
   "execution_count": 18,
   "id": "04cd47d2",
   "metadata": {},
   "outputs": [
    {
     "name": "stderr",
     "output_type": "stream",
     "text": [
      "/home/rodrigo/home-hd/Anaconda/envs/pytorch/lib/python3.8/site-packages/torch/optim/lr_scheduler.py:369: UserWarning: To get the last learning rate computed by the scheduler, please use `get_last_lr()`.\n",
      "  warnings.warn(\"To get the last learning rate computed by the scheduler, \"\n"
     ]
    },
    {
     "name": "stdout",
     "output_type": "stream",
     "text": [
      "| epoch   1 |     1/    6 batches | lr 0.001000 | 94.75 ms | loss 4.50203\n",
      "| epoch   1 |     2/    6 batches | lr 0.001000 | 40.42 ms | loss 1.96584\n",
      "| epoch   1 |     3/    6 batches | lr 0.001000 | 40.19 ms | loss 1.59658\n",
      "| epoch   1 |     4/    6 batches | lr 0.001000 | 43.73 ms | loss 1.55907\n",
      "| epoch   1 |     5/    6 batches | lr 0.001000 | 40.51 ms | loss 1.93594\n",
      "| epoch   1 |     6/    6 batches | lr 0.001000 | 11.67 ms | loss 1.59804\n",
      "-----------------------------------------------------------------------------------------\n",
      "| end of epoch   1 | time:  0.27s |\n",
      "-----------------------------------------------------------------------------------------\n"
     ]
    },
    {
     "name": "stderr",
     "output_type": "stream",
     "text": [
      "/home/rodrigo/home-hd/Anaconda/envs/pytorch/lib/python3.8/site-packages/torch/optim/lr_scheduler.py:369: UserWarning: To get the last learning rate computed by the scheduler, please use `get_last_lr()`.\n",
      "  warnings.warn(\"To get the last learning rate computed by the scheduler, \"\n"
     ]
    },
    {
     "name": "stdout",
     "output_type": "stream",
     "text": [
      "| epoch   2 |     1/    6 batches | lr 0.000960 | 86.26 ms | loss 3.31398\n",
      "| epoch   2 |     2/    6 batches | lr 0.000960 | 39.59 ms | loss 1.52469\n",
      "| epoch   2 |     3/    6 batches | lr 0.000960 | 44.76 ms | loss 1.64764\n",
      "| epoch   2 |     4/    6 batches | lr 0.000960 | 39.40 ms | loss 1.65395\n",
      "| epoch   2 |     5/    6 batches | lr 0.000960 | 39.48 ms | loss 1.62259\n",
      "| epoch   2 |     6/    6 batches | lr 0.000960 | 11.93 ms | loss 1.91821\n",
      "-----------------------------------------------------------------------------------------\n",
      "| end of epoch   2 | time:  0.26s |\n",
      "-----------------------------------------------------------------------------------------\n"
     ]
    },
    {
     "name": "stderr",
     "output_type": "stream",
     "text": [
      "/home/rodrigo/home-hd/Anaconda/envs/pytorch/lib/python3.8/site-packages/torch/optim/lr_scheduler.py:369: UserWarning: To get the last learning rate computed by the scheduler, please use `get_last_lr()`.\n",
      "  warnings.warn(\"To get the last learning rate computed by the scheduler, \"\n"
     ]
    },
    {
     "name": "stdout",
     "output_type": "stream",
     "text": [
      "| epoch   3 |     1/    6 batches | lr 0.000941 | 94.79 ms | loss 3.14375\n",
      "| epoch   3 |     2/    6 batches | lr 0.000941 | 39.47 ms | loss 1.45406\n",
      "| epoch   3 |     3/    6 batches | lr 0.000941 | 39.35 ms | loss 1.52922\n",
      "| epoch   3 |     4/    6 batches | lr 0.000941 | 39.43 ms | loss 1.50221\n",
      "| epoch   3 |     5/    6 batches | lr 0.000941 | 39.41 ms | loss 1.60372\n",
      "| epoch   3 |     6/    6 batches | lr 0.000941 | 11.74 ms | loss 1.45157\n",
      "-----------------------------------------------------------------------------------------\n",
      "| end of epoch   3 | time:  0.27s |\n",
      "-----------------------------------------------------------------------------------------\n"
     ]
    },
    {
     "name": "stderr",
     "output_type": "stream",
     "text": [
      "/home/rodrigo/home-hd/Anaconda/envs/pytorch/lib/python3.8/site-packages/torch/optim/lr_scheduler.py:369: UserWarning: To get the last learning rate computed by the scheduler, please use `get_last_lr()`.\n",
      "  warnings.warn(\"To get the last learning rate computed by the scheduler, \"\n"
     ]
    },
    {
     "name": "stdout",
     "output_type": "stream",
     "text": [
      "| epoch   4 |     1/    6 batches | lr 0.000922 | 86.87 ms | loss 2.92728\n",
      "| epoch   4 |     2/    6 batches | lr 0.000922 | 39.42 ms | loss 1.61876\n",
      "| epoch   4 |     3/    6 batches | lr 0.000922 | 39.37 ms | loss 1.38284\n",
      "| epoch   4 |     4/    6 batches | lr 0.000922 | 39.77 ms | loss 1.47969\n",
      "| epoch   4 |     5/    6 batches | lr 0.000922 | 44.46 ms | loss 1.36907\n",
      "| epoch   4 |     6/    6 batches | lr 0.000922 | 11.75 ms | loss 1.54310\n",
      "-----------------------------------------------------------------------------------------\n",
      "| end of epoch   4 | time:  0.26s |\n",
      "-----------------------------------------------------------------------------------------\n"
     ]
    },
    {
     "name": "stderr",
     "output_type": "stream",
     "text": [
      "/home/rodrigo/home-hd/Anaconda/envs/pytorch/lib/python3.8/site-packages/torch/optim/lr_scheduler.py:369: UserWarning: To get the last learning rate computed by the scheduler, please use `get_last_lr()`.\n",
      "  warnings.warn(\"To get the last learning rate computed by the scheduler, \"\n"
     ]
    },
    {
     "name": "stdout",
     "output_type": "stream",
     "text": [
      "| epoch   5 |     1/    6 batches | lr 0.000904 | 86.40 ms | loss 2.84357\n",
      "| epoch   5 |     2/    6 batches | lr 0.000904 | 39.41 ms | loss 1.36449\n",
      "| epoch   5 |     3/    6 batches | lr 0.000904 | 44.39 ms | loss 1.35914\n",
      "| epoch   5 |     4/    6 batches | lr 0.000904 | 39.44 ms | loss 1.22122\n",
      "| epoch   5 |     5/    6 batches | lr 0.000904 | 39.43 ms | loss 1.54812\n",
      "| epoch   5 |     6/    6 batches | lr 0.000904 | 11.81 ms | loss 1.29656\n",
      "-----------------------------------------------------------------------------------------\n",
      "| end of epoch   5 | time:  0.26s |\n",
      "-----------------------------------------------------------------------------------------\n"
     ]
    },
    {
     "name": "stderr",
     "output_type": "stream",
     "text": [
      "/home/rodrigo/home-hd/Anaconda/envs/pytorch/lib/python3.8/site-packages/torch/optim/lr_scheduler.py:369: UserWarning: To get the last learning rate computed by the scheduler, please use `get_last_lr()`.\n",
      "  warnings.warn(\"To get the last learning rate computed by the scheduler, \"\n"
     ]
    },
    {
     "name": "stdout",
     "output_type": "stream",
     "text": [
      "| epoch   6 |     1/    6 batches | lr 0.000886 | 89.98 ms | loss 2.47802\n",
      "| epoch   6 |     2/    6 batches | lr 0.000886 | 40.09 ms | loss 1.21881\n",
      "| epoch   6 |     3/    6 batches | lr 0.000886 | 39.39 ms | loss 1.40932\n",
      "| epoch   6 |     4/    6 batches | lr 0.000886 | 39.38 ms | loss 1.37982\n",
      "| epoch   6 |     5/    6 batches | lr 0.000886 | 39.43 ms | loss 1.21909\n",
      "| epoch   6 |     6/    6 batches | lr 0.000886 | 11.72 ms | loss 1.17549\n",
      "-----------------------------------------------------------------------------------------\n",
      "| end of epoch   6 | time:  0.26s |\n",
      "-----------------------------------------------------------------------------------------\n"
     ]
    },
    {
     "name": "stderr",
     "output_type": "stream",
     "text": [
      "/home/rodrigo/home-hd/Anaconda/envs/pytorch/lib/python3.8/site-packages/torch/optim/lr_scheduler.py:369: UserWarning: To get the last learning rate computed by the scheduler, please use `get_last_lr()`.\n",
      "  warnings.warn(\"To get the last learning rate computed by the scheduler, \"\n"
     ]
    },
    {
     "name": "stdout",
     "output_type": "stream",
     "text": [
      "| epoch   7 |     1/    6 batches | lr 0.000868 | 87.14 ms | loss 2.36352\n",
      "| epoch   7 |     2/    6 batches | lr 0.000868 | 39.40 ms | loss 1.29888\n",
      "| epoch   7 |     3/    6 batches | lr 0.000868 | 39.37 ms | loss 0.90339\n",
      "| epoch   7 |     4/    6 batches | lr 0.000868 | 39.38 ms | loss 1.17503\n",
      "| epoch   7 |     5/    6 batches | lr 0.000868 | 39.34 ms | loss 0.98798\n",
      "| epoch   7 |     6/    6 batches | lr 0.000868 | 12.07 ms | loss 0.91748\n",
      "-----------------------------------------------------------------------------------------\n",
      "| end of epoch   7 | time:  0.26s |\n",
      "-----------------------------------------------------------------------------------------\n"
     ]
    },
    {
     "name": "stderr",
     "output_type": "stream",
     "text": [
      "/home/rodrigo/home-hd/Anaconda/envs/pytorch/lib/python3.8/site-packages/torch/optim/lr_scheduler.py:369: UserWarning: To get the last learning rate computed by the scheduler, please use `get_last_lr()`.\n",
      "  warnings.warn(\"To get the last learning rate computed by the scheduler, \"\n"
     ]
    },
    {
     "name": "stdout",
     "output_type": "stream",
     "text": [
      "| epoch   8 |     1/    6 batches | lr 0.000851 | 87.18 ms | loss 1.85070\n",
      "| epoch   8 |     2/    6 batches | lr 0.000851 | 39.46 ms | loss 0.96624\n",
      "| epoch   8 |     3/    6 batches | lr 0.000851 | 39.46 ms | loss 0.79044\n",
      "| epoch   8 |     4/    6 batches | lr 0.000851 | 46.36 ms | loss 0.96635\n",
      "| epoch   8 |     5/    6 batches | lr 0.000851 | 39.42 ms | loss 0.99891\n",
      "| epoch   8 |     6/    6 batches | lr 0.000851 | 11.71 ms | loss 0.75718\n",
      "-----------------------------------------------------------------------------------------\n",
      "| end of epoch   8 | time:  0.27s |\n",
      "-----------------------------------------------------------------------------------------\n"
     ]
    },
    {
     "name": "stderr",
     "output_type": "stream",
     "text": [
      "/home/rodrigo/home-hd/Anaconda/envs/pytorch/lib/python3.8/site-packages/torch/optim/lr_scheduler.py:369: UserWarning: To get the last learning rate computed by the scheduler, please use `get_last_lr()`.\n",
      "  warnings.warn(\"To get the last learning rate computed by the scheduler, \"\n"
     ]
    },
    {
     "name": "stdout",
     "output_type": "stream",
     "text": [
      "| epoch   9 |     1/    6 batches | lr 0.000834 | 96.33 ms | loss 1.59692\n",
      "| epoch   9 |     2/    6 batches | lr 0.000834 | 39.39 ms | loss 0.77167\n",
      "| epoch   9 |     3/    6 batches | lr 0.000834 | 39.67 ms | loss 0.60554\n",
      "| epoch   9 |     4/    6 batches | lr 0.000834 | 39.32 ms | loss 0.53769\n",
      "| epoch   9 |     5/    6 batches | lr 0.000834 | 39.38 ms | loss 1.04020\n",
      "| epoch   9 |     6/    6 batches | lr 0.000834 | 11.66 ms | loss 1.09113\n",
      "-----------------------------------------------------------------------------------------\n",
      "| end of epoch   9 | time:  0.27s |\n",
      "-----------------------------------------------------------------------------------------\n"
     ]
    },
    {
     "name": "stderr",
     "output_type": "stream",
     "text": [
      "/home/rodrigo/home-hd/Anaconda/envs/pytorch/lib/python3.8/site-packages/torch/optim/lr_scheduler.py:369: UserWarning: To get the last learning rate computed by the scheduler, please use `get_last_lr()`.\n",
      "  warnings.warn(\"To get the last learning rate computed by the scheduler, \"\n"
     ]
    },
    {
     "name": "stdout",
     "output_type": "stream",
     "text": [
      "| epoch  10 |     1/    6 batches | lr 0.000817 | 86.82 ms | loss 1.23751\n",
      "| epoch  10 |     2/    6 batches | lr 0.000817 | 39.37 ms | loss 0.51383\n",
      "| epoch  10 |     3/    6 batches | lr 0.000817 | 39.48 ms | loss 0.33675\n",
      "| epoch  10 |     4/    6 batches | lr 0.000817 | 39.79 ms | loss 0.72917\n",
      "| epoch  10 |     5/    6 batches | lr 0.000817 | 39.38 ms | loss 0.65178\n",
      "| epoch  10 |     6/    6 batches | lr 0.000817 | 11.70 ms | loss 0.51557\n",
      "-----------------------------------------------------------------------------------------\n",
      "| end of epoch  10 | time:  0.26s |\n",
      "-----------------------------------------------------------------------------------------\n"
     ]
    },
    {
     "name": "stderr",
     "output_type": "stream",
     "text": [
      "/home/rodrigo/home-hd/Anaconda/envs/pytorch/lib/python3.8/site-packages/torch/optim/lr_scheduler.py:369: UserWarning: To get the last learning rate computed by the scheduler, please use `get_last_lr()`.\n",
      "  warnings.warn(\"To get the last learning rate computed by the scheduler, \"\n"
     ]
    },
    {
     "name": "stdout",
     "output_type": "stream",
     "text": [
      "| epoch  11 |     1/    6 batches | lr 0.000801 | 83.62 ms | loss 0.75718\n",
      "| epoch  11 |     2/    6 batches | lr 0.000801 | 39.47 ms | loss 0.47788\n",
      "| epoch  11 |     3/    6 batches | lr 0.000801 | 39.42 ms | loss 0.37149\n",
      "| epoch  11 |     4/    6 batches | lr 0.000801 | 39.32 ms | loss 0.44802\n",
      "| epoch  11 |     5/    6 batches | lr 0.000801 | 39.32 ms | loss 0.43594\n",
      "| epoch  11 |     6/    6 batches | lr 0.000801 | 11.70 ms | loss 0.42713\n",
      "-----------------------------------------------------------------------------------------\n",
      "| end of epoch  11 | time:  0.26s |\n",
      "-----------------------------------------------------------------------------------------\n"
     ]
    },
    {
     "name": "stderr",
     "output_type": "stream",
     "text": [
      "/home/rodrigo/home-hd/Anaconda/envs/pytorch/lib/python3.8/site-packages/torch/optim/lr_scheduler.py:369: UserWarning: To get the last learning rate computed by the scheduler, please use `get_last_lr()`.\n",
      "  warnings.warn(\"To get the last learning rate computed by the scheduler, \"\n"
     ]
    },
    {
     "name": "stdout",
     "output_type": "stream",
     "text": [
      "| epoch  12 |     1/    6 batches | lr 0.000785 | 82.32 ms | loss 0.67514\n",
      "| epoch  12 |     2/    6 batches | lr 0.000785 | 39.39 ms | loss 0.27913\n",
      "| epoch  12 |     3/    6 batches | lr 0.000785 | 39.31 ms | loss 0.34132\n",
      "| epoch  12 |     4/    6 batches | lr 0.000785 | 39.38 ms | loss 0.18057\n",
      "| epoch  12 |     5/    6 batches | lr 0.000785 | 39.74 ms | loss 0.34240\n",
      "| epoch  12 |     6/    6 batches | lr 0.000785 | 11.74 ms | loss 0.25352\n",
      "-----------------------------------------------------------------------------------------\n",
      "| end of epoch  12 | time:  0.25s |\n",
      "-----------------------------------------------------------------------------------------\n"
     ]
    },
    {
     "name": "stderr",
     "output_type": "stream",
     "text": [
      "/home/rodrigo/home-hd/Anaconda/envs/pytorch/lib/python3.8/site-packages/torch/optim/lr_scheduler.py:369: UserWarning: To get the last learning rate computed by the scheduler, please use `get_last_lr()`.\n",
      "  warnings.warn(\"To get the last learning rate computed by the scheduler, \"\n"
     ]
    },
    {
     "name": "stdout",
     "output_type": "stream",
     "text": [
      "| epoch  13 |     1/    6 batches | lr 0.000769 | 83.07 ms | loss 0.35023\n",
      "| epoch  13 |     2/    6 batches | lr 0.000769 | 39.43 ms | loss 0.16928\n",
      "| epoch  13 |     3/    6 batches | lr 0.000769 | 39.39 ms | loss 0.33763\n",
      "| epoch  13 |     4/    6 batches | lr 0.000769 | 39.86 ms | loss 0.26207\n",
      "| epoch  13 |     5/    6 batches | lr 0.000769 | 39.42 ms | loss 0.16359\n",
      "| epoch  13 |     6/    6 batches | lr 0.000769 | 14.35 ms | loss 0.04880\n",
      "-----------------------------------------------------------------------------------------\n",
      "| end of epoch  13 | time:  0.26s |\n",
      "-----------------------------------------------------------------------------------------\n"
     ]
    },
    {
     "name": "stderr",
     "output_type": "stream",
     "text": [
      "/home/rodrigo/home-hd/Anaconda/envs/pytorch/lib/python3.8/site-packages/torch/optim/lr_scheduler.py:369: UserWarning: To get the last learning rate computed by the scheduler, please use `get_last_lr()`.\n",
      "  warnings.warn(\"To get the last learning rate computed by the scheduler, \"\n"
     ]
    },
    {
     "name": "stdout",
     "output_type": "stream",
     "text": [
      "| epoch  14 |     1/    6 batches | lr 0.000754 | 85.41 ms | loss 0.56463\n",
      "| epoch  14 |     2/    6 batches | lr 0.000754 | 39.40 ms | loss 0.13558\n",
      "| epoch  14 |     3/    6 batches | lr 0.000754 | 44.01 ms | loss 0.11510\n",
      "| epoch  14 |     4/    6 batches | lr 0.000754 | 42.29 ms | loss 0.22889\n",
      "| epoch  14 |     5/    6 batches | lr 0.000754 | 39.44 ms | loss 0.16162\n",
      "| epoch  14 |     6/    6 batches | lr 0.000754 | 11.73 ms | loss 0.09873\n",
      "-----------------------------------------------------------------------------------------\n",
      "| end of epoch  14 | time:  0.26s |\n",
      "-----------------------------------------------------------------------------------------\n"
     ]
    },
    {
     "name": "stderr",
     "output_type": "stream",
     "text": [
      "/home/rodrigo/home-hd/Anaconda/envs/pytorch/lib/python3.8/site-packages/torch/optim/lr_scheduler.py:369: UserWarning: To get the last learning rate computed by the scheduler, please use `get_last_lr()`.\n",
      "  warnings.warn(\"To get the last learning rate computed by the scheduler, \"\n"
     ]
    },
    {
     "name": "stdout",
     "output_type": "stream",
     "text": [
      "| epoch  15 |     1/    6 batches | lr 0.000739 | 83.98 ms | loss 0.27549\n",
      "| epoch  15 |     2/    6 batches | lr 0.000739 | 39.37 ms | loss 0.18135\n",
      "| epoch  15 |     3/    6 batches | lr 0.000739 | 39.43 ms | loss 0.11936\n",
      "| epoch  15 |     4/    6 batches | lr 0.000739 | 39.36 ms | loss 0.06953\n",
      "| epoch  15 |     5/    6 batches | lr 0.000739 | 39.38 ms | loss 0.08931\n",
      "| epoch  15 |     6/    6 batches | lr 0.000739 | 11.69 ms | loss 0.05455\n",
      "-----------------------------------------------------------------------------------------\n",
      "| end of epoch  15 | time:  0.26s |\n",
      "-----------------------------------------------------------------------------------------\n"
     ]
    },
    {
     "name": "stderr",
     "output_type": "stream",
     "text": [
      "/home/rodrigo/home-hd/Anaconda/envs/pytorch/lib/python3.8/site-packages/torch/optim/lr_scheduler.py:369: UserWarning: To get the last learning rate computed by the scheduler, please use `get_last_lr()`.\n",
      "  warnings.warn(\"To get the last learning rate computed by the scheduler, \"\n"
     ]
    },
    {
     "name": "stdout",
     "output_type": "stream",
     "text": [
      "| epoch  16 |     1/    6 batches | lr 0.000724 | 95.89 ms | loss 0.11585\n",
      "| epoch  16 |     2/    6 batches | lr 0.000724 | 39.51 ms | loss 0.11530\n",
      "| epoch  16 |     3/    6 batches | lr 0.000724 | 42.51 ms | loss 0.05052\n",
      "| epoch  16 |     4/    6 batches | lr 0.000724 | 40.16 ms | loss 0.06283\n",
      "| epoch  16 |     5/    6 batches | lr 0.000724 | 39.39 ms | loss 0.11082\n",
      "| epoch  16 |     6/    6 batches | lr 0.000724 | 11.69 ms | loss 0.06621\n",
      "-----------------------------------------------------------------------------------------\n",
      "| end of epoch  16 | time:  0.27s |\n",
      "-----------------------------------------------------------------------------------------\n"
     ]
    },
    {
     "name": "stderr",
     "output_type": "stream",
     "text": [
      "/home/rodrigo/home-hd/Anaconda/envs/pytorch/lib/python3.8/site-packages/torch/optim/lr_scheduler.py:369: UserWarning: To get the last learning rate computed by the scheduler, please use `get_last_lr()`.\n",
      "  warnings.warn(\"To get the last learning rate computed by the scheduler, \"\n"
     ]
    },
    {
     "name": "stdout",
     "output_type": "stream",
     "text": [
      "| epoch  17 |     1/    6 batches | lr 0.000709 | 83.25 ms | loss 0.05226\n",
      "| epoch  17 |     2/    6 batches | lr 0.000709 | 39.31 ms | loss 0.04776\n",
      "| epoch  17 |     3/    6 batches | lr 0.000709 | 39.37 ms | loss 0.03305\n",
      "| epoch  17 |     4/    6 batches | lr 0.000709 | 41.90 ms | loss 0.02851\n",
      "| epoch  17 |     5/    6 batches | lr 0.000709 | 39.49 ms | loss 0.05361\n",
      "| epoch  17 |     6/    6 batches | lr 0.000709 | 12.55 ms | loss 0.02427\n",
      "-----------------------------------------------------------------------------------------\n",
      "| end of epoch  17 | time:  0.26s |\n",
      "-----------------------------------------------------------------------------------------\n"
     ]
    },
    {
     "name": "stderr",
     "output_type": "stream",
     "text": [
      "/home/rodrigo/home-hd/Anaconda/envs/pytorch/lib/python3.8/site-packages/torch/optim/lr_scheduler.py:369: UserWarning: To get the last learning rate computed by the scheduler, please use `get_last_lr()`.\n",
      "  warnings.warn(\"To get the last learning rate computed by the scheduler, \"\n"
     ]
    },
    {
     "name": "stdout",
     "output_type": "stream",
     "text": [
      "| epoch  18 |     1/    6 batches | lr 0.000695 | 82.38 ms | loss 0.04909\n",
      "| epoch  18 |     2/    6 batches | lr 0.000695 | 39.37 ms | loss 0.01515\n",
      "| epoch  18 |     3/    6 batches | lr 0.000695 | 39.40 ms | loss 0.03107\n",
      "| epoch  18 |     4/    6 batches | lr 0.000695 | 39.36 ms | loss 0.04189\n",
      "| epoch  18 |     5/    6 batches | lr 0.000695 | 39.46 ms | loss 0.02636\n",
      "| epoch  18 |     6/    6 batches | lr 0.000695 | 12.09 ms | loss 0.04447\n",
      "-----------------------------------------------------------------------------------------\n",
      "| end of epoch  18 | time:  0.25s |\n",
      "-----------------------------------------------------------------------------------------\n"
     ]
    },
    {
     "name": "stderr",
     "output_type": "stream",
     "text": [
      "/home/rodrigo/home-hd/Anaconda/envs/pytorch/lib/python3.8/site-packages/torch/optim/lr_scheduler.py:369: UserWarning: To get the last learning rate computed by the scheduler, please use `get_last_lr()`.\n",
      "  warnings.warn(\"To get the last learning rate computed by the scheduler, \"\n"
     ]
    },
    {
     "name": "stdout",
     "output_type": "stream",
     "text": [
      "| epoch  19 |     1/    6 batches | lr 0.000681 | 88.60 ms | loss 0.04730\n",
      "| epoch  19 |     2/    6 batches | lr 0.000681 | 39.34 ms | loss 0.01982\n",
      "| epoch  19 |     3/    6 batches | lr 0.000681 | 39.37 ms | loss 0.01509\n",
      "| epoch  19 |     4/    6 batches | lr 0.000681 | 39.34 ms | loss 0.01395\n",
      "| epoch  19 |     5/    6 batches | lr 0.000681 | 39.56 ms | loss 0.01026\n",
      "| epoch  19 |     6/    6 batches | lr 0.000681 | 11.67 ms | loss 0.01412\n",
      "-----------------------------------------------------------------------------------------\n",
      "| end of epoch  19 | time:  0.26s |\n",
      "-----------------------------------------------------------------------------------------\n"
     ]
    },
    {
     "name": "stderr",
     "output_type": "stream",
     "text": [
      "/home/rodrigo/home-hd/Anaconda/envs/pytorch/lib/python3.8/site-packages/torch/optim/lr_scheduler.py:369: UserWarning: To get the last learning rate computed by the scheduler, please use `get_last_lr()`.\n",
      "  warnings.warn(\"To get the last learning rate computed by the scheduler, \"\n"
     ]
    },
    {
     "name": "stdout",
     "output_type": "stream",
     "text": [
      "| epoch  20 |     1/    6 batches | lr 0.000668 | 86.93 ms | loss 0.02462\n",
      "| epoch  20 |     2/    6 batches | lr 0.000668 | 39.69 ms | loss 0.01236\n",
      "| epoch  20 |     3/    6 batches | lr 0.000668 | 39.35 ms | loss 0.02066\n",
      "| epoch  20 |     4/    6 batches | lr 0.000668 | 39.39 ms | loss 0.01154\n",
      "| epoch  20 |     5/    6 batches | lr 0.000668 | 39.54 ms | loss 0.01483\n",
      "| epoch  20 |     6/    6 batches | lr 0.000668 | 11.71 ms | loss 0.01512\n",
      "-----------------------------------------------------------------------------------------\n",
      "| end of epoch  20 | time:  0.26s |\n",
      "-----------------------------------------------------------------------------------------\n"
     ]
    },
    {
     "name": "stderr",
     "output_type": "stream",
     "text": [
      "/home/rodrigo/home-hd/Anaconda/envs/pytorch/lib/python3.8/site-packages/torch/optim/lr_scheduler.py:369: UserWarning: To get the last learning rate computed by the scheduler, please use `get_last_lr()`.\n",
      "  warnings.warn(\"To get the last learning rate computed by the scheduler, \"\n"
     ]
    },
    {
     "name": "stdout",
     "output_type": "stream",
     "text": [
      "| epoch  21 |     1/    6 batches | lr 0.000654 | 87.98 ms | loss 0.02614\n",
      "| epoch  21 |     2/    6 batches | lr 0.000654 | 39.39 ms | loss 0.01039\n",
      "| epoch  21 |     3/    6 batches | lr 0.000654 | 39.45 ms | loss 0.01483\n",
      "| epoch  21 |     4/    6 batches | lr 0.000654 | 43.43 ms | loss 0.01084\n",
      "| epoch  21 |     5/    6 batches | lr 0.000654 | 39.32 ms | loss 0.00661\n",
      "| epoch  21 |     6/    6 batches | lr 0.000654 | 11.72 ms | loss 0.00465\n",
      "-----------------------------------------------------------------------------------------\n",
      "| end of epoch  21 | time:  0.26s |\n",
      "-----------------------------------------------------------------------------------------\n"
     ]
    },
    {
     "name": "stderr",
     "output_type": "stream",
     "text": [
      "/home/rodrigo/home-hd/Anaconda/envs/pytorch/lib/python3.8/site-packages/torch/optim/lr_scheduler.py:369: UserWarning: To get the last learning rate computed by the scheduler, please use `get_last_lr()`.\n",
      "  warnings.warn(\"To get the last learning rate computed by the scheduler, \"\n"
     ]
    },
    {
     "name": "stdout",
     "output_type": "stream",
     "text": [
      "| epoch  22 |     1/    6 batches | lr 0.000641 | 87.84 ms | loss 0.01420\n",
      "| epoch  22 |     2/    6 batches | lr 0.000641 | 39.39 ms | loss 0.01228\n",
      "| epoch  22 |     3/    6 batches | lr 0.000641 | 39.76 ms | loss 0.00819\n",
      "| epoch  22 |     4/    6 batches | lr 0.000641 | 39.39 ms | loss 0.00889\n",
      "| epoch  22 |     5/    6 batches | lr 0.000641 | 39.40 ms | loss 0.00757\n",
      "| epoch  22 |     6/    6 batches | lr 0.000641 | 11.67 ms | loss 0.00157\n",
      "-----------------------------------------------------------------------------------------\n",
      "| end of epoch  22 | time:  0.26s |\n",
      "-----------------------------------------------------------------------------------------\n"
     ]
    },
    {
     "name": "stderr",
     "output_type": "stream",
     "text": [
      "/home/rodrigo/home-hd/Anaconda/envs/pytorch/lib/python3.8/site-packages/torch/optim/lr_scheduler.py:369: UserWarning: To get the last learning rate computed by the scheduler, please use `get_last_lr()`.\n",
      "  warnings.warn(\"To get the last learning rate computed by the scheduler, \"\n"
     ]
    },
    {
     "name": "stdout",
     "output_type": "stream",
     "text": [
      "| epoch  23 |     1/    6 batches | lr 0.000628 | 82.22 ms | loss 0.01527\n",
      "| epoch  23 |     2/    6 batches | lr 0.000628 | 39.59 ms | loss 0.00531\n",
      "| epoch  23 |     3/    6 batches | lr 0.000628 | 39.40 ms | loss 0.00867\n",
      "| epoch  23 |     4/    6 batches | lr 0.000628 | 39.37 ms | loss 0.00852\n",
      "| epoch  23 |     5/    6 batches | lr 0.000628 | 39.87 ms | loss 0.00683\n",
      "| epoch  23 |     6/    6 batches | lr 0.000628 | 11.70 ms | loss 0.00254\n",
      "-----------------------------------------------------------------------------------------\n",
      "| end of epoch  23 | time:  0.25s |\n",
      "-----------------------------------------------------------------------------------------\n"
     ]
    },
    {
     "name": "stderr",
     "output_type": "stream",
     "text": [
      "/home/rodrigo/home-hd/Anaconda/envs/pytorch/lib/python3.8/site-packages/torch/optim/lr_scheduler.py:369: UserWarning: To get the last learning rate computed by the scheduler, please use `get_last_lr()`.\n",
      "  warnings.warn(\"To get the last learning rate computed by the scheduler, \"\n"
     ]
    },
    {
     "name": "stdout",
     "output_type": "stream",
     "text": [
      "| epoch  24 |     1/    6 batches | lr 0.000616 | 83.60 ms | loss 0.01500\n",
      "| epoch  24 |     2/    6 batches | lr 0.000616 | 46.80 ms | loss 0.00485\n",
      "| epoch  24 |     3/    6 batches | lr 0.000616 | 43.19 ms | loss 0.00650\n",
      "| epoch  24 |     4/    6 batches | lr 0.000616 | 39.44 ms | loss 0.00684\n",
      "| epoch  24 |     5/    6 batches | lr 0.000616 | 39.44 ms | loss 0.00728\n",
      "| epoch  24 |     6/    6 batches | lr 0.000616 | 11.69 ms | loss 0.00572\n",
      "-----------------------------------------------------------------------------------------\n",
      "| end of epoch  24 | time:  0.27s |\n",
      "-----------------------------------------------------------------------------------------\n"
     ]
    },
    {
     "name": "stderr",
     "output_type": "stream",
     "text": [
      "/home/rodrigo/home-hd/Anaconda/envs/pytorch/lib/python3.8/site-packages/torch/optim/lr_scheduler.py:369: UserWarning: To get the last learning rate computed by the scheduler, please use `get_last_lr()`.\n",
      "  warnings.warn(\"To get the last learning rate computed by the scheduler, \"\n"
     ]
    },
    {
     "name": "stdout",
     "output_type": "stream",
     "text": [
      "| epoch  25 |     1/    6 batches | lr 0.000603 | 83.85 ms | loss 0.01202\n",
      "| epoch  25 |     2/    6 batches | lr 0.000603 | 39.72 ms | loss 0.00849\n",
      "| epoch  25 |     3/    6 batches | lr 0.000603 | 41.83 ms | loss 0.00511\n",
      "| epoch  25 |     4/    6 batches | lr 0.000603 | 39.87 ms | loss 0.00847\n",
      "| epoch  25 |     5/    6 batches | lr 0.000603 | 39.34 ms | loss 0.00359\n",
      "| epoch  25 |     6/    6 batches | lr 0.000603 | 12.61 ms | loss 0.00948\n",
      "-----------------------------------------------------------------------------------------\n",
      "| end of epoch  25 | time:  0.26s |\n",
      "-----------------------------------------------------------------------------------------\n"
     ]
    },
    {
     "name": "stderr",
     "output_type": "stream",
     "text": [
      "/home/rodrigo/home-hd/Anaconda/envs/pytorch/lib/python3.8/site-packages/torch/optim/lr_scheduler.py:369: UserWarning: To get the last learning rate computed by the scheduler, please use `get_last_lr()`.\n",
      "  warnings.warn(\"To get the last learning rate computed by the scheduler, \"\n"
     ]
    },
    {
     "name": "stdout",
     "output_type": "stream",
     "text": [
      "| epoch  26 |     1/    6 batches | lr 0.000591 | 87.89 ms | loss 0.01306\n",
      "| epoch  26 |     2/    6 batches | lr 0.000591 | 39.42 ms | loss 0.00596\n",
      "| epoch  26 |     3/    6 batches | lr 0.000591 | 39.44 ms | loss 0.00367\n",
      "| epoch  26 |     4/    6 batches | lr 0.000591 | 39.72 ms | loss 0.00497\n",
      "| epoch  26 |     5/    6 batches | lr 0.000591 | 39.40 ms | loss 0.00534\n",
      "| epoch  26 |     6/    6 batches | lr 0.000591 | 11.71 ms | loss 0.00936\n",
      "-----------------------------------------------------------------------------------------\n",
      "| end of epoch  26 | time:  0.26s |\n",
      "-----------------------------------------------------------------------------------------\n"
     ]
    },
    {
     "name": "stderr",
     "output_type": "stream",
     "text": [
      "/home/rodrigo/home-hd/Anaconda/envs/pytorch/lib/python3.8/site-packages/torch/optim/lr_scheduler.py:369: UserWarning: To get the last learning rate computed by the scheduler, please use `get_last_lr()`.\n",
      "  warnings.warn(\"To get the last learning rate computed by the scheduler, \"\n"
     ]
    },
    {
     "name": "stdout",
     "output_type": "stream",
     "text": [
      "| epoch  27 |     1/    6 batches | lr 0.000580 | 84.48 ms | loss 0.00881\n",
      "| epoch  27 |     2/    6 batches | lr 0.000580 | 39.39 ms | loss 0.00591\n",
      "| epoch  27 |     3/    6 batches | lr 0.000580 | 39.41 ms | loss 0.00561\n",
      "| epoch  27 |     4/    6 batches | lr 0.000580 | 39.43 ms | loss 0.00578\n",
      "| epoch  27 |     5/    6 batches | lr 0.000580 | 39.40 ms | loss 0.00424\n",
      "| epoch  27 |     6/    6 batches | lr 0.000580 | 11.72 ms | loss 0.00481\n",
      "-----------------------------------------------------------------------------------------\n",
      "| end of epoch  27 | time:  0.26s |\n",
      "-----------------------------------------------------------------------------------------\n"
     ]
    },
    {
     "name": "stderr",
     "output_type": "stream",
     "text": [
      "/home/rodrigo/home-hd/Anaconda/envs/pytorch/lib/python3.8/site-packages/torch/optim/lr_scheduler.py:369: UserWarning: To get the last learning rate computed by the scheduler, please use `get_last_lr()`.\n",
      "  warnings.warn(\"To get the last learning rate computed by the scheduler, \"\n"
     ]
    },
    {
     "name": "stdout",
     "output_type": "stream",
     "text": [
      "| epoch  28 |     1/    6 batches | lr 0.000568 | 82.44 ms | loss 0.00900\n",
      "| epoch  28 |     2/    6 batches | lr 0.000568 | 39.37 ms | loss 0.00592\n",
      "| epoch  28 |     3/    6 batches | lr 0.000568 | 39.36 ms | loss 0.00539\n",
      "| epoch  28 |     4/    6 batches | lr 0.000568 | 39.32 ms | loss 0.00341\n",
      "| epoch  28 |     5/    6 batches | lr 0.000568 | 39.72 ms | loss 0.00465\n",
      "| epoch  28 |     6/    6 batches | lr 0.000568 | 11.71 ms | loss 0.00307\n",
      "-----------------------------------------------------------------------------------------\n",
      "| end of epoch  28 | time:  0.25s |\n",
      "-----------------------------------------------------------------------------------------\n"
     ]
    },
    {
     "name": "stderr",
     "output_type": "stream",
     "text": [
      "/home/rodrigo/home-hd/Anaconda/envs/pytorch/lib/python3.8/site-packages/torch/optim/lr_scheduler.py:369: UserWarning: To get the last learning rate computed by the scheduler, please use `get_last_lr()`.\n",
      "  warnings.warn(\"To get the last learning rate computed by the scheduler, \"\n"
     ]
    },
    {
     "name": "stdout",
     "output_type": "stream",
     "text": [
      "| epoch  29 |     1/    6 batches | lr 0.000557 | 82.58 ms | loss 0.00873\n",
      "| epoch  29 |     2/    6 batches | lr 0.000557 | 43.82 ms | loss 0.00334\n",
      "| epoch  29 |     3/    6 batches | lr 0.000557 | 39.38 ms | loss 0.00521\n",
      "| epoch  29 |     4/    6 batches | lr 0.000557 | 39.44 ms | loss 0.00508\n",
      "| epoch  29 |     5/    6 batches | lr 0.000557 | 39.39 ms | loss 0.00285\n",
      "| epoch  29 |     6/    6 batches | lr 0.000557 | 11.70 ms | loss 0.00094\n",
      "-----------------------------------------------------------------------------------------\n",
      "| end of epoch  29 | time:  0.26s |\n",
      "-----------------------------------------------------------------------------------------\n"
     ]
    },
    {
     "name": "stderr",
     "output_type": "stream",
     "text": [
      "/home/rodrigo/home-hd/Anaconda/envs/pytorch/lib/python3.8/site-packages/torch/optim/lr_scheduler.py:369: UserWarning: To get the last learning rate computed by the scheduler, please use `get_last_lr()`.\n",
      "  warnings.warn(\"To get the last learning rate computed by the scheduler, \"\n"
     ]
    },
    {
     "name": "stdout",
     "output_type": "stream",
     "text": [
      "| epoch  30 |     1/    6 batches | lr 0.000545 | 84.05 ms | loss 0.00827\n",
      "| epoch  30 |     2/    6 batches | lr 0.000545 | 39.42 ms | loss 0.00363\n",
      "| epoch  30 |     3/    6 batches | lr 0.000545 | 39.36 ms | loss 0.00520\n",
      "| epoch  30 |     4/    6 batches | lr 0.000545 | 39.37 ms | loss 0.00433\n",
      "| epoch  30 |     5/    6 batches | lr 0.000545 | 39.45 ms | loss 0.00316\n",
      "| epoch  30 |     6/    6 batches | lr 0.000545 | 11.66 ms | loss 0.00231\n",
      "-----------------------------------------------------------------------------------------\n",
      "| end of epoch  30 | time:  0.26s |\n",
      "-----------------------------------------------------------------------------------------\n"
     ]
    },
    {
     "name": "stderr",
     "output_type": "stream",
     "text": [
      "/home/rodrigo/home-hd/Anaconda/envs/pytorch/lib/python3.8/site-packages/torch/optim/lr_scheduler.py:369: UserWarning: To get the last learning rate computed by the scheduler, please use `get_last_lr()`.\n",
      "  warnings.warn(\"To get the last learning rate computed by the scheduler, \"\n"
     ]
    },
    {
     "name": "stdout",
     "output_type": "stream",
     "text": [
      "| epoch  31 |     1/    6 batches | lr 0.000535 | 82.54 ms | loss 0.00731\n",
      "| epoch  31 |     2/    6 batches | lr 0.000535 | 39.36 ms | loss 0.00413\n",
      "| epoch  31 |     3/    6 batches | lr 0.000535 | 39.57 ms | loss 0.00450\n",
      "| epoch  31 |     4/    6 batches | lr 0.000535 | 39.42 ms | loss 0.00308\n",
      "| epoch  31 |     5/    6 batches | lr 0.000535 | 43.21 ms | loss 0.00392\n",
      "| epoch  31 |     6/    6 batches | lr 0.000535 | 11.69 ms | loss 0.00581\n",
      "-----------------------------------------------------------------------------------------\n",
      "| end of epoch  31 | time:  0.26s |\n",
      "-----------------------------------------------------------------------------------------\n"
     ]
    },
    {
     "name": "stderr",
     "output_type": "stream",
     "text": [
      "/home/rodrigo/home-hd/Anaconda/envs/pytorch/lib/python3.8/site-packages/torch/optim/lr_scheduler.py:369: UserWarning: To get the last learning rate computed by the scheduler, please use `get_last_lr()`.\n",
      "  warnings.warn(\"To get the last learning rate computed by the scheduler, \"\n"
     ]
    },
    {
     "name": "stdout",
     "output_type": "stream",
     "text": [
      "| epoch  32 |     1/    6 batches | lr 0.000524 | 89.58 ms | loss 0.00696\n",
      "| epoch  32 |     2/    6 batches | lr 0.000524 | 39.38 ms | loss 0.00268\n",
      "| epoch  32 |     3/    6 batches | lr 0.000524 | 43.22 ms | loss 0.00333\n",
      "| epoch  32 |     4/    6 batches | lr 0.000524 | 39.64 ms | loss 0.00344\n",
      "| epoch  32 |     5/    6 batches | lr 0.000524 | 39.36 ms | loss 0.00307\n",
      "| epoch  32 |     6/    6 batches | lr 0.000524 | 11.69 ms | loss 0.00546\n",
      "-----------------------------------------------------------------------------------------\n",
      "| end of epoch  32 | time:  0.27s |\n",
      "-----------------------------------------------------------------------------------------\n"
     ]
    },
    {
     "name": "stderr",
     "output_type": "stream",
     "text": [
      "/home/rodrigo/home-hd/Anaconda/envs/pytorch/lib/python3.8/site-packages/torch/optim/lr_scheduler.py:369: UserWarning: To get the last learning rate computed by the scheduler, please use `get_last_lr()`.\n",
      "  warnings.warn(\"To get the last learning rate computed by the scheduler, \"\n"
     ]
    },
    {
     "name": "stdout",
     "output_type": "stream",
     "text": [
      "| epoch  33 |     1/    6 batches | lr 0.000513 | 87.75 ms | loss 0.00702\n",
      "| epoch  33 |     2/    6 batches | lr 0.000513 | 39.35 ms | loss 0.00405\n",
      "| epoch  33 |     3/    6 batches | lr 0.000513 | 39.44 ms | loss 0.00310\n",
      "| epoch  33 |     4/    6 batches | lr 0.000513 | 39.45 ms | loss 0.00200\n",
      "| epoch  33 |     5/    6 batches | lr 0.000513 | 44.00 ms | loss 0.00330\n",
      "| epoch  33 |     6/    6 batches | lr 0.000513 | 11.75 ms | loss 0.00452\n",
      "-----------------------------------------------------------------------------------------\n",
      "| end of epoch  33 | time:  0.26s |\n",
      "-----------------------------------------------------------------------------------------\n"
     ]
    },
    {
     "name": "stderr",
     "output_type": "stream",
     "text": [
      "/home/rodrigo/home-hd/Anaconda/envs/pytorch/lib/python3.8/site-packages/torch/optim/lr_scheduler.py:369: UserWarning: To get the last learning rate computed by the scheduler, please use `get_last_lr()`.\n",
      "  warnings.warn(\"To get the last learning rate computed by the scheduler, \"\n"
     ]
    },
    {
     "name": "stdout",
     "output_type": "stream",
     "text": [
      "| epoch  34 |     1/    6 batches | lr 0.000503 | 88.69 ms | loss 0.00622\n",
      "| epoch  34 |     2/    6 batches | lr 0.000503 | 39.32 ms | loss 0.00354\n",
      "| epoch  34 |     3/    6 batches | lr 0.000503 | 39.34 ms | loss 0.00294\n",
      "| epoch  34 |     4/    6 batches | lr 0.000503 | 39.38 ms | loss 0.00294\n",
      "| epoch  34 |     5/    6 batches | lr 0.000503 | 39.66 ms | loss 0.00364\n",
      "| epoch  34 |     6/    6 batches | lr 0.000503 | 11.75 ms | loss 0.00345\n",
      "-----------------------------------------------------------------------------------------\n",
      "| end of epoch  34 | time:  0.26s |\n",
      "-----------------------------------------------------------------------------------------\n"
     ]
    },
    {
     "name": "stderr",
     "output_type": "stream",
     "text": [
      "/home/rodrigo/home-hd/Anaconda/envs/pytorch/lib/python3.8/site-packages/torch/optim/lr_scheduler.py:369: UserWarning: To get the last learning rate computed by the scheduler, please use `get_last_lr()`.\n",
      "  warnings.warn(\"To get the last learning rate computed by the scheduler, \"\n"
     ]
    },
    {
     "name": "stdout",
     "output_type": "stream",
     "text": [
      "| epoch  35 |     1/    6 batches | lr 0.000493 | 82.77 ms | loss 0.00544\n",
      "| epoch  35 |     2/    6 batches | lr 0.000493 | 39.42 ms | loss 0.00322\n",
      "| epoch  35 |     3/    6 batches | lr 0.000493 | 39.34 ms | loss 0.00340\n",
      "| epoch  35 |     4/    6 batches | lr 0.000493 | 39.44 ms | loss 0.00292\n",
      "| epoch  35 |     5/    6 batches | lr 0.000493 | 39.39 ms | loss 0.00260\n",
      "| epoch  35 |     6/    6 batches | lr 0.000493 | 11.71 ms | loss 0.00425\n",
      "-----------------------------------------------------------------------------------------\n",
      "| end of epoch  35 | time:  0.25s |\n",
      "-----------------------------------------------------------------------------------------\n"
     ]
    },
    {
     "name": "stderr",
     "output_type": "stream",
     "text": [
      "/home/rodrigo/home-hd/Anaconda/envs/pytorch/lib/python3.8/site-packages/torch/optim/lr_scheduler.py:369: UserWarning: To get the last learning rate computed by the scheduler, please use `get_last_lr()`.\n",
      "  warnings.warn(\"To get the last learning rate computed by the scheduler, \"\n"
     ]
    },
    {
     "name": "stdout",
     "output_type": "stream",
     "text": [
      "| epoch  36 |     1/    6 batches | lr 0.000483 | 84.21 ms | loss 0.00671\n",
      "| epoch  36 |     2/    6 batches | lr 0.000483 | 39.37 ms | loss 0.00309\n",
      "| epoch  36 |     3/    6 batches | lr 0.000483 | 46.94 ms | loss 0.00373\n",
      "| epoch  36 |     4/    6 batches | lr 0.000483 | 43.47 ms | loss 0.00314\n",
      "| epoch  36 |     5/    6 batches | lr 0.000483 | 39.40 ms | loss 0.00212\n",
      "| epoch  36 |     6/    6 batches | lr 0.000483 | 11.70 ms | loss 0.00300\n",
      "-----------------------------------------------------------------------------------------\n",
      "| end of epoch  36 | time:  0.27s |\n",
      "-----------------------------------------------------------------------------------------\n"
     ]
    },
    {
     "name": "stderr",
     "output_type": "stream",
     "text": [
      "/home/rodrigo/home-hd/Anaconda/envs/pytorch/lib/python3.8/site-packages/torch/optim/lr_scheduler.py:369: UserWarning: To get the last learning rate computed by the scheduler, please use `get_last_lr()`.\n",
      "  warnings.warn(\"To get the last learning rate computed by the scheduler, \"\n"
     ]
    },
    {
     "name": "stdout",
     "output_type": "stream",
     "text": [
      "| epoch  37 |     1/    6 batches | lr 0.000474 | 88.73 ms | loss 0.00546\n",
      "| epoch  37 |     2/    6 batches | lr 0.000474 | 39.32 ms | loss 0.00307\n",
      "| epoch  37 |     3/    6 batches | lr 0.000474 | 43.24 ms | loss 0.00262\n",
      "| epoch  37 |     4/    6 batches | lr 0.000474 | 39.37 ms | loss 0.00335\n",
      "| epoch  37 |     5/    6 batches | lr 0.000474 | 39.42 ms | loss 0.00258\n",
      "| epoch  37 |     6/    6 batches | lr 0.000474 | 11.72 ms | loss 0.00200\n",
      "-----------------------------------------------------------------------------------------\n",
      "| end of epoch  37 | time:  0.26s |\n",
      "-----------------------------------------------------------------------------------------\n"
     ]
    },
    {
     "name": "stderr",
     "output_type": "stream",
     "text": [
      "/home/rodrigo/home-hd/Anaconda/envs/pytorch/lib/python3.8/site-packages/torch/optim/lr_scheduler.py:369: UserWarning: To get the last learning rate computed by the scheduler, please use `get_last_lr()`.\n",
      "  warnings.warn(\"To get the last learning rate computed by the scheduler, \"\n"
     ]
    },
    {
     "name": "stdout",
     "output_type": "stream",
     "text": [
      "| epoch  38 |     1/    6 batches | lr 0.000464 | 83.40 ms | loss 0.00507\n",
      "| epoch  38 |     2/    6 batches | lr 0.000464 | 39.77 ms | loss 0.00334\n",
      "| epoch  38 |     3/    6 batches | lr 0.000464 | 39.46 ms | loss 0.00217\n",
      "| epoch  38 |     4/    6 batches | lr 0.000464 | 39.37 ms | loss 0.00252\n",
      "| epoch  38 |     5/    6 batches | lr 0.000464 | 39.63 ms | loss 0.00299\n",
      "| epoch  38 |     6/    6 batches | lr 0.000464 | 11.73 ms | loss 0.00144\n",
      "-----------------------------------------------------------------------------------------\n",
      "| end of epoch  38 | time:  0.26s |\n",
      "-----------------------------------------------------------------------------------------\n"
     ]
    },
    {
     "name": "stderr",
     "output_type": "stream",
     "text": [
      "/home/rodrigo/home-hd/Anaconda/envs/pytorch/lib/python3.8/site-packages/torch/optim/lr_scheduler.py:369: UserWarning: To get the last learning rate computed by the scheduler, please use `get_last_lr()`.\n",
      "  warnings.warn(\"To get the last learning rate computed by the scheduler, \"\n"
     ]
    },
    {
     "name": "stdout",
     "output_type": "stream",
     "text": [
      "| epoch  39 |     1/    6 batches | lr 0.000455 | 83.99 ms | loss 0.00471\n",
      "| epoch  39 |     2/    6 batches | lr 0.000455 | 39.40 ms | loss 0.00240\n",
      "| epoch  39 |     3/    6 batches | lr 0.000455 | 39.40 ms | loss 0.00198\n",
      "| epoch  39 |     4/    6 batches | lr 0.000455 | 39.45 ms | loss 0.00237\n",
      "| epoch  39 |     5/    6 batches | lr 0.000455 | 39.45 ms | loss 0.00361\n",
      "| epoch  39 |     6/    6 batches | lr 0.000455 | 11.69 ms | loss 0.00108\n",
      "-----------------------------------------------------------------------------------------\n",
      "| end of epoch  39 | time:  0.26s |\n",
      "-----------------------------------------------------------------------------------------\n",
      "| epoch  40 |     1/    6 batches | lr 0.000446 | 87.02 ms | loss 0.00440\n",
      "| epoch  40 |     2/    6 batches | lr 0.000446 | 42.64 ms | loss 0.00345\n",
      "| epoch  40 |     3/    6 batches | lr 0.000446 | 40.25 ms | loss 0.00243\n",
      "| epoch  40 |     4/    6 batches | lr 0.000446 | 39.40 ms | loss 0.00238\n",
      "| epoch  40 |     5/    6 batches | lr 0.000446 | 40.17 ms | loss 0.00225\n",
      "| epoch  40 |     6/    6 batches | lr 0.000446 | 13.74 ms | loss 0.00214\n",
      "-----------------------------------------------------------------------------------------\n",
      "| end of epoch  40 | time:  0.27s |\n",
      "-----------------------------------------------------------------------------------------\n"
     ]
    },
    {
     "name": "stderr",
     "output_type": "stream",
     "text": [
      "/home/rodrigo/home-hd/Anaconda/envs/pytorch/lib/python3.8/site-packages/torch/optim/lr_scheduler.py:369: UserWarning: To get the last learning rate computed by the scheduler, please use `get_last_lr()`.\n",
      "  warnings.warn(\"To get the last learning rate computed by the scheduler, \"\n"
     ]
    }
   ],
   "source": [
    "criterion = torch.nn.CrossEntropyLoss()\n",
    "optimizer = torch.optim.Adam(model.parameters(), lr=1e-03)\n",
    "scheduler = torch.optim.lr_scheduler.StepLR(optimizer, 1.0, gamma=0.98)\n",
    "loss, acc =  train(model, 40, batch_size, train_loader, criterion,\n",
    "      optimizer, scheduler, set_size)"
   ]
  },
  {
   "cell_type": "code",
   "execution_count": 19,
   "id": "ee9f5e52",
   "metadata": {},
   "outputs": [
    {
     "data": {
      "text/plain": [
       "[<matplotlib.lines.Line2D at 0x7ff4718fdb50>]"
      ]
     },
     "execution_count": 19,
     "metadata": {},
     "output_type": "execute_result"
    },
    {
     "data": {
      "image/png": "[encoded data removed]",
      "text/plain": [
       "<Figure size 432x288 with 1 Axes>"
      ]
     },
     "metadata": {
      "needs_background": "light"
     },
     "output_type": "display_data"
    }
   ],
   "source": [
    "plt.plot(loss)"
   ]
  },
  {
   "cell_type": "code",
   "execution_count": 20,
   "id": "d0973b86",
   "metadata": {},
   "outputs": [
    {
     "data": {
      "text/plain": [
       "[<matplotlib.lines.Line2D at 0x7ff44eda2940>]"
      ]
     },
     "execution_count": 20,
     "metadata": {},
     "output_type": "execute_result"
    },
    {
     "data": {
      "image/png": "[encoded data removed]",
      "text/plain": [
       "<Figure size 432x288 with 1 Axes>"
      ]
     },
     "metadata": {
      "needs_background": "light"
     },
     "output_type": "display_data"
    }
   ],
   "source": [
    "plt.plot(acc)"
   ]
  },
  {
   "cell_type": "code",
   "execution_count": 21,
   "id": "e098fc88",
   "metadata": {},
   "outputs": [],
   "source": [
    "\n",
    "predictions = torch.tensor([]).to(device)\n",
    "ground_truth = torch.tensor([]).to(device)\n",
    "for batch in test_loader:\n",
    "    data, targets = batch[0], batch[1] # next(iter(test_loader))\n",
    "    data = Variable(torch.Tensor(data.float())).to(device)\n",
    "    targets = Variable(torch.Tensor(targets.float())).to(device)\n",
    "    output = model(data)\n",
    "    loss = criterion(output, torch.flatten(targets.long()))\n",
    "\n",
    "predictions = torch.cat((predictions, output), 0)\n",
    "ground_truth = torch.cat((ground_truth, targets), 0)"
   ]
  },
  {
   "cell_type": "code",
   "execution_count": 22,
   "id": "0e489c8f",
   "metadata": {},
   "outputs": [],
   "source": [
    "predictions = predictions.cpu().detach().numpy()\n",
    "predictions = np.argmax(predictions, axis=1).reshape(predictions.shape[0], 1)\n",
    "ground_truth = ground_truth.cpu().cpu().detach().numpy()"
   ]
  },
  {
   "cell_type": "code",
   "execution_count": 23,
   "id": "31efff9d",
   "metadata": {},
   "outputs": [
    {
     "data": {
      "image/png": "[encoded data removed]",
      "text/plain": [
       "<Figure size 720x504 with 2 Axes>"
      ]
     },
     "metadata": {
      "needs_background": "light"
     },
     "output_type": "display_data"
    }
   ],
   "source": [
    "conf_mtx = confusion_matrix(ground_truth, predictions)\n",
    "\n",
    "conf_df = pd.DataFrame(conf_mtx, index = [i for i in range(5)],\n",
    "                  columns = [i for i in range(5)])\n",
    "plt.figure(figsize = (10,7))\n",
    "sns.heatmap(conf_df, cmap=sns.cm.rocket_r, square=True, linewidths=0.1, annot=True, fmt='d', annot_kws={\"fontsize\": 8})  \n",
    "plt.show()"
   ]
  },
  {
   "cell_type": "code",
   "execution_count": 24,
   "id": "a9690803",
   "metadata": {},
   "outputs": [
    {
     "name": "stdout",
     "output_type": "stream",
     "text": [
      " Acc:\t 0.520\n"
     ]
    }
   ],
   "source": [
    "acc = accuracy_score(ground_truth, predictions)\n",
    "print(f' Acc:\\t {acc:.3f}')"
   ]
  }
 ],
 "metadata": {
  "kernelspec": {
   "display_name": "Python 3",
   "language": "python",
   "name": "python3"
  },
  "language_info": {
   "codemirror_mode": {
    "name": "ipython",
    "version": 3
   },
   "file_extension": ".py",
   "mimetype": "text/x-python",
   "name": "python",
   "nbconvert_exporter": "python",
   "pygments_lexer": "ipython3",
   "version": "3.8.8"
  }
 },
 "nbformat": 4,
 "nbformat_minor": 5
}
