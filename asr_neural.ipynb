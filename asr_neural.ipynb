{
 "cells": [
  {
   "cell_type": "code",
   "execution_count": 1,
   "id": "b62ac3d5",
   "metadata": {},
   "outputs": [],
   "source": [
    "import numpy as np\n",
    "import struct\n",
    "import torch\n",
    "import torch.nn as nn\n",
    "import matplotlib.pyplot as plt\n",
    "import time\n",
    "import pandas as pd\n",
    "import seaborn as sns\n",
    "from torch.autograd import Variable\n",
    "from torch.utils.data import DataLoader, Dataset\n",
    "from os import listdir\n",
    "from os.path import isfile, join\n",
    "from sklearn.preprocessing import StandardScaler, MinMaxScaler\n",
    "from sklearn.metrics import confusion_matrix, accuracy_score"
   ]
  },
  {
   "cell_type": "markdown",
   "id": "5f8bb6f9",
   "metadata": {},
   "source": [
    "### Automatic speach recognition with neural networks\n",
    "This notebook uses MFCC pre-prossesing to generate acoustic features to the neural network, and then the neural network can be trained and tested. The baseline consists into HNNs. \n",
    "\n",
    "The dataset utilized in this notebook is the speach commands datasets from tensorflow. As this dataset comes with a lot of words and a lots of examples, we choose to simplify this notebook example by focusing in the following words: cat, dog, happy, house and zero. The training set consists into 25 examples of each word, and the testing set consists into 5 new examples of each word.\n",
    "\n",
    "All the pre-prossecing is made by the spock: . Using this software the user can process WAV files and output the processed acoustic features in `.FEA` files. Then the neural network can receive this accoustic features and output the class that corresponds to the right word. "
   ]
  },
  {
   "cell_type": "markdown",
   "id": "f895ab5d",
   "metadata": {},
   "source": [
    "### The first step consists into reading the FEA files"
   ]
  },
  {
   "cell_type": "code",
   "execution_count": 2,
   "id": "87a64780",
   "metadata": {},
   "outputs": [],
   "source": [
    "feat_dir = './output_test/mfcceda39w240s80/features'"
   ]
  },
  {
   "cell_type": "code",
   "execution_count": 3,
   "id": "dd1a3361",
   "metadata": {},
   "outputs": [],
   "source": [
    "def fea_to_samples(filename):\n",
    "    # Discard the header with 2048 bytes that yield 512 floats\n",
    "    feat_array = np.fromfile(filename, dtype='>f') [512:]\n",
    "    num_of_paterns = feat_array[0]\n",
    "    space_dimension = feat_array[1]\n",
    "    \n",
    "    res = []\n",
    "    # Jump the first 2 floats\n",
    "    i_s = 2\n",
    "    total_frames = []\n",
    "    for pat in range(int(num_of_paterns)):\n",
    "        # Feature Extraction\n",
    "        n_frames = feat_array[i_s]\n",
    "        total_frames.append(n_frames) \n",
    "        i_e = space_dimension*n_frames + i_s + 1  \n",
    "        feat = feat_array[i_s+1: int(i_e)].tolist()\n",
    "        i_s = int(i_e)\n",
    "        res.append(feat)\n",
    "    \n",
    "    assert(i_e == len(feat_array))\n",
    "    \n",
    "    # Convert the feature patterns to a np matrix, padding according \n",
    "    # to the biggest entry\n",
    "    max_dim = max([len(row) for row in res])\n",
    "    res_np = np.zeros((int(num_of_paterns), max_dim))\n",
    "    \n",
    "    for pat in range(int(num_of_paterns)):\n",
    "        vec_len = len(res[pat])\n",
    "        res_np[pat][:vec_len] = res[pat] \n",
    "    \n",
    "    return res_np,(max(total_frames), space_dimension)"
   ]
  },
  {
   "cell_type": "markdown",
   "id": "52e332db",
   "metadata": {},
   "source": [
    "### After reading the FEA files we can organize the network input and desireble output\n",
    "In this supervised learning probblem we must organize matrices that will serve as input or features, and other that will be the desired output or label."
   ]
  },
  {
   "cell_type": "code",
   "execution_count": 4,
   "id": "4a122ccc",
   "metadata": {},
   "outputs": [],
   "source": [
    "def generate_xy_matrices(feat_dir):\n",
    "    files = listdir(feat_dir)\n",
    "    labels = [name[2:-4] for name in listdir(feat_dir)]\n",
    "    x_matrix, shape = fea_to_samples(feat_dir+ '/' +files[0])\n",
    "\n",
    "    y_matrix = np.zeros((x_matrix.shape[0], 1))\n",
    "    y_matrix[:,0] = 0\n",
    "    for file_i in range(1,len(files)):\n",
    "        x_i, _ = fea_to_samples(feat_dir + '/' + files[file_i])\n",
    "        y_i = np.zeros((x_i.shape[0], 1))\n",
    "        y_i[:,0] = file_i\n",
    "        x_matrix = np.concatenate((x_matrix, x_i))\n",
    "        y_matrix = np.concatenate((y_matrix, y_i))\n",
    "\n",
    "    return x_matrix, y_matrix, shape"
   ]
  },
  {
   "cell_type": "markdown",
   "id": "601faacd",
   "metadata": {},
   "source": [
    "### After that we must organize our dataset object\n",
    "As we are using the Pytorch stack, it is recommended to use the Dataset class to organize the entry and output samples of training and test sets. "
   ]
  },
  {
   "cell_type": "code",
   "execution_count": 5,
   "id": "6329e0a6",
   "metadata": {},
   "outputs": [],
   "source": [
    "class MfcSet(Dataset):\n",
    "    def __init__(self,\n",
    "                 x_matrix,\n",
    "                 y_matrix,\n",
    "                std_scaler=None,\n",
    "                min_max_scaler=None):\n",
    "        \n",
    "        if std_scaler==None:\n",
    "            # Standard scaling\n",
    "            std_scaler = StandardScaler()\n",
    "            std_scaler.fit(x_matrix)\n",
    "        x_matrix = std_scaler.transform(x_matrix)\n",
    "\n",
    "       \n",
    "#         if min_max_scaler == None:\n",
    "#             # Min max scaling\n",
    "#             min_max_scaler = MinMaxScaler(feature_range=(-1, 1))\n",
    "#             min_max_scaler.fit(x_matrix)\n",
    "#         x_matrix = min_max_scaler.transform(x_matrix)\n",
    "    \n",
    "        self.X = x_matrix\n",
    "        self.y = y_matrix\n",
    "        self.std_scaler = std_scaler\n",
    "#         self.min_max_scaler = min_max_scaler\n",
    "        self.x_shape = self.X.shape\n",
    "        self.y_shape = self.y.shape\n",
    "        \n",
    "    def __len__(self):\n",
    "        return len(self.X)\n",
    "\n",
    "    def __getitem__(self, idx):\n",
    "        return self.X[idx], self.y[idx]"
   ]
  },
  {
   "cell_type": "code",
   "execution_count": 6,
   "id": "12b5a66c",
   "metadata": {},
   "outputs": [],
   "source": [
    "def build_dataset(root_dir):\n",
    "    x_train, y_train, shape = generate_xy_matrices(root_dir + '/train')\n",
    "    x_test, y_test, _ = generate_xy_matrices(root_dir + '/test')\n",
    "    feat_scaler = MinMaxScaler()\n",
    "    feat_scaler.fit(x_train)\n",
    "    \n",
    "    train_set = MfcSet(x_train, y_train)\n",
    "    test_set = MfcSet(x_test, y_test, train_set.std_scaler) #train_set.min_max_scaler)\n",
    "    \n",
    "    return train_set, test_set, shape"
   ]
  },
  {
   "cell_type": "markdown",
   "id": "9af1f530",
   "metadata": {},
   "source": [
    "### The multi layer perceptron network\n",
    "In this classification task, is desireble that we use a softmax activation function in the output layer, but as we are using the Pytorch stack, the loss function `CrossEntropyLoss` already apply the softmax for us. Then this is not necessary, as shown in the example bellow."
   ]
  },
  {
   "cell_type": "code",
   "execution_count": 7,
   "id": "7683b0ca",
   "metadata": {},
   "outputs": [
    {
     "name": "stdout",
     "output_type": "stream",
     "text": [
      "torch.Size([3, 5])\n",
      "torch.Size([3])\n"
     ]
    }
   ],
   "source": [
    "loss = nn.CrossEntropyLoss()\n",
    "input = torch.randn(3, 5, requires_grad=True)\n",
    "target = torch.empty(3, dtype=torch.long).random_(5)\n",
    "\n",
    "print(input.shape)\n",
    "print(target.shape)\n",
    "output = loss(input, target)\n",
    "output.backward()"
   ]
  },
  {
   "cell_type": "code",
   "execution_count": 8,
   "id": "7c78c870",
   "metadata": {
    "scrolled": true
   },
   "outputs": [
    {
     "data": {
      "text/plain": [
       "tensor([[-1.1700,  0.8539,  0.8540, -0.1188,  0.7526],\n",
       "        [ 2.4034, -1.1652, -1.0059,  0.3139, -1.3220],\n",
       "        [ 1.1267, -0.1251, -1.0723,  0.4329,  0.0113]], requires_grad=True)"
      ]
     },
     "execution_count": 8,
     "metadata": {},
     "output_type": "execute_result"
    }
   ],
   "source": [
    "input"
   ]
  },
  {
   "cell_type": "code",
   "execution_count": 9,
   "id": "f9ecc0a6",
   "metadata": {
    "scrolled": true
   },
   "outputs": [
    {
     "data": {
      "text/plain": [
       "tensor([2, 2, 4])"
      ]
     },
     "execution_count": 9,
     "metadata": {},
     "output_type": "execute_result"
    }
   ],
   "source": [
    "target"
   ]
  },
  {
   "cell_type": "code",
   "execution_count": 10,
   "id": "3bb3a1a0",
   "metadata": {},
   "outputs": [],
   "source": [
    "class MLP(nn.Module):\n",
    "    def __init__(self, num_features, num_labels, dp=0.2):\n",
    "        super(MLP, self).__init__()\n",
    "        self.model = nn.Sequential(\n",
    "            nn.Linear(num_features, 50),\n",
    "            nn.ReLU(),  \n",
    "            nn.Linear(50, num_labels),\n",
    "            nn.Dropout(dp)\n",
    "        )\n",
    "    def forward(self, x):\n",
    "        out = self.model(x)\n",
    "        return out"
   ]
  },
  {
   "cell_type": "code",
   "execution_count": 11,
   "id": "31eff65e",
   "metadata": {},
   "outputs": [],
   "source": [
    "def train(model, epochs, batch_size, train_loader, criterion, optimizer,\n",
    "          scheduler, set_size):\n",
    "    model.train()\n",
    "    acc = []\n",
    "    loss = []\n",
    "    for epoch in range(1, epochs + 1):\n",
    "        epoch_start_time = time.time()\n",
    "        train_loss, train_acc = batch_train(model, epoch, batch_size,\n",
    "                                                train_loader, criterion,\n",
    "                                                optimizer, scheduler, set_size)\n",
    "        print('-' * 89)\n",
    "        print('| end of epoch {:3d} | time: {:5.2f}s |'.format(\n",
    "            epoch, (time.time() - epoch_start_time)))\n",
    "        print('-' * 89)\n",
    "\n",
    "        scheduler.step()\n",
    "        acc.append(train_acc)\n",
    "        loss.append(train_loss)\n",
    "\n",
    "    return loss, acc"
   ]
  },
  {
   "cell_type": "code",
   "execution_count": 12,
   "id": "36497111",
   "metadata": {},
   "outputs": [],
   "source": [
    "def batch_train(model, epoch, batch_size, train_loader, criterion, optimizer,\n",
    "                scheduler, set_size):\n",
    "    model.train()  # Turn on the train mode\n",
    "    batch_loss = 0.\n",
    "    total_loss = 0.\n",
    "    start_time = time.time()\n",
    "    predictions = torch.tensor([]).to(device)\n",
    "    ground_truth = torch.tensor([]).to(device)\n",
    "\n",
    "    for i, batch in enumerate(train_loader):\n",
    "        data, targets = batch[0], batch[1]\n",
    "        data = Variable(torch.Tensor(data.float())).to(device)\n",
    "        targets = Variable(torch.Tensor(targets.float())).to(device)\n",
    "\n",
    "        optimizer.zero_grad()\n",
    "        output = model(data)\n",
    "        loss = criterion(output, torch.flatten(targets.long()))\n",
    "        loss.backward()\n",
    "        optimizer.step()\n",
    "\n",
    "        batch_loss += loss.item()\n",
    "        total_loss += batch_loss\n",
    "        log_interval = int(set_size / batch_size / 5)\n",
    "        if i % log_interval == 0 and i > 0:\n",
    "            cur_loss = batch_loss / log_interval\n",
    "            elapsed = time.time() - start_time\n",
    "            print('| epoch {:3d} | {:5d}/{:5d} batches | '\n",
    "                  'lr {:02.6f} | {:5.2f} ms | '\n",
    "                  'loss {:5.5f}'.format(epoch, i, set_size // batch_size,\n",
    "                                        scheduler.get_lr()[0],\n",
    "                                        elapsed * 1000 / log_interval,\n",
    "                                        cur_loss))\n",
    "            batch_loss = 0\n",
    "            start_time = time.time()\n",
    "        pred = output\n",
    "        predictions = torch.cat((predictions, pred), 0)\n",
    "        ground_truth = torch.cat((ground_truth, targets), 0)\n",
    "        \n",
    "\n",
    "    predictions = predictions.cpu().detach().numpy()\n",
    "    predictions = np.argmax(predictions, axis=1).reshape(predictions.shape[0], 1)\n",
    "    ground_truth = ground_truth.cpu().cpu().detach().numpy()\n",
    "    acc = accuracy_score(ground_truth, predictions)\n",
    "    return total_loss, acc"
   ]
  },
  {
   "cell_type": "code",
   "execution_count": 13,
   "id": "a925ebc6",
   "metadata": {},
   "outputs": [],
   "source": [
    "batch_size = 10\n",
    "\n",
    "train_set, test_set, shape = build_dataset(feat_dir)\n",
    "train_loader = DataLoader(train_set,\n",
    "                          batch_size=batch_size,\n",
    "                          shuffle=True)\n",
    "test_loader = DataLoader(test_set,\n",
    "                          batch_size=test_set.y_shape[0],\n",
    "                          shuffle=True)\n",
    "set_size = train_set.y_shape[0]"
   ]
  },
  {
   "cell_type": "code",
   "execution_count": 14,
   "id": "c84b6f5b",
   "metadata": {},
   "outputs": [
    {
     "data": {
      "text/plain": [
       "(197.0, 39.0)"
      ]
     },
     "execution_count": 14,
     "metadata": {},
     "output_type": "execute_result"
    }
   ],
   "source": [
    "shape"
   ]
  },
  {
   "cell_type": "markdown",
   "id": "513801dc",
   "metadata": {},
   "source": [
    "### One example of feature and label"
   ]
  },
  {
   "cell_type": "code",
   "execution_count": 15,
   "id": "d6ed9c64",
   "metadata": {},
   "outputs": [],
   "source": [
    "feat, label = next(iter(train_set))"
   ]
  },
  {
   "cell_type": "code",
   "execution_count": 16,
   "id": "5f43d8c9",
   "metadata": {},
   "outputs": [
    {
     "data": {
      "text/plain": [
       "[<matplotlib.lines.Line2D at 0x7f2cb069adc0>]"
      ]
     },
     "execution_count": 16,
     "metadata": {},
     "output_type": "execute_result"
    },
    {
     "data": {
      "image/png": "[encoded data removed]",
      "text/plain": [
       "<Figure size 432x288 with 1 Axes>"
      ]
     },
     "metadata": {
      "needs_background": "light"
     },
     "output_type": "display_data"
    }
   ],
   "source": [
    "plt.plot(feat)"
   ]
  },
  {
   "cell_type": "code",
   "execution_count": 17,
   "id": "3d38eff3",
   "metadata": {},
   "outputs": [
    {
     "data": {
      "text/plain": [
       "array([0.])"
      ]
     },
     "execution_count": 17,
     "metadata": {},
     "output_type": "execute_result"
    }
   ],
   "source": [
    "label"
   ]
  },
  {
   "cell_type": "code",
   "execution_count": 18,
   "id": "c92119d5",
   "metadata": {},
   "outputs": [],
   "source": [
    "device = torch.device('cuda' if torch.cuda.is_available() else 'cpu')\n",
    "model = MLP(train_set.x_shape[1], 5).to(device)"
   ]
  },
  {
   "cell_type": "markdown",
   "id": "4091de7e",
   "metadata": {},
   "source": [
    "### Training the network"
   ]
  },
  {
   "cell_type": "code",
   "execution_count": 19,
   "id": "04cd47d2",
   "metadata": {},
   "outputs": [
    {
     "name": "stderr",
     "output_type": "stream",
     "text": [
      "/home/rodrigo/home-hd/Anaconda/envs/pytorch/lib/python3.8/site-packages/torch/optim/lr_scheduler.py:369: UserWarning: To get the last learning rate computed by the scheduler, please use `get_last_lr()`.\n",
      "  warnings.warn(\"To get the last learning rate computed by the scheduler, \"\n",
      "/home/rodrigo/home-hd/Anaconda/envs/pytorch/lib/python3.8/site-packages/torch/optim/lr_scheduler.py:369: UserWarning: To get the last learning rate computed by the scheduler, please use `get_last_lr()`.\n",
      "  warnings.warn(\"To get the last learning rate computed by the scheduler, \"\n",
      "/home/rodrigo/home-hd/Anaconda/envs/pytorch/lib/python3.8/site-packages/torch/optim/lr_scheduler.py:369: UserWarning: To get the last learning rate computed by the scheduler, please use `get_last_lr()`.\n",
      "  warnings.warn(\"To get the last learning rate computed by the scheduler, \"\n",
      "/home/rodrigo/home-hd/Anaconda/envs/pytorch/lib/python3.8/site-packages/torch/optim/lr_scheduler.py:369: UserWarning: To get the last learning rate computed by the scheduler, please use `get_last_lr()`.\n",
      "  warnings.warn(\"To get the last learning rate computed by the scheduler, \"\n",
      "/home/rodrigo/home-hd/Anaconda/envs/pytorch/lib/python3.8/site-packages/torch/optim/lr_scheduler.py:369: UserWarning: To get the last learning rate computed by the scheduler, please use `get_last_lr()`.\n",
      "  warnings.warn(\"To get the last learning rate computed by the scheduler, \"\n",
      "/home/rodrigo/home-hd/Anaconda/envs/pytorch/lib/python3.8/site-packages/torch/optim/lr_scheduler.py:369: UserWarning: To get the last learning rate computed by the scheduler, please use `get_last_lr()`.\n",
      "  warnings.warn(\"To get the last learning rate computed by the scheduler, \"\n",
      "/home/rodrigo/home-hd/Anaconda/envs/pytorch/lib/python3.8/site-packages/torch/optim/lr_scheduler.py:369: UserWarning: To get the last learning rate computed by the scheduler, please use `get_last_lr()`.\n",
      "  warnings.warn(\"To get the last learning rate computed by the scheduler, \"\n"
     ]
    },
    {
     "name": "stdout",
     "output_type": "stream",
     "text": [
      "| epoch   1 |     2/   12 batches | lr 0.010000 |  7.39 ms | loss 3.48539\n",
      "| epoch   1 |     4/   12 batches | lr 0.010000 |  4.43 ms | loss 3.64040\n",
      "| epoch   1 |     6/   12 batches | lr 0.010000 |  2.36 ms | loss 3.76412\n",
      "| epoch   1 |     8/   12 batches | lr 0.010000 |  2.13 ms | loss 5.11775\n",
      "| epoch   1 |    10/   12 batches | lr 0.010000 |  2.06 ms | loss 5.89314\n",
      "| epoch   1 |    12/   12 batches | lr 0.010000 |  2.26 ms | loss 2.40257\n",
      "-----------------------------------------------------------------------------------------\n",
      "| end of epoch   1 | time:  0.06s |\n",
      "-----------------------------------------------------------------------------------------\n",
      "| epoch   2 |     2/   12 batches | lr 0.009604 |  3.44 ms | loss 5.81513\n",
      "| epoch   2 |     4/   12 batches | lr 0.009604 |  4.23 ms | loss 0.45836\n",
      "| epoch   2 |     6/   12 batches | lr 0.009604 |  2.17 ms | loss 1.55416\n",
      "| epoch   2 |     8/   12 batches | lr 0.009604 |  2.09 ms | loss 3.11922\n",
      "| epoch   2 |    10/   12 batches | lr 0.009604 |  2.01 ms | loss 2.55091\n",
      "| epoch   2 |    12/   12 batches | lr 0.009604 |  2.23 ms | loss 1.51222\n",
      "-----------------------------------------------------------------------------------------\n",
      "| end of epoch   2 | time:  0.03s |\n",
      "-----------------------------------------------------------------------------------------\n",
      "| epoch   3 |     2/   12 batches | lr 0.009412 |  3.49 ms | loss 1.07269\n",
      "| epoch   3 |     4/   12 batches | lr 0.009412 |  2.10 ms | loss 2.61427\n",
      "| epoch   3 |     6/   12 batches | lr 0.009412 |  2.30 ms | loss 1.55256\n",
      "| epoch   3 |     8/   12 batches | lr 0.009412 |  2.12 ms | loss 1.78076\n",
      "| epoch   3 |    10/   12 batches | lr 0.009412 |  2.00 ms | loss 1.95919\n",
      "| epoch   3 |    12/   12 batches | lr 0.009412 |  1.88 ms | loss 0.80745\n",
      "-----------------------------------------------------------------------------------------\n",
      "| end of epoch   3 | time:  0.03s |\n",
      "-----------------------------------------------------------------------------------------\n",
      "| epoch   4 |     2/   12 batches | lr 0.009224 |  3.26 ms | loss 2.06505\n",
      "| epoch   4 |     4/   12 batches | lr 0.009224 |  2.31 ms | loss 0.45416\n",
      "| epoch   4 |     6/   12 batches | lr 0.009224 |  2.07 ms | loss 0.98767\n",
      "| epoch   4 |     8/   12 batches | lr 0.009224 |  2.03 ms | loss 0.57338\n",
      "| epoch   4 |    10/   12 batches | lr 0.009224 |  2.17 ms | loss 0.07200\n",
      "| epoch   4 |    12/   12 batches | lr 0.009224 |  2.06 ms | loss 0.10986\n",
      "-----------------------------------------------------------------------------------------\n",
      "| end of epoch   4 | time:  0.03s |\n",
      "-----------------------------------------------------------------------------------------\n",
      "| epoch   5 |     2/   12 batches | lr 0.009039 |  2.96 ms | loss 0.39044\n",
      "| epoch   5 |     4/   12 batches | lr 0.009039 |  2.45 ms | loss 0.03471\n",
      "| epoch   5 |     6/   12 batches | lr 0.009039 |  2.29 ms | loss 0.07721\n",
      "| epoch   5 |     8/   12 batches | lr 0.009039 |  2.16 ms | loss 0.74418\n",
      "| epoch   5 |    10/   12 batches | lr 0.009039 |  2.09 ms | loss 3.94049\n",
      "| epoch   5 |    12/   12 batches | lr 0.009039 |  2.10 ms | loss 0.25233\n",
      "-----------------------------------------------------------------------------------------\n",
      "| end of epoch   5 | time:  0.03s |\n",
      "-----------------------------------------------------------------------------------------\n",
      "| epoch   6 |     2/   12 batches | lr 0.008858 |  4.02 ms | loss 0.03806\n",
      "| epoch   6 |     4/   12 batches | lr 0.008858 |  2.24 ms | loss 0.06931\n",
      "| epoch   6 |     6/   12 batches | lr 0.008858 |  2.10 ms | loss 0.10397\n",
      "| epoch   6 |     8/   12 batches | lr 0.008858 |  2.90 ms | loss 0.37162\n",
      "| epoch   6 |    10/   12 batches | lr 0.008858 |  2.03 ms | loss 0.08128\n",
      "| epoch   6 |    12/   12 batches | lr 0.008858 |  3.83 ms | loss 0.15363\n",
      "-----------------------------------------------------------------------------------------\n",
      "| end of epoch   6 | time:  0.04s |\n",
      "-----------------------------------------------------------------------------------------\n",
      "| epoch   7 |     2/   12 batches | lr 0.008681 |  2.92 ms | loss 0.43767\n",
      "| epoch   7 |     4/   12 batches | lr 0.008681 |  2.26 ms | loss 0.07013\n",
      "| epoch   7 |     6/   12 batches | lr 0.008681 |  4.21 ms | loss 0.12425\n",
      "| epoch   7 |     8/   12 batches | lr 0.008681 | 33.87 ms | loss 0.11809\n",
      "| epoch   7 |    10/   12 batches | lr 0.008681 |  2.06 ms | loss 0.14452\n",
      "| epoch   7 |    12/   12 batches | lr 0.008681 |  3.82 ms | loss 0.14452\n",
      "-----------------------------------------------------------------------------------------\n",
      "| end of epoch   7 | time:  0.10s |\n",
      "-----------------------------------------------------------------------------------------\n",
      "| epoch   8 |     2/   12 batches | lr 0.008508 |  2.93 ms | loss 0.47026\n",
      "| epoch   8 |     4/   12 batches | lr 0.008508 |  2.20 ms | loss 0.10600\n",
      "| epoch   8 |     6/   12 batches | lr 0.008508 |  2.23 ms | loss 0.58257\n",
      "| epoch   8 |     8/   12 batches | lr 0.008508 |  2.03 ms | loss 0.13863\n",
      "| epoch   8 |    10/   12 batches | lr 0.008508 |  1.97 ms | loss 0.06931\n",
      "| epoch   8 |    12/   12 batches | lr 0.008508 |  2.14 ms | loss 0.10783\n",
      "-----------------------------------------------------------------------------------------\n",
      "| end of epoch   8 | time:  0.03s |\n",
      "-----------------------------------------------------------------------------------------\n",
      "| epoch   9 |     2/   12 batches | lr 0.008337 |  3.30 ms | loss 0.60994\n",
      "| epoch   9 |     4/   12 batches | lr 0.008337 |  2.07 ms | loss 0.16570\n",
      "| epoch   9 |     6/   12 batches | lr 0.008337 |  2.34 ms | loss 0.28408\n",
      "| epoch   9 |     8/   12 batches | lr 0.008337 |  2.09 ms | loss 0.03467\n",
      "| epoch   9 |    10/   12 batches | lr 0.008337 |  1.97 ms | loss 1.13113\n",
      "| epoch   9 |    12/   12 batches | lr 0.008337 |  1.90 ms | loss 0.15040\n",
      "-----------------------------------------------------------------------------------------\n",
      "| end of epoch   9 | time:  0.03s |\n",
      "-----------------------------------------------------------------------------------------\n",
      "| epoch  10 |     2/   12 batches | lr 0.008171 |  3.47 ms | loss 0.06931\n",
      "| epoch  10 |     4/   12 batches | lr 0.008171 |  2.13 ms | loss 0.33972\n",
      "| epoch  10 |     6/   12 batches | lr 0.008171 |  2.03 ms | loss 0.00000\n",
      "| epoch  10 |     8/   12 batches | lr 0.008171 |  2.04 ms | loss 0.00033\n",
      "| epoch  10 |    10/   12 batches | lr 0.008171 |  2.05 ms | loss 0.12425\n",
      "| epoch  10 |    12/   12 batches | lr 0.008171 |  2.00 ms | loss 0.00000\n",
      "-----------------------------------------------------------------------------------------\n",
      "| end of epoch  10 | time:  0.03s |\n",
      "-----------------------------------------------------------------------------------------\n",
      "| epoch  11 |     2/   12 batches | lr 0.008007 |  3.38 ms | loss 0.21435\n",
      "| epoch  11 |     4/   12 batches | lr 0.008007 |  2.06 ms | loss 0.12425\n",
      "| epoch  11 |     6/   12 batches | lr 0.008007 |  2.01 ms | loss 0.06931\n",
      "| epoch  11 |     8/   12 batches | lr 0.008007 |  2.03 ms | loss 0.11781\n",
      "| epoch  11 |    10/   12 batches | lr 0.008007 |  2.04 ms | loss 3.66213\n",
      "| epoch  11 |    12/   12 batches | lr 0.008007 |  2.11 ms | loss 0.03466\n",
      "-----------------------------------------------------------------------------------------\n",
      "| end of epoch  11 | time:  0.03s |\n",
      "-----------------------------------------------------------------------------------------\n",
      "| epoch  12 |     2/   12 batches | lr 0.007847 |  3.03 ms | loss 0.17329\n",
      "| epoch  12 |     4/   12 batches | lr 0.007847 |  1.94 ms | loss 0.05556\n",
      "| epoch  12 |     6/   12 batches | lr 0.007847 |  2.54 ms | loss 0.08959\n",
      "| epoch  12 |     8/   12 batches | lr 0.007847 |  2.30 ms | loss 0.13863\n",
      "| epoch  12 |    10/   12 batches | lr 0.007847 |  2.03 ms | loss 0.05493\n",
      "| epoch  12 |    12/   12 batches | lr 0.007847 |  1.96 ms | loss 0.05689\n",
      "-----------------------------------------------------------------------------------------\n",
      "| end of epoch  12 | time:  0.03s |\n",
      "-----------------------------------------------------------------------------------------\n",
      "| epoch  13 |     2/   12 batches | lr 0.007690 |  3.05 ms | loss 0.80431\n",
      "| epoch  13 |     4/   12 batches | lr 0.007690 |  1.97 ms | loss 0.62616\n",
      "| epoch  13 |     6/   12 batches | lr 0.007690 |  1.98 ms | loss 0.71499\n",
      "| epoch  13 |     8/   12 batches | lr 0.007690 |  2.07 ms | loss 0.06975\n",
      "| epoch  13 |    10/   12 batches | lr 0.007690 |  4.16 ms | loss 0.00000\n",
      "| epoch  13 |    12/   12 batches | lr 0.007690 |  1.88 ms | loss 0.03472\n",
      "-----------------------------------------------------------------------------------------\n",
      "| end of epoch  13 | time:  0.03s |\n",
      "-----------------------------------------------------------------------------------------\n",
      "| epoch  14 |     2/   12 batches | lr 0.007536 |  3.61 ms | loss 1.03284\n"
     ]
    },
    {
     "name": "stderr",
     "output_type": "stream",
     "text": [
      "/home/rodrigo/home-hd/Anaconda/envs/pytorch/lib/python3.8/site-packages/torch/optim/lr_scheduler.py:369: UserWarning: To get the last learning rate computed by the scheduler, please use `get_last_lr()`.\n",
      "  warnings.warn(\"To get the last learning rate computed by the scheduler, \"\n",
      "/home/rodrigo/home-hd/Anaconda/envs/pytorch/lib/python3.8/site-packages/torch/optim/lr_scheduler.py:369: UserWarning: To get the last learning rate computed by the scheduler, please use `get_last_lr()`.\n",
      "  warnings.warn(\"To get the last learning rate computed by the scheduler, \"\n",
      "/home/rodrigo/home-hd/Anaconda/envs/pytorch/lib/python3.8/site-packages/torch/optim/lr_scheduler.py:369: UserWarning: To get the last learning rate computed by the scheduler, please use `get_last_lr()`.\n",
      "  warnings.warn(\"To get the last learning rate computed by the scheduler, \"\n",
      "/home/rodrigo/home-hd/Anaconda/envs/pytorch/lib/python3.8/site-packages/torch/optim/lr_scheduler.py:369: UserWarning: To get the last learning rate computed by the scheduler, please use `get_last_lr()`.\n",
      "  warnings.warn(\"To get the last learning rate computed by the scheduler, \"\n",
      "/home/rodrigo/home-hd/Anaconda/envs/pytorch/lib/python3.8/site-packages/torch/optim/lr_scheduler.py:369: UserWarning: To get the last learning rate computed by the scheduler, please use `get_last_lr()`.\n",
      "  warnings.warn(\"To get the last learning rate computed by the scheduler, \"\n",
      "/home/rodrigo/home-hd/Anaconda/envs/pytorch/lib/python3.8/site-packages/torch/optim/lr_scheduler.py:369: UserWarning: To get the last learning rate computed by the scheduler, please use `get_last_lr()`.\n",
      "  warnings.warn(\"To get the last learning rate computed by the scheduler, \"\n",
      "/home/rodrigo/home-hd/Anaconda/envs/pytorch/lib/python3.8/site-packages/torch/optim/lr_scheduler.py:369: UserWarning: To get the last learning rate computed by the scheduler, please use `get_last_lr()`.\n",
      "  warnings.warn(\"To get the last learning rate computed by the scheduler, \"\n"
     ]
    },
    {
     "name": "stdout",
     "output_type": "stream",
     "text": [
      "| epoch  14 |     4/   12 batches | lr 0.007536 |  2.36 ms | loss 0.03466\n",
      "| epoch  14 |     6/   12 batches | lr 0.007536 | 12.85 ms | loss 0.04736\n",
      "| epoch  14 |     8/   12 batches | lr 0.007536 |  5.20 ms | loss 0.19358\n",
      "| epoch  14 |    10/   12 batches | lr 0.007536 |  5.99 ms | loss 0.06940\n",
      "| epoch  14 |    12/   12 batches | lr 0.007536 |  1.96 ms | loss 0.05493\n",
      "-----------------------------------------------------------------------------------------\n",
      "| end of epoch  14 | time:  0.06s |\n",
      "-----------------------------------------------------------------------------------------\n",
      "| epoch  15 |     2/   12 batches | lr 0.007386 |  4.79 ms | loss 0.13866\n",
      "| epoch  15 |     4/   12 batches | lr 0.007386 |  3.39 ms | loss 0.03675\n",
      "| epoch  15 |     6/   12 batches | lr 0.007386 |  2.17 ms | loss 0.12443\n",
      "| epoch  15 |     8/   12 batches | lr 0.007386 |  4.43 ms | loss 0.27104\n",
      "| epoch  15 |    10/   12 batches | lr 0.007386 |  2.10 ms | loss 0.56587\n",
      "| epoch  15 |    12/   12 batches | lr 0.007386 |  2.09 ms | loss 0.08959\n",
      "-----------------------------------------------------------------------------------------\n",
      "| end of epoch  15 | time:  0.04s |\n",
      "-----------------------------------------------------------------------------------------\n",
      "| epoch  16 |     2/   12 batches | lr 0.007238 |  4.69 ms | loss 0.07010\n",
      "| epoch  16 |     4/   12 batches | lr 0.007238 |  2.32 ms | loss 0.11249\n",
      "| epoch  16 |     6/   12 batches | lr 0.007238 |  2.23 ms | loss 0.08959\n",
      "| epoch  16 |     8/   12 batches | lr 0.007238 |  2.06 ms | loss 0.10682\n",
      "| epoch  16 |    10/   12 batches | lr 0.007238 |  2.03 ms | loss 0.08960\n",
      "| epoch  16 |    12/   12 batches | lr 0.007238 |  1.90 ms | loss 0.10525\n",
      "-----------------------------------------------------------------------------------------\n",
      "| end of epoch  16 | time:  0.03s |\n",
      "-----------------------------------------------------------------------------------------\n",
      "| epoch  17 |     2/   12 batches | lr 0.007093 |  3.37 ms | loss 0.24261\n",
      "| epoch  17 |     4/   12 batches | lr 0.007093 |  2.09 ms | loss 0.05493\n",
      "| epoch  17 |     6/   12 batches | lr 0.007093 |  2.04 ms | loss 0.06931\n",
      "| epoch  17 |     8/   12 batches | lr 0.007093 |  2.27 ms | loss 0.00003\n",
      "| epoch  17 |    10/   12 batches | lr 0.007093 |  2.06 ms | loss 0.12426\n",
      "| epoch  17 |    12/   12 batches | lr 0.007093 |  1.86 ms | loss 0.14452\n",
      "-----------------------------------------------------------------------------------------\n",
      "| end of epoch  17 | time:  0.03s |\n",
      "-----------------------------------------------------------------------------------------\n",
      "| epoch  18 |     2/   12 batches | lr 0.006951 |  3.45 ms | loss 0.09019\n",
      "| epoch  18 |     4/   12 batches | lr 0.006951 |  2.30 ms | loss 0.14456\n",
      "| epoch  18 |     6/   12 batches | lr 0.006951 |  2.05 ms | loss 0.20811\n",
      "| epoch  18 |     8/   12 batches | lr 0.006951 |  2.09 ms | loss 0.13863\n",
      "| epoch  18 |    10/   12 batches | lr 0.006951 |  2.12 ms | loss 0.40374\n",
      "| epoch  18 |    12/   12 batches | lr 0.006951 |  1.99 ms | loss 0.12425\n",
      "-----------------------------------------------------------------------------------------\n",
      "| end of epoch  18 | time:  0.03s |\n",
      "-----------------------------------------------------------------------------------------\n",
      "| epoch  19 |     2/   12 batches | lr 0.006812 |  3.67 ms | loss 0.15892\n",
      "| epoch  19 |     4/   12 batches | lr 0.006812 |  2.12 ms | loss 0.10986\n",
      "| epoch  19 |     6/   12 batches | lr 0.006812 |  2.00 ms | loss 0.08959\n",
      "| epoch  19 |     8/   12 batches | lr 0.006812 |  2.03 ms | loss 0.14452\n"
     ]
    },
    {
     "name": "stderr",
     "output_type": "stream",
     "text": [
      "/home/rodrigo/home-hd/Anaconda/envs/pytorch/lib/python3.8/site-packages/torch/optim/lr_scheduler.py:369: UserWarning: To get the last learning rate computed by the scheduler, please use `get_last_lr()`.\n",
      "  warnings.warn(\"To get the last learning rate computed by the scheduler, \"\n",
      "/home/rodrigo/home-hd/Anaconda/envs/pytorch/lib/python3.8/site-packages/torch/optim/lr_scheduler.py:369: UserWarning: To get the last learning rate computed by the scheduler, please use `get_last_lr()`.\n",
      "  warnings.warn(\"To get the last learning rate computed by the scheduler, \"\n",
      "/home/rodrigo/home-hd/Anaconda/envs/pytorch/lib/python3.8/site-packages/torch/optim/lr_scheduler.py:369: UserWarning: To get the last learning rate computed by the scheduler, please use `get_last_lr()`.\n",
      "  warnings.warn(\"To get the last learning rate computed by the scheduler, \"\n",
      "/home/rodrigo/home-hd/Anaconda/envs/pytorch/lib/python3.8/site-packages/torch/optim/lr_scheduler.py:369: UserWarning: To get the last learning rate computed by the scheduler, please use `get_last_lr()`.\n",
      "  warnings.warn(\"To get the last learning rate computed by the scheduler, \"\n",
      "/home/rodrigo/home-hd/Anaconda/envs/pytorch/lib/python3.8/site-packages/torch/optim/lr_scheduler.py:369: UserWarning: To get the last learning rate computed by the scheduler, please use `get_last_lr()`.\n",
      "  warnings.warn(\"To get the last learning rate computed by the scheduler, \"\n",
      "/home/rodrigo/home-hd/Anaconda/envs/pytorch/lib/python3.8/site-packages/torch/optim/lr_scheduler.py:369: UserWarning: To get the last learning rate computed by the scheduler, please use `get_last_lr()`.\n",
      "  warnings.warn(\"To get the last learning rate computed by the scheduler, \"\n",
      "/home/rodrigo/home-hd/Anaconda/envs/pytorch/lib/python3.8/site-packages/torch/optim/lr_scheduler.py:369: UserWarning: To get the last learning rate computed by the scheduler, please use `get_last_lr()`.\n",
      "  warnings.warn(\"To get the last learning rate computed by the scheduler, \"\n"
     ]
    },
    {
     "name": "stdout",
     "output_type": "stream",
     "text": [
      "| epoch  19 |    10/   12 batches | lr 0.006812 |  4.76 ms | loss 0.08961\n",
      "| epoch  19 |    12/   12 batches | lr 0.006812 |  2.55 ms | loss 0.10397\n",
      "-----------------------------------------------------------------------------------------\n",
      "| end of epoch  19 | time:  0.04s |\n",
      "-----------------------------------------------------------------------------------------\n",
      "| epoch  20 |     2/   12 batches | lr 0.006676 |  3.73 ms | loss 0.31821\n",
      "| epoch  20 |     4/   12 batches | lr 0.006676 |  3.59 ms | loss 0.08959\n",
      "| epoch  20 |     6/   12 batches | lr 0.006676 |  2.10 ms | loss 0.13863\n",
      "| epoch  20 |     8/   12 batches | lr 0.006676 |  2.28 ms | loss 0.12466\n",
      "| epoch  20 |    10/   12 batches | lr 0.006676 |  2.23 ms | loss 0.19358\n",
      "| epoch  20 |    12/   12 batches | lr 0.006676 |  1.88 ms | loss 0.13863\n",
      "-----------------------------------------------------------------------------------------\n",
      "| end of epoch  20 | time:  0.03s |\n",
      "-----------------------------------------------------------------------------------------\n",
      "| epoch  21 |     2/   12 batches | lr 0.006543 |  3.03 ms | loss 0.00005\n",
      "| epoch  21 |     4/   12 batches | lr 0.006543 |  2.05 ms | loss 0.15890\n",
      "| epoch  21 |     6/   12 batches | lr 0.006543 |  2.13 ms | loss 0.03466\n",
      "| epoch  21 |     8/   12 batches | lr 0.006543 |  4.88 ms | loss 0.23413\n",
      "| epoch  21 |    10/   12 batches | lr 0.006543 |  3.05 ms | loss 0.03466\n",
      "| epoch  21 |    12/   12 batches | lr 0.006543 |  2.01 ms | loss 0.06931\n",
      "-----------------------------------------------------------------------------------------\n",
      "| end of epoch  21 | time:  0.04s |\n",
      "-----------------------------------------------------------------------------------------\n",
      "| epoch  22 |     2/   12 batches | lr 0.006412 |  5.08 ms | loss 0.15890\n",
      "| epoch  22 |     4/   12 batches | lr 0.006412 |  2.02 ms | loss 0.03479\n",
      "| epoch  22 |     6/   12 batches | lr 0.006412 |  1.98 ms | loss 0.03469\n",
      "| epoch  22 |     8/   12 batches | lr 0.006412 |  2.11 ms | loss 0.15890\n",
      "| epoch  22 |    10/   12 batches | lr 0.006412 |  2.04 ms | loss 0.06932\n",
      "| epoch  22 |    12/   12 batches | lr 0.006412 |  1.88 ms | loss 0.05493\n",
      "-----------------------------------------------------------------------------------------\n",
      "| end of epoch  22 | time:  0.03s |\n",
      "-----------------------------------------------------------------------------------------\n",
      "| epoch  23 |     2/   12 batches | lr 0.006283 |  3.56 ms | loss 0.19357\n",
      "| epoch  23 |     4/   12 batches | lr 0.006283 |  2.33 ms | loss 0.06932\n",
      "| epoch  23 |     6/   12 batches | lr 0.006283 |  1.98 ms | loss 0.05497\n",
      "| epoch  23 |     8/   12 batches | lr 0.006283 |  2.08 ms | loss 0.17918\n",
      "| epoch  23 |    10/   12 batches | lr 0.006283 |  2.08 ms | loss 0.10397\n",
      "| epoch  23 |    12/   12 batches | lr 0.006283 |  2.03 ms | loss 0.17959\n",
      "-----------------------------------------------------------------------------------------\n",
      "| end of epoch  23 | time:  0.03s |\n",
      "-----------------------------------------------------------------------------------------\n",
      "| epoch  24 |     2/   12 batches | lr 0.006158 |  2.96 ms | loss 0.12443\n",
      "| epoch  24 |     4/   12 batches | lr 0.006158 |  1.97 ms | loss 0.08961\n",
      "| epoch  24 |     6/   12 batches | lr 0.006158 |  2.06 ms | loss 0.18714\n",
      "| epoch  24 |     8/   12 batches | lr 0.006158 |  2.00 ms | loss 0.03468\n",
      "| epoch  24 |    10/   12 batches | lr 0.006158 |  2.03 ms | loss 0.10397\n",
      "| epoch  24 |    12/   12 batches | lr 0.006158 |  1.91 ms | loss 0.17329\n",
      "-----------------------------------------------------------------------------------------\n",
      "| end of epoch  24 | time:  0.03s |\n",
      "-----------------------------------------------------------------------------------------\n",
      "| epoch  25 |     2/   12 batches | lr 0.006035 |  3.36 ms | loss 0.09527\n",
      "| epoch  25 |     4/   12 batches | lr 0.006035 |  2.10 ms | loss 0.26289\n",
      "| epoch  25 |     6/   12 batches | lr 0.006035 |  2.06 ms | loss 0.06932\n",
      "| epoch  25 |     8/   12 batches | lr 0.006035 |  2.15 ms | loss 0.03466\n",
      "| epoch  25 |    10/   12 batches | lr 0.006035 |  1.96 ms | loss 0.10399\n",
      "| epoch  25 |    12/   12 batches | lr 0.006035 |  1.88 ms | loss 0.10990\n",
      "-----------------------------------------------------------------------------------------\n",
      "| end of epoch  25 | time:  0.03s |\n",
      "-----------------------------------------------------------------------------------------\n",
      "| epoch  26 |     2/   12 batches | lr 0.005914 |  3.44 ms | loss 0.08971\n"
     ]
    },
    {
     "name": "stderr",
     "output_type": "stream",
     "text": [
      "/home/rodrigo/home-hd/Anaconda/envs/pytorch/lib/python3.8/site-packages/torch/optim/lr_scheduler.py:369: UserWarning: To get the last learning rate computed by the scheduler, please use `get_last_lr()`.\n",
      "  warnings.warn(\"To get the last learning rate computed by the scheduler, \"\n",
      "/home/rodrigo/home-hd/Anaconda/envs/pytorch/lib/python3.8/site-packages/torch/optim/lr_scheduler.py:369: UserWarning: To get the last learning rate computed by the scheduler, please use `get_last_lr()`.\n",
      "  warnings.warn(\"To get the last learning rate computed by the scheduler, \"\n",
      "/home/rodrigo/home-hd/Anaconda/envs/pytorch/lib/python3.8/site-packages/torch/optim/lr_scheduler.py:369: UserWarning: To get the last learning rate computed by the scheduler, please use `get_last_lr()`.\n",
      "  warnings.warn(\"To get the last learning rate computed by the scheduler, \"\n",
      "/home/rodrigo/home-hd/Anaconda/envs/pytorch/lib/python3.8/site-packages/torch/optim/lr_scheduler.py:369: UserWarning: To get the last learning rate computed by the scheduler, please use `get_last_lr()`.\n",
      "  warnings.warn(\"To get the last learning rate computed by the scheduler, \"\n",
      "/home/rodrigo/home-hd/Anaconda/envs/pytorch/lib/python3.8/site-packages/torch/optim/lr_scheduler.py:369: UserWarning: To get the last learning rate computed by the scheduler, please use `get_last_lr()`.\n",
      "  warnings.warn(\"To get the last learning rate computed by the scheduler, \"\n",
      "/home/rodrigo/home-hd/Anaconda/envs/pytorch/lib/python3.8/site-packages/torch/optim/lr_scheduler.py:369: UserWarning: To get the last learning rate computed by the scheduler, please use `get_last_lr()`.\n",
      "  warnings.warn(\"To get the last learning rate computed by the scheduler, \"\n",
      "/home/rodrigo/home-hd/Anaconda/envs/pytorch/lib/python3.8/site-packages/torch/optim/lr_scheduler.py:369: UserWarning: To get the last learning rate computed by the scheduler, please use `get_last_lr()`.\n",
      "  warnings.warn(\"To get the last learning rate computed by the scheduler, \"\n"
     ]
    },
    {
     "name": "stdout",
     "output_type": "stream",
     "text": [
      "| epoch  26 |     4/   12 batches | lr 0.005914 |  2.17 ms | loss 0.10397\n",
      "| epoch  26 |     6/   12 batches | lr 0.005914 |  7.58 ms | loss 0.08960\n",
      "| epoch  26 |     8/   12 batches | lr 0.005914 |  4.03 ms | loss 0.06934\n",
      "| epoch  26 |    10/   12 batches | lr 0.005914 |  2.29 ms | loss 0.12427\n",
      "| epoch  26 |    12/   12 batches | lr 0.005914 |  2.14 ms | loss 0.00000\n",
      "-----------------------------------------------------------------------------------------\n",
      "| end of epoch  26 | time:  0.04s |\n",
      "-----------------------------------------------------------------------------------------\n",
      "| epoch  27 |     2/   12 batches | lr 0.005796 |  3.01 ms | loss 0.19946\n",
      "| epoch  27 |     4/   12 batches | lr 0.005796 |  2.08 ms | loss 0.13863\n",
      "| epoch  27 |     6/   12 batches | lr 0.005796 |  2.01 ms | loss 0.17329\n",
      "| epoch  27 |     8/   12 batches | lr 0.005796 |  1.96 ms | loss 0.03470\n",
      "| epoch  27 |    10/   12 batches | lr 0.005796 |  2.09 ms | loss 0.26876\n",
      "| epoch  27 |    12/   12 batches | lr 0.005796 |  2.00 ms | loss 0.06932\n",
      "-----------------------------------------------------------------------------------------\n",
      "| end of epoch  27 | time:  0.03s |\n",
      "-----------------------------------------------------------------------------------------\n",
      "| epoch  28 |     2/   12 batches | lr 0.005680 |  3.23 ms | loss 0.13866\n",
      "| epoch  28 |     4/   12 batches | lr 0.005680 |  2.08 ms | loss 0.10397\n",
      "| epoch  28 |     6/   12 batches | lr 0.005680 |  2.49 ms | loss 0.03467\n",
      "| epoch  28 |     8/   12 batches | lr 0.005680 |  2.16 ms | loss 0.13864\n",
      "| epoch  28 |    10/   12 batches | lr 0.005680 |  2.27 ms | loss 0.14453\n",
      "| epoch  28 |    12/   12 batches | lr 0.005680 |  6.14 ms | loss 0.00001\n",
      "-----------------------------------------------------------------------------------------\n",
      "| end of epoch  28 | time:  0.04s |\n",
      "-----------------------------------------------------------------------------------------\n",
      "| epoch  29 |     2/   12 batches | lr 0.005566 |  8.54 ms | loss 0.22822\n",
      "| epoch  29 |     4/   12 batches | lr 0.005566 |  4.04 ms | loss 0.05493\n",
      "| epoch  29 |     6/   12 batches | lr 0.005566 |  2.25 ms | loss 0.06931\n",
      "| epoch  29 |     8/   12 batches | lr 0.005566 |  2.23 ms | loss 0.06932\n",
      "| epoch  29 |    10/   12 batches | lr 0.005566 |  1.98 ms | loss 0.10398\n",
      "| epoch  29 |    12/   12 batches | lr 0.005566 |  1.97 ms | loss 0.13864\n",
      "-----------------------------------------------------------------------------------------\n",
      "| end of epoch  29 | time:  0.04s |\n",
      "-----------------------------------------------------------------------------------------\n",
      "| epoch  30 |     2/   12 batches | lr 0.005455 |  3.07 ms | loss 0.08960\n",
      "| epoch  30 |     4/   12 batches | lr 0.005455 |  1.97 ms | loss 0.12444\n",
      "| epoch  30 |     6/   12 batches | lr 0.005455 |  1.99 ms | loss 0.00000\n",
      "| epoch  30 |     8/   12 batches | lr 0.005455 |  2.10 ms | loss 0.03466\n",
      "| epoch  30 |    10/   12 batches | lr 0.005455 |  2.04 ms | loss 0.06931\n",
      "| epoch  30 |    12/   12 batches | lr 0.005455 |  1.89 ms | loss 0.03468\n",
      "-----------------------------------------------------------------------------------------\n",
      "| end of epoch  30 | time:  0.03s |\n",
      "-----------------------------------------------------------------------------------------\n"
     ]
    },
    {
     "name": "stderr",
     "output_type": "stream",
     "text": [
      "/home/rodrigo/home-hd/Anaconda/envs/pytorch/lib/python3.8/site-packages/torch/optim/lr_scheduler.py:369: UserWarning: To get the last learning rate computed by the scheduler, please use `get_last_lr()`.\n",
      "  warnings.warn(\"To get the last learning rate computed by the scheduler, \"\n",
      "/home/rodrigo/home-hd/Anaconda/envs/pytorch/lib/python3.8/site-packages/torch/optim/lr_scheduler.py:369: UserWarning: To get the last learning rate computed by the scheduler, please use `get_last_lr()`.\n",
      "  warnings.warn(\"To get the last learning rate computed by the scheduler, \"\n"
     ]
    }
   ],
   "source": [
    "criterion = torch.nn.CrossEntropyLoss()\n",
    "optimizer = torch.optim.Adam(model.parameters(), lr=1e-02)\n",
    "scheduler = torch.optim.lr_scheduler.StepLR(optimizer, 1.0, gamma=0.98)\n",
    "loss, acc =  train(model, 30, batch_size, train_loader, criterion,\n",
    "      optimizer, scheduler, set_size)"
   ]
  },
  {
   "cell_type": "code",
   "execution_count": 20,
   "id": "ee9f5e52",
   "metadata": {},
   "outputs": [
    {
     "data": {
      "text/plain": [
       "[<matplotlib.lines.Line2D at 0x7f2cb0386ee0>]"
      ]
     },
     "execution_count": 20,
     "metadata": {},
     "output_type": "execute_result"
    },
    {
     "data": {
      "image/png": "[encoded data removed]",
      "text/plain": [
       "<Figure size 432x288 with 1 Axes>"
      ]
     },
     "metadata": {
      "needs_background": "light"
     },
     "output_type": "display_data"
    }
   ],
   "source": [
    "plt.plot(loss)"
   ]
  },
  {
   "cell_type": "code",
   "execution_count": 21,
   "id": "d0973b86",
   "metadata": {},
   "outputs": [
    {
     "data": {
      "text/plain": [
       "[<matplotlib.lines.Line2D at 0x7f2cb0378d90>]"
      ]
     },
     "execution_count": 21,
     "metadata": {},
     "output_type": "execute_result"
    },
    {
     "data": {
      "image/png": "[encoded data removed]",
      "text/plain": [
       "<Figure size 432x288 with 1 Axes>"
      ]
     },
     "metadata": {
      "needs_background": "light"
     },
     "output_type": "display_data"
    }
   ],
   "source": [
    "plt.plot(acc)"
   ]
  },
  {
   "cell_type": "code",
   "execution_count": 22,
   "id": "e098fc88",
   "metadata": {},
   "outputs": [],
   "source": [
    "\n",
    "predictions = torch.tensor([]).to(device)\n",
    "ground_truth = torch.tensor([]).to(device)\n",
    "for batch in test_loader:\n",
    "    data, targets = batch[0], batch[1] # next(iter(test_loader))\n",
    "    data = Variable(torch.Tensor(data.float())).to(device)\n",
    "    targets = Variable(torch.Tensor(targets.float())).to(device)\n",
    "    output = model(data)\n",
    "    loss = criterion(output, torch.flatten(targets.long()))\n",
    "\n",
    "predictions = torch.cat((predictions, output), 0)\n",
    "ground_truth = torch.cat((ground_truth, targets), 0)"
   ]
  },
  {
   "cell_type": "code",
   "execution_count": 23,
   "id": "0e489c8f",
   "metadata": {},
   "outputs": [],
   "source": [
    "predictions = predictions.cpu().detach().numpy()\n",
    "predictions = np.argmax(predictions, axis=1).reshape(predictions.shape[0], 1)\n",
    "ground_truth = ground_truth.cpu().cpu().detach().numpy()"
   ]
  },
  {
   "cell_type": "code",
   "execution_count": 24,
   "id": "31efff9d",
   "metadata": {},
   "outputs": [
    {
     "data": {
      "image/png": "[encoded data removed]",
      "text/plain": [
       "<Figure size 720x504 with 2 Axes>"
      ]
     },
     "metadata": {
      "needs_background": "light"
     },
     "output_type": "display_data"
    }
   ],
   "source": [
    "conf_mtx = confusion_matrix(ground_truth, predictions)\n",
    "\n",
    "conf_df = pd.DataFrame(conf_mtx, index = [i for i in range(5)],\n",
    "                  columns = [i for i in range(5)])\n",
    "plt.figure(figsize = (10,7))\n",
    "sns.heatmap(conf_df, cmap=sns.cm.rocket_r, square=True, linewidths=0.1, annot=True, fmt='d', annot_kws={\"fontsize\": 8})  \n",
    "plt.show()"
   ]
  },
  {
   "cell_type": "code",
   "execution_count": 25,
   "id": "a9690803",
   "metadata": {},
   "outputs": [
    {
     "name": "stdout",
     "output_type": "stream",
     "text": [
      " Acc:\t 0.520\n"
     ]
    }
   ],
   "source": [
    "acc = accuracy_score(ground_truth, predictions)\n",
    "print(f' Acc:\\t {acc:.3f}')"
   ]
  }
 ],
 "metadata": {
  "kernelspec": {
   "display_name": "Python 3",
   "language": "python",
   "name": "python3"
  },
  "language_info": {
   "codemirror_mode": {
    "name": "ipython",
    "version": 3
   },
   "file_extension": ".py",
   "mimetype": "text/x-python",
   "name": "python",
   "nbconvert_exporter": "python",
   "pygments_lexer": "ipython3",
   "version": "3.8.8"
  }
 },
 "nbformat": 4,
 "nbformat_minor": 5
}
