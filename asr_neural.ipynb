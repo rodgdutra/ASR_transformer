{
 "cells": [
  {
   "cell_type": "code",
   "execution_count": 1,
   "id": "b62ac3d5",
   "metadata": {},
   "outputs": [],
   "source": [
    "import numpy as np\n",
    "import struct\n",
    "import torch\n",
    "import torch.nn as nn\n",
    "import matplotlib.pyplot as plt\n",
    "import time\n",
    "import pandas as pd\n",
    "import seaborn as sns\n",
    "from torch.autograd import Variable\n",
    "from torch.utils.data import DataLoader, Dataset\n",
    "from os import listdir\n",
    "from os.path import isfile, join\n",
    "from sklearn.preprocessing import StandardScaler, MinMaxScaler\n",
    "from sklearn.metrics import confusion_matrix, accuracy_score"
   ]
  },
  {
   "cell_type": "markdown",
   "id": "5f8bb6f9",
   "metadata": {},
   "source": [
    "### Automatic speach recognition with neural networks\n",
    "This notebook uses MFCC pre-prossesing to generate acoustic features to the neural network, and then the neural network can be trained and tested. The baseline consists into HNNs. \n",
    "\n",
    "The dataset utilized in this notebook is the speach commands datasets from tensorflow. As this dataset comes with a lot of words and a lots of examples, we choose to simplify this notebook example by focusing in the following words: cat, dog, happy, house and zero. The training set consists into 25 examples of each word, and the testing set consists into 5 new examples of each word.\n",
    "\n",
    "All the pre-prossecing is made by the spock: . Using this software the user can process WAV files and output the processed acoustic features in `.FEA` files. Then the neural network can receive this accoustic features and output the class that corresponds to the right word. "
   ]
  },
  {
   "cell_type": "markdown",
   "id": "f895ab5d",
   "metadata": {},
   "source": [
    "### The first step consists into reading the FEA files"
   ]
  },
  {
   "cell_type": "code",
   "execution_count": 2,
   "id": "87a64780",
   "metadata": {},
   "outputs": [],
   "source": [
    "feat_dir = './output_100_25/mfcceda39w240s80/features'"
   ]
  },
  {
   "cell_type": "code",
   "execution_count": 3,
   "id": "a3569395",
   "metadata": {},
   "outputs": [],
   "source": [
    "def seed_torch(seed=1029):\n",
    "    random.seed(seed)\n",
    "    os.environ['PYTHONHASHSEED'] = str(seed)\n",
    "    np.random.seed(seed)\n",
    "    torch.manual_seed(seed)\n",
    "    torch.cuda.manual_seed(seed)\n",
    "    torch.backends.cudnn.deterministic = True"
   ]
  },
  {
   "cell_type": "code",
   "execution_count": 4,
   "id": "dd1a3361",
   "metadata": {},
   "outputs": [],
   "source": [
    "def fea_to_samples(filename):\n",
    "    # Discard the header with 2048 bytes that yield 512 floats\n",
    "    feat_array = np.fromfile(filename, dtype='>f') [512:]\n",
    "    num_of_paterns = feat_array[0]\n",
    "    space_dimension = feat_array[1]\n",
    "    \n",
    "    res = []\n",
    "    # Jump the first 2 floats\n",
    "    i_s = 2\n",
    "    total_frames = []\n",
    "    for pat in range(int(num_of_paterns)):\n",
    "        # Feature Extraction\n",
    "        n_frames = feat_array[i_s]\n",
    "        total_frames.append(n_frames) \n",
    "        i_e = space_dimension*n_frames + i_s + 1  \n",
    "        feat = feat_array[i_s+1: int(i_e)].tolist()\n",
    "        i_s = int(i_e)\n",
    "        res.append(feat)\n",
    "    \n",
    "    assert(i_e == len(feat_array))\n",
    "    \n",
    "    # Convert the feature patterns to a np matrix, padding according \n",
    "    # to the biggest entry\n",
    "    max_dim = max([len(row) for row in res])\n",
    "    res_np = np.zeros((int(num_of_paterns), max_dim))\n",
    "    \n",
    "    for pat in range(int(num_of_paterns)):\n",
    "        vec_len = len(res[pat])\n",
    "        res_np[pat][:vec_len] = res[pat] \n",
    "    \n",
    "    return res_np,(max(total_frames), space_dimension)"
   ]
  },
  {
   "cell_type": "markdown",
   "id": "52e332db",
   "metadata": {},
   "source": [
    "### After reading the FEA files we can organize the network input and desireble output\n",
    "In this supervised learning probblem we must organize matrices that will serve as input or features, and other that will be the desired output or label."
   ]
  },
  {
   "cell_type": "code",
   "execution_count": 5,
   "id": "4a122ccc",
   "metadata": {},
   "outputs": [],
   "source": [
    "def generate_xy_matrices(feat_dir):\n",
    "    files = listdir(feat_dir)\n",
    "    labels = [name[2:-4] for name in listdir(feat_dir)]\n",
    "    x_matrix, shape = fea_to_samples(feat_dir+ '/' +files[0])\n",
    "\n",
    "    y_matrix = np.zeros((x_matrix.shape[0], 1))\n",
    "    y_matrix[:,0] = 0\n",
    "    for file_i in range(1,len(files)):\n",
    "        x_i, _ = fea_to_samples(feat_dir + '/' + files[file_i])\n",
    "        y_i = np.zeros((x_i.shape[0], 1))\n",
    "        y_i[:,0] = file_i\n",
    "        x_matrix = np.concatenate((x_matrix, x_i))\n",
    "        y_matrix = np.concatenate((y_matrix, y_i))\n",
    "\n",
    "    return x_matrix, y_matrix, shape"
   ]
  },
  {
   "cell_type": "markdown",
   "id": "601faacd",
   "metadata": {},
   "source": [
    "### After that we must organize our dataset object\n",
    "As we are using the Pytorch stack, it is recommended to use the Dataset class to organize the entry and output samples of training and test sets. "
   ]
  },
  {
   "cell_type": "code",
   "execution_count": 6,
   "id": "6329e0a6",
   "metadata": {},
   "outputs": [],
   "source": [
    "class MfcSet(Dataset):\n",
    "    def __init__(self,\n",
    "                 x_matrix,\n",
    "                 y_matrix,\n",
    "                std_scaler=None,\n",
    "                min_max_scaler=None):\n",
    "        \n",
    "#         if std_scaler==None:\n",
    "#             # Standard scaling\n",
    "#             std_scaler = StandardScaler()\n",
    "#             std_scaler.fit(x_matrix)\n",
    "#         x_matrix = std_scaler.transform(x_matrix)\n",
    "\n",
    "       \n",
    "        if min_max_scaler == None:\n",
    "            # Min max scaling\n",
    "            min_max_scaler = MinMaxScaler(feature_range=(-1, 1))\n",
    "            min_max_scaler.fit(x_matrix)\n",
    "        x_matrix = min_max_scaler.transform(x_matrix)\n",
    "    \n",
    "        self.X = x_matrix\n",
    "        self.y = y_matrix\n",
    "        self.std_scaler = std_scaler\n",
    "        self.min_max_scaler = min_max_scaler\n",
    "        self.x_shape = self.X.shape\n",
    "        self.y_shape = self.y.shape\n",
    "        \n",
    "    def __len__(self):\n",
    "        return len(self.X)\n",
    "\n",
    "    def __getitem__(self, idx):\n",
    "        return self.X[idx], self.y[idx]"
   ]
  },
  {
   "cell_type": "code",
   "execution_count": 7,
   "id": "12b5a66c",
   "metadata": {},
   "outputs": [],
   "source": [
    "def build_dataset(root_dir):\n",
    "    x_train, y_train, shape = generate_xy_matrices(root_dir + '/train')\n",
    "    x_test, y_test, _ = generate_xy_matrices(root_dir + '/test')\n",
    "    feat_scaler = MinMaxScaler()\n",
    "    feat_scaler.fit(x_train)\n",
    "    \n",
    "    train_set = MfcSet(x_train, y_train)\n",
    "    test_set = MfcSet(x_test, y_test, train_set.std_scaler, train_set.min_max_scaler)\n",
    "    \n",
    "    return train_set, test_set, shape"
   ]
  },
  {
   "cell_type": "markdown",
   "id": "9af1f530",
   "metadata": {},
   "source": [
    "### The multi layer perceptron network\n",
    "In this classification task, is desireble that we use a softmax activation function in the output layer, but as we are using the Pytorch stack, the loss function `CrossEntropyLoss` already apply the softmax for us. Then this is not necessary, as shown in the example bellow."
   ]
  },
  {
   "cell_type": "code",
   "execution_count": 8,
   "id": "7683b0ca",
   "metadata": {},
   "outputs": [
    {
     "name": "stdout",
     "output_type": "stream",
     "text": [
      "torch.Size([3, 5])\n",
      "torch.Size([3])\n"
     ]
    }
   ],
   "source": [
    "loss = nn.CrossEntropyLoss()\n",
    "input = torch.randn(3, 5, requires_grad=True)\n",
    "target = torch.empty(3, dtype=torch.long).random_(5)\n",
    "\n",
    "print(input.shape)\n",
    "print(target.shape)\n",
    "output = loss(input, target)\n",
    "output.backward()"
   ]
  },
  {
   "cell_type": "code",
   "execution_count": 9,
   "id": "7c78c870",
   "metadata": {
    "scrolled": true
   },
   "outputs": [
    {
     "data": {
      "text/plain": [
       "tensor([[-0.9813,  0.1551, -0.2430, -0.9374,  0.7372],\n",
       "        [-1.1574,  0.0153, -1.9303, -1.6151,  0.1199],\n",
       "        [ 0.4453,  0.1555,  0.3645, -0.9729,  0.3995]], requires_grad=True)"
      ]
     },
     "execution_count": 9,
     "metadata": {},
     "output_type": "execute_result"
    }
   ],
   "source": [
    "input"
   ]
  },
  {
   "cell_type": "code",
   "execution_count": 10,
   "id": "f9ecc0a6",
   "metadata": {
    "scrolled": true
   },
   "outputs": [
    {
     "data": {
      "text/plain": [
       "tensor([3, 0, 0])"
      ]
     },
     "execution_count": 10,
     "metadata": {},
     "output_type": "execute_result"
    }
   ],
   "source": [
    "target"
   ]
  },
  {
   "cell_type": "code",
   "execution_count": 11,
   "id": "3bb3a1a0",
   "metadata": {},
   "outputs": [],
   "source": [
    "class MLP(nn.Module):\n",
    "    def __init__(self, num_features, num_labels, dp=0.2):\n",
    "        super(MLP, self).__init__()\n",
    "        self.model = nn.Sequential(\n",
    "            nn.Linear(num_features, 50),\n",
    "            nn.Sigmoid(),\n",
    "            nn.Dropout(p=dp),\n",
    "            nn.Linear(50, num_labels),\n",
    "            nn.Dropout(p=dp),\n",
    "            \n",
    "        )\n",
    "    def forward(self, x):\n",
    "        out = self.model(x)\n",
    "        return out"
   ]
  },
  {
   "cell_type": "code",
   "execution_count": 12,
   "id": "31eff65e",
   "metadata": {},
   "outputs": [],
   "source": [
    "def train(model, epochs, batch_size, train_loader, criterion, optimizer,\n",
    "          scheduler, set_size, val_loader):\n",
    "    model.train()\n",
    "    acc = []\n",
    "    loss = []\n",
    "    val_loss = []\n",
    "    val_acc = []\n",
    "    for epoch in range(1, epochs + 1):\n",
    "        epoch_start_time = time.time()\n",
    "        train_loss, train_acc = batch_train(model, epoch, batch_size,\n",
    "                                                train_loader, criterion,\n",
    "                                                optimizer, scheduler, set_size)\n",
    "\n",
    "        epoch_val_loss, epoch_val_acc = batch_val(model, epoch, batch_size, val_loader)\n",
    "        print('-' * 89)\n",
    "        print('| end of epoch {:3d} | time: {:5.2f}s |'.format(\n",
    "            epoch, (time.time() - epoch_start_time)))\n",
    "        print('-' * 89)\n",
    "\n",
    "        scheduler.step()\n",
    "        acc.append(train_acc)\n",
    "        loss.append(train_loss)\n",
    "        val_acc.append(epoch_val_acc)\n",
    "        val_loss.append(epoch_val_loss)\n",
    "    return loss, val_loss, acc, val_acc"
   ]
  },
  {
   "cell_type": "code",
   "execution_count": 13,
   "id": "36497111",
   "metadata": {},
   "outputs": [],
   "source": [
    "def batch_train(model, epoch, batch_size, train_loader, criterion, optimizer,\n",
    "                scheduler, set_size):\n",
    "    model.train()  # Turn on the train mode\n",
    "    batch_loss = 0.\n",
    "    total_loss = 0.\n",
    "    start_time = time.time()\n",
    "    predictions = torch.tensor([]).to(device)\n",
    "    ground_truth = torch.tensor([]).to(device)\n",
    "\n",
    "    for i, batch in enumerate(train_loader):\n",
    "        data, targets = batch[0], batch[1]\n",
    "        data = Variable(torch.Tensor(data.float())).to(device)\n",
    "        targets = Variable(torch.Tensor(targets.float())).to(device)\n",
    "\n",
    "        optimizer.zero_grad()\n",
    "        output = model(data)\n",
    "        loss = criterion(output, torch.flatten(targets.long()))\n",
    "        loss.backward()\n",
    "        optimizer.step()\n",
    "\n",
    "        batch_loss += loss.item()\n",
    "        total_loss += batch_loss\n",
    "        log_interval = int(set_size / batch_size / 5)\n",
    "        if i % log_interval == 0 and i > 0:\n",
    "            cur_loss = batch_loss / log_interval\n",
    "            elapsed = time.time() - start_time\n",
    "            print('| epoch {:3d} | {:5d}/{:5d} batches | '\n",
    "                  'lr {:02.6f} | {:5.2f} ms | '\n",
    "                  'loss {:5.5f}'.format(epoch, i, set_size // batch_size,\n",
    "                                        scheduler.get_lr()[0],\n",
    "                                        elapsed * 1000 / log_interval,\n",
    "                                        cur_loss))\n",
    "            batch_loss = 0\n",
    "            start_time = time.time()\n",
    "        pred = output\n",
    "        predictions = torch.cat((predictions, pred), 0)\n",
    "        ground_truth = torch.cat((ground_truth, targets), 0)\n",
    "        \n",
    "\n",
    "    predictions = predictions.cpu().detach().numpy()\n",
    "    predictions = np.argmax(predictions, axis=1).reshape(predictions.shape[0], 1)\n",
    "    ground_truth = ground_truth.cpu().cpu().detach().numpy()\n",
    "    acc = accuracy_score(ground_truth, predictions)\n",
    "    return total_loss, acc"
   ]
  },
  {
   "cell_type": "code",
   "execution_count": 14,
   "id": "9eb8523d",
   "metadata": {},
   "outputs": [],
   "source": [
    "def batch_val(model, epoch, batch_size, train_loader):\n",
    "    model.eval()  # Turn on the train mode\n",
    "    batch_loss = 0.\n",
    "    total_loss = 0.\n",
    "    start_time = time.time()\n",
    "    predictions = torch.tensor([]).to(device)\n",
    "    ground_truth = torch.tensor([]).to(device)\n",
    "\n",
    "    for i, batch in enumerate(train_loader):\n",
    "        data, targets = batch[0], batch[1]\n",
    "        data = Variable(torch.Tensor(data.float())).to(device)\n",
    "        targets = Variable(torch.Tensor(targets.float())).to(device)\n",
    "        output = model(data)\n",
    "        loss = criterion(output, torch.flatten(targets.long()))\n",
    "        batch_loss += loss.item()\n",
    "        total_loss += batch_loss\n",
    "        pred = output\n",
    "        predictions = torch.cat((predictions, pred), 0)\n",
    "        ground_truth = torch.cat((ground_truth, targets), 0)\n",
    "        \n",
    "\n",
    "    predictions = predictions.cpu().detach().numpy()\n",
    "    predictions = np.argmax(predictions, axis=1).reshape(predictions.shape[0], 1)\n",
    "    ground_truth = ground_truth.cpu().cpu().detach().numpy()\n",
    "    acc = accuracy_score(ground_truth, predictions)\n",
    "    return total_loss, acc"
   ]
  },
  {
   "cell_type": "code",
   "execution_count": 15,
   "id": "a925ebc6",
   "metadata": {},
   "outputs": [],
   "source": [
    "batch_size = 10\n",
    "\n",
    "train_set, test_set, shape = build_dataset(feat_dir)\n",
    "train_loader = DataLoader(train_set,\n",
    "                          batch_size=batch_size,\n",
    "                          shuffle=True)\n",
    "test_loader = DataLoader(test_set,\n",
    "                          batch_size=test_set.y_shape[0],\n",
    "                          shuffle=True)\n",
    "set_size = train_set.y_shape[0]"
   ]
  },
  {
   "cell_type": "code",
   "execution_count": 16,
   "id": "c84b6f5b",
   "metadata": {},
   "outputs": [
    {
     "data": {
      "text/plain": [
       "(197.0, 39.0)"
      ]
     },
     "execution_count": 16,
     "metadata": {},
     "output_type": "execute_result"
    }
   ],
   "source": [
    "shape"
   ]
  },
  {
   "cell_type": "markdown",
   "id": "513801dc",
   "metadata": {},
   "source": [
    "### One example of feature and label"
   ]
  },
  {
   "cell_type": "code",
   "execution_count": 17,
   "id": "d6ed9c64",
   "metadata": {},
   "outputs": [],
   "source": [
    "feat, label = next(iter(train_set))"
   ]
  },
  {
   "cell_type": "code",
   "execution_count": 18,
   "id": "5f43d8c9",
   "metadata": {},
   "outputs": [
    {
     "data": {
      "text/plain": [
       "[<matplotlib.lines.Line2D at 0x7f54ca6284f0>]"
      ]
     },
     "execution_count": 18,
     "metadata": {},
     "output_type": "execute_result"
    },
    {
     "data": {
      "image/png": "[encoded data removed]",
      "text/plain": [
       "<Figure size 432x288 with 1 Axes>"
      ]
     },
     "metadata": {
      "needs_background": "light"
     },
     "output_type": "display_data"
    }
   ],
   "source": [
    "plt.plot(feat)"
   ]
  },
  {
   "cell_type": "code",
   "execution_count": 19,
   "id": "3d38eff3",
   "metadata": {},
   "outputs": [
    {
     "data": {
      "text/plain": [
       "array([0.])"
      ]
     },
     "execution_count": 19,
     "metadata": {},
     "output_type": "execute_result"
    }
   ],
   "source": [
    "label"
   ]
  },
  {
   "cell_type": "code",
   "execution_count": 20,
   "id": "c92119d5",
   "metadata": {},
   "outputs": [],
   "source": [
    "device = torch.device('cuda' if torch.cuda.is_available() else 'cpu')\n",
    "model = MLP(train_set.x_shape[1], 5).to(device)"
   ]
  },
  {
   "cell_type": "markdown",
   "id": "4091de7e",
   "metadata": {},
   "source": [
    "### Training the network"
   ]
  },
  {
   "cell_type": "code",
   "execution_count": 21,
   "id": "04cd47d2",
   "metadata": {},
   "outputs": [
    {
     "name": "stderr",
     "output_type": "stream",
     "text": [
      "/home/rodrigo/home-hd/Anaconda/envs/pytorch/lib/python3.8/site-packages/torch/optim/lr_scheduler.py:369: UserWarning: To get the last learning rate computed by the scheduler, please use `get_last_lr()`.\n",
      "  warnings.warn(\"To get the last learning rate computed by the scheduler, \"\n",
      "/home/rodrigo/home-hd/Anaconda/envs/pytorch/lib/python3.8/site-packages/torch/optim/lr_scheduler.py:369: UserWarning: To get the last learning rate computed by the scheduler, please use `get_last_lr()`.\n",
      "  warnings.warn(\"To get the last learning rate computed by the scheduler, \"\n"
     ]
    },
    {
     "name": "stdout",
     "output_type": "stream",
     "text": [
      "| epoch   1 |    10/   50 batches | lr 0.000100 |  4.16 ms | loss 1.77696\n",
      "| epoch   1 |    20/   50 batches | lr 0.000100 |  2.37 ms | loss 1.62737\n",
      "| epoch   1 |    30/   50 batches | lr 0.000100 |  2.19 ms | loss 1.62025\n",
      "| epoch   1 |    40/   50 batches | lr 0.000100 |  2.26 ms | loss 1.55335\n",
      "-----------------------------------------------------------------------------------------\n",
      "| end of epoch   1 | time:  0.14s |\n",
      "-----------------------------------------------------------------------------------------\n",
      "| epoch   2 |    10/   50 batches | lr 0.000096 |  2.10 ms | loss 1.67458\n",
      "| epoch   2 |    20/   50 batches | lr 0.000096 |  1.89 ms | loss 1.48199\n",
      "| epoch   2 |    30/   50 batches | lr 0.000096 |  1.88 ms | loss 1.50152\n",
      "| epoch   2 |    40/   50 batches | lr 0.000096 |  2.66 ms | loss 1.49478\n",
      "-----------------------------------------------------------------------------------------\n",
      "| end of epoch   2 | time:  0.12s |\n",
      "-----------------------------------------------------------------------------------------\n",
      "| epoch   3 |    10/   50 batches | lr 0.000094 |  2.76 ms | loss 1.58476\n",
      "| epoch   3 |    20/   50 batches | lr 0.000094 |  1.93 ms | loss 1.40179\n",
      "| epoch   3 |    30/   50 batches | lr 0.000094 |  1.89 ms | loss 1.40095\n",
      "| epoch   3 |    40/   50 batches | lr 0.000094 |  1.95 ms | loss 1.36533\n",
      "-----------------------------------------------------------------------------------------\n",
      "| end of epoch   3 | time:  0.11s |\n",
      "-----------------------------------------------------------------------------------------\n",
      "| epoch   4 |    10/   50 batches | lr 0.000092 |  2.53 ms | loss 1.50499\n",
      "| epoch   4 |    20/   50 batches | lr 0.000092 |  2.21 ms | loss 1.35424\n",
      "| epoch   4 |    30/   50 batches | lr 0.000092 |  2.16 ms | loss 1.33802\n"
     ]
    },
    {
     "name": "stderr",
     "output_type": "stream",
     "text": [
      "/home/rodrigo/home-hd/Anaconda/envs/pytorch/lib/python3.8/site-packages/torch/optim/lr_scheduler.py:369: UserWarning: To get the last learning rate computed by the scheduler, please use `get_last_lr()`.\n",
      "  warnings.warn(\"To get the last learning rate computed by the scheduler, \"\n",
      "/home/rodrigo/home-hd/Anaconda/envs/pytorch/lib/python3.8/site-packages/torch/optim/lr_scheduler.py:369: UserWarning: To get the last learning rate computed by the scheduler, please use `get_last_lr()`.\n",
      "  warnings.warn(\"To get the last learning rate computed by the scheduler, \"\n"
     ]
    },
    {
     "name": "stdout",
     "output_type": "stream",
     "text": [
      "| epoch   4 |    40/   50 batches | lr 0.000092 |  2.45 ms | loss 1.35619\n",
      "-----------------------------------------------------------------------------------------\n",
      "| end of epoch   4 | time:  0.14s |\n",
      "-----------------------------------------------------------------------------------------\n",
      "| epoch   5 |    10/   50 batches | lr 0.000090 |  3.27 ms | loss 1.44046\n",
      "| epoch   5 |    20/   50 batches | lr 0.000090 |  1.96 ms | loss 1.26395\n",
      "| epoch   5 |    30/   50 batches | lr 0.000090 |  2.10 ms | loss 1.27444\n",
      "| epoch   5 |    40/   50 batches | lr 0.000090 |  1.90 ms | loss 1.23863\n",
      "-----------------------------------------------------------------------------------------\n",
      "| end of epoch   5 | time:  0.12s |\n",
      "-----------------------------------------------------------------------------------------\n",
      "| epoch   6 |    10/   50 batches | lr 0.000089 |  2.14 ms | loss 1.37420\n"
     ]
    },
    {
     "name": "stderr",
     "output_type": "stream",
     "text": [
      "/home/rodrigo/home-hd/Anaconda/envs/pytorch/lib/python3.8/site-packages/torch/optim/lr_scheduler.py:369: UserWarning: To get the last learning rate computed by the scheduler, please use `get_last_lr()`.\n",
      "  warnings.warn(\"To get the last learning rate computed by the scheduler, \"\n",
      "/home/rodrigo/home-hd/Anaconda/envs/pytorch/lib/python3.8/site-packages/torch/optim/lr_scheduler.py:369: UserWarning: To get the last learning rate computed by the scheduler, please use `get_last_lr()`.\n",
      "  warnings.warn(\"To get the last learning rate computed by the scheduler, \"\n"
     ]
    },
    {
     "name": "stdout",
     "output_type": "stream",
     "text": [
      "| epoch   6 |    20/   50 batches | lr 0.000089 |  1.95 ms | loss 1.25130\n",
      "| epoch   6 |    30/   50 batches | lr 0.000089 |  3.15 ms | loss 1.24006\n",
      "| epoch   6 |    40/   50 batches | lr 0.000089 |  2.27 ms | loss 1.26356\n",
      "-----------------------------------------------------------------------------------------\n",
      "| end of epoch   6 | time:  0.12s |\n",
      "-----------------------------------------------------------------------------------------\n",
      "| epoch   7 |    10/   50 batches | lr 0.000087 |  3.49 ms | loss 1.32772\n",
      "| epoch   7 |    20/   50 batches | lr 0.000087 |  2.27 ms | loss 1.13170\n",
      "| epoch   7 |    30/   50 batches | lr 0.000087 |  1.93 ms | loss 1.22370\n",
      "| epoch   7 |    40/   50 batches | lr 0.000087 |  1.91 ms | loss 1.19407\n",
      "-----------------------------------------------------------------------------------------\n",
      "| end of epoch   7 | time:  0.12s |\n",
      "-----------------------------------------------------------------------------------------\n"
     ]
    },
    {
     "name": "stderr",
     "output_type": "stream",
     "text": [
      "/home/rodrigo/home-hd/Anaconda/envs/pytorch/lib/python3.8/site-packages/torch/optim/lr_scheduler.py:369: UserWarning: To get the last learning rate computed by the scheduler, please use `get_last_lr()`.\n",
      "  warnings.warn(\"To get the last learning rate computed by the scheduler, \"\n",
      "/home/rodrigo/home-hd/Anaconda/envs/pytorch/lib/python3.8/site-packages/torch/optim/lr_scheduler.py:369: UserWarning: To get the last learning rate computed by the scheduler, please use `get_last_lr()`.\n",
      "  warnings.warn(\"To get the last learning rate computed by the scheduler, \"\n"
     ]
    },
    {
     "name": "stdout",
     "output_type": "stream",
     "text": [
      "| epoch   8 |    10/   50 batches | lr 0.000085 |  4.20 ms | loss 1.29612\n",
      "| epoch   8 |    20/   50 batches | lr 0.000085 |  1.92 ms | loss 1.17641\n",
      "| epoch   8 |    30/   50 batches | lr 0.000085 |  1.97 ms | loss 1.20263\n",
      "| epoch   8 |    40/   50 batches | lr 0.000085 |  1.93 ms | loss 1.17262\n",
      "-----------------------------------------------------------------------------------------\n",
      "| end of epoch   8 | time:  0.13s |\n",
      "-----------------------------------------------------------------------------------------\n",
      "| epoch   9 |    10/   50 batches | lr 0.000083 |  3.74 ms | loss 1.22061\n",
      "| epoch   9 |    20/   50 batches | lr 0.000083 |  2.26 ms | loss 1.13922\n",
      "| epoch   9 |    30/   50 batches | lr 0.000083 |  1.93 ms | loss 1.12111\n",
      "| epoch   9 |    40/   50 batches | lr 0.000083 |  1.91 ms | loss 1.06671\n"
     ]
    },
    {
     "name": "stderr",
     "output_type": "stream",
     "text": [
      "/home/rodrigo/home-hd/Anaconda/envs/pytorch/lib/python3.8/site-packages/torch/optim/lr_scheduler.py:369: UserWarning: To get the last learning rate computed by the scheduler, please use `get_last_lr()`.\n",
      "  warnings.warn(\"To get the last learning rate computed by the scheduler, \"\n",
      "/home/rodrigo/home-hd/Anaconda/envs/pytorch/lib/python3.8/site-packages/torch/optim/lr_scheduler.py:369: UserWarning: To get the last learning rate computed by the scheduler, please use `get_last_lr()`.\n",
      "  warnings.warn(\"To get the last learning rate computed by the scheduler, \"\n"
     ]
    },
    {
     "name": "stdout",
     "output_type": "stream",
     "text": [
      "-----------------------------------------------------------------------------------------\n",
      "| end of epoch   9 | time:  0.13s |\n",
      "-----------------------------------------------------------------------------------------\n",
      "| epoch  10 |    10/   50 batches | lr 0.000082 |  2.78 ms | loss 1.15853\n",
      "| epoch  10 |    20/   50 batches | lr 0.000082 |  2.30 ms | loss 1.14363\n",
      "| epoch  10 |    30/   50 batches | lr 0.000082 |  1.91 ms | loss 1.03504\n",
      "| epoch  10 |    40/   50 batches | lr 0.000082 |  1.93 ms | loss 1.05500\n",
      "-----------------------------------------------------------------------------------------\n",
      "| end of epoch  10 | time:  0.12s |\n",
      "-----------------------------------------------------------------------------------------\n",
      "| epoch  11 |    10/   50 batches | lr 0.000080 |  3.40 ms | loss 1.14511\n",
      "| epoch  11 |    20/   50 batches | lr 0.000080 |  1.93 ms | loss 1.08405\n",
      "| epoch  11 |    30/   50 batches | lr 0.000080 |  1.89 ms | loss 1.01421\n"
     ]
    },
    {
     "name": "stderr",
     "output_type": "stream",
     "text": [
      "/home/rodrigo/home-hd/Anaconda/envs/pytorch/lib/python3.8/site-packages/torch/optim/lr_scheduler.py:369: UserWarning: To get the last learning rate computed by the scheduler, please use `get_last_lr()`.\n",
      "  warnings.warn(\"To get the last learning rate computed by the scheduler, \"\n",
      "/home/rodrigo/home-hd/Anaconda/envs/pytorch/lib/python3.8/site-packages/torch/optim/lr_scheduler.py:369: UserWarning: To get the last learning rate computed by the scheduler, please use `get_last_lr()`.\n",
      "  warnings.warn(\"To get the last learning rate computed by the scheduler, \"\n"
     ]
    },
    {
     "name": "stdout",
     "output_type": "stream",
     "text": [
      "| epoch  11 |    40/   50 batches | lr 0.000080 |  4.36 ms | loss 1.03017\n",
      "-----------------------------------------------------------------------------------------\n",
      "| end of epoch  11 | time:  0.14s |\n",
      "-----------------------------------------------------------------------------------------\n",
      "| epoch  12 |    10/   50 batches | lr 0.000078 |  2.13 ms | loss 1.11747\n",
      "| epoch  12 |    20/   50 batches | lr 0.000078 |  1.92 ms | loss 1.03497\n",
      "| epoch  12 |    30/   50 batches | lr 0.000078 |  1.88 ms | loss 1.03160\n",
      "| epoch  12 |    40/   50 batches | lr 0.000078 |  2.69 ms | loss 0.95615\n",
      "-----------------------------------------------------------------------------------------\n",
      "| end of epoch  12 | time:  0.12s |\n",
      "-----------------------------------------------------------------------------------------\n",
      "| epoch  13 |    10/   50 batches | lr 0.000077 |  2.10 ms | loss 1.15280\n",
      "| epoch  13 |    20/   50 batches | lr 0.000077 |  1.93 ms | loss 1.03760\n"
     ]
    },
    {
     "name": "stderr",
     "output_type": "stream",
     "text": [
      "/home/rodrigo/home-hd/Anaconda/envs/pytorch/lib/python3.8/site-packages/torch/optim/lr_scheduler.py:369: UserWarning: To get the last learning rate computed by the scheduler, please use `get_last_lr()`.\n",
      "  warnings.warn(\"To get the last learning rate computed by the scheduler, \"\n",
      "/home/rodrigo/home-hd/Anaconda/envs/pytorch/lib/python3.8/site-packages/torch/optim/lr_scheduler.py:369: UserWarning: To get the last learning rate computed by the scheduler, please use `get_last_lr()`.\n",
      "  warnings.warn(\"To get the last learning rate computed by the scheduler, \"\n"
     ]
    },
    {
     "name": "stdout",
     "output_type": "stream",
     "text": [
      "| epoch  13 |    30/   50 batches | lr 0.000077 |  2.18 ms | loss 0.93620\n",
      "| epoch  13 |    40/   50 batches | lr 0.000077 |  2.49 ms | loss 1.00234\n",
      "-----------------------------------------------------------------------------------------\n",
      "| end of epoch  13 | time:  0.11s |\n",
      "-----------------------------------------------------------------------------------------\n",
      "| epoch  14 |    10/   50 batches | lr 0.000075 |  2.27 ms | loss 1.08645\n",
      "| epoch  14 |    20/   50 batches | lr 0.000075 |  2.18 ms | loss 1.00553\n",
      "| epoch  14 |    30/   50 batches | lr 0.000075 |  2.44 ms | loss 0.94815\n",
      "| epoch  14 |    40/   50 batches | lr 0.000075 |  2.26 ms | loss 0.90923\n",
      "-----------------------------------------------------------------------------------------\n",
      "| end of epoch  14 | time:  0.12s |\n",
      "-----------------------------------------------------------------------------------------\n"
     ]
    },
    {
     "name": "stderr",
     "output_type": "stream",
     "text": [
      "/home/rodrigo/home-hd/Anaconda/envs/pytorch/lib/python3.8/site-packages/torch/optim/lr_scheduler.py:369: UserWarning: To get the last learning rate computed by the scheduler, please use `get_last_lr()`.\n",
      "  warnings.warn(\"To get the last learning rate computed by the scheduler, \"\n",
      "/home/rodrigo/home-hd/Anaconda/envs/pytorch/lib/python3.8/site-packages/torch/optim/lr_scheduler.py:369: UserWarning: To get the last learning rate computed by the scheduler, please use `get_last_lr()`.\n",
      "  warnings.warn(\"To get the last learning rate computed by the scheduler, \"\n"
     ]
    },
    {
     "name": "stdout",
     "output_type": "stream",
     "text": [
      "| epoch  15 |    10/   50 batches | lr 0.000074 |  3.10 ms | loss 1.07080\n",
      "| epoch  15 |    20/   50 batches | lr 0.000074 |  2.17 ms | loss 0.94370\n",
      "| epoch  15 |    30/   50 batches | lr 0.000074 |  2.56 ms | loss 0.98760\n",
      "| epoch  15 |    40/   50 batches | lr 0.000074 |  1.91 ms | loss 0.95834\n",
      "-----------------------------------------------------------------------------------------\n",
      "| end of epoch  15 | time:  0.12s |\n",
      "-----------------------------------------------------------------------------------------\n",
      "| epoch  16 |    10/   50 batches | lr 0.000072 |  2.10 ms | loss 1.02717\n",
      "| epoch  16 |    20/   50 batches | lr 0.000072 |  1.91 ms | loss 0.92912\n",
      "| epoch  16 |    30/   50 batches | lr 0.000072 |  1.90 ms | loss 0.87418\n",
      "| epoch  16 |    40/   50 batches | lr 0.000072 |  1.89 ms | loss 0.84524\n",
      "-----------------------------------------------------------------------------------------\n",
      "| end of epoch  16 | time:  0.10s |\n",
      "-----------------------------------------------------------------------------------------\n"
     ]
    },
    {
     "name": "stderr",
     "output_type": "stream",
     "text": [
      "/home/rodrigo/home-hd/Anaconda/envs/pytorch/lib/python3.8/site-packages/torch/optim/lr_scheduler.py:369: UserWarning: To get the last learning rate computed by the scheduler, please use `get_last_lr()`.\n",
      "  warnings.warn(\"To get the last learning rate computed by the scheduler, \"\n",
      "/home/rodrigo/home-hd/Anaconda/envs/pytorch/lib/python3.8/site-packages/torch/optim/lr_scheduler.py:369: UserWarning: To get the last learning rate computed by the scheduler, please use `get_last_lr()`.\n",
      "  warnings.warn(\"To get the last learning rate computed by the scheduler, \"\n"
     ]
    },
    {
     "name": "stdout",
     "output_type": "stream",
     "text": [
      "| epoch  17 |    10/   50 batches | lr 0.000071 |  2.72 ms | loss 0.98221\n",
      "| epoch  17 |    20/   50 batches | lr 0.000071 |  2.37 ms | loss 0.89373\n",
      "| epoch  17 |    30/   50 batches | lr 0.000071 |  2.42 ms | loss 0.88026\n",
      "| epoch  17 |    40/   50 batches | lr 0.000071 |  2.04 ms | loss 0.93311\n",
      "-----------------------------------------------------------------------------------------\n",
      "| end of epoch  17 | time:  0.12s |\n",
      "-----------------------------------------------------------------------------------------\n",
      "| epoch  18 |    10/   50 batches | lr 0.000070 |  2.09 ms | loss 1.01293\n",
      "| epoch  18 |    20/   50 batches | lr 0.000070 |  1.86 ms | loss 0.90067\n",
      "| epoch  18 |    30/   50 batches | lr 0.000070 |  1.90 ms | loss 0.83952\n",
      "| epoch  18 |    40/   50 batches | lr 0.000070 |  1.86 ms | loss 0.85758\n",
      "-----------------------------------------------------------------------------------------\n",
      "| end of epoch  18 | time:  0.10s |\n",
      "-----------------------------------------------------------------------------------------\n"
     ]
    },
    {
     "name": "stderr",
     "output_type": "stream",
     "text": [
      "/home/rodrigo/home-hd/Anaconda/envs/pytorch/lib/python3.8/site-packages/torch/optim/lr_scheduler.py:369: UserWarning: To get the last learning rate computed by the scheduler, please use `get_last_lr()`.\n",
      "  warnings.warn(\"To get the last learning rate computed by the scheduler, \"\n",
      "/home/rodrigo/home-hd/Anaconda/envs/pytorch/lib/python3.8/site-packages/torch/optim/lr_scheduler.py:369: UserWarning: To get the last learning rate computed by the scheduler, please use `get_last_lr()`.\n",
      "  warnings.warn(\"To get the last learning rate computed by the scheduler, \"\n"
     ]
    },
    {
     "name": "stdout",
     "output_type": "stream",
     "text": [
      "| epoch  19 |    10/   50 batches | lr 0.000068 |  2.73 ms | loss 0.94293\n",
      "| epoch  19 |    20/   50 batches | lr 0.000068 |  2.25 ms | loss 0.90942\n",
      "| epoch  19 |    30/   50 batches | lr 0.000068 |  1.87 ms | loss 0.88139\n",
      "| epoch  19 |    40/   50 batches | lr 0.000068 |  1.87 ms | loss 0.86758\n",
      "-----------------------------------------------------------------------------------------\n",
      "| end of epoch  19 | time:  0.11s |\n",
      "-----------------------------------------------------------------------------------------\n",
      "| epoch  20 |    10/   50 batches | lr 0.000067 |  2.08 ms | loss 0.92628\n",
      "| epoch  20 |    20/   50 batches | lr 0.000067 |  1.87 ms | loss 0.91217\n",
      "| epoch  20 |    30/   50 batches | lr 0.000067 |  2.06 ms | loss 0.82226\n",
      "| epoch  20 |    40/   50 batches | lr 0.000067 |  1.87 ms | loss 0.81044\n",
      "-----------------------------------------------------------------------------------------\n",
      "| end of epoch  20 | time:  0.10s |\n",
      "-----------------------------------------------------------------------------------------\n"
     ]
    },
    {
     "name": "stderr",
     "output_type": "stream",
     "text": [
      "/home/rodrigo/home-hd/Anaconda/envs/pytorch/lib/python3.8/site-packages/torch/optim/lr_scheduler.py:369: UserWarning: To get the last learning rate computed by the scheduler, please use `get_last_lr()`.\n",
      "  warnings.warn(\"To get the last learning rate computed by the scheduler, \"\n",
      "/home/rodrigo/home-hd/Anaconda/envs/pytorch/lib/python3.8/site-packages/torch/optim/lr_scheduler.py:369: UserWarning: To get the last learning rate computed by the scheduler, please use `get_last_lr()`.\n",
      "  warnings.warn(\"To get the last learning rate computed by the scheduler, \"\n"
     ]
    },
    {
     "name": "stdout",
     "output_type": "stream",
     "text": [
      "| epoch  21 |    10/   50 batches | lr 0.000065 |  2.66 ms | loss 0.95877\n",
      "| epoch  21 |    20/   50 batches | lr 0.000065 |  2.30 ms | loss 0.83100\n",
      "| epoch  21 |    30/   50 batches | lr 0.000065 |  1.89 ms | loss 0.82352\n",
      "| epoch  21 |    40/   50 batches | lr 0.000065 |  1.87 ms | loss 0.79092\n",
      "-----------------------------------------------------------------------------------------\n",
      "| end of epoch  21 | time:  0.11s |\n",
      "-----------------------------------------------------------------------------------------\n",
      "| epoch  22 |    10/   50 batches | lr 0.000064 |  2.09 ms | loss 0.84652\n",
      "| epoch  22 |    20/   50 batches | lr 0.000064 |  1.90 ms | loss 0.79455\n",
      "| epoch  22 |    30/   50 batches | lr 0.000064 |  1.88 ms | loss 0.75941\n",
      "| epoch  22 |    40/   50 batches | lr 0.000064 |  1.87 ms | loss 0.83753\n",
      "-----------------------------------------------------------------------------------------\n",
      "| end of epoch  22 | time:  0.10s |\n",
      "-----------------------------------------------------------------------------------------\n"
     ]
    },
    {
     "name": "stderr",
     "output_type": "stream",
     "text": [
      "/home/rodrigo/home-hd/Anaconda/envs/pytorch/lib/python3.8/site-packages/torch/optim/lr_scheduler.py:369: UserWarning: To get the last learning rate computed by the scheduler, please use `get_last_lr()`.\n",
      "  warnings.warn(\"To get the last learning rate computed by the scheduler, \"\n",
      "/home/rodrigo/home-hd/Anaconda/envs/pytorch/lib/python3.8/site-packages/torch/optim/lr_scheduler.py:369: UserWarning: To get the last learning rate computed by the scheduler, please use `get_last_lr()`.\n",
      "  warnings.warn(\"To get the last learning rate computed by the scheduler, \"\n"
     ]
    },
    {
     "name": "stdout",
     "output_type": "stream",
     "text": [
      "| epoch  23 |    10/   50 batches | lr 0.000063 |  2.63 ms | loss 0.87714\n",
      "| epoch  23 |    20/   50 batches | lr 0.000063 |  2.52 ms | loss 0.76486\n",
      "| epoch  23 |    30/   50 batches | lr 0.000063 |  1.87 ms | loss 0.78753\n",
      "| epoch  23 |    40/   50 batches | lr 0.000063 |  1.89 ms | loss 0.78669\n",
      "-----------------------------------------------------------------------------------------\n",
      "| end of epoch  23 | time:  0.11s |\n",
      "-----------------------------------------------------------------------------------------\n",
      "| epoch  24 |    10/   50 batches | lr 0.000062 |  2.09 ms | loss 0.81856\n",
      "| epoch  24 |    20/   50 batches | lr 0.000062 |  1.86 ms | loss 0.81529\n",
      "| epoch  24 |    30/   50 batches | lr 0.000062 |  1.86 ms | loss 0.80844\n",
      "| epoch  24 |    40/   50 batches | lr 0.000062 |  1.89 ms | loss 0.77121\n",
      "-----------------------------------------------------------------------------------------\n",
      "| end of epoch  24 | time:  0.10s |\n",
      "-----------------------------------------------------------------------------------------\n"
     ]
    },
    {
     "name": "stderr",
     "output_type": "stream",
     "text": [
      "/home/rodrigo/home-hd/Anaconda/envs/pytorch/lib/python3.8/site-packages/torch/optim/lr_scheduler.py:369: UserWarning: To get the last learning rate computed by the scheduler, please use `get_last_lr()`.\n",
      "  warnings.warn(\"To get the last learning rate computed by the scheduler, \"\n",
      "/home/rodrigo/home-hd/Anaconda/envs/pytorch/lib/python3.8/site-packages/torch/optim/lr_scheduler.py:369: UserWarning: To get the last learning rate computed by the scheduler, please use `get_last_lr()`.\n",
      "  warnings.warn(\"To get the last learning rate computed by the scheduler, \"\n"
     ]
    },
    {
     "name": "stdout",
     "output_type": "stream",
     "text": [
      "| epoch  25 |    10/   50 batches | lr 0.000060 |  2.62 ms | loss 0.78626\n",
      "| epoch  25 |    20/   50 batches | lr 0.000060 |  2.71 ms | loss 0.80007\n",
      "| epoch  25 |    30/   50 batches | lr 0.000060 |  1.88 ms | loss 0.76773\n",
      "| epoch  25 |    40/   50 batches | lr 0.000060 |  1.87 ms | loss 0.80411\n",
      "-----------------------------------------------------------------------------------------\n",
      "| end of epoch  25 | time:  0.11s |\n",
      "-----------------------------------------------------------------------------------------\n",
      "| epoch  26 |    10/   50 batches | lr 0.000059 |  2.09 ms | loss 0.81177\n",
      "| epoch  26 |    20/   50 batches | lr 0.000059 |  1.94 ms | loss 0.77838\n",
      "| epoch  26 |    30/   50 batches | lr 0.000059 |  1.86 ms | loss 0.80461\n",
      "| epoch  26 |    40/   50 batches | lr 0.000059 |  1.87 ms | loss 0.75602\n",
      "-----------------------------------------------------------------------------------------\n",
      "| end of epoch  26 | time:  0.11s |\n",
      "-----------------------------------------------------------------------------------------\n"
     ]
    },
    {
     "name": "stderr",
     "output_type": "stream",
     "text": [
      "/home/rodrigo/home-hd/Anaconda/envs/pytorch/lib/python3.8/site-packages/torch/optim/lr_scheduler.py:369: UserWarning: To get the last learning rate computed by the scheduler, please use `get_last_lr()`.\n",
      "  warnings.warn(\"To get the last learning rate computed by the scheduler, \"\n",
      "/home/rodrigo/home-hd/Anaconda/envs/pytorch/lib/python3.8/site-packages/torch/optim/lr_scheduler.py:369: UserWarning: To get the last learning rate computed by the scheduler, please use `get_last_lr()`.\n",
      "  warnings.warn(\"To get the last learning rate computed by the scheduler, \"\n"
     ]
    },
    {
     "name": "stdout",
     "output_type": "stream",
     "text": [
      "| epoch  27 |    10/   50 batches | lr 0.000058 |  3.35 ms | loss 0.77336\n",
      "| epoch  27 |    20/   50 batches | lr 0.000058 |  2.22 ms | loss 0.65968\n",
      "| epoch  27 |    30/   50 batches | lr 0.000058 |  1.87 ms | loss 0.70516\n",
      "| epoch  27 |    40/   50 batches | lr 0.000058 |  1.89 ms | loss 0.68300\n",
      "-----------------------------------------------------------------------------------------\n",
      "| end of epoch  27 | time:  0.12s |\n",
      "-----------------------------------------------------------------------------------------\n",
      "| epoch  28 |    10/   50 batches | lr 0.000057 |  2.08 ms | loss 0.80302\n",
      "| epoch  28 |    20/   50 batches | lr 0.000057 |  1.88 ms | loss 0.72856\n",
      "| epoch  28 |    30/   50 batches | lr 0.000057 |  1.91 ms | loss 0.69919\n",
      "| epoch  28 |    40/   50 batches | lr 0.000057 |  1.88 ms | loss 0.75802\n",
      "-----------------------------------------------------------------------------------------\n",
      "| end of epoch  28 | time:  0.10s |\n",
      "-----------------------------------------------------------------------------------------\n"
     ]
    },
    {
     "name": "stderr",
     "output_type": "stream",
     "text": [
      "/home/rodrigo/home-hd/Anaconda/envs/pytorch/lib/python3.8/site-packages/torch/optim/lr_scheduler.py:369: UserWarning: To get the last learning rate computed by the scheduler, please use `get_last_lr()`.\n",
      "  warnings.warn(\"To get the last learning rate computed by the scheduler, \"\n",
      "/home/rodrigo/home-hd/Anaconda/envs/pytorch/lib/python3.8/site-packages/torch/optim/lr_scheduler.py:369: UserWarning: To get the last learning rate computed by the scheduler, please use `get_last_lr()`.\n",
      "  warnings.warn(\"To get the last learning rate computed by the scheduler, \"\n"
     ]
    },
    {
     "name": "stdout",
     "output_type": "stream",
     "text": [
      "| epoch  29 |    10/   50 batches | lr 0.000056 |  2.62 ms | loss 0.75543\n",
      "| epoch  29 |    20/   50 batches | lr 0.000056 |  2.55 ms | loss 0.72976\n",
      "| epoch  29 |    30/   50 batches | lr 0.000056 |  1.88 ms | loss 0.75846\n",
      "| epoch  29 |    40/   50 batches | lr 0.000056 |  1.90 ms | loss 0.72526\n",
      "-----------------------------------------------------------------------------------------\n",
      "| end of epoch  29 | time:  0.11s |\n",
      "-----------------------------------------------------------------------------------------\n",
      "| epoch  30 |    10/   50 batches | lr 0.000055 |  2.29 ms | loss 0.76969\n",
      "| epoch  30 |    20/   50 batches | lr 0.000055 |  1.88 ms | loss 0.67830\n",
      "| epoch  30 |    30/   50 batches | lr 0.000055 |  1.92 ms | loss 0.67301\n",
      "| epoch  30 |    40/   50 batches | lr 0.000055 |  2.33 ms | loss 0.67618\n",
      "-----------------------------------------------------------------------------------------\n",
      "| end of epoch  30 | time:  0.11s |\n",
      "-----------------------------------------------------------------------------------------\n"
     ]
    },
    {
     "name": "stderr",
     "output_type": "stream",
     "text": [
      "/home/rodrigo/home-hd/Anaconda/envs/pytorch/lib/python3.8/site-packages/torch/optim/lr_scheduler.py:369: UserWarning: To get the last learning rate computed by the scheduler, please use `get_last_lr()`.\n",
      "  warnings.warn(\"To get the last learning rate computed by the scheduler, \"\n",
      "/home/rodrigo/home-hd/Anaconda/envs/pytorch/lib/python3.8/site-packages/torch/optim/lr_scheduler.py:369: UserWarning: To get the last learning rate computed by the scheduler, please use `get_last_lr()`.\n",
      "  warnings.warn(\"To get the last learning rate computed by the scheduler, \"\n"
     ]
    },
    {
     "name": "stdout",
     "output_type": "stream",
     "text": [
      "| epoch  31 |    10/   50 batches | lr 0.000053 |  3.31 ms | loss 0.67141\n",
      "| epoch  31 |    20/   50 batches | lr 0.000053 |  2.76 ms | loss 0.66680\n",
      "| epoch  31 |    30/   50 batches | lr 0.000053 |  2.14 ms | loss 0.64510\n",
      "| epoch  31 |    40/   50 batches | lr 0.000053 |  2.36 ms | loss 0.68119\n",
      "-----------------------------------------------------------------------------------------\n",
      "| end of epoch  31 | time:  0.13s |\n",
      "-----------------------------------------------------------------------------------------\n",
      "| epoch  32 |    10/   50 batches | lr 0.000052 |  3.48 ms | loss 0.82661\n",
      "| epoch  32 |    20/   50 batches | lr 0.000052 |  1.95 ms | loss 0.60819\n",
      "| epoch  32 |    30/   50 batches | lr 0.000052 |  2.13 ms | loss 0.70284\n",
      "| epoch  32 |    40/   50 batches | lr 0.000052 |  2.16 ms | loss 0.66484\n",
      "-----------------------------------------------------------------------------------------\n",
      "| end of epoch  32 | time:  0.13s |\n",
      "-----------------------------------------------------------------------------------------\n",
      "| epoch  33 |    10/   50 batches | lr 0.000051 |  2.44 ms | loss 0.69493\n",
      "| epoch  33 |    20/   50 batches | lr 0.000051 |  2.05 ms | loss 0.61483\n",
      "| epoch  33 |    30/   50 batches | lr 0.000051 |  1.87 ms | loss 0.68831\n",
      "| epoch  33 |    40/   50 batches | lr 0.000051 |  1.87 ms | loss 0.68097\n",
      "-----------------------------------------------------------------------------------------\n",
      "| end of epoch  33 | time:  0.11s |\n",
      "-----------------------------------------------------------------------------------------\n",
      "| epoch  34 |    10/   50 batches | lr 0.000050 |  2.10 ms | loss 0.67398\n",
      "| epoch  34 |    20/   50 batches | lr 0.000050 |  1.88 ms | loss 0.62074\n",
      "| epoch  34 |    30/   50 batches | lr 0.000050 |  1.87 ms | loss 0.65925\n",
      "| epoch  34 |    40/   50 batches | lr 0.000050 |  1.87 ms | loss 0.67487\n"
     ]
    },
    {
     "name": "stderr",
     "output_type": "stream",
     "text": [
      "/home/rodrigo/home-hd/Anaconda/envs/pytorch/lib/python3.8/site-packages/torch/optim/lr_scheduler.py:369: UserWarning: To get the last learning rate computed by the scheduler, please use `get_last_lr()`.\n",
      "  warnings.warn(\"To get the last learning rate computed by the scheduler, \"\n",
      "/home/rodrigo/home-hd/Anaconda/envs/pytorch/lib/python3.8/site-packages/torch/optim/lr_scheduler.py:369: UserWarning: To get the last learning rate computed by the scheduler, please use `get_last_lr()`.\n",
      "  warnings.warn(\"To get the last learning rate computed by the scheduler, \"\n"
     ]
    },
    {
     "name": "stdout",
     "output_type": "stream",
     "text": [
      "-----------------------------------------------------------------------------------------\n",
      "| end of epoch  34 | time:  0.11s |\n",
      "-----------------------------------------------------------------------------------------\n",
      "| epoch  35 |    10/   50 batches | lr 0.000049 |  2.57 ms | loss 0.67101\n",
      "| epoch  35 |    20/   50 batches | lr 0.000049 |  2.34 ms | loss 0.60088\n",
      "| epoch  35 |    30/   50 batches | lr 0.000049 |  2.37 ms | loss 0.59818\n",
      "| epoch  35 |    40/   50 batches | lr 0.000049 |  2.26 ms | loss 0.60748\n",
      "-----------------------------------------------------------------------------------------\n",
      "| end of epoch  35 | time:  0.12s |\n",
      "-----------------------------------------------------------------------------------------\n",
      "| epoch  36 |    10/   50 batches | lr 0.000048 |  2.08 ms | loss 0.70322\n",
      "| epoch  36 |    20/   50 batches | lr 0.000048 |  1.87 ms | loss 0.68373\n",
      "| epoch  36 |    30/   50 batches | lr 0.000048 |  1.87 ms | loss 0.63456\n",
      "| epoch  36 |    40/   50 batches | lr 0.000048 |  1.87 ms | loss 0.59978\n"
     ]
    },
    {
     "name": "stderr",
     "output_type": "stream",
     "text": [
      "/home/rodrigo/home-hd/Anaconda/envs/pytorch/lib/python3.8/site-packages/torch/optim/lr_scheduler.py:369: UserWarning: To get the last learning rate computed by the scheduler, please use `get_last_lr()`.\n",
      "  warnings.warn(\"To get the last learning rate computed by the scheduler, \"\n",
      "/home/rodrigo/home-hd/Anaconda/envs/pytorch/lib/python3.8/site-packages/torch/optim/lr_scheduler.py:369: UserWarning: To get the last learning rate computed by the scheduler, please use `get_last_lr()`.\n",
      "  warnings.warn(\"To get the last learning rate computed by the scheduler, \"\n"
     ]
    },
    {
     "name": "stdout",
     "output_type": "stream",
     "text": [
      "-----------------------------------------------------------------------------------------\n",
      "| end of epoch  36 | time:  0.11s |\n",
      "-----------------------------------------------------------------------------------------\n",
      "| epoch  37 |    10/   50 batches | lr 0.000047 |  2.81 ms | loss 0.65033\n",
      "| epoch  37 |    20/   50 batches | lr 0.000047 |  2.26 ms | loss 0.65825\n",
      "| epoch  37 |    30/   50 batches | lr 0.000047 |  1.87 ms | loss 0.59756\n",
      "| epoch  37 |    40/   50 batches | lr 0.000047 |  1.87 ms | loss 0.67737\n",
      "-----------------------------------------------------------------------------------------\n",
      "| end of epoch  37 | time:  0.11s |\n",
      "-----------------------------------------------------------------------------------------\n",
      "| epoch  38 |    10/   50 batches | lr 0.000046 |  2.08 ms | loss 0.65215\n",
      "| epoch  38 |    20/   50 batches | lr 0.000046 |  1.88 ms | loss 0.55486\n",
      "| epoch  38 |    30/   50 batches | lr 0.000046 |  2.27 ms | loss 0.57040\n",
      "| epoch  38 |    40/   50 batches | lr 0.000046 |  2.23 ms | loss 0.65619\n"
     ]
    },
    {
     "name": "stderr",
     "output_type": "stream",
     "text": [
      "/home/rodrigo/home-hd/Anaconda/envs/pytorch/lib/python3.8/site-packages/torch/optim/lr_scheduler.py:369: UserWarning: To get the last learning rate computed by the scheduler, please use `get_last_lr()`.\n",
      "  warnings.warn(\"To get the last learning rate computed by the scheduler, \"\n",
      "/home/rodrigo/home-hd/Anaconda/envs/pytorch/lib/python3.8/site-packages/torch/optim/lr_scheduler.py:369: UserWarning: To get the last learning rate computed by the scheduler, please use `get_last_lr()`.\n",
      "  warnings.warn(\"To get the last learning rate computed by the scheduler, \"\n"
     ]
    },
    {
     "name": "stdout",
     "output_type": "stream",
     "text": [
      "-----------------------------------------------------------------------------------------\n",
      "| end of epoch  38 | time:  0.12s |\n",
      "-----------------------------------------------------------------------------------------\n",
      "| epoch  39 |    10/   50 batches | lr 0.000045 |  2.43 ms | loss 0.65705\n",
      "| epoch  39 |    20/   50 batches | lr 0.000045 |  2.56 ms | loss 0.61659\n",
      "| epoch  39 |    30/   50 batches | lr 0.000045 |  1.88 ms | loss 0.64672\n",
      "| epoch  39 |    40/   50 batches | lr 0.000045 |  1.88 ms | loss 0.58173\n",
      "-----------------------------------------------------------------------------------------\n",
      "| end of epoch  39 | time:  0.11s |\n",
      "-----------------------------------------------------------------------------------------\n",
      "| epoch  40 |    10/   50 batches | lr 0.000045 |  2.08 ms | loss 0.65288\n",
      "| epoch  40 |    20/   50 batches | lr 0.000045 |  1.87 ms | loss 0.59191\n",
      "| epoch  40 |    30/   50 batches | lr 0.000045 |  1.86 ms | loss 0.55572\n",
      "| epoch  40 |    40/   50 batches | lr 0.000045 |  1.91 ms | loss 0.62889\n"
     ]
    },
    {
     "name": "stderr",
     "output_type": "stream",
     "text": [
      "/home/rodrigo/home-hd/Anaconda/envs/pytorch/lib/python3.8/site-packages/torch/optim/lr_scheduler.py:369: UserWarning: To get the last learning rate computed by the scheduler, please use `get_last_lr()`.\n",
      "  warnings.warn(\"To get the last learning rate computed by the scheduler, \"\n",
      "/home/rodrigo/home-hd/Anaconda/envs/pytorch/lib/python3.8/site-packages/torch/optim/lr_scheduler.py:369: UserWarning: To get the last learning rate computed by the scheduler, please use `get_last_lr()`.\n",
      "  warnings.warn(\"To get the last learning rate computed by the scheduler, \"\n"
     ]
    },
    {
     "name": "stdout",
     "output_type": "stream",
     "text": [
      "-----------------------------------------------------------------------------------------\n",
      "| end of epoch  40 | time:  0.11s |\n",
      "-----------------------------------------------------------------------------------------\n",
      "| epoch  41 |    10/   50 batches | lr 0.000044 |  3.10 ms | loss 0.65832\n",
      "| epoch  41 |    20/   50 batches | lr 0.000044 |  2.27 ms | loss 0.56190\n",
      "| epoch  41 |    30/   50 batches | lr 0.000044 |  1.88 ms | loss 0.57288\n",
      "| epoch  41 |    40/   50 batches | lr 0.000044 |  1.88 ms | loss 0.59236\n",
      "-----------------------------------------------------------------------------------------\n",
      "| end of epoch  41 | time:  0.11s |\n",
      "-----------------------------------------------------------------------------------------\n",
      "| epoch  42 |    10/   50 batches | lr 0.000043 |  2.07 ms | loss 0.63482\n",
      "| epoch  42 |    20/   50 batches | lr 0.000043 |  1.89 ms | loss 0.55985\n",
      "| epoch  42 |    30/   50 batches | lr 0.000043 |  1.87 ms | loss 0.64426\n",
      "| epoch  42 |    40/   50 batches | lr 0.000043 |  1.91 ms | loss 0.54757\n"
     ]
    },
    {
     "name": "stderr",
     "output_type": "stream",
     "text": [
      "/home/rodrigo/home-hd/Anaconda/envs/pytorch/lib/python3.8/site-packages/torch/optim/lr_scheduler.py:369: UserWarning: To get the last learning rate computed by the scheduler, please use `get_last_lr()`.\n",
      "  warnings.warn(\"To get the last learning rate computed by the scheduler, \"\n",
      "/home/rodrigo/home-hd/Anaconda/envs/pytorch/lib/python3.8/site-packages/torch/optim/lr_scheduler.py:369: UserWarning: To get the last learning rate computed by the scheduler, please use `get_last_lr()`.\n",
      "  warnings.warn(\"To get the last learning rate computed by the scheduler, \"\n"
     ]
    },
    {
     "name": "stdout",
     "output_type": "stream",
     "text": [
      "-----------------------------------------------------------------------------------------\n",
      "| end of epoch  42 | time:  0.11s |\n",
      "-----------------------------------------------------------------------------------------\n",
      "| epoch  43 |    10/   50 batches | lr 0.000042 |  2.99 ms | loss 0.68167\n",
      "| epoch  43 |    20/   50 batches | lr 0.000042 |  2.25 ms | loss 0.55186\n",
      "| epoch  43 |    30/   50 batches | lr 0.000042 |  1.90 ms | loss 0.52995\n",
      "| epoch  43 |    40/   50 batches | lr 0.000042 |  1.88 ms | loss 0.53319\n",
      "-----------------------------------------------------------------------------------------\n",
      "| end of epoch  43 | time:  0.11s |\n",
      "-----------------------------------------------------------------------------------------\n",
      "| epoch  44 |    10/   50 batches | lr 0.000041 |  2.35 ms | loss 0.62414\n",
      "| epoch  44 |    20/   50 batches | lr 0.000041 |  1.89 ms | loss 0.55047\n",
      "| epoch  44 |    30/   50 batches | lr 0.000041 |  2.34 ms | loss 0.53412\n"
     ]
    },
    {
     "name": "stderr",
     "output_type": "stream",
     "text": [
      "/home/rodrigo/home-hd/Anaconda/envs/pytorch/lib/python3.8/site-packages/torch/optim/lr_scheduler.py:369: UserWarning: To get the last learning rate computed by the scheduler, please use `get_last_lr()`.\n",
      "  warnings.warn(\"To get the last learning rate computed by the scheduler, \"\n",
      "/home/rodrigo/home-hd/Anaconda/envs/pytorch/lib/python3.8/site-packages/torch/optim/lr_scheduler.py:369: UserWarning: To get the last learning rate computed by the scheduler, please use `get_last_lr()`.\n",
      "  warnings.warn(\"To get the last learning rate computed by the scheduler, \"\n"
     ]
    },
    {
     "name": "stdout",
     "output_type": "stream",
     "text": [
      "| epoch  44 |    40/   50 batches | lr 0.000041 |  2.32 ms | loss 0.55006\n",
      "-----------------------------------------------------------------------------------------\n",
      "| end of epoch  44 | time:  0.12s |\n",
      "-----------------------------------------------------------------------------------------\n",
      "| epoch  45 |    10/   50 batches | lr 0.000040 |  2.70 ms | loss 0.58004\n",
      "| epoch  45 |    20/   50 batches | lr 0.000040 |  1.89 ms | loss 0.53767\n",
      "| epoch  45 |    30/   50 batches | lr 0.000040 |  1.88 ms | loss 0.53709\n",
      "| epoch  45 |    40/   50 batches | lr 0.000040 |  1.88 ms | loss 0.57654\n",
      "-----------------------------------------------------------------------------------------\n",
      "| end of epoch  45 | time:  0.11s |\n",
      "-----------------------------------------------------------------------------------------\n",
      "| epoch  46 |    10/   50 batches | lr 0.000039 |  2.12 ms | loss 0.60031\n",
      "| epoch  46 |    20/   50 batches | lr 0.000039 |  1.87 ms | loss 0.59537\n",
      "| epoch  46 |    30/   50 batches | lr 0.000039 |  1.87 ms | loss 0.54243"
     ]
    },
    {
     "name": "stderr",
     "output_type": "stream",
     "text": [
      "/home/rodrigo/home-hd/Anaconda/envs/pytorch/lib/python3.8/site-packages/torch/optim/lr_scheduler.py:369: UserWarning: To get the last learning rate computed by the scheduler, please use `get_last_lr()`.\n",
      "  warnings.warn(\"To get the last learning rate computed by the scheduler, \"\n",
      "/home/rodrigo/home-hd/Anaconda/envs/pytorch/lib/python3.8/site-packages/torch/optim/lr_scheduler.py:369: UserWarning: To get the last learning rate computed by the scheduler, please use `get_last_lr()`.\n",
      "  warnings.warn(\"To get the last learning rate computed by the scheduler, \"\n"
     ]
    },
    {
     "name": "stdout",
     "output_type": "stream",
     "text": [
      "\n",
      "| epoch  46 |    40/   50 batches | lr 0.000039 |  2.41 ms | loss 0.57334\n",
      "-----------------------------------------------------------------------------------------\n",
      "| end of epoch  46 | time:  0.11s |\n",
      "-----------------------------------------------------------------------------------------\n",
      "| epoch  47 |    10/   50 batches | lr 0.000039 |  2.73 ms | loss 0.58829\n",
      "| epoch  47 |    20/   50 batches | lr 0.000039 |  2.26 ms | loss 0.48142\n",
      "| epoch  47 |    30/   50 batches | lr 0.000039 |  1.88 ms | loss 0.56831\n",
      "| epoch  47 |    40/   50 batches | lr 0.000039 |  1.87 ms | loss 0.54897\n",
      "-----------------------------------------------------------------------------------------\n",
      "| end of epoch  47 | time:  0.11s |\n",
      "-----------------------------------------------------------------------------------------\n",
      "| epoch  48 |    10/   50 batches | lr 0.000038 |  2.30 ms | loss 0.58369\n"
     ]
    },
    {
     "name": "stderr",
     "output_type": "stream",
     "text": [
      "/home/rodrigo/home-hd/Anaconda/envs/pytorch/lib/python3.8/site-packages/torch/optim/lr_scheduler.py:369: UserWarning: To get the last learning rate computed by the scheduler, please use `get_last_lr()`.\n",
      "  warnings.warn(\"To get the last learning rate computed by the scheduler, \"\n",
      "/home/rodrigo/home-hd/Anaconda/envs/pytorch/lib/python3.8/site-packages/torch/optim/lr_scheduler.py:369: UserWarning: To get the last learning rate computed by the scheduler, please use `get_last_lr()`.\n",
      "  warnings.warn(\"To get the last learning rate computed by the scheduler, \"\n"
     ]
    },
    {
     "name": "stdout",
     "output_type": "stream",
     "text": [
      "| epoch  48 |    20/   50 batches | lr 0.000038 |  1.96 ms | loss 0.48427\n",
      "| epoch  48 |    30/   50 batches | lr 0.000038 |  2.39 ms | loss 0.56616\n",
      "| epoch  48 |    40/   50 batches | lr 0.000038 |  2.28 ms | loss 0.52936\n",
      "-----------------------------------------------------------------------------------------\n",
      "| end of epoch  48 | time:  0.11s |\n",
      "-----------------------------------------------------------------------------------------\n",
      "| epoch  49 |    10/   50 batches | lr 0.000037 |  2.97 ms | loss 0.59383\n",
      "| epoch  49 |    20/   50 batches | lr 0.000037 |  1.88 ms | loss 0.45898\n",
      "| epoch  49 |    30/   50 batches | lr 0.000037 |  1.91 ms | loss 0.53213\n",
      "| epoch  49 |    40/   50 batches | lr 0.000037 |  1.86 ms | loss 0.55543\n",
      "-----------------------------------------------------------------------------------------\n",
      "| end of epoch  49 | time:  0.11s |\n",
      "-----------------------------------------------------------------------------------------\n",
      "| epoch  50 |    10/   50 batches | lr 0.000036 |  2.08 ms | loss 0.58946\n"
     ]
    },
    {
     "name": "stderr",
     "output_type": "stream",
     "text": [
      "/home/rodrigo/home-hd/Anaconda/envs/pytorch/lib/python3.8/site-packages/torch/optim/lr_scheduler.py:369: UserWarning: To get the last learning rate computed by the scheduler, please use `get_last_lr()`.\n",
      "  warnings.warn(\"To get the last learning rate computed by the scheduler, \"\n",
      "/home/rodrigo/home-hd/Anaconda/envs/pytorch/lib/python3.8/site-packages/torch/optim/lr_scheduler.py:369: UserWarning: To get the last learning rate computed by the scheduler, please use `get_last_lr()`.\n",
      "  warnings.warn(\"To get the last learning rate computed by the scheduler, \"\n"
     ]
    },
    {
     "name": "stdout",
     "output_type": "stream",
     "text": [
      "| epoch  50 |    20/   50 batches | lr 0.000036 |  2.40 ms | loss 0.53778\n",
      "| epoch  50 |    30/   50 batches | lr 0.000036 |  2.27 ms | loss 0.54009\n",
      "| epoch  50 |    40/   50 batches | lr 0.000036 |  1.88 ms | loss 0.48012\n",
      "-----------------------------------------------------------------------------------------\n",
      "| end of epoch  50 | time:  0.11s |\n",
      "-----------------------------------------------------------------------------------------\n",
      "| epoch  51 |    10/   50 batches | lr 0.000036 |  2.38 ms | loss 0.56562\n",
      "| epoch  51 |    20/   50 batches | lr 0.000036 |  2.51 ms | loss 0.49548\n",
      "| epoch  51 |    30/   50 batches | lr 0.000036 |  1.88 ms | loss 0.56407\n",
      "| epoch  51 |    40/   50 batches | lr 0.000036 |  1.88 ms | loss 0.53487\n",
      "-----------------------------------------------------------------------------------------\n",
      "| end of epoch  51 | time:  0.11s |\n",
      "-----------------------------------------------------------------------------------------\n"
     ]
    },
    {
     "name": "stderr",
     "output_type": "stream",
     "text": [
      "/home/rodrigo/home-hd/Anaconda/envs/pytorch/lib/python3.8/site-packages/torch/optim/lr_scheduler.py:369: UserWarning: To get the last learning rate computed by the scheduler, please use `get_last_lr()`.\n",
      "  warnings.warn(\"To get the last learning rate computed by the scheduler, \"\n",
      "/home/rodrigo/home-hd/Anaconda/envs/pytorch/lib/python3.8/site-packages/torch/optim/lr_scheduler.py:369: UserWarning: To get the last learning rate computed by the scheduler, please use `get_last_lr()`.\n",
      "  warnings.warn(\"To get the last learning rate computed by the scheduler, \"\n"
     ]
    },
    {
     "name": "stdout",
     "output_type": "stream",
     "text": [
      "| epoch  52 |    10/   50 batches | lr 0.000035 |  2.49 ms | loss 0.54686\n",
      "| epoch  52 |    20/   50 batches | lr 0.000035 |  2.80 ms | loss 0.52325\n",
      "| epoch  52 |    30/   50 batches | lr 0.000035 |  1.91 ms | loss 0.52805\n",
      "| epoch  52 |    40/   50 batches | lr 0.000035 |  1.88 ms | loss 0.46902\n",
      "-----------------------------------------------------------------------------------------\n",
      "| end of epoch  52 | time:  0.13s |\n",
      "-----------------------------------------------------------------------------------------\n",
      "| epoch  53 |    10/   50 batches | lr 0.000034 |  2.52 ms | loss 0.55864\n",
      "| epoch  53 |    20/   50 batches | lr 0.000034 |  2.66 ms | loss 0.50713\n",
      "| epoch  53 |    30/   50 batches | lr 0.000034 |  2.15 ms | loss 0.47470\n",
      "| epoch  53 |    40/   50 batches | lr 0.000034 |  2.34 ms | loss 0.54259\n"
     ]
    },
    {
     "name": "stderr",
     "output_type": "stream",
     "text": [
      "/home/rodrigo/home-hd/Anaconda/envs/pytorch/lib/python3.8/site-packages/torch/optim/lr_scheduler.py:369: UserWarning: To get the last learning rate computed by the scheduler, please use `get_last_lr()`.\n",
      "  warnings.warn(\"To get the last learning rate computed by the scheduler, \"\n",
      "/home/rodrigo/home-hd/Anaconda/envs/pytorch/lib/python3.8/site-packages/torch/optim/lr_scheduler.py:369: UserWarning: To get the last learning rate computed by the scheduler, please use `get_last_lr()`.\n",
      "  warnings.warn(\"To get the last learning rate computed by the scheduler, \"\n"
     ]
    },
    {
     "name": "stdout",
     "output_type": "stream",
     "text": [
      "-----------------------------------------------------------------------------------------\n",
      "| end of epoch  53 | time:  0.13s |\n",
      "-----------------------------------------------------------------------------------------\n",
      "| epoch  54 |    10/   50 batches | lr 0.000034 |  2.53 ms | loss 0.59444\n",
      "| epoch  54 |    20/   50 batches | lr 0.000034 |  2.32 ms | loss 0.49692\n",
      "| epoch  54 |    30/   50 batches | lr 0.000034 |  2.14 ms | loss 0.48440\n",
      "| epoch  54 |    40/   50 batches | lr 0.000034 |  2.08 ms | loss 0.49879\n",
      "-----------------------------------------------------------------------------------------\n",
      "| end of epoch  54 | time:  0.12s |\n",
      "-----------------------------------------------------------------------------------------\n",
      "| epoch  55 |    10/   50 batches | lr 0.000033 |  2.44 ms | loss 0.55506\n",
      "| epoch  55 |    20/   50 batches | lr 0.000033 |  1.90 ms | loss 0.54702\n",
      "| epoch  55 |    30/   50 batches | lr 0.000033 |  1.88 ms | loss 0.46378\n"
     ]
    },
    {
     "name": "stderr",
     "output_type": "stream",
     "text": [
      "/home/rodrigo/home-hd/Anaconda/envs/pytorch/lib/python3.8/site-packages/torch/optim/lr_scheduler.py:369: UserWarning: To get the last learning rate computed by the scheduler, please use `get_last_lr()`.\n",
      "  warnings.warn(\"To get the last learning rate computed by the scheduler, \"\n",
      "/home/rodrigo/home-hd/Anaconda/envs/pytorch/lib/python3.8/site-packages/torch/optim/lr_scheduler.py:369: UserWarning: To get the last learning rate computed by the scheduler, please use `get_last_lr()`.\n",
      "  warnings.warn(\"To get the last learning rate computed by the scheduler, \"\n"
     ]
    },
    {
     "name": "stdout",
     "output_type": "stream",
     "text": [
      "| epoch  55 |    40/   50 batches | lr 0.000033 |  1.96 ms | loss 0.45721\n",
      "-----------------------------------------------------------------------------------------\n",
      "| end of epoch  55 | time:  0.11s |\n",
      "-----------------------------------------------------------------------------------------\n",
      "| epoch  56 |    10/   50 batches | lr 0.000032 |  2.11 ms | loss 0.49796\n",
      "| epoch  56 |    20/   50 batches | lr 0.000032 |  5.33 ms | loss 0.46044\n",
      "| epoch  56 |    30/   50 batches | lr 0.000032 |  5.18 ms | loss 0.52582\n",
      "| epoch  56 |    40/   50 batches | lr 0.000032 |  5.78 ms | loss 0.50269\n",
      "-----------------------------------------------------------------------------------------\n",
      "| end of epoch  56 | time:  0.22s |\n",
      "-----------------------------------------------------------------------------------------\n",
      "| epoch  57 |    10/   50 batches | lr 0.000032 |  2.11 ms | loss 0.51604\n",
      "| epoch  57 |    20/   50 batches | lr 0.000032 |  1.88 ms | loss 0.48083\n",
      "| epoch  57 |    30/   50 batches | lr 0.000032 |  1.88 ms | loss 0.46268\n",
      "| epoch  57 |    40/   50 batches | lr 0.000032 |  2.70 ms | loss 0.50959\n",
      "-----------------------------------------------------------------------------------------\n",
      "| end of epoch  57 | time:  0.14s |\n",
      "-----------------------------------------------------------------------------------------\n"
     ]
    },
    {
     "name": "stderr",
     "output_type": "stream",
     "text": [
      "/home/rodrigo/home-hd/Anaconda/envs/pytorch/lib/python3.8/site-packages/torch/optim/lr_scheduler.py:369: UserWarning: To get the last learning rate computed by the scheduler, please use `get_last_lr()`.\n",
      "  warnings.warn(\"To get the last learning rate computed by the scheduler, \"\n",
      "/home/rodrigo/home-hd/Anaconda/envs/pytorch/lib/python3.8/site-packages/torch/optim/lr_scheduler.py:369: UserWarning: To get the last learning rate computed by the scheduler, please use `get_last_lr()`.\n",
      "  warnings.warn(\"To get the last learning rate computed by the scheduler, \"\n"
     ]
    },
    {
     "name": "stdout",
     "output_type": "stream",
     "text": [
      "| epoch  58 |    10/   50 batches | lr 0.000031 |  7.14 ms | loss 0.50518\n",
      "| epoch  58 |    20/   50 batches | lr 0.000031 |  6.28 ms | loss 0.53074\n",
      "| epoch  58 |    30/   50 batches | lr 0.000031 |  6.63 ms | loss 0.44910\n",
      "| epoch  58 |    40/   50 batches | lr 0.000031 |  5.14 ms | loss 0.43778\n",
      "-----------------------------------------------------------------------------------------\n",
      "| end of epoch  58 | time:  0.31s |\n",
      "-----------------------------------------------------------------------------------------\n",
      "| epoch  59 |    10/   50 batches | lr 0.000030 |  5.47 ms | loss 0.54776\n",
      "| epoch  59 |    20/   50 batches | lr 0.000030 |  4.32 ms | loss 0.46614\n",
      "| epoch  59 |    30/   50 batches | lr 0.000030 |  3.25 ms | loss 0.45415\n",
      "| epoch  59 |    40/   50 batches | lr 0.000030 |  2.22 ms | loss 0.39704\n",
      "-----------------------------------------------------------------------------------------\n",
      "| end of epoch  59 | time:  0.18s |\n",
      "-----------------------------------------------------------------------------------------\n",
      "| epoch  60 |    10/   50 batches | lr 0.000030 |  2.08 ms | loss 0.46607\n"
     ]
    },
    {
     "name": "stderr",
     "output_type": "stream",
     "text": [
      "/home/rodrigo/home-hd/Anaconda/envs/pytorch/lib/python3.8/site-packages/torch/optim/lr_scheduler.py:369: UserWarning: To get the last learning rate computed by the scheduler, please use `get_last_lr()`.\n",
      "  warnings.warn(\"To get the last learning rate computed by the scheduler, \"\n",
      "/home/rodrigo/home-hd/Anaconda/envs/pytorch/lib/python3.8/site-packages/torch/optim/lr_scheduler.py:369: UserWarning: To get the last learning rate computed by the scheduler, please use `get_last_lr()`.\n",
      "  warnings.warn(\"To get the last learning rate computed by the scheduler, \"\n"
     ]
    },
    {
     "name": "stdout",
     "output_type": "stream",
     "text": [
      "| epoch  60 |    20/   50 batches | lr 0.000030 |  2.90 ms | loss 0.49445\n",
      "| epoch  60 |    30/   50 batches | lr 0.000030 |  1.88 ms | loss 0.46798\n",
      "| epoch  60 |    40/   50 batches | lr 0.000030 |  2.26 ms | loss 0.40706\n",
      "-----------------------------------------------------------------------------------------\n",
      "| end of epoch  60 | time:  0.12s |\n",
      "-----------------------------------------------------------------------------------------\n",
      "| epoch  61 |    10/   50 batches | lr 0.000029 |  5.36 ms | loss 0.54681\n",
      "| epoch  61 |    20/   50 batches | lr 0.000029 |  5.07 ms | loss 0.43312\n"
     ]
    },
    {
     "name": "stderr",
     "output_type": "stream",
     "text": [
      "/home/rodrigo/home-hd/Anaconda/envs/pytorch/lib/python3.8/site-packages/torch/optim/lr_scheduler.py:369: UserWarning: To get the last learning rate computed by the scheduler, please use `get_last_lr()`.\n",
      "  warnings.warn(\"To get the last learning rate computed by the scheduler, \"\n"
     ]
    },
    {
     "name": "stdout",
     "output_type": "stream",
     "text": [
      "| epoch  61 |    30/   50 batches | lr 0.000029 |  4.75 ms | loss 0.46748\n",
      "| epoch  61 |    40/   50 batches | lr 0.000029 |  4.58 ms | loss 0.48005\n",
      "-----------------------------------------------------------------------------------------\n",
      "| end of epoch  61 | time:  0.27s |\n",
      "-----------------------------------------------------------------------------------------\n",
      "| epoch  62 |    10/   50 batches | lr 0.000029 |  4.47 ms | loss 0.55143\n",
      "| epoch  62 |    20/   50 batches | lr 0.000029 |  1.88 ms | loss 0.44954\n",
      "| epoch  62 |    30/   50 batches | lr 0.000029 |  1.87 ms | loss 0.47076\n"
     ]
    },
    {
     "name": "stderr",
     "output_type": "stream",
     "text": [
      "/home/rodrigo/home-hd/Anaconda/envs/pytorch/lib/python3.8/site-packages/torch/optim/lr_scheduler.py:369: UserWarning: To get the last learning rate computed by the scheduler, please use `get_last_lr()`.\n",
      "  warnings.warn(\"To get the last learning rate computed by the scheduler, \"\n",
      "/home/rodrigo/home-hd/Anaconda/envs/pytorch/lib/python3.8/site-packages/torch/optim/lr_scheduler.py:369: UserWarning: To get the last learning rate computed by the scheduler, please use `get_last_lr()`.\n",
      "  warnings.warn(\"To get the last learning rate computed by the scheduler, \"\n"
     ]
    },
    {
     "name": "stdout",
     "output_type": "stream",
     "text": [
      "| epoch  62 |    40/   50 batches | lr 0.000029 |  2.45 ms | loss 0.46348\n",
      "-----------------------------------------------------------------------------------------\n",
      "| end of epoch  62 | time:  0.13s |\n",
      "-----------------------------------------------------------------------------------------\n",
      "| epoch  63 |    10/   50 batches | lr 0.000028 |  2.10 ms | loss 0.53608\n",
      "| epoch  63 |    20/   50 batches | lr 0.000028 |  1.88 ms | loss 0.44773\n",
      "| epoch  63 |    30/   50 batches | lr 0.000028 |  2.00 ms | loss 0.41244\n",
      "| epoch  63 |    40/   50 batches | lr 0.000028 |  1.88 ms | loss 0.44743\n",
      "-----------------------------------------------------------------------------------------\n",
      "| end of epoch  63 | time:  0.10s |\n",
      "-----------------------------------------------------------------------------------------\n"
     ]
    },
    {
     "name": "stderr",
     "output_type": "stream",
     "text": [
      "/home/rodrigo/home-hd/Anaconda/envs/pytorch/lib/python3.8/site-packages/torch/optim/lr_scheduler.py:369: UserWarning: To get the last learning rate computed by the scheduler, please use `get_last_lr()`.\n",
      "  warnings.warn(\"To get the last learning rate computed by the scheduler, \"\n"
     ]
    },
    {
     "name": "stdout",
     "output_type": "stream",
     "text": [
      "| epoch  64 |    10/   50 batches | lr 0.000027 |  6.97 ms | loss 0.49161\n",
      "| epoch  64 |    20/   50 batches | lr 0.000027 |  6.25 ms | loss 0.44289\n",
      "| epoch  64 |    30/   50 batches | lr 0.000027 |  7.74 ms | loss 0.43936\n",
      "| epoch  64 |    40/   50 batches | lr 0.000027 |  4.31 ms | loss 0.47161\n",
      "-----------------------------------------------------------------------------------------\n",
      "| end of epoch  64 | time:  0.29s |\n",
      "-----------------------------------------------------------------------------------------\n",
      "| epoch  65 |    10/   50 batches | lr 0.000027 |  3.06 ms | loss 0.44836\n",
      "| epoch  65 |    20/   50 batches | lr 0.000027 |  1.98 ms | loss 0.45732\n",
      "| epoch  65 |    30/   50 batches | lr 0.000027 |  1.89 ms | loss 0.42441\n",
      "| epoch  65 |    40/   50 batches | lr 0.000027 |  1.88 ms | loss 0.46613\n",
      "-----------------------------------------------------------------------------------------\n",
      "| end of epoch  65 | time:  0.11s |\n",
      "-----------------------------------------------------------------------------------------\n",
      "| epoch  66 |    10/   50 batches | lr 0.000026 |  2.08 ms | loss 0.43272\n",
      "| epoch  66 |    20/   50 batches | lr 0.000026 |  1.87 ms | loss 0.44112\n",
      "| epoch  66 |    30/   50 batches | lr 0.000026 |  1.87 ms | loss 0.44245\n",
      "| epoch  66 |    40/   50 batches | lr 0.000026 |  1.91 ms | loss 0.47316\n"
     ]
    },
    {
     "name": "stderr",
     "output_type": "stream",
     "text": [
      "/home/rodrigo/home-hd/Anaconda/envs/pytorch/lib/python3.8/site-packages/torch/optim/lr_scheduler.py:369: UserWarning: To get the last learning rate computed by the scheduler, please use `get_last_lr()`.\n",
      "  warnings.warn(\"To get the last learning rate computed by the scheduler, \"\n",
      "/home/rodrigo/home-hd/Anaconda/envs/pytorch/lib/python3.8/site-packages/torch/optim/lr_scheduler.py:369: UserWarning: To get the last learning rate computed by the scheduler, please use `get_last_lr()`.\n",
      "  warnings.warn(\"To get the last learning rate computed by the scheduler, \"\n"
     ]
    },
    {
     "name": "stdout",
     "output_type": "stream",
     "text": [
      "-----------------------------------------------------------------------------------------\n",
      "| end of epoch  66 | time:  0.11s |\n",
      "-----------------------------------------------------------------------------------------\n",
      "| epoch  67 |    10/   50 batches | lr 0.000026 |  2.73 ms | loss 0.55330\n",
      "| epoch  67 |    20/   50 batches | lr 0.000026 |  7.80 ms | loss 0.46353\n",
      "| epoch  67 |    30/   50 batches | lr 0.000026 |  7.09 ms | loss 0.45950\n"
     ]
    },
    {
     "name": "stderr",
     "output_type": "stream",
     "text": [
      "/home/rodrigo/home-hd/Anaconda/envs/pytorch/lib/python3.8/site-packages/torch/optim/lr_scheduler.py:369: UserWarning: To get the last learning rate computed by the scheduler, please use `get_last_lr()`.\n",
      "  warnings.warn(\"To get the last learning rate computed by the scheduler, \"\n"
     ]
    },
    {
     "name": "stdout",
     "output_type": "stream",
     "text": [
      "| epoch  67 |    40/   50 batches | lr 0.000026 |  6.01 ms | loss 0.46396\n",
      "-----------------------------------------------------------------------------------------\n",
      "| end of epoch  67 | time:  0.27s |\n",
      "-----------------------------------------------------------------------------------------\n",
      "| epoch  68 |    10/   50 batches | lr 0.000025 |  3.74 ms | loss 0.48932\n",
      "| epoch  68 |    20/   50 batches | lr 0.000025 |  2.58 ms | loss 0.39699\n",
      "| epoch  68 |    30/   50 batches | lr 0.000025 |  2.23 ms | loss 0.48188\n",
      "| epoch  68 |    40/   50 batches | lr 0.000025 |  2.38 ms | loss 0.44349\n",
      "-----------------------------------------------------------------------------------------\n",
      "| end of epoch  68 | time:  0.13s |\n",
      "-----------------------------------------------------------------------------------------\n",
      "| epoch  69 |    10/   50 batches | lr 0.000025 |  2.50 ms | loss 0.47914\n"
     ]
    },
    {
     "name": "stderr",
     "output_type": "stream",
     "text": [
      "/home/rodrigo/home-hd/Anaconda/envs/pytorch/lib/python3.8/site-packages/torch/optim/lr_scheduler.py:369: UserWarning: To get the last learning rate computed by the scheduler, please use `get_last_lr()`.\n",
      "  warnings.warn(\"To get the last learning rate computed by the scheduler, \"\n",
      "/home/rodrigo/home-hd/Anaconda/envs/pytorch/lib/python3.8/site-packages/torch/optim/lr_scheduler.py:369: UserWarning: To get the last learning rate computed by the scheduler, please use `get_last_lr()`.\n",
      "  warnings.warn(\"To get the last learning rate computed by the scheduler, \"\n"
     ]
    },
    {
     "name": "stdout",
     "output_type": "stream",
     "text": [
      "| epoch  69 |    20/   50 batches | lr 0.000025 |  2.73 ms | loss 0.44010\n",
      "| epoch  69 |    30/   50 batches | lr 0.000025 |  2.71 ms | loss 0.41346\n",
      "| epoch  69 |    40/   50 batches | lr 0.000025 |  2.23 ms | loss 0.43887\n",
      "-----------------------------------------------------------------------------------------\n",
      "| end of epoch  69 | time:  0.15s |\n",
      "-----------------------------------------------------------------------------------------\n",
      "| epoch  70 |    10/   50 batches | lr 0.000024 |  3.22 ms | loss 0.50636\n",
      "| epoch  70 |    20/   50 batches | lr 0.000024 |  1.91 ms | loss 0.42399\n",
      "| epoch  70 |    30/   50 batches | lr 0.000024 |  1.88 ms | loss 0.44773\n",
      "| epoch  70 |    40/   50 batches | lr 0.000024 |  1.89 ms | loss 0.39198\n"
     ]
    },
    {
     "name": "stderr",
     "output_type": "stream",
     "text": [
      "/home/rodrigo/home-hd/Anaconda/envs/pytorch/lib/python3.8/site-packages/torch/optim/lr_scheduler.py:369: UserWarning: To get the last learning rate computed by the scheduler, please use `get_last_lr()`.\n",
      "  warnings.warn(\"To get the last learning rate computed by the scheduler, \"\n",
      "/home/rodrigo/home-hd/Anaconda/envs/pytorch/lib/python3.8/site-packages/torch/optim/lr_scheduler.py:369: UserWarning: To get the last learning rate computed by the scheduler, please use `get_last_lr()`.\n",
      "  warnings.warn(\"To get the last learning rate computed by the scheduler, \"\n"
     ]
    },
    {
     "name": "stdout",
     "output_type": "stream",
     "text": [
      "-----------------------------------------------------------------------------------------\n",
      "| end of epoch  70 | time:  0.12s |\n",
      "-----------------------------------------------------------------------------------------\n",
      "| epoch  71 |    10/   50 batches | lr 0.000024 |  3.01 ms | loss 0.48637\n",
      "| epoch  71 |    20/   50 batches | lr 0.000024 |  2.24 ms | loss 0.44506\n",
      "| epoch  71 |    30/   50 batches | lr 0.000024 |  1.88 ms | loss 0.43009\n",
      "| epoch  71 |    40/   50 batches | lr 0.000024 |  1.88 ms | loss 0.41139\n",
      "-----------------------------------------------------------------------------------------\n",
      "| end of epoch  71 | time:  0.11s |\n",
      "-----------------------------------------------------------------------------------------\n",
      "| epoch  72 |    10/   50 batches | lr 0.000023 |  3.06 ms | loss 0.46623\n",
      "| epoch  72 |    20/   50 batches | lr 0.000023 |  2.62 ms | loss 0.40772\n",
      "| epoch  72 |    30/   50 batches | lr 0.000023 |  2.32 ms | loss 0.41587\n"
     ]
    },
    {
     "name": "stderr",
     "output_type": "stream",
     "text": [
      "/home/rodrigo/home-hd/Anaconda/envs/pytorch/lib/python3.8/site-packages/torch/optim/lr_scheduler.py:369: UserWarning: To get the last learning rate computed by the scheduler, please use `get_last_lr()`.\n",
      "  warnings.warn(\"To get the last learning rate computed by the scheduler, \"\n",
      "/home/rodrigo/home-hd/Anaconda/envs/pytorch/lib/python3.8/site-packages/torch/optim/lr_scheduler.py:369: UserWarning: To get the last learning rate computed by the scheduler, please use `get_last_lr()`.\n",
      "  warnings.warn(\"To get the last learning rate computed by the scheduler, \"\n"
     ]
    },
    {
     "name": "stdout",
     "output_type": "stream",
     "text": [
      "| epoch  72 |    40/   50 batches | lr 0.000023 |  3.36 ms | loss 0.49190\n",
      "-----------------------------------------------------------------------------------------\n",
      "| end of epoch  72 | time:  0.14s |\n",
      "-----------------------------------------------------------------------------------------\n",
      "| epoch  73 |    10/   50 batches | lr 0.000023 |  4.06 ms | loss 0.45567\n",
      "| epoch  73 |    20/   50 batches | lr 0.000023 |  2.35 ms | loss 0.45986\n",
      "| epoch  73 |    30/   50 batches | lr 0.000023 |  2.81 ms | loss 0.44330\n",
      "| epoch  73 |    40/   50 batches | lr 0.000023 |  3.24 ms | loss 0.42440\n",
      "-----------------------------------------------------------------------------------------\n",
      "| end of epoch  73 | time:  0.15s |\n",
      "-----------------------------------------------------------------------------------------\n"
     ]
    },
    {
     "name": "stderr",
     "output_type": "stream",
     "text": [
      "/home/rodrigo/home-hd/Anaconda/envs/pytorch/lib/python3.8/site-packages/torch/optim/lr_scheduler.py:369: UserWarning: To get the last learning rate computed by the scheduler, please use `get_last_lr()`.\n",
      "  warnings.warn(\"To get the last learning rate computed by the scheduler, \"\n",
      "/home/rodrigo/home-hd/Anaconda/envs/pytorch/lib/python3.8/site-packages/torch/optim/lr_scheduler.py:369: UserWarning: To get the last learning rate computed by the scheduler, please use `get_last_lr()`.\n",
      "  warnings.warn(\"To get the last learning rate computed by the scheduler, \"\n"
     ]
    },
    {
     "name": "stdout",
     "output_type": "stream",
     "text": [
      "| epoch  74 |    10/   50 batches | lr 0.000022 |  2.69 ms | loss 0.43822\n",
      "| epoch  74 |    20/   50 batches | lr 0.000022 |  2.82 ms | loss 0.44844\n",
      "| epoch  74 |    30/   50 batches | lr 0.000022 |  2.68 ms | loss 0.48423\n",
      "| epoch  74 |    40/   50 batches | lr 0.000022 |  1.93 ms | loss 0.39757\n",
      "-----------------------------------------------------------------------------------------\n",
      "| end of epoch  74 | time:  0.12s |\n",
      "-----------------------------------------------------------------------------------------\n",
      "| epoch  75 |    10/   50 batches | lr 0.000022 |  2.16 ms | loss 0.43067\n",
      "| epoch  75 |    20/   50 batches | lr 0.000022 |  1.90 ms | loss 0.39859\n",
      "| epoch  75 |    30/   50 batches | lr 0.000022 |  2.20 ms | loss 0.44097\n",
      "| epoch  75 |    40/   50 batches | lr 0.000022 |  2.49 ms | loss 0.45554\n",
      "-----------------------------------------------------------------------------------------\n",
      "| end of epoch  75 | time:  0.11s |\n",
      "-----------------------------------------------------------------------------------------\n",
      "| epoch  76 |    10/   50 batches | lr 0.000022 |  3.54 ms | loss 0.46968\n",
      "| epoch  76 |    20/   50 batches | lr 0.000022 |  4.95 ms | loss 0.41049\n",
      "| epoch  76 |    30/   50 batches | lr 0.000022 |  4.92 ms | loss 0.41571\n",
      "| epoch  76 |    40/   50 batches | lr 0.000022 |  4.73 ms | loss 0.42668\n"
     ]
    },
    {
     "name": "stderr",
     "output_type": "stream",
     "text": [
      "/home/rodrigo/home-hd/Anaconda/envs/pytorch/lib/python3.8/site-packages/torch/optim/lr_scheduler.py:369: UserWarning: To get the last learning rate computed by the scheduler, please use `get_last_lr()`.\n",
      "  warnings.warn(\"To get the last learning rate computed by the scheduler, \"\n"
     ]
    },
    {
     "name": "stdout",
     "output_type": "stream",
     "text": [
      "-----------------------------------------------------------------------------------------\n",
      "| end of epoch  76 | time:  0.23s |\n",
      "-----------------------------------------------------------------------------------------\n",
      "| epoch  77 |    10/   50 batches | lr 0.000021 |  5.27 ms | loss 0.45149\n",
      "| epoch  77 |    20/   50 batches | lr 0.000021 |  4.78 ms | loss 0.43980\n",
      "| epoch  77 |    30/   50 batches | lr 0.000021 |  2.91 ms | loss 0.38297\n",
      "| epoch  77 |    40/   50 batches | lr 0.000021 |  2.52 ms | loss 0.38617\n",
      "-----------------------------------------------------------------------------------------\n",
      "| end of epoch  77 | time:  0.18s |\n",
      "-----------------------------------------------------------------------------------------\n"
     ]
    },
    {
     "name": "stderr",
     "output_type": "stream",
     "text": [
      "/home/rodrigo/home-hd/Anaconda/envs/pytorch/lib/python3.8/site-packages/torch/optim/lr_scheduler.py:369: UserWarning: To get the last learning rate computed by the scheduler, please use `get_last_lr()`.\n",
      "  warnings.warn(\"To get the last learning rate computed by the scheduler, \"\n",
      "/home/rodrigo/home-hd/Anaconda/envs/pytorch/lib/python3.8/site-packages/torch/optim/lr_scheduler.py:369: UserWarning: To get the last learning rate computed by the scheduler, please use `get_last_lr()`.\n",
      "  warnings.warn(\"To get the last learning rate computed by the scheduler, \"\n"
     ]
    },
    {
     "name": "stdout",
     "output_type": "stream",
     "text": [
      "| epoch  78 |    10/   50 batches | lr 0.000021 |  3.36 ms | loss 0.47776\n",
      "| epoch  78 |    20/   50 batches | lr 0.000021 |  2.58 ms | loss 0.34904\n",
      "| epoch  78 |    30/   50 batches | lr 0.000021 |  2.29 ms | loss 0.42666\n",
      "| epoch  78 |    40/   50 batches | lr 0.000021 |  3.40 ms | loss 0.42032\n",
      "-----------------------------------------------------------------------------------------\n",
      "| end of epoch  78 | time:  0.14s |\n",
      "-----------------------------------------------------------------------------------------\n",
      "| epoch  79 |    10/   50 batches | lr 0.000020 |  2.08 ms | loss 0.43600\n",
      "| epoch  79 |    20/   50 batches | lr 0.000020 |  1.88 ms | loss 0.52108\n",
      "| epoch  79 |    30/   50 batches | lr 0.000020 |  1.87 ms | loss 0.35643\n",
      "| epoch  79 |    40/   50 batches | lr 0.000020 |  1.87 ms | loss 0.38284\n"
     ]
    },
    {
     "name": "stderr",
     "output_type": "stream",
     "text": [
      "/home/rodrigo/home-hd/Anaconda/envs/pytorch/lib/python3.8/site-packages/torch/optim/lr_scheduler.py:369: UserWarning: To get the last learning rate computed by the scheduler, please use `get_last_lr()`.\n",
      "  warnings.warn(\"To get the last learning rate computed by the scheduler, \"\n",
      "/home/rodrigo/home-hd/Anaconda/envs/pytorch/lib/python3.8/site-packages/torch/optim/lr_scheduler.py:369: UserWarning: To get the last learning rate computed by the scheduler, please use `get_last_lr()`.\n",
      "  warnings.warn(\"To get the last learning rate computed by the scheduler, \"\n"
     ]
    },
    {
     "name": "stdout",
     "output_type": "stream",
     "text": [
      "-----------------------------------------------------------------------------------------\n",
      "| end of epoch  79 | time:  0.10s |\n",
      "-----------------------------------------------------------------------------------------\n",
      "| epoch  80 |    10/   50 batches | lr 0.000020 |  3.63 ms | loss 0.52171\n",
      "| epoch  80 |    20/   50 batches | lr 0.000020 |  2.75 ms | loss 0.42308\n",
      "| epoch  80 |    30/   50 batches | lr 0.000020 |  1.87 ms | loss 0.36926\n",
      "| epoch  80 |    40/   50 batches | lr 0.000020 |  1.91 ms | loss 0.44923\n",
      "-----------------------------------------------------------------------------------------\n",
      "| end of epoch  80 | time:  0.13s |\n",
      "-----------------------------------------------------------------------------------------\n",
      "| epoch  81 |    10/   50 batches | lr 0.000019 |  3.04 ms | loss 0.45079\n",
      "| epoch  81 |    20/   50 batches | lr 0.000019 |  1.89 ms | loss 0.40580\n"
     ]
    },
    {
     "name": "stderr",
     "output_type": "stream",
     "text": [
      "/home/rodrigo/home-hd/Anaconda/envs/pytorch/lib/python3.8/site-packages/torch/optim/lr_scheduler.py:369: UserWarning: To get the last learning rate computed by the scheduler, please use `get_last_lr()`.\n",
      "  warnings.warn(\"To get the last learning rate computed by the scheduler, \"\n",
      "/home/rodrigo/home-hd/Anaconda/envs/pytorch/lib/python3.8/site-packages/torch/optim/lr_scheduler.py:369: UserWarning: To get the last learning rate computed by the scheduler, please use `get_last_lr()`.\n",
      "  warnings.warn(\"To get the last learning rate computed by the scheduler, \"\n"
     ]
    },
    {
     "name": "stdout",
     "output_type": "stream",
     "text": [
      "| epoch  81 |    30/   50 batches | lr 0.000019 |  2.19 ms | loss 0.43853\n",
      "| epoch  81 |    40/   50 batches | lr 0.000019 |  3.04 ms | loss 0.49133\n",
      "-----------------------------------------------------------------------------------------\n",
      "| end of epoch  81 | time:  0.13s |\n",
      "-----------------------------------------------------------------------------------------\n",
      "| epoch  82 |    10/   50 batches | lr 0.000019 |  2.15 ms | loss 0.45813\n",
      "| epoch  82 |    20/   50 batches | lr 0.000019 |  2.42 ms | loss 0.38971\n",
      "| epoch  82 |    30/   50 batches | lr 0.000019 |  2.11 ms | loss 0.38154\n",
      "| epoch  82 |    40/   50 batches | lr 0.000019 |  2.29 ms | loss 0.38724\n",
      "-----------------------------------------------------------------------------------------\n",
      "| end of epoch  82 | time:  0.13s |\n",
      "-----------------------------------------------------------------------------------------\n"
     ]
    },
    {
     "name": "stderr",
     "output_type": "stream",
     "text": [
      "/home/rodrigo/home-hd/Anaconda/envs/pytorch/lib/python3.8/site-packages/torch/optim/lr_scheduler.py:369: UserWarning: To get the last learning rate computed by the scheduler, please use `get_last_lr()`.\n",
      "  warnings.warn(\"To get the last learning rate computed by the scheduler, \"\n",
      "/home/rodrigo/home-hd/Anaconda/envs/pytorch/lib/python3.8/site-packages/torch/optim/lr_scheduler.py:369: UserWarning: To get the last learning rate computed by the scheduler, please use `get_last_lr()`.\n",
      "  warnings.warn(\"To get the last learning rate computed by the scheduler, \"\n"
     ]
    },
    {
     "name": "stdout",
     "output_type": "stream",
     "text": [
      "| epoch  83 |    10/   50 batches | lr 0.000019 |  2.93 ms | loss 0.36492\n",
      "| epoch  83 |    20/   50 batches | lr 0.000019 |  3.57 ms | loss 0.42623\n",
      "| epoch  83 |    30/   50 batches | lr 0.000019 |  1.91 ms | loss 0.38001\n",
      "| epoch  83 |    40/   50 batches | lr 0.000019 |  2.12 ms | loss 0.36140\n",
      "-----------------------------------------------------------------------------------------\n",
      "| end of epoch  83 | time:  0.13s |\n",
      "-----------------------------------------------------------------------------------------\n",
      "| epoch  84 |    10/   50 batches | lr 0.000018 |  2.08 ms | loss 0.42498\n",
      "| epoch  84 |    20/   50 batches | lr 0.000018 |  1.88 ms | loss 0.38694\n",
      "| epoch  84 |    30/   50 batches | lr 0.000018 |  1.88 ms | loss 0.41837\n",
      "| epoch  84 |    40/   50 batches | lr 0.000018 |  1.88 ms | loss 0.36063\n",
      "-----------------------------------------------------------------------------------------\n",
      "| end of epoch  84 | time:  0.10s |\n",
      "-----------------------------------------------------------------------------------------\n"
     ]
    },
    {
     "name": "stderr",
     "output_type": "stream",
     "text": [
      "/home/rodrigo/home-hd/Anaconda/envs/pytorch/lib/python3.8/site-packages/torch/optim/lr_scheduler.py:369: UserWarning: To get the last learning rate computed by the scheduler, please use `get_last_lr()`.\n",
      "  warnings.warn(\"To get the last learning rate computed by the scheduler, \"\n",
      "/home/rodrigo/home-hd/Anaconda/envs/pytorch/lib/python3.8/site-packages/torch/optim/lr_scheduler.py:369: UserWarning: To get the last learning rate computed by the scheduler, please use `get_last_lr()`.\n",
      "  warnings.warn(\"To get the last learning rate computed by the scheduler, \"\n"
     ]
    },
    {
     "name": "stdout",
     "output_type": "stream",
     "text": [
      "| epoch  85 |    10/   50 batches | lr 0.000018 |  4.52 ms | loss 0.42674\n",
      "| epoch  85 |    20/   50 batches | lr 0.000018 |  2.75 ms | loss 0.42790\n",
      "| epoch  85 |    30/   50 batches | lr 0.000018 |  2.30 ms | loss 0.35547\n",
      "| epoch  85 |    40/   50 batches | lr 0.000018 |  2.29 ms | loss 0.28055\n",
      "-----------------------------------------------------------------------------------------\n",
      "| end of epoch  85 | time:  0.14s |\n",
      "-----------------------------------------------------------------------------------------\n",
      "| epoch  86 |    10/   50 batches | lr 0.000018 |  2.09 ms | loss 0.34071\n",
      "| epoch  86 |    20/   50 batches | lr 0.000018 |  1.90 ms | loss 0.39848\n",
      "| epoch  86 |    30/   50 batches | lr 0.000018 |  1.92 ms | loss 0.38903\n",
      "| epoch  86 |    40/   50 batches | lr 0.000018 |  2.09 ms | loss 0.42256\n",
      "-----------------------------------------------------------------------------------------\n",
      "| end of epoch  86 | time:  0.11s |\n",
      "-----------------------------------------------------------------------------------------\n",
      "| epoch  87 |    10/   50 batches | lr 0.000017 |  3.84 ms | loss 0.38540\n",
      "| epoch  87 |    20/   50 batches | lr 0.000017 |  1.89 ms | loss 0.46172\n",
      "| epoch  87 |    30/   50 batches | lr 0.000017 |  1.88 ms | loss 0.31708\n",
      "| epoch  87 |    40/   50 batches | lr 0.000017 |  1.87 ms | loss 0.40204\n",
      "-----------------------------------------------------------------------------------------\n",
      "| end of epoch  87 | time:  0.12s |\n",
      "-----------------------------------------------------------------------------------------\n",
      "| epoch  88 |    10/   50 batches | lr 0.000017 |  2.10 ms | loss 0.41052\n",
      "| epoch  88 |    20/   50 batches | lr 0.000017 |  2.12 ms | loss 0.36237\n",
      "| epoch  88 |    30/   50 batches | lr 0.000017 |  2.22 ms | loss 0.38443\n"
     ]
    },
    {
     "name": "stderr",
     "output_type": "stream",
     "text": [
      "/home/rodrigo/home-hd/Anaconda/envs/pytorch/lib/python3.8/site-packages/torch/optim/lr_scheduler.py:369: UserWarning: To get the last learning rate computed by the scheduler, please use `get_last_lr()`.\n",
      "  warnings.warn(\"To get the last learning rate computed by the scheduler, \"\n",
      "/home/rodrigo/home-hd/Anaconda/envs/pytorch/lib/python3.8/site-packages/torch/optim/lr_scheduler.py:369: UserWarning: To get the last learning rate computed by the scheduler, please use `get_last_lr()`.\n",
      "  warnings.warn(\"To get the last learning rate computed by the scheduler, \"\n"
     ]
    },
    {
     "name": "stdout",
     "output_type": "stream",
     "text": [
      "| epoch  88 |    40/   50 batches | lr 0.000017 |  2.44 ms | loss 0.38534\n",
      "-----------------------------------------------------------------------------------------\n",
      "| end of epoch  88 | time:  0.12s |\n",
      "-----------------------------------------------------------------------------------------\n",
      "| epoch  89 |    10/   50 batches | lr 0.000017 |  4.00 ms | loss 0.45925\n",
      "| epoch  89 |    20/   50 batches | lr 0.000017 |  2.92 ms | loss 0.36518\n",
      "| epoch  89 |    30/   50 batches | lr 0.000017 |  1.90 ms | loss 0.37248\n",
      "| epoch  89 |    40/   50 batches | lr 0.000017 |  1.91 ms | loss 0.35578\n",
      "-----------------------------------------------------------------------------------------\n",
      "| end of epoch  89 | time:  0.13s |\n",
      "-----------------------------------------------------------------------------------------\n",
      "| epoch  90 |    10/   50 batches | lr 0.000016 |  2.12 ms | loss 0.31392\n"
     ]
    },
    {
     "name": "stderr",
     "output_type": "stream",
     "text": [
      "/home/rodrigo/home-hd/Anaconda/envs/pytorch/lib/python3.8/site-packages/torch/optim/lr_scheduler.py:369: UserWarning: To get the last learning rate computed by the scheduler, please use `get_last_lr()`.\n",
      "  warnings.warn(\"To get the last learning rate computed by the scheduler, \"\n",
      "/home/rodrigo/home-hd/Anaconda/envs/pytorch/lib/python3.8/site-packages/torch/optim/lr_scheduler.py:369: UserWarning: To get the last learning rate computed by the scheduler, please use `get_last_lr()`.\n",
      "  warnings.warn(\"To get the last learning rate computed by the scheduler, \"\n"
     ]
    },
    {
     "name": "stdout",
     "output_type": "stream",
     "text": [
      "| epoch  90 |    20/   50 batches | lr 0.000016 |  2.24 ms | loss 0.41534\n",
      "| epoch  90 |    30/   50 batches | lr 0.000016 |  3.85 ms | loss 0.37083\n",
      "| epoch  90 |    40/   50 batches | lr 0.000016 |  1.89 ms | loss 0.30807\n",
      "-----------------------------------------------------------------------------------------\n",
      "| end of epoch  90 | time:  0.14s |\n",
      "-----------------------------------------------------------------------------------------\n",
      "| epoch  91 |    10/   50 batches | lr 0.000016 |  3.14 ms | loss 0.46256\n",
      "| epoch  91 |    20/   50 batches | lr 0.000016 |  1.90 ms | loss 0.40775\n",
      "| epoch  91 |    30/   50 batches | lr 0.000016 |  1.87 ms | loss 0.38201\n",
      "| epoch  91 |    40/   50 batches | lr 0.000016 |  2.22 ms | loss 0.41539\n"
     ]
    },
    {
     "name": "stderr",
     "output_type": "stream",
     "text": [
      "/home/rodrigo/home-hd/Anaconda/envs/pytorch/lib/python3.8/site-packages/torch/optim/lr_scheduler.py:369: UserWarning: To get the last learning rate computed by the scheduler, please use `get_last_lr()`.\n",
      "  warnings.warn(\"To get the last learning rate computed by the scheduler, \"\n",
      "/home/rodrigo/home-hd/Anaconda/envs/pytorch/lib/python3.8/site-packages/torch/optim/lr_scheduler.py:369: UserWarning: To get the last learning rate computed by the scheduler, please use `get_last_lr()`.\n",
      "  warnings.warn(\"To get the last learning rate computed by the scheduler, \"\n"
     ]
    },
    {
     "name": "stdout",
     "output_type": "stream",
     "text": [
      "-----------------------------------------------------------------------------------------\n",
      "| end of epoch  91 | time:  0.12s |\n",
      "-----------------------------------------------------------------------------------------\n",
      "| epoch  92 |    10/   50 batches | lr 0.000016 |  3.83 ms | loss 0.38645\n",
      "| epoch  92 |    20/   50 batches | lr 0.000016 |  2.61 ms | loss 0.30688\n",
      "| epoch  92 |    30/   50 batches | lr 0.000016 |  2.01 ms | loss 0.37979\n",
      "| epoch  92 |    40/   50 batches | lr 0.000016 |  1.88 ms | loss 0.38556\n",
      "-----------------------------------------------------------------------------------------\n",
      "| end of epoch  92 | time:  0.14s |\n",
      "-----------------------------------------------------------------------------------------\n",
      "| epoch  93 |    10/   50 batches | lr 0.000015 |  2.79 ms | loss 0.42637\n",
      "| epoch  93 |    20/   50 batches | lr 0.000015 |  2.12 ms | loss 0.42984\n"
     ]
    },
    {
     "name": "stderr",
     "output_type": "stream",
     "text": [
      "/home/rodrigo/home-hd/Anaconda/envs/pytorch/lib/python3.8/site-packages/torch/optim/lr_scheduler.py:369: UserWarning: To get the last learning rate computed by the scheduler, please use `get_last_lr()`.\n",
      "  warnings.warn(\"To get the last learning rate computed by the scheduler, \"\n",
      "/home/rodrigo/home-hd/Anaconda/envs/pytorch/lib/python3.8/site-packages/torch/optim/lr_scheduler.py:369: UserWarning: To get the last learning rate computed by the scheduler, please use `get_last_lr()`.\n",
      "  warnings.warn(\"To get the last learning rate computed by the scheduler, \"\n"
     ]
    },
    {
     "name": "stdout",
     "output_type": "stream",
     "text": [
      "| epoch  93 |    30/   50 batches | lr 0.000015 |  3.76 ms | loss 0.34348\n",
      "| epoch  93 |    40/   50 batches | lr 0.000015 |  2.24 ms | loss 0.39306\n",
      "-----------------------------------------------------------------------------------------\n",
      "| end of epoch  93 | time:  0.13s |\n",
      "-----------------------------------------------------------------------------------------\n",
      "| epoch  94 |    10/   50 batches | lr 0.000015 |  2.10 ms | loss 0.43184\n",
      "| epoch  94 |    20/   50 batches | lr 0.000015 |  1.89 ms | loss 0.34089\n",
      "| epoch  94 |    30/   50 batches | lr 0.000015 |  2.17 ms | loss 0.39391\n",
      "| epoch  94 |    40/   50 batches | lr 0.000015 |  2.13 ms | loss 0.34520\n",
      "-----------------------------------------------------------------------------------------\n",
      "| end of epoch  94 | time:  0.11s |\n",
      "-----------------------------------------------------------------------------------------\n",
      "| epoch  95 |    10/   50 batches | lr 0.000015 |  3.82 ms | loss 0.44316\n"
     ]
    },
    {
     "name": "stderr",
     "output_type": "stream",
     "text": [
      "/home/rodrigo/home-hd/Anaconda/envs/pytorch/lib/python3.8/site-packages/torch/optim/lr_scheduler.py:369: UserWarning: To get the last learning rate computed by the scheduler, please use `get_last_lr()`.\n",
      "  warnings.warn(\"To get the last learning rate computed by the scheduler, \"\n",
      "/home/rodrigo/home-hd/Anaconda/envs/pytorch/lib/python3.8/site-packages/torch/optim/lr_scheduler.py:369: UserWarning: To get the last learning rate computed by the scheduler, please use `get_last_lr()`.\n",
      "  warnings.warn(\"To get the last learning rate computed by the scheduler, \"\n"
     ]
    },
    {
     "name": "stdout",
     "output_type": "stream",
     "text": [
      "| epoch  95 |    20/   50 batches | lr 0.000015 |  3.64 ms | loss 0.36516\n",
      "| epoch  95 |    30/   50 batches | lr 0.000015 |  2.28 ms | loss 0.32742\n",
      "| epoch  95 |    40/   50 batches | lr 0.000015 |  1.88 ms | loss 0.33890\n",
      "-----------------------------------------------------------------------------------------\n",
      "| end of epoch  95 | time:  0.14s |\n",
      "-----------------------------------------------------------------------------------------\n",
      "| epoch  96 |    10/   50 batches | lr 0.000014 |  2.31 ms | loss 0.46250\n",
      "| epoch  96 |    20/   50 batches | lr 0.000014 |  2.11 ms | loss 0.35696\n",
      "| epoch  96 |    30/   50 batches | lr 0.000014 |  2.28 ms | loss 0.37271\n",
      "| epoch  96 |    40/   50 batches | lr 0.000014 |  2.10 ms | loss 0.35272\n",
      "-----------------------------------------------------------------------------------------\n",
      "| end of epoch  96 | time:  0.11s |\n",
      "-----------------------------------------------------------------------------------------\n"
     ]
    },
    {
     "name": "stderr",
     "output_type": "stream",
     "text": [
      "/home/rodrigo/home-hd/Anaconda/envs/pytorch/lib/python3.8/site-packages/torch/optim/lr_scheduler.py:369: UserWarning: To get the last learning rate computed by the scheduler, please use `get_last_lr()`.\n",
      "  warnings.warn(\"To get the last learning rate computed by the scheduler, \"\n",
      "/home/rodrigo/home-hd/Anaconda/envs/pytorch/lib/python3.8/site-packages/torch/optim/lr_scheduler.py:369: UserWarning: To get the last learning rate computed by the scheduler, please use `get_last_lr()`.\n",
      "  warnings.warn(\"To get the last learning rate computed by the scheduler, \"\n"
     ]
    },
    {
     "name": "stdout",
     "output_type": "stream",
     "text": [
      "| epoch  97 |    10/   50 batches | lr 0.000014 |  4.00 ms | loss 0.40616\n",
      "| epoch  97 |    20/   50 batches | lr 0.000014 |  3.53 ms | loss 0.34833\n",
      "| epoch  97 |    30/   50 batches | lr 0.000014 |  2.27 ms | loss 0.34476\n",
      "| epoch  97 |    40/   50 batches | lr 0.000014 |  1.94 ms | loss 0.34214\n",
      "-----------------------------------------------------------------------------------------\n",
      "| end of epoch  97 | time:  0.14s |\n",
      "-----------------------------------------------------------------------------------------\n",
      "| epoch  98 |    10/   50 batches | lr 0.000014 |  2.09 ms | loss 0.41776\n",
      "| epoch  98 |    20/   50 batches | lr 0.000014 |  1.93 ms | loss 0.34610\n",
      "| epoch  98 |    30/   50 batches | lr 0.000014 |  2.08 ms | loss 0.37549\n",
      "| epoch  98 |    40/   50 batches | lr 0.000014 |  1.87 ms | loss 0.38735\n",
      "-----------------------------------------------------------------------------------------\n",
      "| end of epoch  98 | time:  0.12s |\n",
      "-----------------------------------------------------------------------------------------\n",
      "| epoch  99 |    10/   50 batches | lr 0.000014 |  2.90 ms | loss 0.36886\n",
      "| epoch  99 |    20/   50 batches | lr 0.000014 |  2.01 ms | loss 0.38878\n",
      "| epoch  99 |    30/   50 batches | lr 0.000014 |  1.88 ms | loss 0.41363\n",
      "| epoch  99 |    40/   50 batches | lr 0.000014 |  1.87 ms | loss 0.41864\n",
      "-----------------------------------------------------------------------------------------\n",
      "| end of epoch  99 | time:  0.11s |\n",
      "-----------------------------------------------------------------------------------------\n",
      "| epoch 100 |    10/   50 batches | lr 0.000013 |  2.08 ms | loss 0.43539\n",
      "| epoch 100 |    20/   50 batches | lr 0.000013 |  1.90 ms | loss 0.40773\n",
      "| epoch 100 |    30/   50 batches | lr 0.000013 |  1.88 ms | loss 0.39031\n",
      "| epoch 100 |    40/   50 batches | lr 0.000013 |  1.87 ms | loss 0.39015\n",
      "-----------------------------------------------------------------------------------------\n",
      "| end of epoch 100 | time:  0.11s |\n",
      "-----------------------------------------------------------------------------------------\n"
     ]
    },
    {
     "name": "stderr",
     "output_type": "stream",
     "text": [
      "/home/rodrigo/home-hd/Anaconda/envs/pytorch/lib/python3.8/site-packages/torch/optim/lr_scheduler.py:369: UserWarning: To get the last learning rate computed by the scheduler, please use `get_last_lr()`.\n",
      "  warnings.warn(\"To get the last learning rate computed by the scheduler, \"\n",
      "/home/rodrigo/home-hd/Anaconda/envs/pytorch/lib/python3.8/site-packages/torch/optim/lr_scheduler.py:369: UserWarning: To get the last learning rate computed by the scheduler, please use `get_last_lr()`.\n",
      "  warnings.warn(\"To get the last learning rate computed by the scheduler, \"\n"
     ]
    }
   ],
   "source": [
    "criterion = torch.nn.CrossEntropyLoss()\n",
    "optimizer = torch.optim.Adam(model.parameters(), lr=1e-04)\n",
    "scheduler = torch.optim.lr_scheduler.StepLR(optimizer, 1.0, gamma=0.98)\n",
    "loss, val_loss, acc, val_acc =  train(model, 100, batch_size, train_loader, criterion,\n",
    "      optimizer, scheduler, set_size, test_loader)"
   ]
  },
  {
   "cell_type": "code",
   "execution_count": 22,
   "id": "ee9f5e52",
   "metadata": {},
   "outputs": [
    {
     "data": {
      "text/plain": [
       "Text(0, 0.5, 'Erro')"
      ]
     },
     "execution_count": 22,
     "metadata": {},
     "output_type": "execute_result"
    },
    {
     "data": {
      "image/png": "[encoded data removed]",
      "text/plain": [
       "<Figure size 432x288 with 1 Axes>"
      ]
     },
     "metadata": {
      "needs_background": "light"
     },
     "output_type": "display_data"
    }
   ],
   "source": [
    "plt.figure(figsize=(6, 4))\n",
    "plt.plot(loss, label='treino', linestyle='dashed', marker='^')\n",
    "plt.plot(val_loss, label='validação', linestyle='dashed', marker='v')\n",
    "plt.legend()\n",
    "plt.title(\"Erro por epoca de treinamento\")\n",
    "plt.xlabel(\"Épocas\")\n",
    "plt.ylabel(\"Erro\")"
   ]
  },
  {
   "cell_type": "code",
   "execution_count": 23,
   "id": "d0973b86",
   "metadata": {},
   "outputs": [
    {
     "data": {
      "text/plain": [
       "Text(0, 0.5, 'Acurácia (%)')"
      ]
     },
     "execution_count": 23,
     "metadata": {},
     "output_type": "execute_result"
    },
    {
     "data": {
      "image/png": "[encoded data removed]",
      "text/plain": [
       "<Figure size 432x288 with 1 Axes>"
      ]
     },
     "metadata": {
      "needs_background": "light"
     },
     "output_type": "display_data"
    }
   ],
   "source": [
    "plt.figure(figsize=(6, 4))\n",
    "plt.plot(acc, label='treino', linestyle='dashed', marker='^')\n",
    "plt.plot(val_acc, label='validação', linestyle='dashed', marker='v')\n",
    "plt.legend()\n",
    "plt.title(\"Acurácia vs epoca de treinamento\")\n",
    "plt.xlabel(\"Épocas\")\n",
    "plt.ylabel(\"Acurácia (%)\")"
   ]
  },
  {
   "cell_type": "code",
   "execution_count": 24,
   "id": "e098fc88",
   "metadata": {},
   "outputs": [],
   "source": [
    "\n",
    "predictions = torch.tensor([]).to(device)\n",
    "ground_truth = torch.tensor([]).to(device)\n",
    "for batch in test_loader:\n",
    "    data, targets = batch[0], batch[1] # next(iter(test_loader))\n",
    "    data = Variable(torch.Tensor(data.float())).to(device)\n",
    "    targets = Variable(torch.Tensor(targets.float())).to(device)\n",
    "    output = model(data)\n",
    "    loss = criterion(output, torch.flatten(targets.long()))\n",
    "\n",
    "predictions = torch.cat((predictions, output), 0)\n",
    "ground_truth = torch.cat((ground_truth, targets), 0)"
   ]
  },
  {
   "cell_type": "code",
   "execution_count": 25,
   "id": "0e489c8f",
   "metadata": {},
   "outputs": [],
   "source": [
    "predictions = predictions.cpu().detach().numpy()\n",
    "predictions = np.argmax(predictions, axis=1).reshape(predictions.shape[0], 1)\n",
    "ground_truth = ground_truth.cpu().cpu().detach().numpy()"
   ]
  },
  {
   "cell_type": "code",
   "execution_count": 26,
   "id": "31efff9d",
   "metadata": {},
   "outputs": [
    {
     "data": {
      "image/png": "[encoded data removed]",
      "text/plain": [
       "<Figure size 720x504 with 2 Axes>"
      ]
     },
     "metadata": {
      "needs_background": "light"
     },
     "output_type": "display_data"
    }
   ],
   "source": [
    "conf_mtx = confusion_matrix(ground_truth, predictions)\n",
    "\n",
    "conf_df = pd.DataFrame(conf_mtx, index = [i for i in range(5)],\n",
    "                  columns = [i for i in range(5)])\n",
    "plt.figure(figsize = (10,7))\n",
    "\n",
    "labels = [name[2:-4] for name in listdir(feat_dir+'/train')]\n",
    "sns.heatmap(conf_df, cmap=sns.cm.rocket_r, square=True, \n",
    "            linewidths=0.1, annot=True, fmt='d', annot_kws={\"fontsize\": 8},\n",
    "           xticklabels=labels, yticklabels=labels)  \n",
    "plt.show()"
   ]
  },
  {
   "cell_type": "code",
   "execution_count": 27,
   "id": "a9690803",
   "metadata": {},
   "outputs": [
    {
     "name": "stdout",
     "output_type": "stream",
     "text": [
      " Acc:\t 0.704\n"
     ]
    }
   ],
   "source": [
    "acc = accuracy_score(ground_truth, predictions)\n",
    "print(f' Acc:\\t {acc:.3f}')"
   ]
  },
  {
   "cell_type": "code",
   "execution_count": null,
   "id": "1b368675",
   "metadata": {},
   "outputs": [],
   "source": []
  }
 ],
 "metadata": {
  "kernelspec": {
   "display_name": "Python 3",
   "language": "python",
   "name": "python3"
  },
  "language_info": {
   "codemirror_mode": {
    "name": "ipython",
    "version": 3
   },
   "file_extension": ".py",
   "mimetype": "text/x-python",
   "name": "python",
   "nbconvert_exporter": "python",
   "pygments_lexer": "ipython3",
   "version": "3.8.8"
  }
 },
 "nbformat": 4,
 "nbformat_minor": 5
}
